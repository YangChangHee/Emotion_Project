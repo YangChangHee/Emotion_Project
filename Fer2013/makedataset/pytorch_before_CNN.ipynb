{
 "cells": [
  {
   "cell_type": "code",
   "execution_count": 1,
   "id": "respected-bathroom",
   "metadata": {},
   "outputs": [],
   "source": [
    "import numpy as np\n",
    "private_labels=np.load(\"private_labels.npy\")\n",
    "private_pixels=np.load(\"private_pixels.npy\")\n",
    "public_labels=np.load(\"public_labels.npy\")\n",
    "public_pixels=np.load(\"public_pixels.npy\")\n",
    "train_labels=np.load(\"train_labels.npy\")\n",
    "train_pixels=np.load(\"train_pixels.npy\")"
   ]
  },
  {
   "cell_type": "code",
   "execution_count": 2,
   "id": "smaller-dollar",
   "metadata": {},
   "outputs": [],
   "source": [
    "X_train , y_train = train_pixels,train_labels\n",
    "X_valid , y_valid = public_pixels,public_labels\n",
    "X_test , y_test = private_pixels,private_labels"
   ]
  },
  {
   "cell_type": "code",
   "execution_count": 3,
   "id": "simple-science",
   "metadata": {},
   "outputs": [],
   "source": [
    "mean_vals = np.mean(X_train, axis=0)\n",
    "std_val = np.std(X_train)\n",
    "\n",
    "X_train_centered = (X_train - mean_vals)/std_val\n",
    "X_valid_centered = (X_valid - mean_vals)/std_val\n",
    "X_test_centered = (X_test - mean_vals)/std_val"
   ]
  },
  {
   "cell_type": "code",
   "execution_count": 7,
   "id": "approximate-fault",
   "metadata": {},
   "outputs": [],
   "source": [
    "import torch\n",
    "import torch.nn\n",
    "input_data=torch.FloatTensor(X_train_centered)\n",
    "label=torch.LongTensor(y_train)"
   ]
  },
  {
   "cell_type": "code",
   "execution_count": 8,
   "id": "conservative-insured",
   "metadata": {},
   "outputs": [
    {
     "data": {
      "text/plain": [
       "tensor([[1, 0, 0,  ..., 0, 0, 0],\n",
       "        [1, 0, 0,  ..., 0, 0, 0],\n",
       "        [0, 0, 1,  ..., 0, 0, 0],\n",
       "        ...,\n",
       "        [0, 0, 0,  ..., 1, 0, 0],\n",
       "        [1, 0, 0,  ..., 0, 0, 0],\n",
       "        [0, 0, 0,  ..., 1, 0, 0]])"
      ]
     },
     "execution_count": 8,
     "metadata": {},
     "output_type": "execute_result"
    }
   ],
   "source": [
    "label"
   ]
  },
  {
   "cell_type": "code",
   "execution_count": 9,
   "id": "rural-wrist",
   "metadata": {},
   "outputs": [
    {
     "data": {
      "text/html": [
       "<div>\n",
       "<style scoped>\n",
       "    .dataframe tbody tr th:only-of-type {\n",
       "        vertical-align: middle;\n",
       "    }\n",
       "\n",
       "    .dataframe tbody tr th {\n",
       "        vertical-align: top;\n",
       "    }\n",
       "\n",
       "    .dataframe thead th {\n",
       "        text-align: right;\n",
       "    }\n",
       "</style>\n",
       "<table border=\"1\" class=\"dataframe\">\n",
       "  <thead>\n",
       "    <tr style=\"text-align: right;\">\n",
       "      <th></th>\n",
       "      <th>0</th>\n",
       "      <th>1</th>\n",
       "      <th>2</th>\n",
       "    </tr>\n",
       "  </thead>\n",
       "  <tbody>\n",
       "    <tr>\n",
       "      <th>0</th>\n",
       "      <td>emotion</td>\n",
       "      <td>pixels</td>\n",
       "      <td>Usage</td>\n",
       "    </tr>\n",
       "    <tr>\n",
       "      <th>1</th>\n",
       "      <td>0</td>\n",
       "      <td>70 80 82 72 58 58 60 63 54 58 60 48 89 115 121...</td>\n",
       "      <td>Training</td>\n",
       "    </tr>\n",
       "    <tr>\n",
       "      <th>2</th>\n",
       "      <td>0</td>\n",
       "      <td>151 150 147 155 148 133 111 140 170 174 182 15...</td>\n",
       "      <td>Training</td>\n",
       "    </tr>\n",
       "    <tr>\n",
       "      <th>3</th>\n",
       "      <td>2</td>\n",
       "      <td>231 212 156 164 174 138 161 173 182 200 106 38...</td>\n",
       "      <td>Training</td>\n",
       "    </tr>\n",
       "    <tr>\n",
       "      <th>4</th>\n",
       "      <td>4</td>\n",
       "      <td>24 32 36 30 32 23 19 20 30 41 21 22 32 34 21 1...</td>\n",
       "      <td>Training</td>\n",
       "    </tr>\n",
       "  </tbody>\n",
       "</table>\n",
       "</div>"
      ],
      "text/plain": [
       "         0                                                  1         2\n",
       "0  emotion                                             pixels     Usage\n",
       "1        0  70 80 82 72 58 58 60 63 54 58 60 48 89 115 121...  Training\n",
       "2        0  151 150 147 155 148 133 111 140 170 174 182 15...  Training\n",
       "3        2  231 212 156 164 174 138 161 173 182 200 106 38...  Training\n",
       "4        4  24 32 36 30 32 23 19 20 30 41 21 22 32 34 21 1...  Training"
      ]
     },
     "execution_count": 9,
     "metadata": {},
     "output_type": "execute_result"
    }
   ],
   "source": [
    "import pandas as pd\n",
    "\n",
    "data = pd.read_csv('/home/lab/dataset/fer2013.csv', header=None)\n",
    "data.head()"
   ]
  },
  {
   "cell_type": "code",
   "execution_count": 10,
   "id": "diverse-township",
   "metadata": {},
   "outputs": [
    {
     "name": "stdout",
     "output_type": "stream",
     "text": [
      "Datanın satır ve sütün sayıları =  (35888, 3)\n",
      "Sütünların ismi =  Int64Index([0, 1, 2], dtype='int64')\n"
     ]
    }
   ],
   "source": [
    "print(\"Datanın satır ve sütün sayıları = \", data.shape)\n",
    "print(\"Sütünların ismi = \", data.columns)"
   ]
  },
  {
   "cell_type": "code",
   "execution_count": 11,
   "id": "desirable-green",
   "metadata": {},
   "outputs": [
    {
     "data": {
      "text/plain": [
       "Training       28709\n",
       "PrivateTest     3589\n",
       "PublicTest      3589\n",
       "Usage              1\n",
       "Name: 2, dtype: int64"
      ]
     },
     "execution_count": 11,
     "metadata": {},
     "output_type": "execute_result"
    }
   ],
   "source": [
    "data[2].value_counts()"
   ]
  },
  {
   "cell_type": "code",
   "execution_count": 12,
   "id": "ultimate-coating",
   "metadata": {},
   "outputs": [
    {
     "name": "stdout",
     "output_type": "stream",
     "text": [
      "Eğitim seti =  (28709, 3)\n",
      "Genel test seti =  (3589, 3)\n",
      "Özel test seti =  (3589, 3)\n"
     ]
    }
   ],
   "source": [
    "training = data.loc[data[2] == \"Training\"]\n",
    "public_test = data.loc[data[2] == \"PublicTest\"]\n",
    "private_test = data.loc[data[2] == \"PrivateTest\"]\n",
    "\n",
    "print(\"Eğitim seti = \", training.shape)\n",
    "print(\"Genel test seti = \", public_test.shape)\n",
    "print(\"Özel test seti = \", private_test.shape)"
   ]
  },
  {
   "cell_type": "code",
   "execution_count": 23,
   "id": "collaborative-place",
   "metadata": {},
   "outputs": [],
   "source": [
    "train_labels = training[0].values\n",
    "private_labels=private_test[0].values\n",
    "public_labels=public_test[0].values"
   ]
  },
  {
   "cell_type": "code",
   "execution_count": 24,
   "id": "impressed-generation",
   "metadata": {},
   "outputs": [],
   "source": [
    "train_labels=np.array(train_labels,dtype=np.uint8)"
   ]
  },
  {
   "cell_type": "code",
   "execution_count": 25,
   "id": "monthly-purpose",
   "metadata": {},
   "outputs": [],
   "source": [
    "private_labels=np.array(private_labels,dtype=np.uint8)\n",
    "public_labels=np.array(public_labels,dtype=np.uint8)"
   ]
  },
  {
   "cell_type": "code",
   "execution_count": 26,
   "id": "diagnostic-matrix",
   "metadata": {},
   "outputs": [],
   "source": [
    "np.save(\"Nohot_train_label\",train_labels)\n",
    "np.save(\"Nohot_private_label\",private_labels)\n",
    "np.save(\"Nohot_public_label\",public_labels)"
   ]
  },
  {
   "cell_type": "code",
   "execution_count": null,
   "id": "convinced-christopher",
   "metadata": {},
   "outputs": [],
   "source": []
  }
 ],
 "metadata": {
  "kernelspec": {
   "display_name": "Python 3",
   "language": "python",
   "name": "python3"
  },
  "language_info": {
   "codemirror_mode": {
    "name": "ipython",
    "version": 3
   },
   "file_extension": ".py",
   "mimetype": "text/x-python",
   "name": "python",
   "nbconvert_exporter": "python",
   "pygments_lexer": "ipython3",
   "version": "3.6.12"
  }
 },
 "nbformat": 4,
 "nbformat_minor": 5
}
