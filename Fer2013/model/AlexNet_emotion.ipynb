{
 "cells": [
  {
   "cell_type": "code",
   "execution_count": 1,
   "id": "appointed-convergence",
   "metadata": {},
   "outputs": [],
   "source": [
    "import matplotlib.pyplot as plt\n",
    "import numpy as np\n",
    "import random\n",
    "import torch\n",
    "import torchvision\n",
    "import torchvision.transforms as transforms\n",
    "import torch.nn as nn\n",
    "import torch.nn.functional as F\n",
    "import torch.optim as optim\n",
    "import argparse\n",
    "import numpy as np\n",
    "import time\n",
    "from copy import deepcopy\n",
    "import seaborn as sns \n",
    "import matplotlib.pyplot as plt"
   ]
  },
  {
   "cell_type": "code",
   "execution_count": 2,
   "id": "congressional-green",
   "metadata": {},
   "outputs": [],
   "source": [
    "import numpy as np\n",
    "private_labels=np.load(\"Nohot_private_label.npy\")\n",
    "private_pixels=np.load(\"private_pixels.npy\")\n",
    "public_labels=np.load(\"Nohot_public_label.npy\")\n",
    "public_pixels=np.load(\"public_pixels.npy\")\n",
    "train_labels=np.load(\"Nohot_train_label.npy\")\n",
    "train_pixels=np.load(\"train_pixels.npy\")"
   ]
  },
  {
   "cell_type": "code",
   "execution_count": 3,
   "id": "variable-designer",
   "metadata": {},
   "outputs": [],
   "source": [
    "X_train , y_train = train_pixels,train_labels\n",
    "X_valid , y_valid = public_pixels,public_labels\n",
    "X_test , y_test = private_pixels,private_labels"
   ]
  },
  {
   "cell_type": "code",
   "execution_count": 4,
   "id": "missing-manitoba",
   "metadata": {},
   "outputs": [],
   "source": [
    "mean_vals = np.mean(X_train, axis=0)\n",
    "std_val = np.std(X_train)\n",
    "\n",
    "X_train_centered = (X_train - mean_vals)/std_val\n",
    "X_valid_centered = (X_valid - mean_vals)/std_val\n",
    "X_test_centered = (X_test - mean_vals)/std_val"
   ]
  },
  {
   "cell_type": "code",
   "execution_count": 5,
   "id": "three-andrews",
   "metadata": {},
   "outputs": [],
   "source": [
    "import torch\n",
    "import torch.nn\n",
    "input_data=torch.FloatTensor(X_train_centered)\n",
    "label=torch.LongTensor(y_train)"
   ]
  },
  {
   "cell_type": "code",
   "execution_count": 6,
   "id": "hazardous-vacation",
   "metadata": {},
   "outputs": [],
   "source": [
    "input_data1=torch.FloatTensor(X_valid_centered)\n",
    "label1=torch.LongTensor(y_valid)"
   ]
  },
  {
   "cell_type": "code",
   "execution_count": 7,
   "id": "endless-briefing",
   "metadata": {},
   "outputs": [],
   "source": [
    "input_data2=torch.FloatTensor(X_test_centered)\n",
    "label2=torch.LongTensor(y_test)"
   ]
  },
  {
   "cell_type": "code",
   "execution_count": 8,
   "id": "excited-coupon",
   "metadata": {},
   "outputs": [],
   "source": [
    "input_data=input_data.transpose(1,3)\n",
    "input_data1=input_data1.transpose(1,3)\n",
    "input_data2=input_data2.transpose(1,3)"
   ]
  },
  {
   "cell_type": "code",
   "execution_count": 9,
   "id": "solar-smart",
   "metadata": {},
   "outputs": [
    {
     "data": {
      "text/plain": [
       "(torch.Size([28709, 1, 48, 48]),\n",
       " torch.Size([3589, 1, 48, 48]),\n",
       " torch.Size([3589, 1, 48, 48]))"
      ]
     },
     "execution_count": 9,
     "metadata": {},
     "output_type": "execute_result"
    }
   ],
   "source": [
    "input_data.shape,input_data1.shape,input_data2.shape"
   ]
  },
  {
   "cell_type": "code",
   "execution_count": 10,
   "id": "pacific-mount",
   "metadata": {},
   "outputs": [
    {
     "data": {
      "text/plain": [
       "(torch.Size([28709]), torch.Size([3589]), torch.Size([3589]))"
      ]
     },
     "execution_count": 10,
     "metadata": {},
     "output_type": "execute_result"
    }
   ],
   "source": [
    "label.shape,label1.shape,label2.shape"
   ]
  },
  {
   "cell_type": "code",
   "execution_count": 11,
   "id": "lonely-honolulu",
   "metadata": {},
   "outputs": [],
   "source": [
    "from torch.utils.data import TensorDataset\n",
    "from torch.utils.data import DataLoader\n",
    "trainset = TensorDataset(input_data,label)\n",
    "valset = TensorDataset(input_data1,label1)\n",
    "testset = TensorDataset(input_data2,label2)"
   ]
  },
  {
   "cell_type": "code",
   "execution_count": 12,
   "id": "pleasant-player",
   "metadata": {},
   "outputs": [],
   "source": [
    "partition={'train':trainset,'val':valset,'test':testset}"
   ]
  },
  {
   "cell_type": "code",
   "execution_count": 16,
   "id": "defensive-division",
   "metadata": {},
   "outputs": [],
   "source": [
    "class AlexNet_test(nn.Module):\n",
    "    \n",
    "    def __init__(self):\n",
    "        super(AlexNet_test,self).__init__()\n",
    "        self.feature=nn.Sequential(\n",
    "        nn.Conv2d(1, 32, kernel_size=4, stride=2, padding=2),# 64 26 26 => kernel remake\n",
    "        nn.ReLU(inplace=True),\n",
    "        nn.MaxPool2d(kernel_size=2,stride=2),# 64 13 13 => kernel remake\n",
    "        nn.Conv2d(32, 128, kernel_size=4, padding=2), # 192, 13, 13 => kernel remake\n",
    "        nn.ReLU(inplace=True),\n",
    "        nn.MaxPool2d(kernel_size=2,stride=2), # 192 7 7 => kernel remake\n",
    "        nn.Conv2d(128, 196, kernel_size=3, padding=1), # 384 7 7 => kernel remake\n",
    "        nn.ReLU(inplace=True),\n",
    "        nn.Conv2d(196, 384, kernel_size=3, padding=1), # 256 7 7\n",
    "        nn.ReLU(inplace=True),\n",
    "        nn.Conv2d(384, 256, kernel_size=3, padding=1),\n",
    "        nn.ReLU(inplace=True),\n",
    "        nn.MaxPool2d(kernel_size=3, stride=2) # 256 6 6 \n",
    "        )\n",
    "        self.avgpool=nn.AdaptiveAvgPool2d((3,3)) # 256 6 6 (6,6)은 output size이다.\n",
    "        # 평균을 구하는 것으로 반올림 정수가 나옴.\n",
    "        self.classifier = nn.Sequential(\n",
    "        nn.Dropout(),\n",
    "        nn.Linear(256*3*3,1024),  # 9216=>4096, 256 36\n",
    "        nn.ReLU(inplace=True),\n",
    "        nn.Dropout(),\n",
    "        nn.Linear(1024,1024),\n",
    "        nn.ReLU(inplace=True),\n",
    "        nn.Linear(1024,7),\n",
    "        \n",
    "        )\n",
    "    def forward(self, x):\n",
    "        x=self.feature(x)\n",
    "        x=self.avgpool(x)\n",
    "        x=torch.flatten(x,1) # ex => 2,2,2 => 2,4\n",
    "        x=self.classifier(x)\n",
    "        return x"
   ]
  },
  {
   "cell_type": "code",
   "execution_count": 17,
   "id": "rubber-nicholas",
   "metadata": {},
   "outputs": [],
   "source": [
    "def dimension_check():\n",
    "    net=AlexNet_test()\n",
    "    x=torch.randn(1,1,48,48)\n",
    "    y=net(x)\n",
    "    print(y.size())"
   ]
  },
  {
   "cell_type": "code",
   "execution_count": 18,
   "id": "surprised-suspension",
   "metadata": {},
   "outputs": [
    {
     "name": "stdout",
     "output_type": "stream",
     "text": [
      "torch.Size([1, 7])\n"
     ]
    }
   ],
   "source": [
    "dimension_check()"
   ]
  },
  {
   "cell_type": "code",
   "execution_count": 19,
   "id": "aware-poison",
   "metadata": {},
   "outputs": [],
   "source": [
    "def train(net,partition,optimizer,criterion):\n",
    "    trainloader = torch.utils.data.DataLoader(partition['train'],\n",
    "                                             batch_size=64,\n",
    "                                             shuffle=True)\n",
    "    net.train()\n",
    "    correct = 0\n",
    "    total =0\n",
    "    train_loss = 0.0\n",
    "    for i, data in enumerate(tqdm(trainloader, 0)):\n",
    "        time.sleep(0.0000001)\n",
    "        optimizer.zero_grad()\n",
    "        inputs, labels = data\n",
    "        inputs = inputs.cuda()\n",
    "        labels = labels.cuda()\n",
    "        outputs = net(inputs)\n",
    "        #break\n",
    "        loss = criterion(outputs, labels)\n",
    "        loss.backward()\n",
    "        optimizer.step()\n",
    "        \n",
    "        train_loss += loss.item()\n",
    "        _, predicted = torch.max(outputs.data, 1)\n",
    "        total += labels.size(0)\n",
    "        correct += (predicted == labels).sum().item()\n",
    "        #if i % 200 == 0:\n",
    "        #    print(correct,train_loss)\n",
    "    train_loss = train_loss / len(trainloader)\n",
    "    train_acc = 100 * correct / total\n",
    "    return net, train_loss, train_acc"
   ]
  },
  {
   "cell_type": "code",
   "execution_count": 20,
   "id": "editorial-barrier",
   "metadata": {},
   "outputs": [],
   "source": [
    "def test(net, partition):\n",
    "    testloader = torch.utils.data.DataLoader(partition['test'], \n",
    "                                             batch_size=64, \n",
    "                                             shuffle=False, num_workers=2)\n",
    "    net.eval()\n",
    "    \n",
    "    correct = 0\n",
    "    total = 0\n",
    "    with torch.no_grad():\n",
    "        for data in tqdm(testloader):\n",
    "            time.sleep(0.0000001)\n",
    "            images, labels = data\n",
    "            images = images.cuda()\n",
    "            labels = labels.cuda()\n",
    "\n",
    "            outputs = net(images)\n",
    "            _, predicted = torch.max(outputs.data, 1)\n",
    "            total += labels.size(0)\n",
    "            correct += (predicted == labels).sum().item()\n",
    "\n",
    "        test_acc = 100 * correct / total\n",
    "    return test_acc"
   ]
  },
  {
   "cell_type": "code",
   "execution_count": 21,
   "id": "recent-authentication",
   "metadata": {},
   "outputs": [],
   "source": [
    "def validate(net, partition, criterion):\n",
    "    valloader = torch.utils.data.DataLoader(partition['val'], \n",
    "                                            batch_size=64, \n",
    "                                            shuffle=False, num_workers=2)\n",
    "    net.eval()\n",
    "\n",
    "    correct = 0\n",
    "    total = 0\n",
    "    val_loss = 0 \n",
    "    with torch.no_grad():\n",
    "        for data in tqdm(valloader):\n",
    "            time.sleep(0.0000001)\n",
    "            images, labels = data\n",
    "            images = images.cuda()\n",
    "            labels = labels.cuda()\n",
    "            outputs = net(images)\n",
    "\n",
    "            loss = criterion(outputs, labels)\n",
    "            \n",
    "            val_loss += loss.item()\n",
    "            _, predicted = torch.max(outputs.data, 1)\n",
    "            total += labels.size(0)\n",
    "            correct += (predicted == labels).sum().item()\n",
    "\n",
    "        val_loss = val_loss / len(valloader)\n",
    "        val_acc = 100 * correct / total\n",
    "    return val_loss, val_acc"
   ]
  },
  {
   "cell_type": "code",
   "execution_count": 22,
   "id": "sought-chosen",
   "metadata": {},
   "outputs": [],
   "source": [
    "from tqdm import tqdm, tqdm_notebook\n",
    "from tqdm import trange\n",
    "import time"
   ]
  },
  {
   "cell_type": "code",
   "execution_count": 23,
   "id": "hungarian-ferry",
   "metadata": {},
   "outputs": [
    {
     "name": "stderr",
     "output_type": "stream",
     "text": [
      "100%|██████████| 449/449 [00:02<00:00, 152.00it/s]\n",
      "100%|██████████| 57/57 [00:00<00:00, 317.97it/s]\n",
      "  4%|▎         | 16/449 [00:00<00:02, 157.71it/s]"
     ]
    },
    {
     "name": "stdout",
     "output_type": "stream",
     "text": [
      "time : 3.14, train_loss : 1.80, train_acc : 24.88,val_acc : 26.50,val_loss : 1.77\n"
     ]
    },
    {
     "name": "stderr",
     "output_type": "stream",
     "text": [
      "100%|██████████| 449/449 [00:02<00:00, 168.07it/s]\n",
      "100%|██████████| 57/57 [00:00<00:00, 325.90it/s]\n",
      "  4%|▎         | 16/449 [00:00<00:02, 157.35it/s]"
     ]
    },
    {
     "name": "stdout",
     "output_type": "stream",
     "text": [
      "time : 2.85, train_loss : 1.73, train_acc : 29.50,val_acc : 35.89,val_loss : 1.58\n"
     ]
    },
    {
     "name": "stderr",
     "output_type": "stream",
     "text": [
      "100%|██████████| 449/449 [00:02<00:00, 165.97it/s]\n",
      "100%|██████████| 57/57 [00:00<00:00, 319.12it/s]\n",
      "  4%|▍         | 17/449 [00:00<00:02, 164.79it/s]"
     ]
    },
    {
     "name": "stdout",
     "output_type": "stream",
     "text": [
      "time : 2.89, train_loss : 1.57, train_acc : 36.98,val_acc : 38.45,val_loss : 1.52\n"
     ]
    },
    {
     "name": "stderr",
     "output_type": "stream",
     "text": [
      "100%|██████████| 449/449 [00:02<00:00, 166.86it/s]\n",
      "100%|██████████| 57/57 [00:00<00:00, 314.34it/s]\n",
      "  4%|▍         | 17/449 [00:00<00:02, 164.10it/s]"
     ]
    },
    {
     "name": "stdout",
     "output_type": "stream",
     "text": [
      "time : 2.87, train_loss : 1.50, train_acc : 39.87,val_acc : 41.57,val_loss : 1.46\n"
     ]
    },
    {
     "name": "stderr",
     "output_type": "stream",
     "text": [
      "100%|██████████| 449/449 [00:02<00:00, 170.59it/s]\n",
      "100%|██████████| 57/57 [00:00<00:00, 330.26it/s]\n",
      "  4%|▍         | 17/449 [00:00<00:02, 166.60it/s]"
     ]
    },
    {
     "name": "stdout",
     "output_type": "stream",
     "text": [
      "time : 2.81, train_loss : 1.46, train_acc : 42.07,val_acc : 42.96,val_loss : 1.43\n"
     ]
    },
    {
     "name": "stderr",
     "output_type": "stream",
     "text": [
      "100%|██████████| 449/449 [00:02<00:00, 171.46it/s]\n",
      "100%|██████████| 57/57 [00:00<00:00, 325.42it/s]\n",
      "  4%|▍         | 17/449 [00:00<00:02, 164.03it/s]"
     ]
    },
    {
     "name": "stdout",
     "output_type": "stream",
     "text": [
      "time : 2.80, train_loss : 1.42, train_acc : 43.81,val_acc : 44.61,val_loss : 1.42\n"
     ]
    },
    {
     "name": "stderr",
     "output_type": "stream",
     "text": [
      "100%|██████████| 449/449 [00:02<00:00, 170.78it/s]\n",
      "100%|██████████| 57/57 [00:00<00:00, 305.50it/s]\n",
      "  4%|▍         | 17/449 [00:00<00:02, 161.77it/s]"
     ]
    },
    {
     "name": "stdout",
     "output_type": "stream",
     "text": [
      "time : 2.82, train_loss : 1.39, train_acc : 45.91,val_acc : 44.64,val_loss : 1.41\n"
     ]
    },
    {
     "name": "stderr",
     "output_type": "stream",
     "text": [
      "100%|██████████| 449/449 [00:02<00:00, 170.61it/s]\n",
      "100%|██████████| 57/57 [00:00<00:00, 316.32it/s]\n",
      "  4%|▍         | 17/449 [00:00<00:02, 161.54it/s]"
     ]
    },
    {
     "name": "stdout",
     "output_type": "stream",
     "text": [
      "time : 2.82, train_loss : 1.36, train_acc : 47.12,val_acc : 44.75,val_loss : 1.40\n"
     ]
    },
    {
     "name": "stderr",
     "output_type": "stream",
     "text": [
      "100%|██████████| 449/449 [00:02<00:00, 167.30it/s]\n",
      "100%|██████████| 57/57 [00:00<00:00, 313.77it/s]\n",
      "  4%|▎         | 16/449 [00:00<00:02, 157.06it/s]"
     ]
    },
    {
     "name": "stdout",
     "output_type": "stream",
     "text": [
      "time : 2.87, train_loss : 1.32, train_acc : 48.97,val_acc : 47.00,val_loss : 1.38\n"
     ]
    },
    {
     "name": "stderr",
     "output_type": "stream",
     "text": [
      "100%|██████████| 449/449 [00:02<00:00, 168.31it/s]\n",
      "100%|██████████| 57/57 [00:00<00:00, 306.71it/s]\n",
      "  4%|▎         | 16/449 [00:00<00:02, 157.78it/s]"
     ]
    },
    {
     "name": "stdout",
     "output_type": "stream",
     "text": [
      "time : 2.86, train_loss : 1.29, train_acc : 50.02,val_acc : 45.28,val_loss : 1.39\n"
     ]
    },
    {
     "name": "stderr",
     "output_type": "stream",
     "text": [
      "100%|██████████| 449/449 [00:02<00:00, 166.65it/s]\n",
      "100%|██████████| 57/57 [00:00<00:00, 321.98it/s]\n",
      "  4%|▎         | 16/449 [00:00<00:02, 159.39it/s]"
     ]
    },
    {
     "name": "stdout",
     "output_type": "stream",
     "text": [
      "time : 2.87, train_loss : 1.26, train_acc : 51.14,val_acc : 47.17,val_loss : 1.37\n"
     ]
    },
    {
     "name": "stderr",
     "output_type": "stream",
     "text": [
      "100%|██████████| 449/449 [00:02<00:00, 164.60it/s]\n",
      "100%|██████████| 57/57 [00:00<00:00, 302.25it/s]\n",
      "  4%|▍         | 17/449 [00:00<00:02, 161.79it/s]"
     ]
    },
    {
     "name": "stdout",
     "output_type": "stream",
     "text": [
      "time : 2.92, train_loss : 1.23, train_acc : 52.84,val_acc : 47.26,val_loss : 1.38\n"
     ]
    },
    {
     "name": "stderr",
     "output_type": "stream",
     "text": [
      "100%|██████████| 449/449 [00:02<00:00, 165.25it/s]\n",
      "100%|██████████| 57/57 [00:00<00:00, 332.24it/s]\n",
      "  4%|▍         | 17/449 [00:00<00:02, 160.07it/s]"
     ]
    },
    {
     "name": "stdout",
     "output_type": "stream",
     "text": [
      "time : 2.89, train_loss : 1.20, train_acc : 53.74,val_acc : 47.14,val_loss : 1.37\n"
     ]
    },
    {
     "name": "stderr",
     "output_type": "stream",
     "text": [
      "100%|██████████| 449/449 [00:02<00:00, 169.11it/s]\n",
      "100%|██████████| 57/57 [00:00<00:00, 319.77it/s]\n",
      "  4%|▍         | 17/449 [00:00<00:02, 161.26it/s]"
     ]
    },
    {
     "name": "stdout",
     "output_type": "stream",
     "text": [
      "time : 2.84, train_loss : 1.16, train_acc : 55.01,val_acc : 47.31,val_loss : 1.39\n"
     ]
    },
    {
     "name": "stderr",
     "output_type": "stream",
     "text": [
      "100%|██████████| 449/449 [00:02<00:00, 170.62it/s]\n",
      "100%|██████████| 57/57 [00:00<00:00, 335.19it/s]\n",
      "  4%|▍         | 17/449 [00:00<00:02, 165.12it/s]"
     ]
    },
    {
     "name": "stdout",
     "output_type": "stream",
     "text": [
      "time : 2.80, train_loss : 1.14, train_acc : 56.15,val_acc : 48.34,val_loss : 1.39\n"
     ]
    },
    {
     "name": "stderr",
     "output_type": "stream",
     "text": [
      "100%|██████████| 449/449 [00:02<00:00, 167.20it/s]\n",
      "100%|██████████| 57/57 [00:00<00:00, 326.97it/s]\n",
      "  4%|▎         | 16/449 [00:00<00:02, 158.57it/s]"
     ]
    },
    {
     "name": "stdout",
     "output_type": "stream",
     "text": [
      "time : 2.86, train_loss : 1.10, train_acc : 57.68,val_acc : 48.09,val_loss : 1.39\n"
     ]
    },
    {
     "name": "stderr",
     "output_type": "stream",
     "text": [
      "100%|██████████| 449/449 [00:02<00:00, 165.67it/s]\n",
      "100%|██████████| 57/57 [00:00<00:00, 326.30it/s]\n",
      "  4%|▍         | 17/449 [00:00<00:02, 162.13it/s]"
     ]
    },
    {
     "name": "stdout",
     "output_type": "stream",
     "text": [
      "time : 2.89, train_loss : 1.07, train_acc : 59.28,val_acc : 48.04,val_loss : 1.42\n"
     ]
    },
    {
     "name": "stderr",
     "output_type": "stream",
     "text": [
      "100%|██████████| 449/449 [00:02<00:00, 169.81it/s]\n",
      "100%|██████████| 57/57 [00:00<00:00, 325.25it/s]\n",
      "  4%|▎         | 16/449 [00:00<00:02, 156.40it/s]"
     ]
    },
    {
     "name": "stdout",
     "output_type": "stream",
     "text": [
      "time : 2.82, train_loss : 1.03, train_acc : 60.10,val_acc : 48.15,val_loss : 1.42\n"
     ]
    },
    {
     "name": "stderr",
     "output_type": "stream",
     "text": [
      "100%|██████████| 449/449 [00:02<00:00, 165.04it/s]\n",
      "100%|██████████| 57/57 [00:00<00:00, 324.49it/s]\n",
      "  4%|▍         | 17/449 [00:00<00:02, 161.03it/s]"
     ]
    },
    {
     "name": "stdout",
     "output_type": "stream",
     "text": [
      "time : 2.90, train_loss : 1.00, train_acc : 61.99,val_acc : 48.31,val_loss : 1.46\n"
     ]
    },
    {
     "name": "stderr",
     "output_type": "stream",
     "text": [
      "100%|██████████| 449/449 [00:02<00:00, 164.88it/s]\n",
      "100%|██████████| 57/57 [00:00<00:00, 310.18it/s]\n",
      "  4%|▎         | 16/449 [00:00<00:02, 159.76it/s]"
     ]
    },
    {
     "name": "stdout",
     "output_type": "stream",
     "text": [
      "time : 2.91, train_loss : 0.97, train_acc : 63.17,val_acc : 47.87,val_loss : 1.43\n"
     ]
    },
    {
     "name": "stderr",
     "output_type": "stream",
     "text": [
      "100%|██████████| 449/449 [00:02<00:00, 169.41it/s]\n",
      "100%|██████████| 57/57 [00:00<00:00, 334.25it/s]\n",
      "  4%|▎         | 16/449 [00:00<00:02, 157.53it/s]"
     ]
    },
    {
     "name": "stdout",
     "output_type": "stream",
     "text": [
      "time : 2.82, train_loss : 0.93, train_acc : 64.96,val_acc : 47.87,val_loss : 1.46\n"
     ]
    },
    {
     "name": "stderr",
     "output_type": "stream",
     "text": [
      "100%|██████████| 449/449 [00:02<00:00, 168.25it/s]\n",
      "100%|██████████| 57/57 [00:00<00:00, 323.80it/s]\n",
      "  4%|▍         | 17/449 [00:00<00:02, 166.38it/s]"
     ]
    },
    {
     "name": "stdout",
     "output_type": "stream",
     "text": [
      "time : 2.85, train_loss : 0.89, train_acc : 66.59,val_acc : 48.82,val_loss : 1.52\n"
     ]
    },
    {
     "name": "stderr",
     "output_type": "stream",
     "text": [
      "100%|██████████| 449/449 [00:02<00:00, 172.31it/s]\n",
      "100%|██████████| 57/57 [00:00<00:00, 305.15it/s]\n",
      "  4%|▍         | 17/449 [00:00<00:02, 167.43it/s]"
     ]
    },
    {
     "name": "stdout",
     "output_type": "stream",
     "text": [
      "time : 2.79, train_loss : 0.85, train_acc : 68.17,val_acc : 47.67,val_loss : 1.56\n"
     ]
    },
    {
     "name": "stderr",
     "output_type": "stream",
     "text": [
      "100%|██████████| 449/449 [00:02<00:00, 169.49it/s]\n",
      "100%|██████████| 57/57 [00:00<00:00, 325.32it/s]\n",
      "  4%|▎         | 16/449 [00:00<00:02, 155.13it/s]"
     ]
    },
    {
     "name": "stdout",
     "output_type": "stream",
     "text": [
      "time : 2.83, train_loss : 0.82, train_acc : 69.32,val_acc : 49.37,val_loss : 1.48\n"
     ]
    },
    {
     "name": "stderr",
     "output_type": "stream",
     "text": [
      "100%|██████████| 449/449 [00:02<00:00, 168.37it/s]\n",
      "100%|██████████| 57/57 [00:00<00:00, 316.53it/s]\n",
      "  4%|▎         | 16/449 [00:00<00:02, 153.99it/s]"
     ]
    },
    {
     "name": "stdout",
     "output_type": "stream",
     "text": [
      "time : 2.85, train_loss : 0.79, train_acc : 70.98,val_acc : 48.70,val_loss : 1.61\n"
     ]
    },
    {
     "name": "stderr",
     "output_type": "stream",
     "text": [
      "100%|██████████| 449/449 [00:02<00:00, 166.16it/s]\n",
      "100%|██████████| 57/57 [00:00<00:00, 329.62it/s]\n",
      "  4%|▍         | 17/449 [00:00<00:02, 167.20it/s]"
     ]
    },
    {
     "name": "stdout",
     "output_type": "stream",
     "text": [
      "time : 2.88, train_loss : 0.77, train_acc : 71.70,val_acc : 48.15,val_loss : 1.56\n"
     ]
    },
    {
     "name": "stderr",
     "output_type": "stream",
     "text": [
      "100%|██████████| 449/449 [00:02<00:00, 173.46it/s]\n",
      "100%|██████████| 57/57 [00:00<00:00, 303.98it/s]\n",
      "  4%|▍         | 17/449 [00:00<00:02, 164.83it/s]"
     ]
    },
    {
     "name": "stdout",
     "output_type": "stream",
     "text": [
      "time : 2.78, train_loss : 0.72, train_acc : 73.58,val_acc : 48.51,val_loss : 1.64\n"
     ]
    },
    {
     "name": "stderr",
     "output_type": "stream",
     "text": [
      "100%|██████████| 449/449 [00:02<00:00, 167.43it/s]\n",
      "100%|██████████| 57/57 [00:00<00:00, 319.35it/s]\n",
      "  4%|▎         | 16/449 [00:00<00:02, 158.55it/s]"
     ]
    },
    {
     "name": "stdout",
     "output_type": "stream",
     "text": [
      "time : 2.86, train_loss : 0.69, train_acc : 74.91,val_acc : 48.51,val_loss : 1.68\n"
     ]
    },
    {
     "name": "stderr",
     "output_type": "stream",
     "text": [
      "100%|██████████| 449/449 [00:02<00:00, 168.13it/s]\n",
      "100%|██████████| 57/57 [00:00<00:00, 321.80it/s]\n",
      "  4%|▍         | 17/449 [00:00<00:02, 164.89it/s]"
     ]
    },
    {
     "name": "stdout",
     "output_type": "stream",
     "text": [
      "time : 2.85, train_loss : 0.65, train_acc : 76.56,val_acc : 48.37,val_loss : 1.75\n"
     ]
    },
    {
     "name": "stderr",
     "output_type": "stream",
     "text": [
      "100%|██████████| 449/449 [00:02<00:00, 169.01it/s]\n",
      "100%|██████████| 57/57 [00:00<00:00, 322.66it/s]\n",
      "  4%|▍         | 17/449 [00:00<00:02, 164.03it/s]"
     ]
    },
    {
     "name": "stdout",
     "output_type": "stream",
     "text": [
      "time : 2.84, train_loss : 0.64, train_acc : 76.90,val_acc : 48.68,val_loss : 1.78\n"
     ]
    },
    {
     "name": "stderr",
     "output_type": "stream",
     "text": [
      "100%|██████████| 449/449 [00:02<00:00, 169.39it/s]\n",
      "100%|██████████| 57/57 [00:00<00:00, 306.06it/s]\n",
      "  4%|▍         | 17/449 [00:00<00:02, 162.02it/s]"
     ]
    },
    {
     "name": "stdout",
     "output_type": "stream",
     "text": [
      "time : 2.84, train_loss : 0.60, train_acc : 78.54,val_acc : 48.54,val_loss : 1.78\n"
     ]
    },
    {
     "name": "stderr",
     "output_type": "stream",
     "text": [
      "100%|██████████| 449/449 [00:02<00:00, 168.38it/s]\n",
      "100%|██████████| 57/57 [00:00<00:00, 313.13it/s]\n",
      "  4%|▍         | 17/449 [00:00<00:02, 167.57it/s]"
     ]
    },
    {
     "name": "stdout",
     "output_type": "stream",
     "text": [
      "time : 2.85, train_loss : 0.59, train_acc : 79.14,val_acc : 47.26,val_loss : 1.78\n"
     ]
    },
    {
     "name": "stderr",
     "output_type": "stream",
     "text": [
      "100%|██████████| 449/449 [00:02<00:00, 169.29it/s]\n",
      "100%|██████████| 57/57 [00:00<00:00, 323.08it/s]\n",
      "  4%|▍         | 17/449 [00:00<00:02, 161.41it/s]"
     ]
    },
    {
     "name": "stdout",
     "output_type": "stream",
     "text": [
      "time : 2.83, train_loss : 0.55, train_acc : 80.32,val_acc : 48.98,val_loss : 1.86\n"
     ]
    },
    {
     "name": "stderr",
     "output_type": "stream",
     "text": [
      "100%|██████████| 449/449 [00:02<00:00, 169.00it/s]\n",
      "100%|██████████| 57/57 [00:00<00:00, 322.41it/s]\n",
      "  4%|▍         | 17/449 [00:00<00:02, 162.77it/s]"
     ]
    },
    {
     "name": "stdout",
     "output_type": "stream",
     "text": [
      "time : 2.84, train_loss : 0.52, train_acc : 81.53,val_acc : 49.26,val_loss : 1.88\n"
     ]
    },
    {
     "name": "stderr",
     "output_type": "stream",
     "text": [
      "100%|██████████| 449/449 [00:02<00:00, 168.64it/s]\n",
      "100%|██████████| 57/57 [00:00<00:00, 315.21it/s]\n",
      "  4%|▍         | 17/449 [00:00<00:02, 166.11it/s]"
     ]
    },
    {
     "name": "stdout",
     "output_type": "stream",
     "text": [
      "time : 2.85, train_loss : 0.50, train_acc : 82.16,val_acc : 49.51,val_loss : 1.92\n"
     ]
    },
    {
     "name": "stderr",
     "output_type": "stream",
     "text": [
      "100%|██████████| 449/449 [00:02<00:00, 170.99it/s]\n",
      "100%|██████████| 57/57 [00:00<00:00, 327.18it/s]\n",
      "  4%|▍         | 18/449 [00:00<00:02, 170.79it/s]"
     ]
    },
    {
     "name": "stdout",
     "output_type": "stream",
     "text": [
      "time : 2.80, train_loss : 0.47, train_acc : 83.70,val_acc : 48.87,val_loss : 2.11\n"
     ]
    },
    {
     "name": "stderr",
     "output_type": "stream",
     "text": [
      "100%|██████████| 449/449 [00:02<00:00, 169.51it/s]\n",
      "100%|██████████| 57/57 [00:00<00:00, 312.17it/s]\n",
      "  4%|▎         | 16/449 [00:00<00:02, 157.55it/s]"
     ]
    },
    {
     "name": "stdout",
     "output_type": "stream",
     "text": [
      "time : 2.83, train_loss : 0.45, train_acc : 84.42,val_acc : 48.51,val_loss : 2.00\n"
     ]
    },
    {
     "name": "stderr",
     "output_type": "stream",
     "text": [
      "100%|██████████| 449/449 [00:02<00:00, 166.60it/s]\n",
      "100%|██████████| 57/57 [00:00<00:00, 309.65it/s]\n",
      "  4%|▎         | 16/449 [00:00<00:02, 158.24it/s]"
     ]
    },
    {
     "name": "stdout",
     "output_type": "stream",
     "text": [
      "time : 2.88, train_loss : 0.44, train_acc : 84.94,val_acc : 48.98,val_loss : 2.07\n"
     ]
    },
    {
     "name": "stderr",
     "output_type": "stream",
     "text": [
      "100%|██████████| 449/449 [00:02<00:00, 169.01it/s]\n",
      "100%|██████████| 57/57 [00:00<00:00, 329.15it/s]\n",
      "  4%|▎         | 16/449 [00:00<00:02, 159.99it/s]"
     ]
    },
    {
     "name": "stdout",
     "output_type": "stream",
     "text": [
      "time : 2.83, train_loss : 0.41, train_acc : 85.91,val_acc : 48.43,val_loss : 2.13\n"
     ]
    },
    {
     "name": "stderr",
     "output_type": "stream",
     "text": [
      "100%|██████████| 449/449 [00:02<00:00, 167.31it/s]\n",
      "100%|██████████| 57/57 [00:00<00:00, 328.89it/s]\n",
      "  4%|▍         | 17/449 [00:00<00:02, 168.18it/s]"
     ]
    },
    {
     "name": "stdout",
     "output_type": "stream",
     "text": [
      "time : 2.86, train_loss : 0.41, train_acc : 86.23,val_acc : 48.17,val_loss : 2.18\n"
     ]
    },
    {
     "name": "stderr",
     "output_type": "stream",
     "text": [
      "100%|██████████| 449/449 [00:02<00:00, 172.86it/s]\n",
      "100%|██████████| 57/57 [00:00<00:00, 306.41it/s]\n",
      "  4%|▎         | 16/449 [00:00<00:02, 157.34it/s]"
     ]
    },
    {
     "name": "stdout",
     "output_type": "stream",
     "text": [
      "time : 2.79, train_loss : 0.39, train_acc : 86.98,val_acc : 48.62,val_loss : 2.05\n"
     ]
    },
    {
     "name": "stderr",
     "output_type": "stream",
     "text": [
      "100%|██████████| 449/449 [00:02<00:00, 168.39it/s]\n",
      "100%|██████████| 57/57 [00:00<00:00, 327.10it/s]\n",
      "  4%|▎         | 16/449 [00:00<00:02, 156.37it/s]"
     ]
    },
    {
     "name": "stdout",
     "output_type": "stream",
     "text": [
      "time : 2.84, train_loss : 0.37, train_acc : 87.62,val_acc : 49.09,val_loss : 2.04\n"
     ]
    },
    {
     "name": "stderr",
     "output_type": "stream",
     "text": [
      "100%|██████████| 449/449 [00:02<00:00, 166.26it/s]\n",
      "100%|██████████| 57/57 [00:00<00:00, 326.64it/s]\n",
      "  4%|▍         | 17/449 [00:00<00:02, 162.11it/s]"
     ]
    },
    {
     "name": "stdout",
     "output_type": "stream",
     "text": [
      "time : 2.88, train_loss : 0.35, train_acc : 88.05,val_acc : 49.01,val_loss : 2.25\n"
     ]
    },
    {
     "name": "stderr",
     "output_type": "stream",
     "text": [
      "100%|██████████| 449/449 [00:02<00:00, 167.81it/s]\n",
      "100%|██████████| 57/57 [00:00<00:00, 321.52it/s]\n",
      "  4%|▎         | 16/449 [00:00<00:02, 159.18it/s]"
     ]
    },
    {
     "name": "stdout",
     "output_type": "stream",
     "text": [
      "time : 2.86, train_loss : 0.36, train_acc : 88.16,val_acc : 48.79,val_loss : 2.02\n"
     ]
    },
    {
     "name": "stderr",
     "output_type": "stream",
     "text": [
      "100%|██████████| 449/449 [00:02<00:00, 165.70it/s]\n",
      "100%|██████████| 57/57 [00:00<00:00, 328.53it/s]\n",
      "  4%|▍         | 17/449 [00:00<00:02, 164.92it/s]"
     ]
    },
    {
     "name": "stdout",
     "output_type": "stream",
     "text": [
      "time : 2.89, train_loss : 0.33, train_acc : 89.12,val_acc : 48.04,val_loss : 2.22\n"
     ]
    },
    {
     "name": "stderr",
     "output_type": "stream",
     "text": [
      "100%|██████████| 449/449 [00:02<00:00, 166.08it/s]\n",
      "100%|██████████| 57/57 [00:00<00:00, 314.05it/s]\n",
      "  4%|▍         | 17/449 [00:00<00:02, 161.40it/s]"
     ]
    },
    {
     "name": "stdout",
     "output_type": "stream",
     "text": [
      "time : 2.89, train_loss : 0.32, train_acc : 89.61,val_acc : 47.92,val_loss : 2.36\n"
     ]
    },
    {
     "name": "stderr",
     "output_type": "stream",
     "text": [
      "100%|██████████| 449/449 [00:02<00:00, 168.00it/s]\n",
      "100%|██████████| 57/57 [00:00<00:00, 318.63it/s]\n",
      "  4%|▍         | 17/449 [00:00<00:02, 160.76it/s]"
     ]
    },
    {
     "name": "stdout",
     "output_type": "stream",
     "text": [
      "time : 2.85, train_loss : 0.31, train_acc : 89.79,val_acc : 47.76,val_loss : 2.23\n"
     ]
    },
    {
     "name": "stderr",
     "output_type": "stream",
     "text": [
      "100%|██████████| 449/449 [00:02<00:00, 166.52it/s]\n",
      "100%|██████████| 57/57 [00:00<00:00, 320.85it/s]\n",
      "  4%|▎         | 16/449 [00:00<00:02, 158.12it/s]"
     ]
    },
    {
     "name": "stdout",
     "output_type": "stream",
     "text": [
      "time : 2.88, train_loss : 0.31, train_acc : 89.96,val_acc : 48.90,val_loss : 2.21\n"
     ]
    },
    {
     "name": "stderr",
     "output_type": "stream",
     "text": [
      "100%|██████████| 449/449 [00:02<00:00, 165.38it/s]\n",
      "100%|██████████| 57/57 [00:00<00:00, 324.69it/s]\n",
      "  4%|▎         | 16/449 [00:00<00:02, 154.61it/s]"
     ]
    },
    {
     "name": "stdout",
     "output_type": "stream",
     "text": [
      "time : 2.89, train_loss : 0.30, train_acc : 90.53,val_acc : 48.43,val_loss : 2.17\n"
     ]
    },
    {
     "name": "stderr",
     "output_type": "stream",
     "text": [
      "100%|██████████| 449/449 [00:02<00:00, 165.20it/s]\n",
      "100%|██████████| 57/57 [00:00<00:00, 338.39it/s]\n",
      "  4%|▎         | 16/449 [00:00<00:02, 156.55it/s]"
     ]
    },
    {
     "name": "stdout",
     "output_type": "stream",
     "text": [
      "time : 2.89, train_loss : 0.30, train_acc : 90.05,val_acc : 48.31,val_loss : 2.33\n"
     ]
    },
    {
     "name": "stderr",
     "output_type": "stream",
     "text": [
      "100%|██████████| 449/449 [00:02<00:00, 167.72it/s]\n",
      "100%|██████████| 57/57 [00:00<00:00, 322.45it/s]\n",
      "  4%|▎         | 16/449 [00:00<00:02, 157.89it/s]"
     ]
    },
    {
     "name": "stdout",
     "output_type": "stream",
     "text": [
      "time : 2.86, train_loss : 0.28, train_acc : 90.84,val_acc : 49.23,val_loss : 2.43\n"
     ]
    },
    {
     "name": "stderr",
     "output_type": "stream",
     "text": [
      "100%|██████████| 449/449 [00:02<00:00, 164.54it/s]\n",
      "100%|██████████| 57/57 [00:00<00:00, 324.00it/s]\n",
      "  4%|▎         | 16/449 [00:00<00:02, 159.82it/s]"
     ]
    },
    {
     "name": "stdout",
     "output_type": "stream",
     "text": [
      "time : 2.91, train_loss : 0.27, train_acc : 91.35,val_acc : 48.12,val_loss : 2.36\n"
     ]
    },
    {
     "name": "stderr",
     "output_type": "stream",
     "text": [
      "100%|██████████| 449/449 [00:02<00:00, 168.87it/s]\n",
      "100%|██████████| 57/57 [00:00<00:00, 311.59it/s]\n",
      "  4%|▍         | 17/449 [00:00<00:02, 165.45it/s]"
     ]
    },
    {
     "name": "stdout",
     "output_type": "stream",
     "text": [
      "time : 2.84, train_loss : 0.26, train_acc : 91.69,val_acc : 47.51,val_loss : 2.40\n"
     ]
    },
    {
     "name": "stderr",
     "output_type": "stream",
     "text": [
      "100%|██████████| 449/449 [00:02<00:00, 168.15it/s]\n",
      "100%|██████████| 57/57 [00:00<00:00, 322.56it/s]\n",
      "  4%|▍         | 17/449 [00:00<00:02, 164.82it/s]"
     ]
    },
    {
     "name": "stdout",
     "output_type": "stream",
     "text": [
      "time : 2.85, train_loss : 0.28, train_acc : 91.23,val_acc : 48.04,val_loss : 2.37\n"
     ]
    },
    {
     "name": "stderr",
     "output_type": "stream",
     "text": [
      "100%|██████████| 449/449 [00:02<00:00, 166.95it/s]\n",
      "100%|██████████| 57/57 [00:00<00:00, 322.16it/s]\n",
      "  4%|▎         | 16/449 [00:00<00:02, 155.42it/s]"
     ]
    },
    {
     "name": "stdout",
     "output_type": "stream",
     "text": [
      "time : 2.87, train_loss : 0.26, train_acc : 91.50,val_acc : 49.85,val_loss : 2.26\n"
     ]
    },
    {
     "name": "stderr",
     "output_type": "stream",
     "text": [
      "100%|██████████| 449/449 [00:02<00:00, 166.12it/s]\n",
      "100%|██████████| 57/57 [00:00<00:00, 324.03it/s]\n",
      "  4%|▍         | 17/449 [00:00<00:02, 160.85it/s]"
     ]
    },
    {
     "name": "stdout",
     "output_type": "stream",
     "text": [
      "time : 2.88, train_loss : 0.24, train_acc : 92.40,val_acc : 48.68,val_loss : 2.37\n"
     ]
    },
    {
     "name": "stderr",
     "output_type": "stream",
     "text": [
      "100%|██████████| 449/449 [00:02<00:00, 167.77it/s]\n",
      "100%|██████████| 57/57 [00:00<00:00, 305.80it/s]\n",
      "  4%|▎         | 16/449 [00:00<00:02, 157.48it/s]"
     ]
    },
    {
     "name": "stdout",
     "output_type": "stream",
     "text": [
      "time : 2.87, train_loss : 0.26, train_acc : 91.73,val_acc : 48.04,val_loss : 2.44\n"
     ]
    },
    {
     "name": "stderr",
     "output_type": "stream",
     "text": [
      "100%|██████████| 449/449 [00:02<00:00, 167.19it/s]\n",
      "100%|██████████| 57/57 [00:00<00:00, 320.30it/s]\n",
      "  4%|▎         | 16/449 [00:00<00:02, 158.20it/s]"
     ]
    },
    {
     "name": "stdout",
     "output_type": "stream",
     "text": [
      "time : 2.87, train_loss : 0.25, train_acc : 92.28,val_acc : 48.68,val_loss : 2.41\n"
     ]
    },
    {
     "name": "stderr",
     "output_type": "stream",
     "text": [
      "100%|██████████| 449/449 [00:02<00:00, 165.27it/s]\n",
      "100%|██████████| 57/57 [00:00<00:00, 328.04it/s]\n",
      "  4%|▍         | 17/449 [00:00<00:02, 160.19it/s]"
     ]
    },
    {
     "name": "stdout",
     "output_type": "stream",
     "text": [
      "time : 2.89, train_loss : 0.23, train_acc : 92.85,val_acc : 48.93,val_loss : 2.37\n"
     ]
    },
    {
     "name": "stderr",
     "output_type": "stream",
     "text": [
      "100%|██████████| 449/449 [00:02<00:00, 166.25it/s]\n",
      "100%|██████████| 57/57 [00:00<00:00, 300.99it/s]\n",
      "  4%|▎         | 16/449 [00:00<00:02, 156.67it/s]"
     ]
    },
    {
     "name": "stdout",
     "output_type": "stream",
     "text": [
      "time : 2.89, train_loss : 0.24, train_acc : 92.41,val_acc : 48.98,val_loss : 2.46\n"
     ]
    },
    {
     "name": "stderr",
     "output_type": "stream",
     "text": [
      "100%|██████████| 449/449 [00:02<00:00, 166.18it/s]\n",
      "100%|██████████| 57/57 [00:00<00:00, 301.53it/s]\n",
      "  4%|▎         | 16/449 [00:00<00:02, 153.33it/s]"
     ]
    },
    {
     "name": "stdout",
     "output_type": "stream",
     "text": [
      "time : 2.89, train_loss : 0.23, train_acc : 92.79,val_acc : 47.59,val_loss : 2.22\n"
     ]
    },
    {
     "name": "stderr",
     "output_type": "stream",
     "text": [
      "100%|██████████| 449/449 [00:02<00:00, 166.85it/s]\n",
      "100%|██████████| 57/57 [00:00<00:00, 299.82it/s]\n",
      "  4%|▍         | 17/449 [00:00<00:02, 160.34it/s]"
     ]
    },
    {
     "name": "stdout",
     "output_type": "stream",
     "text": [
      "time : 2.88, train_loss : 0.22, train_acc : 93.29,val_acc : 48.90,val_loss : 2.41\n"
     ]
    },
    {
     "name": "stderr",
     "output_type": "stream",
     "text": [
      "100%|██████████| 449/449 [00:02<00:00, 165.82it/s]\n",
      "100%|██████████| 57/57 [00:00<00:00, 331.11it/s]\n",
      "  4%|▎         | 16/449 [00:00<00:02, 157.29it/s]"
     ]
    },
    {
     "name": "stdout",
     "output_type": "stream",
     "text": [
      "time : 2.88, train_loss : 0.23, train_acc : 93.04,val_acc : 48.48,val_loss : 2.28\n"
     ]
    },
    {
     "name": "stderr",
     "output_type": "stream",
     "text": [
      "100%|██████████| 449/449 [00:02<00:00, 166.80it/s]\n",
      "100%|██████████| 57/57 [00:00<00:00, 319.26it/s]\n",
      "  4%|▎         | 16/449 [00:00<00:02, 157.44it/s]"
     ]
    },
    {
     "name": "stdout",
     "output_type": "stream",
     "text": [
      "time : 2.87, train_loss : 0.23, train_acc : 92.96,val_acc : 48.57,val_loss : 2.48\n"
     ]
    },
    {
     "name": "stderr",
     "output_type": "stream",
     "text": [
      "100%|██████████| 449/449 [00:02<00:00, 165.49it/s]\n",
      "100%|██████████| 57/57 [00:00<00:00, 315.00it/s]\n",
      "  4%|▎         | 16/449 [00:00<00:02, 155.43it/s]"
     ]
    },
    {
     "name": "stdout",
     "output_type": "stream",
     "text": [
      "time : 2.90, train_loss : 0.22, train_acc : 93.10,val_acc : 49.48,val_loss : 2.53\n"
     ]
    },
    {
     "name": "stderr",
     "output_type": "stream",
     "text": [
      "100%|██████████| 449/449 [00:02<00:00, 164.37it/s]\n",
      "100%|██████████| 57/57 [00:00<00:00, 294.08it/s]\n",
      "  4%|▍         | 17/449 [00:00<00:02, 164.35it/s]"
     ]
    },
    {
     "name": "stdout",
     "output_type": "stream",
     "text": [
      "time : 2.93, train_loss : 0.22, train_acc : 93.16,val_acc : 49.37,val_loss : 2.49\n"
     ]
    },
    {
     "name": "stderr",
     "output_type": "stream",
     "text": [
      "100%|██████████| 449/449 [00:02<00:00, 172.22it/s]\n",
      "100%|██████████| 57/57 [00:00<00:00, 296.17it/s]\n",
      "  4%|▎         | 16/449 [00:00<00:02, 159.17it/s]"
     ]
    },
    {
     "name": "stdout",
     "output_type": "stream",
     "text": [
      "time : 2.80, train_loss : 0.22, train_acc : 93.51,val_acc : 49.15,val_loss : 2.54\n"
     ]
    },
    {
     "name": "stderr",
     "output_type": "stream",
     "text": [
      "100%|██████████| 449/449 [00:02<00:00, 165.28it/s]\n",
      "100%|██████████| 57/57 [00:00<00:00, 318.94it/s]\n",
      "  4%|▎         | 16/449 [00:00<00:02, 156.87it/s]"
     ]
    },
    {
     "name": "stdout",
     "output_type": "stream",
     "text": [
      "time : 2.90, train_loss : 0.22, train_acc : 93.43,val_acc : 49.09,val_loss : 2.52\n"
     ]
    },
    {
     "name": "stderr",
     "output_type": "stream",
     "text": [
      "100%|██████████| 449/449 [00:02<00:00, 167.66it/s]\n",
      "100%|██████████| 57/57 [00:00<00:00, 320.67it/s]\n",
      "  4%|▎         | 16/449 [00:00<00:02, 159.86it/s]"
     ]
    },
    {
     "name": "stdout",
     "output_type": "stream",
     "text": [
      "time : 2.86, train_loss : 0.18, train_acc : 94.26,val_acc : 48.93,val_loss : 2.49\n"
     ]
    },
    {
     "name": "stderr",
     "output_type": "stream",
     "text": [
      "100%|██████████| 449/449 [00:02<00:00, 167.12it/s]\n",
      "100%|██████████| 57/57 [00:00<00:00, 305.03it/s]\n",
      "  4%|▎         | 16/449 [00:00<00:02, 158.30it/s]"
     ]
    },
    {
     "name": "stdout",
     "output_type": "stream",
     "text": [
      "time : 2.88, train_loss : 0.20, train_acc : 94.12,val_acc : 48.98,val_loss : 2.53\n"
     ]
    },
    {
     "name": "stderr",
     "output_type": "stream",
     "text": [
      "100%|██████████| 449/449 [00:02<00:00, 164.06it/s]\n",
      "100%|██████████| 57/57 [00:00<00:00, 306.93it/s]\n",
      "  4%|▎         | 16/449 [00:00<00:02, 157.94it/s]"
     ]
    },
    {
     "name": "stdout",
     "output_type": "stream",
     "text": [
      "time : 2.93, train_loss : 0.20, train_acc : 94.06,val_acc : 47.90,val_loss : 2.46\n"
     ]
    },
    {
     "name": "stderr",
     "output_type": "stream",
     "text": [
      "100%|██████████| 449/449 [00:02<00:00, 164.74it/s]\n",
      "100%|██████████| 57/57 [00:00<00:00, 306.48it/s]\n",
      "  4%|▍         | 17/449 [00:00<00:02, 162.47it/s]"
     ]
    },
    {
     "name": "stdout",
     "output_type": "stream",
     "text": [
      "time : 2.91, train_loss : 0.21, train_acc : 94.01,val_acc : 49.12,val_loss : 2.51\n"
     ]
    },
    {
     "name": "stderr",
     "output_type": "stream",
     "text": [
      "100%|██████████| 449/449 [00:02<00:00, 168.23it/s]\n",
      "100%|██████████| 57/57 [00:00<00:00, 314.15it/s]\n",
      "  4%|▎         | 16/449 [00:00<00:02, 156.59it/s]"
     ]
    },
    {
     "name": "stdout",
     "output_type": "stream",
     "text": [
      "time : 2.85, train_loss : 0.20, train_acc : 94.08,val_acc : 49.60,val_loss : 2.59\n"
     ]
    },
    {
     "name": "stderr",
     "output_type": "stream",
     "text": [
      "100%|██████████| 449/449 [00:02<00:00, 162.43it/s]\n",
      "100%|██████████| 57/57 [00:00<00:00, 302.29it/s]\n",
      "  4%|▎         | 16/449 [00:00<00:02, 153.20it/s]"
     ]
    },
    {
     "name": "stdout",
     "output_type": "stream",
     "text": [
      "time : 2.96, train_loss : 0.20, train_acc : 94.12,val_acc : 49.07,val_loss : 2.43\n"
     ]
    },
    {
     "name": "stderr",
     "output_type": "stream",
     "text": [
      "100%|██████████| 449/449 [00:02<00:00, 168.06it/s]\n",
      "100%|██████████| 57/57 [00:00<00:00, 318.43it/s]\n",
      "  4%|▍         | 17/449 [00:00<00:02, 160.50it/s]"
     ]
    },
    {
     "name": "stdout",
     "output_type": "stream",
     "text": [
      "time : 2.85, train_loss : 0.20, train_acc : 94.17,val_acc : 48.73,val_loss : 2.47\n"
     ]
    },
    {
     "name": "stderr",
     "output_type": "stream",
     "text": [
      "100%|██████████| 449/449 [00:02<00:00, 163.90it/s]\n",
      "100%|██████████| 57/57 [00:00<00:00, 304.22it/s]\n",
      "  4%|▍         | 17/449 [00:00<00:02, 161.81it/s]"
     ]
    },
    {
     "name": "stdout",
     "output_type": "stream",
     "text": [
      "time : 2.93, train_loss : 0.21, train_acc : 93.83,val_acc : 48.51,val_loss : 2.42\n"
     ]
    },
    {
     "name": "stderr",
     "output_type": "stream",
     "text": [
      "100%|██████████| 449/449 [00:02<00:00, 165.16it/s]\n",
      "100%|██████████| 57/57 [00:00<00:00, 333.93it/s]\n",
      "  4%|▍         | 17/449 [00:00<00:02, 162.74it/s]"
     ]
    },
    {
     "name": "stdout",
     "output_type": "stream",
     "text": [
      "time : 2.89, train_loss : 0.20, train_acc : 94.20,val_acc : 49.29,val_loss : 2.22\n"
     ]
    },
    {
     "name": "stderr",
     "output_type": "stream",
     "text": [
      "100%|██████████| 449/449 [00:02<00:00, 168.62it/s]\n",
      "100%|██████████| 57/57 [00:00<00:00, 324.94it/s]\n",
      "  4%|▎         | 16/449 [00:00<00:02, 159.35it/s]"
     ]
    },
    {
     "name": "stdout",
     "output_type": "stream",
     "text": [
      "time : 2.84, train_loss : 0.20, train_acc : 94.13,val_acc : 49.18,val_loss : 2.73\n"
     ]
    },
    {
     "name": "stderr",
     "output_type": "stream",
     "text": [
      "100%|██████████| 449/449 [00:02<00:00, 168.46it/s]\n",
      "100%|██████████| 57/57 [00:00<00:00, 318.76it/s]\n",
      "  4%|▍         | 17/449 [00:00<00:02, 160.84it/s]"
     ]
    },
    {
     "name": "stdout",
     "output_type": "stream",
     "text": [
      "time : 2.85, train_loss : 0.17, train_acc : 94.78,val_acc : 48.45,val_loss : 2.66\n"
     ]
    },
    {
     "name": "stderr",
     "output_type": "stream",
     "text": [
      "100%|██████████| 449/449 [00:02<00:00, 168.43it/s]\n",
      "100%|██████████| 57/57 [00:00<00:00, 320.00it/s]\n",
      "  4%|▎         | 16/449 [00:00<00:02, 157.80it/s]"
     ]
    },
    {
     "name": "stdout",
     "output_type": "stream",
     "text": [
      "time : 2.85, train_loss : 0.20, train_acc : 94.13,val_acc : 47.84,val_loss : 2.48\n"
     ]
    },
    {
     "name": "stderr",
     "output_type": "stream",
     "text": [
      "100%|██████████| 449/449 [00:02<00:00, 165.09it/s]\n",
      "100%|██████████| 57/57 [00:00<00:00, 324.32it/s]\n",
      "  4%|▎         | 16/449 [00:00<00:02, 158.41it/s]"
     ]
    },
    {
     "name": "stdout",
     "output_type": "stream",
     "text": [
      "time : 2.90, train_loss : 0.19, train_acc : 94.53,val_acc : 48.87,val_loss : 2.58\n"
     ]
    },
    {
     "name": "stderr",
     "output_type": "stream",
     "text": [
      "100%|██████████| 449/449 [00:02<00:00, 167.53it/s]\n",
      "100%|██████████| 57/57 [00:00<00:00, 317.66it/s]\n",
      "  4%|▎         | 16/449 [00:00<00:02, 158.32it/s]"
     ]
    },
    {
     "name": "stdout",
     "output_type": "stream",
     "text": [
      "time : 2.86, train_loss : 0.17, train_acc : 95.25,val_acc : 49.12,val_loss : 2.66\n"
     ]
    },
    {
     "name": "stderr",
     "output_type": "stream",
     "text": [
      "100%|██████████| 449/449 [00:02<00:00, 165.36it/s]\n",
      "100%|██████████| 57/57 [00:00<00:00, 318.22it/s]\n",
      "  4%|▍         | 17/449 [00:00<00:02, 160.23it/s]"
     ]
    },
    {
     "name": "stdout",
     "output_type": "stream",
     "text": [
      "time : 2.90, train_loss : 0.18, train_acc : 94.65,val_acc : 49.43,val_loss : 2.62\n"
     ]
    },
    {
     "name": "stderr",
     "output_type": "stream",
     "text": [
      "100%|██████████| 449/449 [00:02<00:00, 167.33it/s]\n",
      "100%|██████████| 57/57 [00:00<00:00, 320.47it/s]\n",
      "  4%|▍         | 17/449 [00:00<00:02, 160.15it/s]"
     ]
    },
    {
     "name": "stdout",
     "output_type": "stream",
     "text": [
      "time : 2.86, train_loss : 0.19, train_acc : 94.61,val_acc : 48.68,val_loss : 2.47\n"
     ]
    },
    {
     "name": "stderr",
     "output_type": "stream",
     "text": [
      "100%|██████████| 449/449 [00:02<00:00, 164.53it/s]\n",
      "100%|██████████| 57/57 [00:00<00:00, 332.65it/s]\n",
      "  4%|▎         | 16/449 [00:00<00:02, 156.90it/s]"
     ]
    },
    {
     "name": "stdout",
     "output_type": "stream",
     "text": [
      "time : 2.90, train_loss : 0.18, train_acc : 94.74,val_acc : 48.87,val_loss : 2.63\n"
     ]
    },
    {
     "name": "stderr",
     "output_type": "stream",
     "text": [
      "100%|██████████| 449/449 [00:02<00:00, 167.42it/s]\n",
      "100%|██████████| 57/57 [00:00<00:00, 331.32it/s]\n",
      "  4%|▎         | 16/449 [00:00<00:02, 158.08it/s]"
     ]
    },
    {
     "name": "stdout",
     "output_type": "stream",
     "text": [
      "time : 2.86, train_loss : 0.19, train_acc : 94.72,val_acc : 48.76,val_loss : 2.29\n"
     ]
    },
    {
     "name": "stderr",
     "output_type": "stream",
     "text": [
      "100%|██████████| 449/449 [00:02<00:00, 165.80it/s]\n",
      "100%|██████████| 57/57 [00:00<00:00, 309.26it/s]\n",
      "  4%|▎         | 16/449 [00:00<00:02, 156.88it/s]"
     ]
    },
    {
     "name": "stdout",
     "output_type": "stream",
     "text": [
      "time : 2.90, train_loss : 0.19, train_acc : 94.40,val_acc : 48.29,val_loss : 2.29\n"
     ]
    },
    {
     "name": "stderr",
     "output_type": "stream",
     "text": [
      "100%|██████████| 449/449 [00:02<00:00, 164.03it/s]\n",
      "100%|██████████| 57/57 [00:00<00:00, 326.96it/s]\n",
      "  4%|▎         | 16/449 [00:00<00:02, 155.18it/s]"
     ]
    },
    {
     "name": "stdout",
     "output_type": "stream",
     "text": [
      "time : 2.92, train_loss : 0.17, train_acc : 94.91,val_acc : 49.87,val_loss : 2.61\n"
     ]
    },
    {
     "name": "stderr",
     "output_type": "stream",
     "text": [
      "100%|██████████| 449/449 [00:02<00:00, 164.87it/s]\n",
      "100%|██████████| 57/57 [00:00<00:00, 328.13it/s]\n",
      "  4%|▎         | 16/449 [00:00<00:02, 158.38it/s]"
     ]
    },
    {
     "name": "stdout",
     "output_type": "stream",
     "text": [
      "time : 2.90, train_loss : 0.18, train_acc : 94.83,val_acc : 49.51,val_loss : 2.69\n"
     ]
    },
    {
     "name": "stderr",
     "output_type": "stream",
     "text": [
      "100%|██████████| 449/449 [00:02<00:00, 164.77it/s]\n",
      "100%|██████████| 57/57 [00:00<00:00, 318.55it/s]\n",
      "  4%|▎         | 16/449 [00:00<00:02, 159.73it/s]"
     ]
    },
    {
     "name": "stdout",
     "output_type": "stream",
     "text": [
      "time : 2.91, train_loss : 0.17, train_acc : 95.17,val_acc : 49.32,val_loss : 2.65\n"
     ]
    },
    {
     "name": "stderr",
     "output_type": "stream",
     "text": [
      "100%|██████████| 449/449 [00:02<00:00, 165.17it/s]\n",
      "100%|██████████| 57/57 [00:00<00:00, 308.29it/s]\n",
      "  4%|▎         | 16/449 [00:00<00:02, 159.21it/s]"
     ]
    },
    {
     "name": "stdout",
     "output_type": "stream",
     "text": [
      "time : 2.91, train_loss : 0.17, train_acc : 95.39,val_acc : 49.87,val_loss : 2.23\n"
     ]
    },
    {
     "name": "stderr",
     "output_type": "stream",
     "text": [
      "100%|██████████| 449/449 [00:02<00:00, 165.68it/s]\n",
      "100%|██████████| 57/57 [00:00<00:00, 326.19it/s]\n",
      "  4%|▎         | 16/449 [00:00<00:02, 156.83it/s]"
     ]
    },
    {
     "name": "stdout",
     "output_type": "stream",
     "text": [
      "time : 2.89, train_loss : 0.17, train_acc : 95.37,val_acc : 48.34,val_loss : 2.36\n"
     ]
    },
    {
     "name": "stderr",
     "output_type": "stream",
     "text": [
      "100%|██████████| 449/449 [00:02<00:00, 167.21it/s]\n",
      "100%|██████████| 57/57 [00:00<00:00, 313.47it/s]\n",
      "  4%|▎         | 16/449 [00:00<00:02, 156.52it/s]"
     ]
    },
    {
     "name": "stdout",
     "output_type": "stream",
     "text": [
      "time : 2.87, train_loss : 0.16, train_acc : 95.60,val_acc : 48.54,val_loss : 2.35\n"
     ]
    },
    {
     "name": "stderr",
     "output_type": "stream",
     "text": [
      "100%|██████████| 449/449 [00:02<00:00, 165.24it/s]\n",
      "100%|██████████| 57/57 [00:00<00:00, 314.18it/s]\n",
      "  4%|▎         | 16/449 [00:00<00:02, 159.66it/s]"
     ]
    },
    {
     "name": "stdout",
     "output_type": "stream",
     "text": [
      "time : 2.90, train_loss : 0.17, train_acc : 95.10,val_acc : 49.82,val_loss : 2.48\n"
     ]
    },
    {
     "name": "stderr",
     "output_type": "stream",
     "text": [
      "100%|██████████| 449/449 [00:02<00:00, 167.78it/s]\n",
      "100%|██████████| 57/57 [00:00<00:00, 319.19it/s]\n",
      "  4%|▎         | 16/449 [00:00<00:02, 158.12it/s]"
     ]
    },
    {
     "name": "stdout",
     "output_type": "stream",
     "text": [
      "time : 2.86, train_loss : 0.16, train_acc : 95.39,val_acc : 49.76,val_loss : 2.30\n"
     ]
    },
    {
     "name": "stderr",
     "output_type": "stream",
     "text": [
      "100%|██████████| 449/449 [00:02<00:00, 166.42it/s]\n",
      "100%|██████████| 57/57 [00:00<00:00, 322.36it/s]\n",
      "  4%|▎         | 16/449 [00:00<00:02, 156.31it/s]"
     ]
    },
    {
     "name": "stdout",
     "output_type": "stream",
     "text": [
      "time : 2.88, train_loss : 0.17, train_acc : 95.22,val_acc : 48.04,val_loss : 2.68\n"
     ]
    },
    {
     "name": "stderr",
     "output_type": "stream",
     "text": [
      "100%|██████████| 449/449 [00:02<00:00, 166.80it/s]\n",
      "100%|██████████| 57/57 [00:00<00:00, 324.64it/s]\n",
      "  4%|▎         | 16/449 [00:00<00:02, 158.43it/s]"
     ]
    },
    {
     "name": "stdout",
     "output_type": "stream",
     "text": [
      "time : 2.87, train_loss : 0.17, train_acc : 95.19,val_acc : 49.15,val_loss : 2.45\n"
     ]
    },
    {
     "name": "stderr",
     "output_type": "stream",
     "text": [
      "100%|██████████| 449/449 [00:02<00:00, 167.99it/s]\n",
      "100%|██████████| 57/57 [00:00<00:00, 324.28it/s]\n",
      "  4%|▍         | 17/449 [00:00<00:02, 164.73it/s]"
     ]
    },
    {
     "name": "stdout",
     "output_type": "stream",
     "text": [
      "time : 2.85, train_loss : 0.20, train_acc : 94.59,val_acc : 49.29,val_loss : 2.42\n"
     ]
    },
    {
     "name": "stderr",
     "output_type": "stream",
     "text": [
      "100%|██████████| 449/449 [00:02<00:00, 168.21it/s]\n",
      "100%|██████████| 57/57 [00:00<00:00, 324.78it/s]\n",
      "  4%|▎         | 16/449 [00:00<00:02, 153.84it/s]"
     ]
    },
    {
     "name": "stdout",
     "output_type": "stream",
     "text": [
      "time : 2.85, train_loss : 0.19, train_acc : 94.94,val_acc : 48.26,val_loss : 2.50\n"
     ]
    },
    {
     "name": "stderr",
     "output_type": "stream",
     "text": [
      "100%|██████████| 449/449 [00:02<00:00, 167.63it/s]\n",
      "100%|██████████| 57/57 [00:00<00:00, 316.89it/s]\n",
      "  0%|          | 0/57 [00:00<?, ?it/s]"
     ]
    },
    {
     "name": "stdout",
     "output_type": "stream",
     "text": [
      "time : 2.86, train_loss : 0.18, train_acc : 95.25,val_acc : 48.06,val_loss : 2.70\n"
     ]
    },
    {
     "name": "stderr",
     "output_type": "stream",
     "text": [
      "100%|██████████| 57/57 [00:00<00:00, 324.93it/s]\n"
     ]
    }
   ],
   "source": [
    "seed = 123\n",
    "np.random.seed(seed)\n",
    "torch.manual_seed(seed)\n",
    "net=AlexNet_test()\n",
    "net.cuda()\n",
    "criterion=nn.CrossEntropyLoss()\n",
    "optimizer = optim.Adam(net.parameters(), lr=0.0015, weight_decay=0.00001)\n",
    "train_losses=[]\n",
    "val_losses=[]\n",
    "train_accs=[]\n",
    "val_accs=[]\n",
    "for epoch in range(100):\n",
    "    ts=time.time()\n",
    "    net, train_loss,train_acc=train(net, partition, optimizer, criterion)\n",
    "    val_loss, val_acc = validate(net, partition, criterion)\n",
    "    te=time.time()\n",
    "    print('time : {:2.2f}, train_loss : {:2.2f}, train_acc : {:2.2f},val_acc : {:2.2f},val_loss : {:2.2f}'.format(te-ts,train_loss,train_acc,val_acc,val_loss))\n",
    "    train_loss=round(train_loss,2)\n",
    "    val_loss=round(val_loss,2)\n",
    "    train_acc=round(train_acc,2)\n",
    "    val_acc=round(val_acc,2)\n",
    "    train_losses.append(train_loss)\n",
    "    val_losses.append(val_loss)\n",
    "    train_accs.append(train_acc)\n",
    "    val_accs.append(val_acc)\n",
    "test_acc = test(net,partition)\n",
    "test_acc=round(test_acc,2)"
   ]
  },
  {
   "cell_type": "code",
   "execution_count": 24,
   "id": "functioning-output",
   "metadata": {},
   "outputs": [],
   "source": [
    "np.save(\"/home/lab/양창희/Emotion Project/fer2013/result_CNN_pytorch/Alex_train_loss.npy\",train_loss)\n",
    "np.save(\"/home/lab/양창희/Emotion Project/fer2013/result_CNN_pytorch/Alex_val_loss.npy\",val_loss)\n",
    "np.save(\"/home/lab/양창희/Emotion Project/fer2013/result_CNN_pytorch/Alex_train_acc.npy\",train_acc)\n",
    "np.save(\"/home/lab/양창희/Emotion Project/fer2013/result_CNN_pytorch/Alex_val_acc.npy\",val_acc)"
   ]
  },
  {
   "cell_type": "code",
   "execution_count": null,
   "id": "verbal-illustration",
   "metadata": {},
   "outputs": [],
   "source": []
  }
 ],
 "metadata": {
  "kernelspec": {
   "display_name": "Python 3",
   "language": "python",
   "name": "python3"
  },
  "language_info": {
   "codemirror_mode": {
    "name": "ipython",
    "version": 3
   },
   "file_extension": ".py",
   "mimetype": "text/x-python",
   "name": "python",
   "nbconvert_exporter": "python",
   "pygments_lexer": "ipython3",
   "version": "3.6.12"
  }
 },
 "nbformat": 4,
 "nbformat_minor": 5
}
