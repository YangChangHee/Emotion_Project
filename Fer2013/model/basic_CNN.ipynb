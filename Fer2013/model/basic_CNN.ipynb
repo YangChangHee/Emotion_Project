{
 "cells": [
  {
   "cell_type": "code",
   "execution_count": 1,
   "id": "industrial-arcade",
   "metadata": {},
   "outputs": [],
   "source": [
    "import matplotlib.pyplot as plt\n",
    "import numpy as np\n",
    "import random\n",
    "import torch\n",
    "import torchvision\n",
    "import torchvision.transforms as transforms\n",
    "import torch.nn as nn\n",
    "import torch.nn.functional as F\n",
    "import torch.optim as optim\n",
    "import argparse\n",
    "import numpy as np\n",
    "import time\n",
    "from copy import deepcopy\n",
    "import seaborn as sns \n",
    "import matplotlib.pyplot as plt"
   ]
  },
  {
   "cell_type": "code",
   "execution_count": 2,
   "id": "informative-wagner",
   "metadata": {},
   "outputs": [],
   "source": [
    "import numpy as np\n",
    "private_labels=np.load(\"Nohot_private_label.npy\")\n",
    "private_pixels=np.load(\"private_pixels.npy\")\n",
    "public_labels=np.load(\"Nohot_public_label.npy\")\n",
    "public_pixels=np.load(\"public_pixels.npy\")\n",
    "train_labels=np.load(\"Nohot_train_label.npy\")\n",
    "train_pixels=np.load(\"train_pixels.npy\")"
   ]
  },
  {
   "cell_type": "code",
   "execution_count": 3,
   "id": "functioning-greek",
   "metadata": {},
   "outputs": [],
   "source": [
    "X_train , y_train = train_pixels,train_labels\n",
    "X_valid , y_valid = public_pixels,public_labels\n",
    "X_test , y_test = private_pixels,private_labels"
   ]
  },
  {
   "cell_type": "code",
   "execution_count": 4,
   "id": "compact-louis",
   "metadata": {},
   "outputs": [],
   "source": [
    "mean_vals = np.mean(X_train, axis=0)\n",
    "std_val = np.std(X_train)\n",
    "\n",
    "X_train_centered = (X_train - mean_vals)/std_val\n",
    "X_valid_centered = (X_valid - mean_vals)/std_val\n",
    "X_test_centered = (X_test - mean_vals)/std_val"
   ]
  },
  {
   "cell_type": "code",
   "execution_count": 5,
   "id": "retired-effect",
   "metadata": {},
   "outputs": [],
   "source": [
    "import torch\n",
    "import torch.nn\n",
    "input_data=torch.FloatTensor(X_train_centered)\n",
    "label=torch.LongTensor(y_train)"
   ]
  },
  {
   "cell_type": "code",
   "execution_count": 6,
   "id": "alleged-waters",
   "metadata": {},
   "outputs": [],
   "source": [
    "input_data1=torch.FloatTensor(X_valid_centered)\n",
    "label1=torch.LongTensor(y_valid)"
   ]
  },
  {
   "cell_type": "code",
   "execution_count": 7,
   "id": "american-nursing",
   "metadata": {},
   "outputs": [],
   "source": [
    "input_data2=torch.FloatTensor(X_test_centered)\n",
    "label2=torch.LongTensor(y_test)"
   ]
  },
  {
   "cell_type": "code",
   "execution_count": 8,
   "id": "cooperative-brisbane",
   "metadata": {},
   "outputs": [],
   "source": [
    "input_data=input_data.transpose(1,3)\n",
    "input_data1=input_data1.transpose(1,3)\n",
    "input_data2=input_data2.transpose(1,3)"
   ]
  },
  {
   "cell_type": "code",
   "execution_count": 11,
   "id": "north-opportunity",
   "metadata": {},
   "outputs": [
    {
     "data": {
      "text/plain": [
       "(torch.Size([28709, 1, 48, 48]),\n",
       " torch.Size([3589, 1, 48, 48]),\n",
       " torch.Size([3589, 1, 48, 48]))"
      ]
     },
     "execution_count": 11,
     "metadata": {},
     "output_type": "execute_result"
    }
   ],
   "source": [
    "input_data.shape,input_data1.shape,input_data2.shape"
   ]
  },
  {
   "cell_type": "code",
   "execution_count": 12,
   "id": "incident-prairie",
   "metadata": {},
   "outputs": [
    {
     "data": {
      "text/plain": [
       "(torch.Size([28709]), torch.Size([3589]), torch.Size([3589]))"
      ]
     },
     "execution_count": 12,
     "metadata": {},
     "output_type": "execute_result"
    }
   ],
   "source": [
    "label.shape,label1.shape,label2.shape"
   ]
  },
  {
   "cell_type": "code",
   "execution_count": 13,
   "id": "motivated-wilderness",
   "metadata": {},
   "outputs": [],
   "source": [
    "from torch.utils.data import TensorDataset\n",
    "from torch.utils.data import DataLoader\n",
    "trainset = TensorDataset(input_data,label)\n",
    "valset = TensorDataset(input_data1,label1)\n",
    "testset = TensorDataset(input_data2,label2)"
   ]
  },
  {
   "cell_type": "code",
   "execution_count": 14,
   "id": "spiritual-amateur",
   "metadata": {},
   "outputs": [],
   "source": [
    "partition={'train':trainset,'val':valset,'test':testset}"
   ]
  },
  {
   "cell_type": "code",
   "execution_count": 15,
   "id": "supreme-population",
   "metadata": {},
   "outputs": [],
   "source": [
    "class CNN(nn.Module):\n",
    "    \n",
    "    def __init__(self):\n",
    "        super(CNN, self).__init__()\n",
    "        \n",
    "        self.conv1=nn.Conv2d(in_channels=1,\n",
    "                            out_channels=12,\n",
    "                            kernel_size=6,\n",
    "                            stride=2,\n",
    "                            padding=2) # 32 24 24\n",
    "        self.conv2=nn.Conv2d(in_channels=12, \n",
    "                            out_channels=36,\n",
    "                            kernel_size=5,\n",
    "                            stride=1,\n",
    "                            padding=2) # 64 60 64\n",
    "        self.conv3=nn.Conv2d(in_channels=36,\n",
    "                            out_channels=164,\n",
    "                            kernel_size=3,\n",
    "                            stride=1,\n",
    "                            padding=1) # 25 30 128\n",
    "        self.act=nn.ReLU()\n",
    "        self.maxpool1=nn.MaxPool2d(kernel_size=2,\n",
    "                                  stride=2)\n",
    "        self.fc=nn.Linear(1476,7)\n",
    "    def forward(self,x):\n",
    "        x=self.conv1(x)\n",
    "        x=self.act(x)\n",
    "        x=self.maxpool1(x)\n",
    "        x=self.conv2(x)\n",
    "        x=self.act(x)\n",
    "        x=self.maxpool1(x)\n",
    "        x=self.conv3(x)\n",
    "        x=self.act(x)\n",
    "        x=self.maxpool1(x)\n",
    "        x=x.view(x.size(0),-1)\n",
    "        x=self.fc(x)\n",
    "        return x"
   ]
  },
  {
   "cell_type": "code",
   "execution_count": 16,
   "id": "resistant-blood",
   "metadata": {},
   "outputs": [],
   "source": [
    "def dimension_check():\n",
    "    net=CNN()\n",
    "    x=torch.randn(1,1,48,48)\n",
    "    y=net(x)\n",
    "    print(y.size())"
   ]
  },
  {
   "cell_type": "code",
   "execution_count": 17,
   "id": "reported-relationship",
   "metadata": {},
   "outputs": [
    {
     "name": "stdout",
     "output_type": "stream",
     "text": [
      "torch.Size([1, 7])\n"
     ]
    }
   ],
   "source": [
    "dimension_check()"
   ]
  },
  {
   "cell_type": "code",
   "execution_count": 18,
   "id": "numerous-coordination",
   "metadata": {},
   "outputs": [],
   "source": [
    "def train(net,partition,optimizer,criterion):\n",
    "    trainloader = torch.utils.data.DataLoader(partition['train'],\n",
    "                                             batch_size=2048,\n",
    "                                             shuffle=True)\n",
    "    net.train()\n",
    "    correct = 0\n",
    "    total =0\n",
    "    train_loss = 0.0\n",
    "    for i, data in enumerate(tqdm(trainloader, 0)):\n",
    "        time.sleep(0.0000001)\n",
    "        optimizer.zero_grad()\n",
    "        inputs, labels = data\n",
    "        inputs = inputs.cuda()\n",
    "        labels = labels.cuda()\n",
    "        outputs = net(inputs)\n",
    "        #break\n",
    "        loss = criterion(outputs, labels)\n",
    "        loss.backward()\n",
    "        optimizer.step()\n",
    "        \n",
    "        train_loss += loss.item()\n",
    "        _, predicted = torch.max(outputs.data, 1)\n",
    "        total += labels.size(0)\n",
    "        correct += (predicted == labels).sum().item()\n",
    "        #if i % 200 == 0:\n",
    "        #    print(correct,train_loss)\n",
    "    train_loss = train_loss / len(trainloader)\n",
    "    train_acc = 100 * correct / total\n",
    "    return net, train_loss, train_acc"
   ]
  },
  {
   "cell_type": "code",
   "execution_count": 19,
   "id": "processed-professional",
   "metadata": {},
   "outputs": [],
   "source": [
    "def test(net, partition):\n",
    "    testloader = torch.utils.data.DataLoader(partition['test'], \n",
    "                                             batch_size=2048, \n",
    "                                             shuffle=False, num_workers=2)\n",
    "    net.eval()\n",
    "    \n",
    "    correct = 0\n",
    "    total = 0\n",
    "    with torch.no_grad():\n",
    "        for data in tqdm(testloader):\n",
    "            time.sleep(0.0000001)\n",
    "            images, labels = data\n",
    "            images = images.cuda()\n",
    "            labels = labels.cuda()\n",
    "\n",
    "            outputs = net(images)\n",
    "            _, predicted = torch.max(outputs.data, 1)\n",
    "            total += labels.size(0)\n",
    "            correct += (predicted == labels).sum().item()\n",
    "\n",
    "        test_acc = 100 * correct / total\n",
    "    return test_acc"
   ]
  },
  {
   "cell_type": "code",
   "execution_count": 20,
   "id": "searching-firmware",
   "metadata": {},
   "outputs": [],
   "source": [
    "def validate(net, partition, criterion):\n",
    "    valloader = torch.utils.data.DataLoader(partition['val'], \n",
    "                                            batch_size=2048, \n",
    "                                            shuffle=False, num_workers=2)\n",
    "    net.eval()\n",
    "\n",
    "    correct = 0\n",
    "    total = 0\n",
    "    val_loss = 0 \n",
    "    with torch.no_grad():\n",
    "        for data in tqdm(valloader):\n",
    "            time.sleep(0.0000001)\n",
    "            images, labels = data\n",
    "            images = images.cuda()\n",
    "            labels = labels.cuda()\n",
    "            outputs = net(images)\n",
    "\n",
    "            loss = criterion(outputs, labels)\n",
    "            \n",
    "            val_loss += loss.item()\n",
    "            _, predicted = torch.max(outputs.data, 1)\n",
    "            total += labels.size(0)\n",
    "            correct += (predicted == labels).sum().item()\n",
    "\n",
    "        val_loss = val_loss / len(valloader)\n",
    "        val_acc = 100 * correct / total\n",
    "    return val_loss, val_acc"
   ]
  },
  {
   "cell_type": "code",
   "execution_count": 21,
   "id": "sonic-portable",
   "metadata": {},
   "outputs": [],
   "source": [
    "from tqdm import tqdm, tqdm_notebook\n",
    "from tqdm import trange\n",
    "import time"
   ]
  },
  {
   "cell_type": "code",
   "execution_count": 22,
   "id": "pressed-impossible",
   "metadata": {},
   "outputs": [
    {
     "name": "stderr",
     "output_type": "stream",
     "text": [
      "100%|██████████| 15/15 [00:00<00:00, 18.39it/s]\n",
      "100%|██████████| 2/2 [00:00<00:00, 21.37it/s]\n",
      " 20%|██        | 3/15 [00:00<00:00, 25.72it/s]"
     ]
    },
    {
     "name": "stdout",
     "output_type": "stream",
     "text": [
      "time : 0.92, train_loss : 1.80, train_acc : 25.98,val_acc : 28.17,val_loss : 1.76\n"
     ]
    },
    {
     "name": "stderr",
     "output_type": "stream",
     "text": [
      "100%|██████████| 15/15 [00:00<00:00, 27.61it/s]\n",
      "100%|██████████| 2/2 [00:00<00:00, 17.63it/s]\n",
      " 20%|██        | 3/15 [00:00<00:00, 26.32it/s]"
     ]
    },
    {
     "name": "stdout",
     "output_type": "stream",
     "text": [
      "time : 0.66, train_loss : 1.72, train_acc : 30.12,val_acc : 33.24,val_loss : 1.71\n"
     ]
    },
    {
     "name": "stderr",
     "output_type": "stream",
     "text": [
      "100%|██████████| 15/15 [00:00<00:00, 27.68it/s]\n",
      "100%|██████████| 2/2 [00:00<00:00, 20.90it/s]\n",
      " 20%|██        | 3/15 [00:00<00:00, 26.61it/s]"
     ]
    },
    {
     "name": "stdout",
     "output_type": "stream",
     "text": [
      "time : 0.64, train_loss : 1.67, train_acc : 34.62,val_acc : 37.89,val_loss : 1.63\n"
     ]
    },
    {
     "name": "stderr",
     "output_type": "stream",
     "text": [
      "100%|██████████| 15/15 [00:00<00:00, 27.68it/s]\n",
      "100%|██████████| 2/2 [00:00<00:00, 16.53it/s]\n",
      " 20%|██        | 3/15 [00:00<00:00, 26.94it/s]"
     ]
    },
    {
     "name": "stdout",
     "output_type": "stream",
     "text": [
      "time : 0.67, train_loss : 1.60, train_acc : 38.10,val_acc : 37.48,val_loss : 1.61\n"
     ]
    },
    {
     "name": "stderr",
     "output_type": "stream",
     "text": [
      "100%|██████████| 15/15 [00:00<00:00, 28.13it/s]\n",
      "100%|██████████| 2/2 [00:00<00:00, 20.82it/s]\n",
      " 13%|█▎        | 2/15 [00:00<00:00, 16.89it/s]"
     ]
    },
    {
     "name": "stdout",
     "output_type": "stream",
     "text": [
      "time : 0.63, train_loss : 1.57, train_acc : 39.54,val_acc : 38.79,val_loss : 1.57\n"
     ]
    },
    {
     "name": "stderr",
     "output_type": "stream",
     "text": [
      "100%|██████████| 15/15 [00:00<00:00, 25.97it/s]\n",
      "100%|██████████| 2/2 [00:00<00:00, 20.75it/s]\n",
      " 20%|██        | 3/15 [00:00<00:00, 26.90it/s]"
     ]
    },
    {
     "name": "stdout",
     "output_type": "stream",
     "text": [
      "time : 0.68, train_loss : 1.54, train_acc : 40.18,val_acc : 40.29,val_loss : 1.55\n"
     ]
    },
    {
     "name": "stderr",
     "output_type": "stream",
     "text": [
      "100%|██████████| 15/15 [00:00<00:00, 28.12it/s]\n",
      "100%|██████████| 2/2 [00:00<00:00, 18.72it/s]\n",
      " 20%|██        | 3/15 [00:00<00:00, 26.98it/s]"
     ]
    },
    {
     "name": "stdout",
     "output_type": "stream",
     "text": [
      "time : 0.65, train_loss : 1.51, train_acc : 42.30,val_acc : 42.96,val_loss : 1.50\n"
     ]
    },
    {
     "name": "stderr",
     "output_type": "stream",
     "text": [
      "100%|██████████| 15/15 [00:00<00:00, 28.06it/s]\n",
      "100%|██████████| 2/2 [00:00<00:00, 20.77it/s]\n",
      " 20%|██        | 3/15 [00:00<00:00, 26.82it/s]"
     ]
    },
    {
     "name": "stdout",
     "output_type": "stream",
     "text": [
      "time : 0.64, train_loss : 1.48, train_acc : 43.83,val_acc : 42.52,val_loss : 1.49\n"
     ]
    },
    {
     "name": "stderr",
     "output_type": "stream",
     "text": [
      "100%|██████████| 15/15 [00:00<00:00, 27.72it/s]\n",
      "100%|██████████| 2/2 [00:00<00:00, 20.75it/s]\n",
      " 20%|██        | 3/15 [00:00<00:00, 26.69it/s]"
     ]
    },
    {
     "name": "stdout",
     "output_type": "stream",
     "text": [
      "time : 0.64, train_loss : 1.45, train_acc : 44.89,val_acc : 42.21,val_loss : 1.51\n"
     ]
    },
    {
     "name": "stderr",
     "output_type": "stream",
     "text": [
      "100%|██████████| 15/15 [00:00<00:00, 27.80it/s]\n",
      "100%|██████████| 2/2 [00:00<00:00, 19.74it/s]\n",
      " 20%|██        | 3/15 [00:00<00:00, 26.54it/s]"
     ]
    },
    {
     "name": "stdout",
     "output_type": "stream",
     "text": [
      "time : 0.65, train_loss : 1.42, train_acc : 45.66,val_acc : 43.38,val_loss : 1.53\n"
     ]
    },
    {
     "name": "stderr",
     "output_type": "stream",
     "text": [
      "100%|██████████| 15/15 [00:00<00:00, 27.69it/s]\n",
      "100%|██████████| 2/2 [00:00<00:00, 20.04it/s]\n",
      " 13%|█▎        | 2/15 [00:00<00:00, 16.83it/s]"
     ]
    },
    {
     "name": "stdout",
     "output_type": "stream",
     "text": [
      "time : 0.65, train_loss : 1.44, train_acc : 45.86,val_acc : 45.75,val_loss : 1.43\n"
     ]
    },
    {
     "name": "stderr",
     "output_type": "stream",
     "text": [
      "100%|██████████| 15/15 [00:00<00:00, 25.79it/s]\n",
      "100%|██████████| 2/2 [00:00<00:00, 21.37it/s]\n",
      " 20%|██        | 3/15 [00:00<00:00, 27.13it/s]"
     ]
    },
    {
     "name": "stdout",
     "output_type": "stream",
     "text": [
      "time : 0.68, train_loss : 1.37, train_acc : 47.51,val_acc : 45.33,val_loss : 1.43\n"
     ]
    },
    {
     "name": "stderr",
     "output_type": "stream",
     "text": [
      "100%|██████████| 15/15 [00:00<00:00, 28.12it/s]\n",
      "100%|██████████| 2/2 [00:00<00:00, 21.21it/s]\n",
      " 20%|██        | 3/15 [00:00<00:00, 26.16it/s]"
     ]
    },
    {
     "name": "stdout",
     "output_type": "stream",
     "text": [
      "time : 0.63, train_loss : 1.35, train_acc : 48.36,val_acc : 43.80,val_loss : 1.47\n"
     ]
    },
    {
     "name": "stderr",
     "output_type": "stream",
     "text": [
      "100%|██████████| 15/15 [00:00<00:00, 27.24it/s]\n",
      "100%|██████████| 2/2 [00:00<00:00, 19.99it/s]\n",
      " 20%|██        | 3/15 [00:00<00:00, 26.06it/s]"
     ]
    },
    {
     "name": "stdout",
     "output_type": "stream",
     "text": [
      "time : 0.66, train_loss : 1.36, train_acc : 47.78,val_acc : 46.64,val_loss : 1.40\n"
     ]
    },
    {
     "name": "stderr",
     "output_type": "stream",
     "text": [
      "100%|██████████| 15/15 [00:00<00:00, 27.49it/s]\n",
      "100%|██████████| 2/2 [00:00<00:00, 19.98it/s]\n",
      " 20%|██        | 3/15 [00:00<00:00, 25.43it/s]"
     ]
    },
    {
     "name": "stdout",
     "output_type": "stream",
     "text": [
      "time : 0.65, train_loss : 1.32, train_acc : 49.77,val_acc : 46.28,val_loss : 1.40\n"
     ]
    },
    {
     "name": "stderr",
     "output_type": "stream",
     "text": [
      "100%|██████████| 15/15 [00:00<00:00, 27.47it/s]\n",
      "100%|██████████| 2/2 [00:00<00:00, 20.15it/s]\n",
      " 20%|██        | 3/15 [00:00<00:00, 25.16it/s]"
     ]
    },
    {
     "name": "stdout",
     "output_type": "stream",
     "text": [
      "time : 0.65, train_loss : 1.30, train_acc : 50.35,val_acc : 46.59,val_loss : 1.42\n"
     ]
    },
    {
     "name": "stderr",
     "output_type": "stream",
     "text": [
      "100%|██████████| 15/15 [00:00<00:00, 27.40it/s]\n",
      "100%|██████████| 2/2 [00:00<00:00, 18.50it/s]\n",
      " 13%|█▎        | 2/15 [00:00<00:00, 17.48it/s]"
     ]
    },
    {
     "name": "stdout",
     "output_type": "stream",
     "text": [
      "time : 0.66, train_loss : 1.29, train_acc : 50.80,val_acc : 47.23,val_loss : 1.38\n"
     ]
    },
    {
     "name": "stderr",
     "output_type": "stream",
     "text": [
      "100%|██████████| 15/15 [00:00<00:00, 26.34it/s]\n",
      "100%|██████████| 2/2 [00:00<00:00, 20.41it/s]\n",
      " 20%|██        | 3/15 [00:00<00:00, 26.55it/s]"
     ]
    },
    {
     "name": "stdout",
     "output_type": "stream",
     "text": [
      "time : 0.67, train_loss : 1.29, train_acc : 52.40,val_acc : 46.59,val_loss : 1.39\n"
     ]
    },
    {
     "name": "stderr",
     "output_type": "stream",
     "text": [
      "100%|██████████| 15/15 [00:00<00:00, 27.66it/s]\n",
      "100%|██████████| 2/2 [00:00<00:00, 18.62it/s]\n",
      " 20%|██        | 3/15 [00:00<00:00, 27.38it/s]"
     ]
    },
    {
     "name": "stdout",
     "output_type": "stream",
     "text": [
      "time : 0.65, train_loss : 1.26, train_acc : 52.06,val_acc : 47.59,val_loss : 1.38\n"
     ]
    },
    {
     "name": "stderr",
     "output_type": "stream",
     "text": [
      "100%|██████████| 15/15 [00:00<00:00, 27.89it/s]\n",
      "100%|██████████| 2/2 [00:00<00:00, 16.41it/s]\n",
      " 20%|██        | 3/15 [00:00<00:00, 26.58it/s]"
     ]
    },
    {
     "name": "stdout",
     "output_type": "stream",
     "text": [
      "time : 0.67, train_loss : 1.27, train_acc : 52.88,val_acc : 45.31,val_loss : 1.44\n"
     ]
    },
    {
     "name": "stderr",
     "output_type": "stream",
     "text": [
      "100%|██████████| 15/15 [00:00<00:00, 27.99it/s]\n",
      "100%|██████████| 2/2 [00:00<00:00, 19.92it/s]\n",
      " 20%|██        | 3/15 [00:00<00:00, 26.30it/s]"
     ]
    },
    {
     "name": "stdout",
     "output_type": "stream",
     "text": [
      "time : 0.64, train_loss : 1.27, train_acc : 52.38,val_acc : 47.53,val_loss : 1.37\n"
     ]
    },
    {
     "name": "stderr",
     "output_type": "stream",
     "text": [
      "100%|██████████| 15/15 [00:00<00:00, 27.67it/s]\n",
      "100%|██████████| 2/2 [00:00<00:00, 19.22it/s]\n",
      " 20%|██        | 3/15 [00:00<00:00, 26.23it/s]"
     ]
    },
    {
     "name": "stdout",
     "output_type": "stream",
     "text": [
      "time : 0.65, train_loss : 1.23, train_acc : 53.69,val_acc : 48.96,val_loss : 1.36\n"
     ]
    },
    {
     "name": "stderr",
     "output_type": "stream",
     "text": [
      "100%|██████████| 15/15 [00:00<00:00, 27.55it/s]\n",
      "100%|██████████| 2/2 [00:00<00:00, 18.53it/s]\n",
      " 20%|██        | 3/15 [00:00<00:00, 20.17it/s]"
     ]
    },
    {
     "name": "stdout",
     "output_type": "stream",
     "text": [
      "time : 0.66, train_loss : 1.21, train_acc : 55.24,val_acc : 48.54,val_loss : 1.36\n"
     ]
    },
    {
     "name": "stderr",
     "output_type": "stream",
     "text": [
      "100%|██████████| 15/15 [00:00<00:00, 28.02it/s]\n",
      "100%|██████████| 2/2 [00:00<00:00, 13.59it/s]\n",
      " 13%|█▎        | 2/15 [00:00<00:00, 16.71it/s]"
     ]
    },
    {
     "name": "stdout",
     "output_type": "stream",
     "text": [
      "time : 0.69, train_loss : 1.18, train_acc : 55.75,val_acc : 49.01,val_loss : 1.36\n"
     ]
    },
    {
     "name": "stderr",
     "output_type": "stream",
     "text": [
      "100%|██████████| 15/15 [00:00<00:00, 25.67it/s]\n",
      "100%|██████████| 2/2 [00:00<00:00, 20.64it/s]\n",
      " 20%|██        | 3/15 [00:00<00:00, 26.25it/s]"
     ]
    },
    {
     "name": "stdout",
     "output_type": "stream",
     "text": [
      "time : 0.69, train_loss : 1.17, train_acc : 56.51,val_acc : 49.21,val_loss : 1.35\n"
     ]
    },
    {
     "name": "stderr",
     "output_type": "stream",
     "text": [
      "100%|██████████| 15/15 [00:00<00:00, 27.02it/s]\n",
      "100%|██████████| 2/2 [00:00<00:00, 21.70it/s]\n",
      " 20%|██        | 3/15 [00:00<00:00, 26.14it/s]"
     ]
    },
    {
     "name": "stdout",
     "output_type": "stream",
     "text": [
      "time : 0.65, train_loss : 1.14, train_acc : 56.88,val_acc : 48.87,val_loss : 1.36\n"
     ]
    },
    {
     "name": "stderr",
     "output_type": "stream",
     "text": [
      "100%|██████████| 15/15 [00:00<00:00, 27.59it/s]\n",
      "100%|██████████| 2/2 [00:00<00:00, 18.34it/s]\n",
      " 20%|██        | 3/15 [00:00<00:00, 26.43it/s]"
     ]
    },
    {
     "name": "stdout",
     "output_type": "stream",
     "text": [
      "time : 0.66, train_loss : 1.13, train_acc : 57.86,val_acc : 49.60,val_loss : 1.35\n"
     ]
    },
    {
     "name": "stderr",
     "output_type": "stream",
     "text": [
      "100%|██████████| 15/15 [00:00<00:00, 27.90it/s]\n",
      "100%|██████████| 2/2 [00:00<00:00, 16.42it/s]\n",
      " 20%|██        | 3/15 [00:00<00:00, 26.70it/s]"
     ]
    },
    {
     "name": "stdout",
     "output_type": "stream",
     "text": [
      "time : 0.66, train_loss : 1.12, train_acc : 58.39,val_acc : 47.48,val_loss : 1.41\n"
     ]
    },
    {
     "name": "stderr",
     "output_type": "stream",
     "text": [
      "100%|██████████| 15/15 [00:00<00:00, 27.47it/s]\n",
      "100%|██████████| 2/2 [00:00<00:00, 18.66it/s]\n",
      " 20%|██        | 3/15 [00:00<00:00, 25.80it/s]"
     ]
    },
    {
     "name": "stdout",
     "output_type": "stream",
     "text": [
      "time : 0.66, train_loss : 1.13, train_acc : 58.03,val_acc : 50.29,val_loss : 1.34\n"
     ]
    },
    {
     "name": "stderr",
     "output_type": "stream",
     "text": [
      "100%|██████████| 15/15 [00:00<00:00, 27.36it/s]\n",
      "100%|██████████| 2/2 [00:00<00:00, 15.93it/s]\n",
      " 20%|██        | 3/15 [00:00<00:00, 26.34it/s]"
     ]
    },
    {
     "name": "stdout",
     "output_type": "stream",
     "text": [
      "time : 0.68, train_loss : 1.09, train_acc : 59.72,val_acc : 50.49,val_loss : 1.33\n"
     ]
    },
    {
     "name": "stderr",
     "output_type": "stream",
     "text": [
      "100%|██████████| 15/15 [00:00<00:00, 27.37it/s]\n",
      "100%|██████████| 2/2 [00:00<00:00, 21.95it/s]\n",
      " 13%|█▎        | 2/15 [00:00<00:00, 16.50it/s]"
     ]
    },
    {
     "name": "stdout",
     "output_type": "stream",
     "text": [
      "time : 0.64, train_loss : 1.08, train_acc : 60.38,val_acc : 49.96,val_loss : 1.36\n"
     ]
    },
    {
     "name": "stderr",
     "output_type": "stream",
     "text": [
      "100%|██████████| 15/15 [00:00<00:00, 25.64it/s]\n",
      "100%|██████████| 2/2 [00:00<00:00, 20.37it/s]\n",
      " 20%|██        | 3/15 [00:00<00:00, 26.49it/s]"
     ]
    },
    {
     "name": "stdout",
     "output_type": "stream",
     "text": [
      "time : 0.69, train_loss : 1.06, train_acc : 61.36,val_acc : 49.82,val_loss : 1.39\n"
     ]
    },
    {
     "name": "stderr",
     "output_type": "stream",
     "text": [
      "100%|██████████| 15/15 [00:00<00:00, 27.51it/s]\n",
      "100%|██████████| 2/2 [00:00<00:00, 19.63it/s]\n",
      " 20%|██        | 3/15 [00:00<00:00, 27.21it/s]"
     ]
    },
    {
     "name": "stdout",
     "output_type": "stream",
     "text": [
      "time : 0.65, train_loss : 1.05, train_acc : 61.12,val_acc : 49.54,val_loss : 1.39\n"
     ]
    },
    {
     "name": "stderr",
     "output_type": "stream",
     "text": [
      "100%|██████████| 15/15 [00:00<00:00, 27.70it/s]\n",
      "100%|██████████| 2/2 [00:00<00:00, 20.09it/s]\n",
      " 20%|██        | 3/15 [00:00<00:00, 26.14it/s]"
     ]
    },
    {
     "name": "stdout",
     "output_type": "stream",
     "text": [
      "time : 0.65, train_loss : 1.04, train_acc : 60.97,val_acc : 50.52,val_loss : 1.34\n"
     ]
    },
    {
     "name": "stderr",
     "output_type": "stream",
     "text": [
      "100%|██████████| 15/15 [00:00<00:00, 27.46it/s]\n",
      "100%|██████████| 2/2 [00:00<00:00, 21.61it/s]\n",
      " 20%|██        | 3/15 [00:00<00:00, 26.11it/s]"
     ]
    },
    {
     "name": "stdout",
     "output_type": "stream",
     "text": [
      "time : 0.64, train_loss : 0.99, train_acc : 63.07,val_acc : 50.60,val_loss : 1.37\n"
     ]
    },
    {
     "name": "stderr",
     "output_type": "stream",
     "text": [
      "100%|██████████| 15/15 [00:00<00:00, 27.43it/s]\n",
      "100%|██████████| 2/2 [00:00<00:00, 18.61it/s]\n",
      " 20%|██        | 3/15 [00:00<00:00, 26.01it/s]"
     ]
    },
    {
     "name": "stdout",
     "output_type": "stream",
     "text": [
      "time : 0.66, train_loss : 0.98, train_acc : 63.52,val_acc : 49.48,val_loss : 1.36\n"
     ]
    },
    {
     "name": "stderr",
     "output_type": "stream",
     "text": [
      "100%|██████████| 15/15 [00:00<00:00, 27.42it/s]\n",
      "100%|██████████| 2/2 [00:00<00:00, 19.24it/s]\n",
      " 20%|██        | 3/15 [00:00<00:00, 26.32it/s]"
     ]
    },
    {
     "name": "stdout",
     "output_type": "stream",
     "text": [
      "time : 0.66, train_loss : 0.96, train_acc : 64.41,val_acc : 50.74,val_loss : 1.38\n"
     ]
    },
    {
     "name": "stderr",
     "output_type": "stream",
     "text": [
      "100%|██████████| 15/15 [00:00<00:00, 27.31it/s]\n",
      "100%|██████████| 2/2 [00:00<00:00, 21.42it/s]\n",
      " 20%|██        | 3/15 [00:00<00:00, 19.89it/s]"
     ]
    },
    {
     "name": "stdout",
     "output_type": "stream",
     "text": [
      "time : 0.65, train_loss : 0.97, train_acc : 64.89,val_acc : 47.87,val_loss : 1.50\n"
     ]
    },
    {
     "name": "stderr",
     "output_type": "stream",
     "text": [
      "100%|██████████| 15/15 [00:00<00:00, 27.73it/s]\n",
      "100%|██████████| 2/2 [00:00<00:00, 14.06it/s]\n",
      " 13%|█▎        | 2/15 [00:00<00:00, 17.51it/s]"
     ]
    },
    {
     "name": "stdout",
     "output_type": "stream",
     "text": [
      "time : 0.69, train_loss : 1.00, train_acc : 63.17,val_acc : 49.51,val_loss : 1.40\n"
     ]
    },
    {
     "name": "stderr",
     "output_type": "stream",
     "text": [
      "100%|██████████| 15/15 [00:00<00:00, 26.33it/s]\n",
      "100%|██████████| 2/2 [00:00<00:00, 18.89it/s]\n",
      " 20%|██        | 3/15 [00:00<00:00, 25.73it/s]"
     ]
    },
    {
     "name": "stdout",
     "output_type": "stream",
     "text": [
      "time : 0.68, train_loss : 0.96, train_acc : 64.98,val_acc : 49.76,val_loss : 1.39\n"
     ]
    },
    {
     "name": "stderr",
     "output_type": "stream",
     "text": [
      "100%|██████████| 15/15 [00:00<00:00, 27.38it/s]\n",
      "100%|██████████| 2/2 [00:00<00:00, 21.31it/s]\n",
      " 20%|██        | 3/15 [00:00<00:00, 26.20it/s]"
     ]
    },
    {
     "name": "stdout",
     "output_type": "stream",
     "text": [
      "time : 0.65, train_loss : 0.94, train_acc : 65.79,val_acc : 51.41,val_loss : 1.39\n"
     ]
    },
    {
     "name": "stderr",
     "output_type": "stream",
     "text": [
      "100%|██████████| 15/15 [00:00<00:00, 27.44it/s]\n",
      "100%|██████████| 2/2 [00:00<00:00, 20.98it/s]\n",
      " 20%|██        | 3/15 [00:00<00:00, 26.05it/s]"
     ]
    },
    {
     "name": "stdout",
     "output_type": "stream",
     "text": [
      "time : 0.65, train_loss : 0.93, train_acc : 65.85,val_acc : 50.60,val_loss : 1.38\n"
     ]
    },
    {
     "name": "stderr",
     "output_type": "stream",
     "text": [
      "100%|██████████| 15/15 [00:00<00:00, 27.39it/s]\n",
      "100%|██████████| 2/2 [00:00<00:00, 18.30it/s]\n",
      " 20%|██        | 3/15 [00:00<00:00, 25.87it/s]"
     ]
    },
    {
     "name": "stdout",
     "output_type": "stream",
     "text": [
      "time : 0.66, train_loss : 0.90, train_acc : 67.53,val_acc : 45.64,val_loss : 1.54\n"
     ]
    },
    {
     "name": "stderr",
     "output_type": "stream",
     "text": [
      "100%|██████████| 15/15 [00:00<00:00, 27.38it/s]\n",
      "100%|██████████| 2/2 [00:00<00:00, 19.58it/s]\n",
      " 20%|██        | 3/15 [00:00<00:00, 19.49it/s]"
     ]
    },
    {
     "name": "stdout",
     "output_type": "stream",
     "text": [
      "time : 0.66, train_loss : 0.93, train_acc : 65.75,val_acc : 48.93,val_loss : 1.41\n"
     ]
    },
    {
     "name": "stderr",
     "output_type": "stream",
     "text": [
      "100%|██████████| 15/15 [00:00<00:00, 27.49it/s]\n",
      "100%|██████████| 2/2 [00:00<00:00, 13.24it/s]\n",
      " 13%|█▎        | 2/15 [00:00<00:00, 16.65it/s]"
     ]
    },
    {
     "name": "stdout",
     "output_type": "stream",
     "text": [
      "time : 0.70, train_loss : 0.86, train_acc : 68.06,val_acc : 49.37,val_loss : 1.45\n"
     ]
    },
    {
     "name": "stderr",
     "output_type": "stream",
     "text": [
      "100%|██████████| 15/15 [00:00<00:00, 25.67it/s]\n",
      "100%|██████████| 2/2 [00:00<00:00, 19.37it/s]\n",
      " 20%|██        | 3/15 [00:00<00:00, 26.34it/s]"
     ]
    },
    {
     "name": "stdout",
     "output_type": "stream",
     "text": [
      "time : 0.69, train_loss : 0.85, train_acc : 69.48,val_acc : 50.26,val_loss : 1.41\n"
     ]
    },
    {
     "name": "stderr",
     "output_type": "stream",
     "text": [
      "100%|██████████| 15/15 [00:00<00:00, 27.47it/s]\n",
      "100%|██████████| 2/2 [00:00<00:00, 20.77it/s]\n",
      " 20%|██        | 3/15 [00:00<00:00, 25.79it/s]"
     ]
    },
    {
     "name": "stdout",
     "output_type": "stream",
     "text": [
      "time : 0.65, train_loss : 0.83, train_acc : 70.10,val_acc : 48.45,val_loss : 1.54\n"
     ]
    },
    {
     "name": "stderr",
     "output_type": "stream",
     "text": [
      "100%|██████████| 15/15 [00:00<00:00, 27.34it/s]\n",
      "100%|██████████| 2/2 [00:00<00:00, 20.10it/s]\n",
      " 20%|██        | 3/15 [00:00<00:00, 25.38it/s]"
     ]
    },
    {
     "name": "stdout",
     "output_type": "stream",
     "text": [
      "time : 0.65, train_loss : 0.87, train_acc : 68.80,val_acc : 48.93,val_loss : 1.49\n"
     ]
    },
    {
     "name": "stderr",
     "output_type": "stream",
     "text": [
      "100%|██████████| 15/15 [00:00<00:00, 27.25it/s]\n",
      "100%|██████████| 2/2 [00:00<00:00, 21.34it/s]\n",
      " 20%|██        | 3/15 [00:00<00:00, 27.18it/s]"
     ]
    },
    {
     "name": "stdout",
     "output_type": "stream",
     "text": [
      "time : 0.65, train_loss : 0.86, train_acc : 69.01,val_acc : 50.77,val_loss : 1.42\n"
     ]
    },
    {
     "name": "stderr",
     "output_type": "stream",
     "text": [
      "100%|██████████| 15/15 [00:00<00:00, 27.74it/s]\n",
      "100%|██████████| 2/2 [00:00<00:00, 19.03it/s]\n",
      " 20%|██        | 3/15 [00:00<00:00, 19.21it/s]"
     ]
    },
    {
     "name": "stdout",
     "output_type": "stream",
     "text": [
      "time : 0.65, train_loss : 0.82, train_acc : 69.63,val_acc : 50.46,val_loss : 1.48\n"
     ]
    },
    {
     "name": "stderr",
     "output_type": "stream",
     "text": [
      "100%|██████████| 15/15 [00:00<00:00, 27.31it/s]\n",
      "100%|██████████| 2/2 [00:00<00:00, 13.79it/s]\n",
      " 13%|█▎        | 2/15 [00:00<00:00, 16.65it/s]"
     ]
    },
    {
     "name": "stdout",
     "output_type": "stream",
     "text": [
      "time : 0.70, train_loss : 0.81, train_acc : 70.64,val_acc : 48.93,val_loss : 1.52\n"
     ]
    },
    {
     "name": "stderr",
     "output_type": "stream",
     "text": [
      "100%|██████████| 15/15 [00:00<00:00, 25.63it/s]\n",
      "100%|██████████| 2/2 [00:00<00:00, 21.35it/s]\n",
      " 20%|██        | 3/15 [00:00<00:00, 27.20it/s]"
     ]
    },
    {
     "name": "stdout",
     "output_type": "stream",
     "text": [
      "time : 0.68, train_loss : 0.82, train_acc : 70.34,val_acc : 50.74,val_loss : 1.45\n"
     ]
    },
    {
     "name": "stderr",
     "output_type": "stream",
     "text": [
      "100%|██████████| 15/15 [00:00<00:00, 27.75it/s]\n",
      "100%|██████████| 2/2 [00:00<00:00, 16.98it/s]\n",
      " 20%|██        | 3/15 [00:00<00:00, 26.55it/s]"
     ]
    },
    {
     "name": "stdout",
     "output_type": "stream",
     "text": [
      "time : 0.66, train_loss : 0.81, train_acc : 72.05,val_acc : 51.57,val_loss : 1.44\n"
     ]
    },
    {
     "name": "stderr",
     "output_type": "stream",
     "text": [
      "100%|██████████| 15/15 [00:00<00:00, 27.91it/s]\n",
      "100%|██████████| 2/2 [00:00<00:00, 21.10it/s]\n",
      " 20%|██        | 3/15 [00:00<00:00, 26.47it/s]"
     ]
    },
    {
     "name": "stdout",
     "output_type": "stream",
     "text": [
      "time : 0.64, train_loss : 0.75, train_acc : 72.80,val_acc : 51.83,val_loss : 1.47\n"
     ]
    },
    {
     "name": "stderr",
     "output_type": "stream",
     "text": [
      "100%|██████████| 15/15 [00:00<00:00, 27.48it/s]\n",
      "100%|██████████| 2/2 [00:00<00:00, 20.65it/s]\n",
      " 20%|██        | 3/15 [00:00<00:00, 26.06it/s]"
     ]
    },
    {
     "name": "stdout",
     "output_type": "stream",
     "text": [
      "time : 0.65, train_loss : 0.71, train_acc : 74.09,val_acc : 51.66,val_loss : 1.49\n"
     ]
    },
    {
     "name": "stderr",
     "output_type": "stream",
     "text": [
      "100%|██████████| 15/15 [00:00<00:00, 27.39it/s]\n",
      "100%|██████████| 2/2 [00:00<00:00, 19.42it/s]\n",
      " 20%|██        | 3/15 [00:00<00:00, 19.87it/s]"
     ]
    },
    {
     "name": "stdout",
     "output_type": "stream",
     "text": [
      "time : 0.66, train_loss : 0.71, train_acc : 74.36,val_acc : 48.04,val_loss : 1.60\n"
     ]
    },
    {
     "name": "stderr",
     "output_type": "stream",
     "text": [
      "100%|██████████| 15/15 [00:00<00:00, 27.70it/s]\n",
      "100%|██████████| 2/2 [00:00<00:00, 13.29it/s]\n",
      " 13%|█▎        | 2/15 [00:00<00:00, 16.39it/s]"
     ]
    },
    {
     "name": "stdout",
     "output_type": "stream",
     "text": [
      "time : 0.70, train_loss : 0.72, train_acc : 74.43,val_acc : 50.63,val_loss : 1.55\n"
     ]
    },
    {
     "name": "stderr",
     "output_type": "stream",
     "text": [
      "100%|██████████| 15/15 [00:00<00:00, 25.52it/s]\n",
      "100%|██████████| 2/2 [00:00<00:00, 21.28it/s]\n",
      " 20%|██        | 3/15 [00:00<00:00, 26.76it/s]"
     ]
    },
    {
     "name": "stdout",
     "output_type": "stream",
     "text": [
      "time : 0.69, train_loss : 0.70, train_acc : 74.47,val_acc : 48.98,val_loss : 1.60\n"
     ]
    },
    {
     "name": "stderr",
     "output_type": "stream",
     "text": [
      "100%|██████████| 15/15 [00:00<00:00, 27.62it/s]\n",
      "100%|██████████| 2/2 [00:00<00:00, 20.39it/s]\n",
      " 20%|██        | 3/15 [00:00<00:00, 26.22it/s]"
     ]
    },
    {
     "name": "stdout",
     "output_type": "stream",
     "text": [
      "time : 0.65, train_loss : 0.71, train_acc : 74.48,val_acc : 49.74,val_loss : 1.56\n"
     ]
    },
    {
     "name": "stderr",
     "output_type": "stream",
     "text": [
      "100%|██████████| 15/15 [00:00<00:00, 27.34it/s]\n",
      "100%|██████████| 2/2 [00:00<00:00, 18.89it/s]\n",
      " 20%|██        | 3/15 [00:00<00:00, 26.04it/s]"
     ]
    },
    {
     "name": "stdout",
     "output_type": "stream",
     "text": [
      "time : 0.66, train_loss : 0.67, train_acc : 75.96,val_acc : 50.93,val_loss : 1.55\n"
     ]
    },
    {
     "name": "stderr",
     "output_type": "stream",
     "text": [
      "100%|██████████| 15/15 [00:00<00:00, 27.36it/s]\n",
      "100%|██████████| 2/2 [00:00<00:00, 19.81it/s]\n",
      " 20%|██        | 3/15 [00:00<00:00, 27.19it/s]"
     ]
    },
    {
     "name": "stdout",
     "output_type": "stream",
     "text": [
      "time : 0.65, train_loss : 0.63, train_acc : 77.93,val_acc : 52.13,val_loss : 1.58\n"
     ]
    },
    {
     "name": "stderr",
     "output_type": "stream",
     "text": [
      "100%|██████████| 15/15 [00:00<00:00, 27.63it/s]\n",
      "100%|██████████| 2/2 [00:00<00:00, 20.94it/s]\n",
      " 20%|██        | 3/15 [00:00<00:00, 27.03it/s]"
     ]
    },
    {
     "name": "stdout",
     "output_type": "stream",
     "text": [
      "time : 0.64, train_loss : 0.64, train_acc : 77.38,val_acc : 49.90,val_loss : 1.65\n"
     ]
    },
    {
     "name": "stderr",
     "output_type": "stream",
     "text": [
      "100%|██████████| 15/15 [00:00<00:00, 27.58it/s]\n",
      "100%|██████████| 2/2 [00:00<00:00, 20.75it/s]\n",
      " 20%|██        | 3/15 [00:00<00:00, 26.07it/s]"
     ]
    },
    {
     "name": "stdout",
     "output_type": "stream",
     "text": [
      "time : 0.65, train_loss : 0.64, train_acc : 77.02,val_acc : 49.48,val_loss : 1.63\n"
     ]
    },
    {
     "name": "stderr",
     "output_type": "stream",
     "text": [
      "100%|██████████| 15/15 [00:00<00:00, 26.93it/s]\n",
      "100%|██████████| 2/2 [00:00<00:00, 19.36it/s]\n",
      " 13%|█▎        | 2/15 [00:00<00:00, 17.20it/s]"
     ]
    },
    {
     "name": "stdout",
     "output_type": "stream",
     "text": [
      "time : 0.66, train_loss : 0.64, train_acc : 76.98,val_acc : 50.52,val_loss : 1.62\n"
     ]
    },
    {
     "name": "stderr",
     "output_type": "stream",
     "text": [
      "100%|██████████| 15/15 [00:00<00:00, 25.63it/s]\n",
      "100%|██████████| 2/2 [00:00<00:00, 20.48it/s]\n",
      " 20%|██        | 3/15 [00:00<00:00, 25.57it/s]"
     ]
    },
    {
     "name": "stdout",
     "output_type": "stream",
     "text": [
      "time : 0.69, train_loss : 0.60, train_acc : 78.03,val_acc : 50.24,val_loss : 1.68\n"
     ]
    },
    {
     "name": "stderr",
     "output_type": "stream",
     "text": [
      "100%|██████████| 15/15 [00:00<00:00, 27.15it/s]\n",
      "100%|██████████| 2/2 [00:00<00:00, 19.86it/s]\n",
      " 20%|██        | 3/15 [00:00<00:00, 25.94it/s]"
     ]
    },
    {
     "name": "stdout",
     "output_type": "stream",
     "text": [
      "time : 0.66, train_loss : 0.60, train_acc : 78.72,val_acc : 49.93,val_loss : 1.65\n"
     ]
    },
    {
     "name": "stderr",
     "output_type": "stream",
     "text": [
      "100%|██████████| 15/15 [00:00<00:00, 27.26it/s]\n",
      "100%|██████████| 2/2 [00:00<00:00, 18.98it/s]\n",
      " 20%|██        | 3/15 [00:00<00:00, 25.73it/s]"
     ]
    },
    {
     "name": "stdout",
     "output_type": "stream",
     "text": [
      "time : 0.66, train_loss : 0.58, train_acc : 79.48,val_acc : 51.96,val_loss : 1.63\n"
     ]
    },
    {
     "name": "stderr",
     "output_type": "stream",
     "text": [
      "100%|██████████| 15/15 [00:00<00:00, 27.38it/s]\n",
      "100%|██████████| 2/2 [00:00<00:00, 20.13it/s]\n",
      " 20%|██        | 3/15 [00:00<00:00, 26.60it/s]"
     ]
    },
    {
     "name": "stdout",
     "output_type": "stream",
     "text": [
      "time : 0.65, train_loss : 0.60, train_acc : 79.27,val_acc : 50.82,val_loss : 1.68\n"
     ]
    },
    {
     "name": "stderr",
     "output_type": "stream",
     "text": [
      "100%|██████████| 15/15 [00:00<00:00, 27.91it/s]\n",
      "100%|██████████| 2/2 [00:00<00:00, 18.98it/s]\n",
      " 20%|██        | 3/15 [00:00<00:00, 26.30it/s]"
     ]
    },
    {
     "name": "stdout",
     "output_type": "stream",
     "text": [
      "time : 0.65, train_loss : 0.60, train_acc : 78.63,val_acc : 49.35,val_loss : 1.76\n"
     ]
    },
    {
     "name": "stderr",
     "output_type": "stream",
     "text": [
      "100%|██████████| 15/15 [00:00<00:00, 27.44it/s]\n",
      "100%|██████████| 2/2 [00:00<00:00, 18.24it/s]\n",
      " 20%|██        | 3/15 [00:00<00:00, 25.88it/s]"
     ]
    },
    {
     "name": "stdout",
     "output_type": "stream",
     "text": [
      "time : 0.66, train_loss : 0.56, train_acc : 79.75,val_acc : 50.46,val_loss : 1.72\n"
     ]
    },
    {
     "name": "stderr",
     "output_type": "stream",
     "text": [
      "100%|██████████| 15/15 [00:00<00:00, 27.33it/s]\n",
      "100%|██████████| 2/2 [00:00<00:00, 19.95it/s]\n",
      " 20%|██        | 3/15 [00:00<00:00, 25.67it/s]"
     ]
    },
    {
     "name": "stdout",
     "output_type": "stream",
     "text": [
      "time : 0.65, train_loss : 0.53, train_acc : 80.74,val_acc : 50.40,val_loss : 1.69\n"
     ]
    },
    {
     "name": "stderr",
     "output_type": "stream",
     "text": [
      "100%|██████████| 15/15 [00:00<00:00, 27.27it/s]\n",
      "100%|██████████| 2/2 [00:00<00:00, 17.45it/s]\n",
      " 13%|█▎        | 2/15 [00:00<00:00, 16.51it/s]"
     ]
    },
    {
     "name": "stdout",
     "output_type": "stream",
     "text": [
      "time : 0.67, train_loss : 0.50, train_acc : 82.44,val_acc : 49.60,val_loss : 1.78\n"
     ]
    },
    {
     "name": "stderr",
     "output_type": "stream",
     "text": [
      "100%|██████████| 15/15 [00:00<00:00, 25.51it/s]\n",
      "100%|██████████| 2/2 [00:00<00:00, 20.10it/s]\n",
      " 20%|██        | 3/15 [00:00<00:00, 26.43it/s]"
     ]
    },
    {
     "name": "stdout",
     "output_type": "stream",
     "text": [
      "time : 0.69, train_loss : 0.52, train_acc : 81.66,val_acc : 48.45,val_loss : 1.86\n"
     ]
    },
    {
     "name": "stderr",
     "output_type": "stream",
     "text": [
      "100%|██████████| 15/15 [00:00<00:00, 27.96it/s]\n",
      "100%|██████████| 2/2 [00:00<00:00, 19.68it/s]\n",
      " 20%|██        | 3/15 [00:00<00:00, 26.36it/s]"
     ]
    },
    {
     "name": "stdout",
     "output_type": "stream",
     "text": [
      "time : 0.64, train_loss : 0.53, train_acc : 80.69,val_acc : 50.77,val_loss : 1.74\n"
     ]
    },
    {
     "name": "stderr",
     "output_type": "stream",
     "text": [
      "100%|██████████| 15/15 [00:00<00:00, 27.93it/s]\n",
      "100%|██████████| 2/2 [00:00<00:00, 18.82it/s]\n",
      " 20%|██        | 3/15 [00:00<00:00, 26.42it/s]"
     ]
    },
    {
     "name": "stdout",
     "output_type": "stream",
     "text": [
      "time : 0.65, train_loss : 0.50, train_acc : 81.78,val_acc : 50.54,val_loss : 1.78\n"
     ]
    },
    {
     "name": "stderr",
     "output_type": "stream",
     "text": [
      "100%|██████████| 15/15 [00:00<00:00, 27.44it/s]\n",
      "100%|██████████| 2/2 [00:00<00:00, 20.35it/s]\n",
      " 20%|██        | 3/15 [00:00<00:00, 25.59it/s]"
     ]
    },
    {
     "name": "stdout",
     "output_type": "stream",
     "text": [
      "time : 0.65, train_loss : 0.48, train_acc : 83.51,val_acc : 50.57,val_loss : 1.83\n"
     ]
    },
    {
     "name": "stderr",
     "output_type": "stream",
     "text": [
      "100%|██████████| 15/15 [00:00<00:00, 27.66it/s]\n",
      "100%|██████████| 2/2 [00:00<00:00, 15.58it/s]\n",
      " 20%|██        | 3/15 [00:00<00:00, 26.09it/s]"
     ]
    },
    {
     "name": "stdout",
     "output_type": "stream",
     "text": [
      "time : 0.68, train_loss : 0.48, train_acc : 83.38,val_acc : 48.62,val_loss : 1.92\n"
     ]
    },
    {
     "name": "stderr",
     "output_type": "stream",
     "text": [
      "100%|██████████| 15/15 [00:00<00:00, 27.87it/s]\n",
      "100%|██████████| 2/2 [00:00<00:00, 21.19it/s]\n",
      " 13%|█▎        | 2/15 [00:00<00:00, 17.41it/s]"
     ]
    },
    {
     "name": "stdout",
     "output_type": "stream",
     "text": [
      "time : 0.64, train_loss : 0.49, train_acc : 83.02,val_acc : 50.04,val_loss : 1.87\n"
     ]
    },
    {
     "name": "stderr",
     "output_type": "stream",
     "text": [
      "100%|██████████| 15/15 [00:00<00:00, 26.24it/s]\n",
      "100%|██████████| 2/2 [00:00<00:00, 19.28it/s]\n",
      " 20%|██        | 3/15 [00:00<00:00, 26.71it/s]"
     ]
    },
    {
     "name": "stdout",
     "output_type": "stream",
     "text": [
      "time : 0.68, train_loss : 0.45, train_acc : 83.33,val_acc : 50.71,val_loss : 1.84\n"
     ]
    },
    {
     "name": "stderr",
     "output_type": "stream",
     "text": [
      "100%|██████████| 15/15 [00:00<00:00, 27.82it/s]\n",
      "100%|██████████| 2/2 [00:00<00:00, 20.49it/s]\n",
      " 20%|██        | 3/15 [00:00<00:00, 25.94it/s]"
     ]
    },
    {
     "name": "stdout",
     "output_type": "stream",
     "text": [
      "time : 0.64, train_loss : 0.43, train_acc : 86.10,val_acc : 50.32,val_loss : 1.93\n"
     ]
    },
    {
     "name": "stderr",
     "output_type": "stream",
     "text": [
      "100%|██████████| 15/15 [00:00<00:00, 27.78it/s]\n",
      "100%|██████████| 2/2 [00:00<00:00, 20.77it/s]\n",
      " 20%|██        | 3/15 [00:00<00:00, 26.26it/s]"
     ]
    },
    {
     "name": "stdout",
     "output_type": "stream",
     "text": [
      "time : 0.64, train_loss : 0.43, train_acc : 85.51,val_acc : 49.96,val_loss : 1.92\n"
     ]
    },
    {
     "name": "stderr",
     "output_type": "stream",
     "text": [
      "100%|██████████| 15/15 [00:00<00:00, 27.76it/s]\n",
      "100%|██████████| 2/2 [00:00<00:00, 18.19it/s]\n",
      " 20%|██        | 3/15 [00:00<00:00, 26.29it/s]"
     ]
    },
    {
     "name": "stdout",
     "output_type": "stream",
     "text": [
      "time : 0.66, train_loss : 0.41, train_acc : 85.55,val_acc : 50.10,val_loss : 2.03\n"
     ]
    },
    {
     "name": "stderr",
     "output_type": "stream",
     "text": [
      "100%|██████████| 15/15 [00:00<00:00, 27.35it/s]\n",
      "100%|██████████| 2/2 [00:00<00:00, 19.98it/s]\n",
      " 20%|██        | 3/15 [00:00<00:00, 25.90it/s]"
     ]
    },
    {
     "name": "stdout",
     "output_type": "stream",
     "text": [
      "time : 0.65, train_loss : 0.40, train_acc : 86.05,val_acc : 50.04,val_loss : 1.93\n"
     ]
    },
    {
     "name": "stderr",
     "output_type": "stream",
     "text": [
      "100%|██████████| 15/15 [00:00<00:00, 27.68it/s]\n",
      "100%|██████████| 2/2 [00:00<00:00, 19.48it/s]\n",
      " 13%|█▎        | 2/15 [00:00<00:00, 17.14it/s]"
     ]
    },
    {
     "name": "stdout",
     "output_type": "stream",
     "text": [
      "time : 0.65, train_loss : 0.37, train_acc : 88.15,val_acc : 50.77,val_loss : 2.02\n"
     ]
    },
    {
     "name": "stderr",
     "output_type": "stream",
     "text": [
      "100%|██████████| 15/15 [00:00<00:00, 25.69it/s]\n",
      "100%|██████████| 2/2 [00:00<00:00, 18.18it/s]\n",
      " 20%|██        | 3/15 [00:00<00:00, 26.57it/s]"
     ]
    },
    {
     "name": "stdout",
     "output_type": "stream",
     "text": [
      "time : 0.70, train_loss : 0.39, train_acc : 86.24,val_acc : 49.93,val_loss : 2.03\n"
     ]
    },
    {
     "name": "stderr",
     "output_type": "stream",
     "text": [
      "100%|██████████| 15/15 [00:00<00:00, 27.84it/s]\n",
      "100%|██████████| 2/2 [00:00<00:00, 15.55it/s]\n",
      " 20%|██        | 3/15 [00:00<00:00, 26.82it/s]"
     ]
    },
    {
     "name": "stdout",
     "output_type": "stream",
     "text": [
      "time : 0.67, train_loss : 0.39, train_acc : 87.43,val_acc : 48.40,val_loss : 2.15\n"
     ]
    },
    {
     "name": "stderr",
     "output_type": "stream",
     "text": [
      "100%|██████████| 15/15 [00:00<00:00, 27.84it/s]\n",
      "100%|██████████| 2/2 [00:00<00:00, 18.68it/s]\n",
      " 20%|██        | 3/15 [00:00<00:00, 26.47it/s]"
     ]
    },
    {
     "name": "stdout",
     "output_type": "stream",
     "text": [
      "time : 0.65, train_loss : 0.41, train_acc : 85.34,val_acc : 49.51,val_loss : 2.00\n"
     ]
    },
    {
     "name": "stderr",
     "output_type": "stream",
     "text": [
      "100%|██████████| 15/15 [00:00<00:00, 27.83it/s]\n",
      "100%|██████████| 2/2 [00:00<00:00, 19.99it/s]\n",
      " 20%|██        | 3/15 [00:00<00:00, 26.60it/s]"
     ]
    },
    {
     "name": "stdout",
     "output_type": "stream",
     "text": [
      "time : 0.64, train_loss : 0.38, train_acc : 86.56,val_acc : 49.74,val_loss : 2.05\n"
     ]
    },
    {
     "name": "stderr",
     "output_type": "stream",
     "text": [
      "100%|██████████| 15/15 [00:00<00:00, 27.79it/s]\n",
      "100%|██████████| 2/2 [00:00<00:00, 20.82it/s]\n",
      " 20%|██        | 3/15 [00:00<00:00, 26.48it/s]"
     ]
    },
    {
     "name": "stdout",
     "output_type": "stream",
     "text": [
      "time : 0.64, train_loss : 0.34, train_acc : 89.06,val_acc : 50.32,val_loss : 2.09\n"
     ]
    },
    {
     "name": "stderr",
     "output_type": "stream",
     "text": [
      "100%|██████████| 15/15 [00:00<00:00, 27.79it/s]\n",
      "100%|██████████| 2/2 [00:00<00:00, 20.57it/s]\n",
      " 20%|██        | 3/15 [00:00<00:00, 20.10it/s]"
     ]
    },
    {
     "name": "stdout",
     "output_type": "stream",
     "text": [
      "time : 0.64, train_loss : 0.31, train_acc : 89.71,val_acc : 49.12,val_loss : 2.13\n"
     ]
    },
    {
     "name": "stderr",
     "output_type": "stream",
     "text": [
      "100%|██████████| 15/15 [00:00<00:00, 27.79it/s]\n",
      "100%|██████████| 2/2 [00:00<00:00, 13.45it/s]\n",
      " 13%|█▎        | 2/15 [00:00<00:00, 17.25it/s]"
     ]
    },
    {
     "name": "stdout",
     "output_type": "stream",
     "text": [
      "time : 0.69, train_loss : 0.30, train_acc : 90.42,val_acc : 49.48,val_loss : 2.20\n"
     ]
    },
    {
     "name": "stderr",
     "output_type": "stream",
     "text": [
      "100%|██████████| 15/15 [00:00<00:00, 25.60it/s]\n",
      "100%|██████████| 2/2 [00:00<00:00, 20.19it/s]\n",
      " 20%|██        | 3/15 [00:00<00:00, 24.84it/s]"
     ]
    },
    {
     "name": "stdout",
     "output_type": "stream",
     "text": [
      "time : 0.69, train_loss : 0.31, train_acc : 89.52,val_acc : 50.10,val_loss : 2.22\n"
     ]
    },
    {
     "name": "stderr",
     "output_type": "stream",
     "text": [
      "100%|██████████| 15/15 [00:00<00:00, 27.22it/s]\n",
      "100%|██████████| 2/2 [00:00<00:00, 19.80it/s]\n",
      " 20%|██        | 3/15 [00:00<00:00, 25.73it/s]"
     ]
    },
    {
     "name": "stdout",
     "output_type": "stream",
     "text": [
      "time : 0.66, train_loss : 0.29, train_acc : 90.29,val_acc : 49.68,val_loss : 2.24\n"
     ]
    },
    {
     "name": "stderr",
     "output_type": "stream",
     "text": [
      "100%|██████████| 15/15 [00:00<00:00, 27.65it/s]\n",
      "100%|██████████| 2/2 [00:00<00:00, 19.11it/s]\n",
      " 20%|██        | 3/15 [00:00<00:00, 26.41it/s]"
     ]
    },
    {
     "name": "stdout",
     "output_type": "stream",
     "text": [
      "time : 0.65, train_loss : 0.28, train_acc : 91.20,val_acc : 50.18,val_loss : 2.19\n"
     ]
    },
    {
     "name": "stderr",
     "output_type": "stream",
     "text": [
      "100%|██████████| 15/15 [00:00<00:00, 27.81it/s]\n",
      "100%|██████████| 2/2 [00:00<00:00, 17.99it/s]\n",
      " 20%|██        | 3/15 [00:00<00:00, 26.63it/s]"
     ]
    },
    {
     "name": "stdout",
     "output_type": "stream",
     "text": [
      "time : 0.66, train_loss : 0.26, train_acc : 91.91,val_acc : 51.18,val_loss : 2.29\n"
     ]
    },
    {
     "name": "stderr",
     "output_type": "stream",
     "text": [
      "100%|██████████| 15/15 [00:00<00:00, 27.92it/s]\n",
      "100%|██████████| 2/2 [00:00<00:00, 18.95it/s]\n",
      " 20%|██        | 3/15 [00:00<00:00, 26.44it/s]"
     ]
    },
    {
     "name": "stdout",
     "output_type": "stream",
     "text": [
      "time : 0.65, train_loss : 0.29, train_acc : 91.24,val_acc : 49.99,val_loss : 2.41\n"
     ]
    },
    {
     "name": "stderr",
     "output_type": "stream",
     "text": [
      "100%|██████████| 15/15 [00:00<00:00, 27.84it/s]\n",
      "100%|██████████| 2/2 [00:00<00:00, 18.68it/s]\n",
      " 20%|██        | 3/15 [00:00<00:00, 26.15it/s]"
     ]
    },
    {
     "name": "stdout",
     "output_type": "stream",
     "text": [
      "time : 0.65, train_loss : 0.31, train_acc : 88.89,val_acc : 49.48,val_loss : 2.34\n"
     ]
    },
    {
     "name": "stderr",
     "output_type": "stream",
     "text": [
      "100%|██████████| 15/15 [00:00<00:00, 27.76it/s]\n",
      "100%|██████████| 2/2 [00:00<00:00, 19.61it/s]\n",
      " 13%|█▎        | 2/15 [00:00<00:00, 17.52it/s]"
     ]
    },
    {
     "name": "stdout",
     "output_type": "stream",
     "text": [
      "time : 0.65, train_loss : 0.30, train_acc : 90.17,val_acc : 47.92,val_loss : 2.46\n"
     ]
    },
    {
     "name": "stderr",
     "output_type": "stream",
     "text": [
      "100%|██████████| 15/15 [00:00<00:00, 26.24it/s]\n",
      "100%|██████████| 2/2 [00:00<00:00, 20.54it/s]\n",
      " 20%|██        | 3/15 [00:00<00:00, 27.22it/s]"
     ]
    },
    {
     "name": "stdout",
     "output_type": "stream",
     "text": [
      "time : 0.67, train_loss : 0.33, train_acc : 87.63,val_acc : 49.07,val_loss : 2.32\n"
     ]
    },
    {
     "name": "stderr",
     "output_type": "stream",
     "text": [
      "100%|██████████| 15/15 [00:00<00:00, 27.95it/s]\n",
      "100%|██████████| 2/2 [00:00<00:00, 20.88it/s]\n",
      "  0%|          | 0/2 [00:00<?, ?it/s]"
     ]
    },
    {
     "name": "stdout",
     "output_type": "stream",
     "text": [
      "time : 0.64, train_loss : 0.29, train_acc : 89.96,val_acc : 48.96,val_loss : 2.39\n"
     ]
    },
    {
     "name": "stderr",
     "output_type": "stream",
     "text": [
      "100%|██████████| 2/2 [00:00<00:00, 19.49it/s]\n"
     ]
    }
   ],
   "source": [
    "seed = 123\n",
    "np.random.seed(seed)\n",
    "torch.manual_seed(seed)\n",
    "net=CNN()\n",
    "net.cuda()\n",
    "criterion=nn.CrossEntropyLoss()\n",
    "optimizer = optim.Adam(net.parameters(), lr=0.0015, weight_decay=0.00001)\n",
    "train_losses=[]\n",
    "val_losses=[]\n",
    "train_accs=[]\n",
    "val_accs=[]\n",
    "for epoch in range(100):\n",
    "    ts=time.time()\n",
    "    net, train_loss,train_acc=train(net, partition, optimizer, criterion)\n",
    "    val_loss, val_acc = validate(net, partition, criterion)\n",
    "    te=time.time()\n",
    "    print('time : {:2.2f}, train_loss : {:2.2f}, train_acc : {:2.2f},val_acc : {:2.2f},val_loss : {:2.2f}'.format(te-ts,train_loss,train_acc,val_acc,val_loss))\n",
    "    train_loss=round(train_loss,2)\n",
    "    val_loss=round(val_loss,2)\n",
    "    train_acc=round(train_acc,2)\n",
    "    val_acc=round(val_acc,2)\n",
    "    train_losses.append(train_loss)\n",
    "    val_losses.append(val_loss)\n",
    "    train_accs.append(train_acc)\n",
    "    val_accs.append(val_acc)\n",
    "test_acc = test(net,partition)\n",
    "test_acc=round(test_acc,2)"
   ]
  },
  {
   "cell_type": "code",
   "execution_count": 23,
   "id": "unusual-tyler",
   "metadata": {},
   "outputs": [],
   "source": [
    "np.save(\"/home/lab/양창희/Emotion Project/fer2013/result_CNN_pytorch/Basic_train_loss.npy\",train_loss)\n",
    "np.save(\"/home/lab/양창희/Emotion Project/fer2013/result_CNN_pytorch/Basic_val_loss.npy\",val_loss)\n",
    "np.save(\"/home/lab/양창희/Emotion Project/fer2013/result_CNN_pytorch/Basic_train_acc.npy\",train_acc)\n",
    "np.save(\"/home/lab/양창희/Emotion Project/fer2013/result_CNN_pytorch/Basic_val_acc.npy\",val_acc)"
   ]
  },
  {
   "cell_type": "code",
   "execution_count": null,
   "id": "polyphonic-sixth",
   "metadata": {},
   "outputs": [],
   "source": []
  }
 ],
 "metadata": {
  "kernelspec": {
   "display_name": "Python 3",
   "language": "python",
   "name": "python3"
  },
  "language_info": {
   "codemirror_mode": {
    "name": "ipython",
    "version": 3
   },
   "file_extension": ".py",
   "mimetype": "text/x-python",
   "name": "python",
   "nbconvert_exporter": "python",
   "pygments_lexer": "ipython3",
   "version": "3.6.12"
  }
 },
 "nbformat": 4,
 "nbformat_minor": 5
}
