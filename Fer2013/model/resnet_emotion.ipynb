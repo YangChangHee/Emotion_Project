{
 "cells": [
  {
   "cell_type": "code",
   "execution_count": 1,
   "id": "minute-precipitation",
   "metadata": {},
   "outputs": [],
   "source": [
    "import matplotlib.pyplot as plt\n",
    "import numpy as np\n",
    "import random\n",
    "import torch\n",
    "import torchvision\n",
    "import torchvision.transforms as transforms\n",
    "import torch.nn as nn\n",
    "import torch.nn.functional as F\n",
    "import torch.optim as optim\n",
    "import argparse\n",
    "import numpy as np\n",
    "import time\n",
    "from copy import deepcopy\n",
    "import seaborn as sns \n",
    "import matplotlib.pyplot as plt"
   ]
  },
  {
   "cell_type": "code",
   "execution_count": 2,
   "id": "secret-vatican",
   "metadata": {},
   "outputs": [],
   "source": [
    "import numpy as np\n",
    "private_labels=np.load(\"Nohot_private_label.npy\")\n",
    "private_pixels=np.load(\"private_pixels.npy\")\n",
    "public_labels=np.load(\"Nohot_public_label.npy\")\n",
    "public_pixels=np.load(\"public_pixels.npy\")\n",
    "train_labels=np.load(\"Nohot_train_label.npy\")\n",
    "train_pixels=np.load(\"train_pixels.npy\")"
   ]
  },
  {
   "cell_type": "code",
   "execution_count": 3,
   "id": "above-absence",
   "metadata": {},
   "outputs": [],
   "source": [
    "X_train , y_train = train_pixels,train_labels\n",
    "X_valid , y_valid = public_pixels,public_labels\n",
    "X_test , y_test = private_pixels,private_labels"
   ]
  },
  {
   "cell_type": "code",
   "execution_count": 4,
   "id": "broad-airfare",
   "metadata": {},
   "outputs": [],
   "source": [
    "mean_vals = np.mean(X_train, axis=0)\n",
    "std_val = np.std(X_train)\n",
    "\n",
    "X_train_centered = (X_train - mean_vals)/std_val\n",
    "X_valid_centered = (X_valid - mean_vals)/std_val\n",
    "X_test_centered = (X_test - mean_vals)/std_val"
   ]
  },
  {
   "cell_type": "code",
   "execution_count": 5,
   "id": "seeing-content",
   "metadata": {},
   "outputs": [],
   "source": [
    "import torch\n",
    "import torch.nn\n",
    "input_data=torch.FloatTensor(X_train_centered)\n",
    "label=torch.LongTensor(y_train)"
   ]
  },
  {
   "cell_type": "code",
   "execution_count": 6,
   "id": "eleven-dining",
   "metadata": {},
   "outputs": [],
   "source": [
    "input_data1=torch.FloatTensor(X_valid_centered)\n",
    "label1=torch.LongTensor(y_valid)"
   ]
  },
  {
   "cell_type": "code",
   "execution_count": 7,
   "id": "historical-jason",
   "metadata": {},
   "outputs": [],
   "source": [
    "input_data2=torch.FloatTensor(X_test_centered)\n",
    "label2=torch.LongTensor(y_test)"
   ]
  },
  {
   "cell_type": "code",
   "execution_count": 8,
   "id": "federal-birmingham",
   "metadata": {},
   "outputs": [],
   "source": [
    "input_data=input_data.transpose(1,3)\n",
    "input_data1=input_data1.transpose(1,3)\n",
    "input_data2=input_data2.transpose(1,3)"
   ]
  },
  {
   "cell_type": "code",
   "execution_count": 9,
   "id": "distinct-longer",
   "metadata": {},
   "outputs": [],
   "source": [
    "from torch.utils.data import TensorDataset\n",
    "from torch.utils.data import DataLoader\n",
    "trainset = TensorDataset(input_data,label)\n",
    "valset = TensorDataset(input_data1,label1)\n",
    "testset = TensorDataset(input_data2,label2)"
   ]
  },
  {
   "cell_type": "code",
   "execution_count": 10,
   "id": "southeast-oxford",
   "metadata": {},
   "outputs": [],
   "source": [
    "partition={'train':trainset,'val':valset,'test':testset}"
   ]
  },
  {
   "cell_type": "code",
   "execution_count": 11,
   "id": "champion-greeting",
   "metadata": {},
   "outputs": [],
   "source": [
    "import torch\n",
    "import torch.nn as nn"
   ]
  },
  {
   "cell_type": "code",
   "execution_count": 12,
   "id": "colonial-chemistry",
   "metadata": {},
   "outputs": [],
   "source": [
    "class BottleNeck(nn.Module):\n",
    "    expansion = 4\n",
    "    def __init__(self, in_channels, out_channels, stride=1):\n",
    "        super().__init__()\n",
    "        self.residual_function = nn.Sequential(\n",
    "        nn.Conv2d(in_channels, out_channels, kernel_size=1, bias=False),\n",
    "        nn.BatchNorm2d(out_channels),\n",
    "        nn.ReLU(inplace=True),\n",
    "        nn.Conv2d(out_channels, out_channels, stride=stride, kernel_size=3, padding=1, bias=False),\n",
    "        nn.BatchNorm2d(out_channels),\n",
    "        nn.ReLU(inplace=True),\n",
    "        nn.Conv2d(out_channels, out_channels * BottleNeck.expansion, kernel_size=1, bias=False),\n",
    "        nn.BatchNorm2d(out_channels * BottleNeck.expansion),\n",
    "        )\n",
    "        \n",
    "        self.shortcut = nn.Sequential()\n",
    "        \n",
    "        if stride != 1 or in_channels != out_channels * BottleNeck.expansion:\n",
    "            self.shortcut = nn.Sequential(\n",
    "                nn.Conv2d(in_channels, out_channels * BottleNeck.expansion, stride=stride, kernel_size=1, bias=False),\n",
    "                nn.BatchNorm2d(out_channels * BottleNeck.expansion))\n",
    "    def forward(self, x):\n",
    "        return nn.ReLU(inplace=True)(self.residual_function(x) + self.shortcut(x))\n",
    "            "
   ]
  },
  {
   "cell_type": "code",
   "execution_count": 13,
   "id": "transparent-cycling",
   "metadata": {},
   "outputs": [],
   "source": [
    "class ResNet(nn.Module):\n",
    "    \n",
    "    def __init__(self, block, num_block, num_classes=7):\n",
    "        super().__init__()\n",
    "        self.in_channels = 64\n",
    "        self.conv1 = nn.Sequential(\n",
    "            nn.Conv2d(1, 64, kernel_size=3, padding=1, bias=False),\n",
    "            nn.BatchNorm2d(64),\n",
    "            nn.ReLU(inplace=True))\n",
    "        self.conv2_x = self._make_layer(block, 64, num_block[0], 1)\n",
    "        self.conv3_x = self._make_layer(block, 128, num_block[1], 2)\n",
    "        self.conv4_x = self._make_layer(block, 256, num_block[2], 2)\n",
    "        self.conv5_x = self._make_layer(block, 512, num_block[3], 2)\n",
    "        self.avg_pool = nn.AdaptiveAvgPool2d((1, 1))\n",
    "        self.fc = nn.Linear(512 * block.expansion, num_classes)\n",
    "\n",
    "    def _make_layer(self, block, out_channels, num_blocks, stride):\n",
    "        strides = [stride] + [1] * (num_blocks - 1)\n",
    "        layers = []\n",
    "        for stride in strides:\n",
    "            layers.append(block(self.in_channels, out_channels, stride))\n",
    "            self.in_channels = out_channels * block.expansion\n",
    "        return nn.Sequential(*layers)\n",
    "\n",
    "    def forward(self, x):\n",
    "        output = self.conv1(x)\n",
    "        output = self.conv2_x(output)\n",
    "        output = self.conv3_x(output)\n",
    "        output = self.conv4_x(output)\n",
    "        output = self.conv5_x(output)\n",
    "        output = self.avg_pool(output)\n",
    "        output = output.view(output.size(0), -1)\n",
    "        output = self.fc(output) # => 이미지 크기가 \n",
    "                                 #바뀌면 이 줄 코드를 # 하고 dimension 확인\n",
    "\n",
    "        return output"
   ]
  },
  {
   "cell_type": "code",
   "execution_count": 14,
   "id": "exposed-mount",
   "metadata": {},
   "outputs": [],
   "source": [
    "def resnet152():\n",
    "    return ResNet(BottleNeck, [3, 8, 36, 3])"
   ]
  },
  {
   "cell_type": "code",
   "execution_count": 15,
   "id": "cultural-mounting",
   "metadata": {},
   "outputs": [],
   "source": [
    "def  ResNet50() :\n",
    "     return ResNet(BottleNeck,[ 3 , 4 , 6 , 3 ])"
   ]
  },
  {
   "cell_type": "code",
   "execution_count": 16,
   "id": "casual-nation",
   "metadata": {},
   "outputs": [],
   "source": [
    "def dimension_check():\n",
    "    net=ResNet50()\n",
    "    x= torch.randn(1,1,48,48) # 28 이미지\n",
    "    y=net(x)\n",
    "    print(y.size())"
   ]
  },
  {
   "cell_type": "code",
   "execution_count": 17,
   "id": "amazing-aberdeen",
   "metadata": {},
   "outputs": [
    {
     "name": "stdout",
     "output_type": "stream",
     "text": [
      "torch.Size([1, 7])\n"
     ]
    }
   ],
   "source": [
    "dimension_check()"
   ]
  },
  {
   "cell_type": "code",
   "execution_count": 18,
   "id": "cleared-destination",
   "metadata": {},
   "outputs": [],
   "source": [
    "def train(net,partition,optimizer,criterion):\n",
    "    trainloader = torch.utils.data.DataLoader(partition['train'],\n",
    "                                             batch_size=128,\n",
    "                                             shuffle=True)\n",
    "    net.train()\n",
    "    correct = 0\n",
    "    total =0\n",
    "    train_loss = 0.0\n",
    "    for i, data in enumerate(tqdm(trainloader, 0)):\n",
    "        time.sleep(0.0000001)\n",
    "        optimizer.zero_grad()\n",
    "        inputs, labels = data\n",
    "        inputs = inputs.cuda()\n",
    "        labels = labels.cuda()\n",
    "        outputs = net(inputs)\n",
    "        #break\n",
    "        loss = criterion(outputs, labels)\n",
    "        loss.backward()\n",
    "        optimizer.step()\n",
    "        \n",
    "        train_loss += loss.item()\n",
    "        _, predicted = torch.max(outputs.data, 1)\n",
    "        total += labels.size(0)\n",
    "        correct += (predicted == labels).sum().item()\n",
    "        #if i % 200 == 0:\n",
    "        #    print(correct,train_loss)\n",
    "    train_loss = train_loss / len(trainloader)\n",
    "    train_acc = 100 * correct / total\n",
    "    return net, train_loss, train_acc"
   ]
  },
  {
   "cell_type": "code",
   "execution_count": 19,
   "id": "integral-citizenship",
   "metadata": {},
   "outputs": [],
   "source": [
    "def test(net, partition):\n",
    "    testloader = torch.utils.data.DataLoader(partition['test'], \n",
    "                                             batch_size=128, \n",
    "                                             shuffle=False, num_workers=2)\n",
    "    net.eval()\n",
    "    \n",
    "    correct = 0\n",
    "    total = 0\n",
    "    with torch.no_grad():\n",
    "        for data in tqdm(testloader):\n",
    "            time.sleep(0.0000001)\n",
    "            images, labels = data\n",
    "            images = images.cuda()\n",
    "            labels = labels.cuda()\n",
    "\n",
    "            outputs = net(images)\n",
    "            _, predicted = torch.max(outputs.data, 1)\n",
    "            total += labels.size(0)\n",
    "            correct += (predicted == labels).sum().item()\n",
    "\n",
    "        test_acc = 100 * correct / total\n",
    "    return test_acc"
   ]
  },
  {
   "cell_type": "code",
   "execution_count": 20,
   "id": "wicked-canon",
   "metadata": {},
   "outputs": [],
   "source": [
    "def validate(net, partition, criterion):\n",
    "    valloader = torch.utils.data.DataLoader(partition['val'], \n",
    "                                            batch_size=128, \n",
    "                                            shuffle=False, num_workers=2)\n",
    "    net.eval()\n",
    "\n",
    "    correct = 0\n",
    "    total = 0\n",
    "    val_loss = 0 \n",
    "    with torch.no_grad():\n",
    "        for data in tqdm(valloader):\n",
    "            time.sleep(0.0000001)\n",
    "            images, labels = data\n",
    "            images = images.cuda()\n",
    "            labels = labels.cuda()\n",
    "            outputs = net(images)\n",
    "\n",
    "            loss = criterion(outputs, labels)\n",
    "            \n",
    "            val_loss += loss.item()\n",
    "            _, predicted = torch.max(outputs.data, 1)\n",
    "            total += labels.size(0)\n",
    "            correct += (predicted == labels).sum().item()\n",
    "\n",
    "        val_loss = val_loss / len(valloader)\n",
    "        val_acc = 100 * correct / total\n",
    "    return val_loss, val_acc"
   ]
  },
  {
   "cell_type": "code",
   "execution_count": 21,
   "id": "southeast-dancing",
   "metadata": {},
   "outputs": [],
   "source": [
    "from tqdm import tqdm, tqdm_notebook\n",
    "from tqdm import trange\n",
    "import time"
   ]
  },
  {
   "cell_type": "code",
   "execution_count": 22,
   "id": "detailed-reset",
   "metadata": {
    "scrolled": false
   },
   "outputs": [
    {
     "name": "stderr",
     "output_type": "stream",
     "text": [
      "100%|██████████| 225/225 [01:20<00:00,  2.79it/s]\n",
      "100%|██████████| 29/29 [00:02<00:00, 10.02it/s]\n",
      "  0%|          | 0/225 [00:00<?, ?it/s]"
     ]
    },
    {
     "name": "stdout",
     "output_type": "stream",
     "text": [
      "time : 83.55, train_loss : 1.84, train_acc : 27.13,val_acc : 27.86,val_loss : 1.74\n"
     ]
    },
    {
     "name": "stderr",
     "output_type": "stream",
     "text": [
      "100%|██████████| 225/225 [01:21<00:00,  2.75it/s]\n",
      "100%|██████████| 29/29 [00:02<00:00,  9.98it/s]\n",
      "  0%|          | 0/225 [00:00<?, ?it/s]"
     ]
    },
    {
     "name": "stdout",
     "output_type": "stream",
     "text": [
      "time : 84.84, train_loss : 1.58, train_acc : 37.87,val_acc : 41.85,val_loss : 1.64\n"
     ]
    },
    {
     "name": "stderr",
     "output_type": "stream",
     "text": [
      "100%|██████████| 225/225 [01:22<00:00,  2.73it/s]\n",
      "100%|██████████| 29/29 [00:02<00:00,  9.93it/s]\n",
      "  0%|          | 0/225 [00:00<?, ?it/s]"
     ]
    },
    {
     "name": "stdout",
     "output_type": "stream",
     "text": [
      "time : 85.46, train_loss : 1.39, train_acc : 45.96,val_acc : 40.48,val_loss : 1.59\n"
     ]
    },
    {
     "name": "stderr",
     "output_type": "stream",
     "text": [
      "100%|██████████| 225/225 [01:22<00:00,  2.71it/s]\n",
      "100%|██████████| 29/29 [00:02<00:00,  9.94it/s]\n",
      "  0%|          | 0/225 [00:00<?, ?it/s]"
     ]
    },
    {
     "name": "stdout",
     "output_type": "stream",
     "text": [
      "time : 85.84, train_loss : 1.28, train_acc : 50.18,val_acc : 28.87,val_loss : 11.63\n"
     ]
    },
    {
     "name": "stderr",
     "output_type": "stream",
     "text": [
      "100%|██████████| 225/225 [01:23<00:00,  2.71it/s]\n",
      "100%|██████████| 29/29 [00:02<00:00,  9.94it/s]\n",
      "  0%|          | 0/225 [00:00<?, ?it/s]"
     ]
    },
    {
     "name": "stdout",
     "output_type": "stream",
     "text": [
      "time : 86.05, train_loss : 1.21, train_acc : 53.50,val_acc : 53.41,val_loss : 1.22\n"
     ]
    },
    {
     "name": "stderr",
     "output_type": "stream",
     "text": [
      "100%|██████████| 225/225 [01:23<00:00,  2.70it/s]\n",
      "100%|██████████| 29/29 [00:02<00:00,  9.89it/s]\n",
      "  0%|          | 0/225 [00:00<?, ?it/s]"
     ]
    },
    {
     "name": "stdout",
     "output_type": "stream",
     "text": [
      "time : 86.13, train_loss : 1.13, train_acc : 56.70,val_acc : 53.33,val_loss : 1.25\n"
     ]
    },
    {
     "name": "stderr",
     "output_type": "stream",
     "text": [
      "100%|██████████| 225/225 [01:23<00:00,  2.70it/s]\n",
      "100%|██████████| 29/29 [00:02<00:00,  9.87it/s]\n",
      "  0%|          | 0/225 [00:00<?, ?it/s]"
     ]
    },
    {
     "name": "stdout",
     "output_type": "stream",
     "text": [
      "time : 86.16, train_loss : 1.07, train_acc : 59.44,val_acc : 55.20,val_loss : 1.18\n"
     ]
    },
    {
     "name": "stderr",
     "output_type": "stream",
     "text": [
      "100%|██████████| 225/225 [01:23<00:00,  2.70it/s]\n",
      "100%|██████████| 29/29 [00:02<00:00,  9.83it/s]\n",
      "  0%|          | 0/225 [00:00<?, ?it/s]"
     ]
    },
    {
     "name": "stdout",
     "output_type": "stream",
     "text": [
      "time : 86.18, train_loss : 1.01, train_acc : 61.76,val_acc : 53.83,val_loss : 1.23\n"
     ]
    },
    {
     "name": "stderr",
     "output_type": "stream",
     "text": [
      "100%|██████████| 225/225 [01:23<00:00,  2.70it/s]\n",
      "100%|██████████| 29/29 [00:02<00:00,  9.89it/s]\n",
      "  0%|          | 0/225 [00:00<?, ?it/s]"
     ]
    },
    {
     "name": "stdout",
     "output_type": "stream",
     "text": [
      "time : 86.18, train_loss : 0.96, train_acc : 63.83,val_acc : 53.86,val_loss : 1.23\n"
     ]
    },
    {
     "name": "stderr",
     "output_type": "stream",
     "text": [
      "100%|██████████| 225/225 [01:23<00:00,  2.70it/s]\n",
      "100%|██████████| 29/29 [00:02<00:00,  9.88it/s]\n",
      "  0%|          | 0/225 [00:00<?, ?it/s]"
     ]
    },
    {
     "name": "stdout",
     "output_type": "stream",
     "text": [
      "time : 86.25, train_loss : 0.91, train_acc : 65.91,val_acc : 56.78,val_loss : 1.16\n"
     ]
    },
    {
     "name": "stderr",
     "output_type": "stream",
     "text": [
      "100%|██████████| 225/225 [01:23<00:00,  2.70it/s]\n",
      "100%|██████████| 29/29 [00:02<00:00,  9.86it/s]\n",
      "  0%|          | 0/225 [00:00<?, ?it/s]"
     ]
    },
    {
     "name": "stdout",
     "output_type": "stream",
     "text": [
      "time : 86.27, train_loss : 0.85, train_acc : 68.07,val_acc : 56.45,val_loss : 1.28\n"
     ]
    },
    {
     "name": "stderr",
     "output_type": "stream",
     "text": [
      "100%|██████████| 225/225 [01:23<00:00,  2.70it/s]\n",
      "100%|██████████| 29/29 [00:02<00:00,  9.96it/s]\n",
      "  0%|          | 0/225 [00:00<?, ?it/s]"
     ]
    },
    {
     "name": "stdout",
     "output_type": "stream",
     "text": [
      "time : 86.22, train_loss : 0.78, train_acc : 70.76,val_acc : 55.08,val_loss : 1.36\n"
     ]
    },
    {
     "name": "stderr",
     "output_type": "stream",
     "text": [
      "100%|██████████| 225/225 [01:23<00:00,  2.70it/s]\n",
      "100%|██████████| 29/29 [00:02<00:00,  9.88it/s]\n",
      "  0%|          | 0/225 [00:00<?, ?it/s]"
     ]
    },
    {
     "name": "stdout",
     "output_type": "stream",
     "text": [
      "time : 86.23, train_loss : 0.70, train_acc : 73.91,val_acc : 55.00,val_loss : 1.37\n"
     ]
    },
    {
     "name": "stderr",
     "output_type": "stream",
     "text": [
      "100%|██████████| 225/225 [01:23<00:00,  2.70it/s]\n",
      "100%|██████████| 29/29 [00:02<00:00,  9.91it/s]\n",
      "  0%|          | 0/225 [00:00<?, ?it/s]"
     ]
    },
    {
     "name": "stdout",
     "output_type": "stream",
     "text": [
      "time : 86.22, train_loss : 0.63, train_acc : 76.76,val_acc : 54.17,val_loss : 1.37\n"
     ]
    },
    {
     "name": "stderr",
     "output_type": "stream",
     "text": [
      "100%|██████████| 225/225 [01:23<00:00,  2.70it/s]\n",
      "100%|██████████| 29/29 [00:02<00:00,  9.84it/s]\n",
      "  0%|          | 0/225 [00:00<?, ?it/s]"
     ]
    },
    {
     "name": "stdout",
     "output_type": "stream",
     "text": [
      "time : 86.25, train_loss : 0.54, train_acc : 80.23,val_acc : 56.53,val_loss : 1.38\n"
     ]
    },
    {
     "name": "stderr",
     "output_type": "stream",
     "text": [
      "100%|██████████| 225/225 [01:23<00:00,  2.70it/s]\n",
      "100%|██████████| 29/29 [00:02<00:00,  9.83it/s]\n",
      "  0%|          | 0/225 [00:00<?, ?it/s]"
     ]
    },
    {
     "name": "stdout",
     "output_type": "stream",
     "text": [
      "time : 86.27, train_loss : 0.45, train_acc : 83.32,val_acc : 55.34,val_loss : 1.52\n"
     ]
    },
    {
     "name": "stderr",
     "output_type": "stream",
     "text": [
      "100%|██████████| 225/225 [01:23<00:00,  2.70it/s]\n",
      "100%|██████████| 29/29 [00:02<00:00,  9.88it/s]\n",
      "  0%|          | 0/225 [00:00<?, ?it/s]"
     ]
    },
    {
     "name": "stdout",
     "output_type": "stream",
     "text": [
      "time : 86.24, train_loss : 0.37, train_acc : 86.66,val_acc : 55.08,val_loss : 1.75\n"
     ]
    },
    {
     "name": "stderr",
     "output_type": "stream",
     "text": [
      "100%|██████████| 225/225 [01:23<00:00,  2.70it/s]\n",
      "100%|██████████| 29/29 [00:02<00:00,  9.90it/s]\n",
      "  0%|          | 0/225 [00:00<?, ?it/s]"
     ]
    },
    {
     "name": "stdout",
     "output_type": "stream",
     "text": [
      "time : 86.22, train_loss : 0.29, train_acc : 89.44,val_acc : 57.87,val_loss : 1.68\n"
     ]
    },
    {
     "name": "stderr",
     "output_type": "stream",
     "text": [
      "100%|██████████| 225/225 [01:23<00:00,  2.70it/s]\n",
      "100%|██████████| 29/29 [00:02<00:00,  9.90it/s]\n",
      "  0%|          | 0/225 [00:00<?, ?it/s]"
     ]
    },
    {
     "name": "stdout",
     "output_type": "stream",
     "text": [
      "time : 86.23, train_loss : 0.23, train_acc : 92.11,val_acc : 54.81,val_loss : 2.30\n"
     ]
    },
    {
     "name": "stderr",
     "output_type": "stream",
     "text": [
      "100%|██████████| 225/225 [01:23<00:00,  2.70it/s]\n",
      "100%|██████████| 29/29 [00:02<00:00,  9.93it/s]\n",
      "  0%|          | 0/225 [00:00<?, ?it/s]"
     ]
    },
    {
     "name": "stdout",
     "output_type": "stream",
     "text": [
      "time : 86.20, train_loss : 0.20, train_acc : 93.01,val_acc : 54.03,val_loss : 2.26\n"
     ]
    },
    {
     "name": "stderr",
     "output_type": "stream",
     "text": [
      "100%|██████████| 225/225 [01:23<00:00,  2.70it/s]\n",
      "100%|██████████| 29/29 [00:02<00:00,  9.87it/s]\n",
      "  0%|          | 0/225 [00:00<?, ?it/s]"
     ]
    },
    {
     "name": "stdout",
     "output_type": "stream",
     "text": [
      "time : 86.21, train_loss : 0.17, train_acc : 94.27,val_acc : 51.24,val_loss : 2.74\n"
     ]
    },
    {
     "name": "stderr",
     "output_type": "stream",
     "text": [
      "100%|██████████| 225/225 [01:23<00:00,  2.70it/s]\n",
      "100%|██████████| 29/29 [00:02<00:00,  9.82it/s]\n",
      "  0%|          | 0/225 [00:00<?, ?it/s]"
     ]
    },
    {
     "name": "stdout",
     "output_type": "stream",
     "text": [
      "time : 86.21, train_loss : 0.15, train_acc : 95.17,val_acc : 57.76,val_loss : 2.11\n"
     ]
    },
    {
     "name": "stderr",
     "output_type": "stream",
     "text": [
      "100%|██████████| 225/225 [01:23<00:00,  2.70it/s]\n",
      "100%|██████████| 29/29 [00:02<00:00,  9.87it/s]\n",
      "  0%|          | 0/225 [00:00<?, ?it/s]"
     ]
    },
    {
     "name": "stdout",
     "output_type": "stream",
     "text": [
      "time : 86.19, train_loss : 0.15, train_acc : 95.10,val_acc : 57.15,val_loss : 2.28\n"
     ]
    },
    {
     "name": "stderr",
     "output_type": "stream",
     "text": [
      "100%|██████████| 225/225 [01:23<00:00,  2.70it/s]\n",
      "100%|██████████| 29/29 [00:02<00:00,  9.85it/s]\n",
      "  0%|          | 0/225 [00:00<?, ?it/s]"
     ]
    },
    {
     "name": "stdout",
     "output_type": "stream",
     "text": [
      "time : 86.20, train_loss : 0.13, train_acc : 96.01,val_acc : 55.70,val_loss : 2.47\n"
     ]
    },
    {
     "name": "stderr",
     "output_type": "stream",
     "text": [
      "100%|██████████| 225/225 [01:23<00:00,  2.70it/s]\n",
      "100%|██████████| 29/29 [00:02<00:00,  9.93it/s]\n",
      "  0%|          | 0/225 [00:00<?, ?it/s]"
     ]
    },
    {
     "name": "stdout",
     "output_type": "stream",
     "text": [
      "time : 86.19, train_loss : 0.13, train_acc : 95.76,val_acc : 53.58,val_loss : 2.32\n"
     ]
    },
    {
     "name": "stderr",
     "output_type": "stream",
     "text": [
      "100%|██████████| 225/225 [01:23<00:00,  2.70it/s]\n",
      "100%|██████████| 29/29 [00:02<00:00,  9.89it/s]\n",
      "  0%|          | 0/225 [00:00<?, ?it/s]"
     ]
    },
    {
     "name": "stdout",
     "output_type": "stream",
     "text": [
      "time : 86.19, train_loss : 0.11, train_acc : 96.72,val_acc : 56.28,val_loss : 2.53\n"
     ]
    },
    {
     "name": "stderr",
     "output_type": "stream",
     "text": [
      "100%|██████████| 225/225 [01:23<00:00,  2.70it/s]\n",
      "100%|██████████| 29/29 [00:02<00:00,  9.81it/s]\n",
      "  0%|          | 0/225 [00:00<?, ?it/s]"
     ]
    },
    {
     "name": "stdout",
     "output_type": "stream",
     "text": [
      "time : 86.23, train_loss : 0.12, train_acc : 96.26,val_acc : 57.84,val_loss : 2.54\n"
     ]
    },
    {
     "name": "stderr",
     "output_type": "stream",
     "text": [
      "100%|██████████| 225/225 [01:23<00:00,  2.70it/s]\n",
      "100%|██████████| 29/29 [00:02<00:00,  9.89it/s]\n",
      "  0%|          | 0/225 [00:00<?, ?it/s]"
     ]
    },
    {
     "name": "stdout",
     "output_type": "stream",
     "text": [
      "time : 86.17, train_loss : 0.12, train_acc : 96.21,val_acc : 57.26,val_loss : 2.44\n"
     ]
    },
    {
     "name": "stderr",
     "output_type": "stream",
     "text": [
      "100%|██████████| 225/225 [01:23<00:00,  2.70it/s]\n",
      "100%|██████████| 29/29 [00:02<00:00,  9.88it/s]\n",
      "  0%|          | 0/225 [00:00<?, ?it/s]"
     ]
    },
    {
     "name": "stdout",
     "output_type": "stream",
     "text": [
      "time : 86.14, train_loss : 0.10, train_acc : 96.97,val_acc : 55.98,val_loss : 2.54\n"
     ]
    },
    {
     "name": "stderr",
     "output_type": "stream",
     "text": [
      "100%|██████████| 225/225 [01:23<00:00,  2.70it/s]\n",
      "100%|██████████| 29/29 [00:02<00:00,  9.87it/s]\n",
      "  0%|          | 0/225 [00:00<?, ?it/s]"
     ]
    },
    {
     "name": "stdout",
     "output_type": "stream",
     "text": [
      "time : 86.18, train_loss : 0.09, train_acc : 97.08,val_acc : 56.87,val_loss : 2.37\n"
     ]
    },
    {
     "name": "stderr",
     "output_type": "stream",
     "text": [
      "100%|██████████| 225/225 [01:23<00:00,  2.70it/s]\n",
      "100%|██████████| 29/29 [00:02<00:00,  9.92it/s]\n",
      "  0%|          | 0/225 [00:00<?, ?it/s]"
     ]
    },
    {
     "name": "stdout",
     "output_type": "stream",
     "text": [
      "time : 86.17, train_loss : 0.10, train_acc : 96.99,val_acc : 56.95,val_loss : 2.40\n"
     ]
    },
    {
     "name": "stderr",
     "output_type": "stream",
     "text": [
      "100%|██████████| 225/225 [01:23<00:00,  2.70it/s]\n",
      "100%|██████████| 29/29 [00:02<00:00,  9.90it/s]\n",
      "  0%|          | 0/225 [00:00<?, ?it/s]"
     ]
    },
    {
     "name": "stdout",
     "output_type": "stream",
     "text": [
      "time : 86.14, train_loss : 0.10, train_acc : 96.72,val_acc : 55.36,val_loss : 2.50\n"
     ]
    },
    {
     "name": "stderr",
     "output_type": "stream",
     "text": [
      "100%|██████████| 225/225 [01:23<00:00,  2.70it/s]\n",
      "100%|██████████| 29/29 [00:02<00:00,  9.89it/s]\n",
      "  0%|          | 0/225 [00:00<?, ?it/s]"
     ]
    },
    {
     "name": "stdout",
     "output_type": "stream",
     "text": [
      "time : 86.17, train_loss : 0.10, train_acc : 96.95,val_acc : 57.82,val_loss : 2.38\n"
     ]
    },
    {
     "name": "stderr",
     "output_type": "stream",
     "text": [
      "100%|██████████| 225/225 [01:23<00:00,  2.70it/s]\n",
      "100%|██████████| 29/29 [00:02<00:00,  9.82it/s]\n",
      "  0%|          | 0/225 [00:00<?, ?it/s]"
     ]
    },
    {
     "name": "stdout",
     "output_type": "stream",
     "text": [
      "time : 86.16, train_loss : 0.10, train_acc : 96.95,val_acc : 56.31,val_loss : 2.38\n"
     ]
    },
    {
     "name": "stderr",
     "output_type": "stream",
     "text": [
      "100%|██████████| 225/225 [01:23<00:00,  2.70it/s]\n",
      "100%|██████████| 29/29 [00:02<00:00,  9.92it/s]\n",
      "  0%|          | 0/225 [00:00<?, ?it/s]"
     ]
    },
    {
     "name": "stdout",
     "output_type": "stream",
     "text": [
      "time : 86.14, train_loss : 0.09, train_acc : 97.24,val_acc : 56.34,val_loss : 2.60\n"
     ]
    },
    {
     "name": "stderr",
     "output_type": "stream",
     "text": [
      "100%|██████████| 225/225 [01:23<00:00,  2.70it/s]\n",
      "100%|██████████| 29/29 [00:02<00:00,  9.83it/s]\n",
      "  0%|          | 0/225 [00:00<?, ?it/s]"
     ]
    },
    {
     "name": "stdout",
     "output_type": "stream",
     "text": [
      "time : 86.18, train_loss : 0.07, train_acc : 97.96,val_acc : 56.53,val_loss : 2.64\n"
     ]
    },
    {
     "name": "stderr",
     "output_type": "stream",
     "text": [
      "100%|██████████| 225/225 [01:23<00:00,  2.70it/s]\n",
      "100%|██████████| 29/29 [00:02<00:00,  9.91it/s]\n",
      "  0%|          | 0/225 [00:00<?, ?it/s]"
     ]
    },
    {
     "name": "stdout",
     "output_type": "stream",
     "text": [
      "time : 86.16, train_loss : 0.10, train_acc : 96.98,val_acc : 55.39,val_loss : 2.52\n"
     ]
    },
    {
     "name": "stderr",
     "output_type": "stream",
     "text": [
      "100%|██████████| 225/225 [01:23<00:00,  2.70it/s]\n",
      "100%|██████████| 29/29 [00:02<00:00,  9.89it/s]\n",
      "  0%|          | 0/225 [00:00<?, ?it/s]"
     ]
    },
    {
     "name": "stdout",
     "output_type": "stream",
     "text": [
      "time : 86.15, train_loss : 0.07, train_acc : 97.85,val_acc : 55.78,val_loss : 2.50\n"
     ]
    },
    {
     "name": "stderr",
     "output_type": "stream",
     "text": [
      "100%|██████████| 225/225 [01:23<00:00,  2.70it/s]\n",
      "100%|██████████| 29/29 [00:02<00:00,  9.90it/s]\n",
      "  0%|          | 0/225 [00:00<?, ?it/s]"
     ]
    },
    {
     "name": "stdout",
     "output_type": "stream",
     "text": [
      "time : 86.14, train_loss : 0.09, train_acc : 97.36,val_acc : 56.56,val_loss : 2.58\n"
     ]
    },
    {
     "name": "stderr",
     "output_type": "stream",
     "text": [
      "100%|██████████| 225/225 [01:23<00:00,  2.70it/s]\n",
      "100%|██████████| 29/29 [00:02<00:00,  9.94it/s]\n",
      "  0%|          | 0/225 [00:00<?, ?it/s]"
     ]
    },
    {
     "name": "stdout",
     "output_type": "stream",
     "text": [
      "time : 86.14, train_loss : 0.07, train_acc : 97.84,val_acc : 56.62,val_loss : 2.62\n"
     ]
    },
    {
     "name": "stderr",
     "output_type": "stream",
     "text": [
      "100%|██████████| 225/225 [01:23<00:00,  2.70it/s]\n",
      "100%|██████████| 29/29 [00:02<00:00,  9.88it/s]\n",
      "  0%|          | 0/225 [00:00<?, ?it/s]"
     ]
    },
    {
     "name": "stdout",
     "output_type": "stream",
     "text": [
      "time : 86.16, train_loss : 0.08, train_acc : 97.62,val_acc : 53.36,val_loss : 2.69\n"
     ]
    },
    {
     "name": "stderr",
     "output_type": "stream",
     "text": [
      "100%|██████████| 225/225 [01:23<00:00,  2.70it/s]\n",
      "100%|██████████| 29/29 [00:02<00:00,  9.90it/s]\n",
      "  0%|          | 0/225 [00:00<?, ?it/s]"
     ]
    },
    {
     "name": "stdout",
     "output_type": "stream",
     "text": [
      "time : 86.16, train_loss : 0.09, train_acc : 97.15,val_acc : 54.53,val_loss : 2.62\n"
     ]
    },
    {
     "name": "stderr",
     "output_type": "stream",
     "text": [
      "100%|██████████| 225/225 [01:23<00:00,  2.70it/s]\n",
      "100%|██████████| 29/29 [00:02<00:00,  9.95it/s]\n",
      "  0%|          | 0/225 [00:00<?, ?it/s]"
     ]
    },
    {
     "name": "stdout",
     "output_type": "stream",
     "text": [
      "time : 86.13, train_loss : 0.09, train_acc : 97.04,val_acc : 55.28,val_loss : 2.56\n"
     ]
    },
    {
     "name": "stderr",
     "output_type": "stream",
     "text": [
      "100%|██████████| 225/225 [01:23<00:00,  2.71it/s]\n",
      "100%|██████████| 29/29 [00:02<00:00,  9.93it/s]\n",
      "  0%|          | 0/225 [00:00<?, ?it/s]"
     ]
    },
    {
     "name": "stdout",
     "output_type": "stream",
     "text": [
      "time : 86.07, train_loss : 0.07, train_acc : 97.79,val_acc : 54.72,val_loss : 2.79\n"
     ]
    },
    {
     "name": "stderr",
     "output_type": "stream",
     "text": [
      "100%|██████████| 225/225 [01:23<00:00,  2.71it/s]\n",
      "100%|██████████| 29/29 [00:02<00:00,  9.93it/s]\n",
      "  0%|          | 0/225 [00:00<?, ?it/s]"
     ]
    },
    {
     "name": "stdout",
     "output_type": "stream",
     "text": [
      "time : 86.00, train_loss : 0.06, train_acc : 98.11,val_acc : 55.61,val_loss : 2.78\n"
     ]
    },
    {
     "name": "stderr",
     "output_type": "stream",
     "text": [
      "100%|██████████| 225/225 [01:22<00:00,  2.71it/s]\n",
      "100%|██████████| 29/29 [00:02<00:00,  9.95it/s]\n",
      "  0%|          | 0/225 [00:00<?, ?it/s]"
     ]
    },
    {
     "name": "stdout",
     "output_type": "stream",
     "text": [
      "time : 85.89, train_loss : 0.06, train_acc : 98.04,val_acc : 55.89,val_loss : 2.81\n"
     ]
    },
    {
     "name": "stderr",
     "output_type": "stream",
     "text": [
      "100%|██████████| 225/225 [01:22<00:00,  2.71it/s]\n",
      "100%|██████████| 29/29 [00:02<00:00,  9.91it/s]\n",
      "  0%|          | 0/225 [00:00<?, ?it/s]"
     ]
    },
    {
     "name": "stdout",
     "output_type": "stream",
     "text": [
      "time : 85.81, train_loss : 0.09, train_acc : 96.90,val_acc : 56.65,val_loss : 2.74\n"
     ]
    },
    {
     "name": "stderr",
     "output_type": "stream",
     "text": [
      "100%|██████████| 225/225 [01:22<00:00,  2.72it/s]\n",
      "100%|██████████| 29/29 [00:02<00:00,  9.93it/s]\n",
      "  0%|          | 0/225 [00:00<?, ?it/s]"
     ]
    },
    {
     "name": "stdout",
     "output_type": "stream",
     "text": [
      "time : 85.72, train_loss : 0.09, train_acc : 97.16,val_acc : 57.01,val_loss : 2.71\n"
     ]
    },
    {
     "name": "stderr",
     "output_type": "stream",
     "text": [
      "100%|██████████| 225/225 [01:22<00:00,  2.72it/s]\n",
      "100%|██████████| 29/29 [00:02<00:00,  9.83it/s]\n",
      "  0%|          | 0/225 [00:00<?, ?it/s]"
     ]
    },
    {
     "name": "stdout",
     "output_type": "stream",
     "text": [
      "time : 85.67, train_loss : 0.08, train_acc : 97.57,val_acc : 56.28,val_loss : 2.76\n"
     ]
    },
    {
     "name": "stderr",
     "output_type": "stream",
     "text": [
      "100%|██████████| 225/225 [01:22<00:00,  2.72it/s]\n",
      "100%|██████████| 29/29 [00:02<00:00, 10.00it/s]\n",
      "  0%|          | 0/225 [00:00<?, ?it/s]"
     ]
    },
    {
     "name": "stdout",
     "output_type": "stream",
     "text": [
      "time : 85.52, train_loss : 0.05, train_acc : 98.42,val_acc : 56.17,val_loss : 2.80\n"
     ]
    },
    {
     "name": "stderr",
     "output_type": "stream",
     "text": [
      "100%|██████████| 225/225 [01:22<00:00,  2.73it/s]\n",
      "100%|██████████| 29/29 [00:02<00:00,  9.90it/s]\n",
      "  0%|          | 0/225 [00:00<?, ?it/s]"
     ]
    },
    {
     "name": "stdout",
     "output_type": "stream",
     "text": [
      "time : 85.50, train_loss : 0.06, train_acc : 98.14,val_acc : 57.84,val_loss : 2.46\n"
     ]
    },
    {
     "name": "stderr",
     "output_type": "stream",
     "text": [
      "100%|██████████| 225/225 [01:22<00:00,  2.73it/s]\n",
      "100%|██████████| 29/29 [00:02<00:00,  9.88it/s]\n",
      "  0%|          | 0/225 [00:00<?, ?it/s]"
     ]
    },
    {
     "name": "stdout",
     "output_type": "stream",
     "text": [
      "time : 85.42, train_loss : 0.08, train_acc : 97.36,val_acc : 56.73,val_loss : 2.56\n"
     ]
    },
    {
     "name": "stderr",
     "output_type": "stream",
     "text": [
      "100%|██████████| 225/225 [01:22<00:00,  2.73it/s]\n",
      "100%|██████████| 29/29 [00:02<00:00,  9.97it/s]\n",
      "  0%|          | 0/225 [00:00<?, ?it/s]"
     ]
    },
    {
     "name": "stdout",
     "output_type": "stream",
     "text": [
      "time : 85.34, train_loss : 0.07, train_acc : 98.02,val_acc : 57.37,val_loss : 2.56\n"
     ]
    },
    {
     "name": "stderr",
     "output_type": "stream",
     "text": [
      "100%|██████████| 225/225 [01:22<00:00,  2.73it/s]\n",
      "100%|██████████| 29/29 [00:02<00:00,  9.96it/s]\n",
      "  0%|          | 0/225 [00:00<?, ?it/s]"
     ]
    },
    {
     "name": "stdout",
     "output_type": "stream",
     "text": [
      "time : 85.26, train_loss : 0.05, train_acc : 98.39,val_acc : 57.37,val_loss : 2.69\n"
     ]
    },
    {
     "name": "stderr",
     "output_type": "stream",
     "text": [
      "100%|██████████| 225/225 [01:22<00:00,  2.73it/s]\n",
      "100%|██████████| 29/29 [00:02<00:00,  9.95it/s]\n",
      "  0%|          | 0/225 [00:00<?, ?it/s]"
     ]
    },
    {
     "name": "stdout",
     "output_type": "stream",
     "text": [
      "time : 85.26, train_loss : 0.05, train_acc : 98.53,val_acc : 57.01,val_loss : 2.75\n"
     ]
    },
    {
     "name": "stderr",
     "output_type": "stream",
     "text": [
      "100%|██████████| 225/225 [01:22<00:00,  2.74it/s]\n",
      "100%|██████████| 29/29 [00:02<00:00,  9.87it/s]\n",
      "  0%|          | 0/225 [00:00<?, ?it/s]"
     ]
    },
    {
     "name": "stdout",
     "output_type": "stream",
     "text": [
      "time : 85.20, train_loss : 0.07, train_acc : 97.54,val_acc : 54.64,val_loss : 2.69\n"
     ]
    },
    {
     "name": "stderr",
     "output_type": "stream",
     "text": [
      "100%|██████████| 225/225 [01:22<00:00,  2.74it/s]\n",
      "100%|██████████| 29/29 [00:02<00:00,  9.97it/s]\n",
      "  0%|          | 0/225 [00:00<?, ?it/s]"
     ]
    },
    {
     "name": "stdout",
     "output_type": "stream",
     "text": [
      "time : 85.07, train_loss : 0.10, train_acc : 96.62,val_acc : 56.42,val_loss : 2.67\n"
     ]
    },
    {
     "name": "stderr",
     "output_type": "stream",
     "text": [
      "100%|██████████| 225/225 [01:21<00:00,  2.75it/s]\n",
      "100%|██████████| 29/29 [00:02<00:00,  9.97it/s]\n",
      "  0%|          | 0/225 [00:00<?, ?it/s]"
     ]
    },
    {
     "name": "stdout",
     "output_type": "stream",
     "text": [
      "time : 84.87, train_loss : 0.06, train_acc : 98.19,val_acc : 57.06,val_loss : 2.79\n"
     ]
    },
    {
     "name": "stderr",
     "output_type": "stream",
     "text": [
      "100%|██████████| 225/225 [01:21<00:00,  2.74it/s]\n",
      "100%|██████████| 29/29 [00:02<00:00,  9.99it/s]\n",
      "  0%|          | 0/225 [00:00<?, ?it/s]"
     ]
    },
    {
     "name": "stdout",
     "output_type": "stream",
     "text": [
      "time : 84.89, train_loss : 0.04, train_acc : 98.84,val_acc : 54.17,val_loss : 3.00\n"
     ]
    },
    {
     "name": "stderr",
     "output_type": "stream",
     "text": [
      "100%|██████████| 225/225 [01:22<00:00,  2.74it/s]\n",
      "100%|██████████| 29/29 [00:02<00:00,  9.95it/s]\n",
      "  0%|          | 0/225 [00:00<?, ?it/s]"
     ]
    },
    {
     "name": "stdout",
     "output_type": "stream",
     "text": [
      "time : 85.10, train_loss : 0.06, train_acc : 98.16,val_acc : 56.45,val_loss : 2.79\n"
     ]
    },
    {
     "name": "stderr",
     "output_type": "stream",
     "text": [
      "100%|██████████| 225/225 [01:22<00:00,  2.74it/s]\n",
      "100%|██████████| 29/29 [00:02<00:00,  9.99it/s]\n",
      "  0%|          | 0/225 [00:00<?, ?it/s]"
     ]
    },
    {
     "name": "stdout",
     "output_type": "stream",
     "text": [
      "time : 85.02, train_loss : 0.08, train_acc : 97.29,val_acc : 56.26,val_loss : 2.80\n"
     ]
    },
    {
     "name": "stderr",
     "output_type": "stream",
     "text": [
      "100%|██████████| 225/225 [01:22<00:00,  2.74it/s]\n",
      "100%|██████████| 29/29 [00:02<00:00, 10.01it/s]\n",
      "  0%|          | 0/225 [00:00<?, ?it/s]"
     ]
    },
    {
     "name": "stdout",
     "output_type": "stream",
     "text": [
      "time : 84.98, train_loss : 0.07, train_acc : 97.78,val_acc : 57.43,val_loss : 2.68\n"
     ]
    },
    {
     "name": "stderr",
     "output_type": "stream",
     "text": [
      "100%|██████████| 225/225 [01:21<00:00,  2.75it/s]\n",
      "100%|██████████| 29/29 [00:02<00:00, 10.02it/s]\n",
      "  0%|          | 0/225 [00:00<?, ?it/s]"
     ]
    },
    {
     "name": "stdout",
     "output_type": "stream",
     "text": [
      "time : 84.78, train_loss : 0.05, train_acc : 98.53,val_acc : 57.26,val_loss : 2.65\n"
     ]
    },
    {
     "name": "stderr",
     "output_type": "stream",
     "text": [
      "100%|██████████| 225/225 [01:21<00:00,  2.75it/s]\n",
      "100%|██████████| 29/29 [00:02<00:00, 10.00it/s]\n",
      "  0%|          | 0/225 [00:00<?, ?it/s]"
     ]
    },
    {
     "name": "stdout",
     "output_type": "stream",
     "text": [
      "time : 84.77, train_loss : 0.04, train_acc : 98.63,val_acc : 56.76,val_loss : 2.81\n"
     ]
    },
    {
     "name": "stderr",
     "output_type": "stream",
     "text": [
      "100%|██████████| 225/225 [01:21<00:00,  2.74it/s]\n",
      "100%|██████████| 29/29 [00:02<00:00,  9.92it/s]\n",
      "  0%|          | 0/225 [00:00<?, ?it/s]"
     ]
    },
    {
     "name": "stdout",
     "output_type": "stream",
     "text": [
      "time : 84.92, train_loss : 0.07, train_acc : 97.86,val_acc : 55.75,val_loss : 2.97\n"
     ]
    },
    {
     "name": "stderr",
     "output_type": "stream",
     "text": [
      "100%|██████████| 225/225 [01:22<00:00,  2.74it/s]\n",
      "100%|██████████| 29/29 [00:02<00:00,  9.98it/s]\n",
      "  0%|          | 0/225 [00:00<?, ?it/s]"
     ]
    },
    {
     "name": "stdout",
     "output_type": "stream",
     "text": [
      "time : 84.97, train_loss : 0.06, train_acc : 98.11,val_acc : 56.23,val_loss : 2.63\n"
     ]
    },
    {
     "name": "stderr",
     "output_type": "stream",
     "text": [
      "100%|██████████| 225/225 [01:21<00:00,  2.74it/s]\n",
      "100%|██████████| 29/29 [00:02<00:00,  9.99it/s]\n",
      "  0%|          | 0/225 [00:00<?, ?it/s]"
     ]
    },
    {
     "name": "stdout",
     "output_type": "stream",
     "text": [
      "time : 84.88, train_loss : 0.05, train_acc : 98.51,val_acc : 58.60,val_loss : 2.71\n"
     ]
    },
    {
     "name": "stderr",
     "output_type": "stream",
     "text": [
      "100%|██████████| 225/225 [01:21<00:00,  2.75it/s]\n",
      "100%|██████████| 29/29 [00:02<00:00, 10.02it/s]\n",
      "  0%|          | 0/225 [00:00<?, ?it/s]"
     ]
    },
    {
     "name": "stdout",
     "output_type": "stream",
     "text": [
      "time : 84.71, train_loss : 0.08, train_acc : 97.27,val_acc : 56.70,val_loss : 2.65\n"
     ]
    },
    {
     "name": "stderr",
     "output_type": "stream",
     "text": [
      "100%|██████████| 225/225 [01:21<00:00,  2.75it/s]\n",
      "100%|██████████| 29/29 [00:02<00:00,  9.93it/s]\n",
      "  0%|          | 0/225 [00:00<?, ?it/s]"
     ]
    },
    {
     "name": "stdout",
     "output_type": "stream",
     "text": [
      "time : 84.73, train_loss : 0.07, train_acc : 97.75,val_acc : 55.64,val_loss : 2.66\n"
     ]
    },
    {
     "name": "stderr",
     "output_type": "stream",
     "text": [
      "100%|██████████| 225/225 [01:22<00:00,  2.74it/s]\n",
      "100%|██████████| 29/29 [00:02<00:00,  9.88it/s]\n",
      "  0%|          | 0/225 [00:00<?, ?it/s]"
     ]
    },
    {
     "name": "stdout",
     "output_type": "stream",
     "text": [
      "time : 84.99, train_loss : 0.05, train_acc : 98.44,val_acc : 56.34,val_loss : 2.72\n"
     ]
    },
    {
     "name": "stderr",
     "output_type": "stream",
     "text": [
      "100%|██████████| 225/225 [01:22<00:00,  2.74it/s]\n",
      "100%|██████████| 29/29 [00:02<00:00,  9.96it/s]\n",
      "  0%|          | 0/225 [00:00<?, ?it/s]"
     ]
    },
    {
     "name": "stdout",
     "output_type": "stream",
     "text": [
      "time : 85.16, train_loss : 0.04, train_acc : 98.73,val_acc : 55.53,val_loss : 2.88\n"
     ]
    },
    {
     "name": "stderr",
     "output_type": "stream",
     "text": [
      "100%|██████████| 225/225 [01:22<00:00,  2.73it/s]\n",
      "100%|██████████| 29/29 [00:02<00:00,  9.89it/s]\n",
      "  0%|          | 0/225 [00:00<?, ?it/s]"
     ]
    },
    {
     "name": "stdout",
     "output_type": "stream",
     "text": [
      "time : 85.21, train_loss : 0.05, train_acc : 98.39,val_acc : 56.95,val_loss : 2.70\n"
     ]
    },
    {
     "name": "stderr",
     "output_type": "stream",
     "text": [
      "100%|██████████| 225/225 [01:22<00:00,  2.74it/s]\n",
      "100%|██████████| 29/29 [00:02<00:00,  9.95it/s]\n",
      "  0%|          | 0/225 [00:00<?, ?it/s]"
     ]
    },
    {
     "name": "stdout",
     "output_type": "stream",
     "text": [
      "time : 85.18, train_loss : 0.08, train_acc : 97.36,val_acc : 54.97,val_loss : 3.01\n"
     ]
    },
    {
     "name": "stderr",
     "output_type": "stream",
     "text": [
      "100%|██████████| 225/225 [01:22<00:00,  2.74it/s]\n",
      "100%|██████████| 29/29 [00:02<00:00,  9.91it/s]\n",
      "  0%|          | 0/225 [00:00<?, ?it/s]"
     ]
    },
    {
     "name": "stdout",
     "output_type": "stream",
     "text": [
      "time : 85.19, train_loss : 0.06, train_acc : 97.94,val_acc : 51.91,val_loss : 3.20\n"
     ]
    },
    {
     "name": "stderr",
     "output_type": "stream",
     "text": [
      "100%|██████████| 225/225 [01:22<00:00,  2.74it/s]\n",
      "100%|██████████| 29/29 [00:02<00:00,  9.99it/s]\n",
      "  0%|          | 0/225 [00:00<?, ?it/s]"
     ]
    },
    {
     "name": "stdout",
     "output_type": "stream",
     "text": [
      "time : 85.13, train_loss : 0.04, train_acc : 98.58,val_acc : 55.50,val_loss : 2.81\n"
     ]
    },
    {
     "name": "stderr",
     "output_type": "stream",
     "text": [
      "100%|██████████| 225/225 [01:22<00:00,  2.74it/s]\n",
      "100%|██████████| 29/29 [00:02<00:00,  9.91it/s]\n",
      "  0%|          | 0/225 [00:00<?, ?it/s]"
     ]
    },
    {
     "name": "stdout",
     "output_type": "stream",
     "text": [
      "time : 84.96, train_loss : 0.04, train_acc : 98.64,val_acc : 55.48,val_loss : 2.93\n"
     ]
    },
    {
     "name": "stderr",
     "output_type": "stream",
     "text": [
      "100%|██████████| 225/225 [01:22<00:00,  2.74it/s]\n",
      "100%|██████████| 29/29 [00:02<00:00,  9.90it/s]\n",
      "  0%|          | 0/225 [00:00<?, ?it/s]"
     ]
    },
    {
     "name": "stdout",
     "output_type": "stream",
     "text": [
      "time : 85.00, train_loss : 0.06, train_acc : 98.08,val_acc : 53.94,val_loss : 2.78\n"
     ]
    },
    {
     "name": "stderr",
     "output_type": "stream",
     "text": [
      "100%|██████████| 225/225 [01:22<00:00,  2.74it/s]\n",
      "100%|██████████| 29/29 [00:02<00:00,  9.99it/s]\n",
      "  0%|          | 0/225 [00:00<?, ?it/s]"
     ]
    },
    {
     "name": "stdout",
     "output_type": "stream",
     "text": [
      "time : 85.13, train_loss : 0.06, train_acc : 98.08,val_acc : 56.39,val_loss : 2.75\n"
     ]
    },
    {
     "name": "stderr",
     "output_type": "stream",
     "text": [
      "100%|██████████| 225/225 [01:22<00:00,  2.74it/s]\n",
      "100%|██████████| 29/29 [00:02<00:00,  9.97it/s]\n",
      "  0%|          | 0/225 [00:00<?, ?it/s]"
     ]
    },
    {
     "name": "stdout",
     "output_type": "stream",
     "text": [
      "time : 85.05, train_loss : 0.05, train_acc : 98.29,val_acc : 56.34,val_loss : 2.98\n"
     ]
    },
    {
     "name": "stderr",
     "output_type": "stream",
     "text": [
      "100%|██████████| 225/225 [01:22<00:00,  2.74it/s]\n",
      "100%|██████████| 29/29 [00:02<00:00,  9.98it/s]\n",
      "  0%|          | 0/225 [00:00<?, ?it/s]"
     ]
    },
    {
     "name": "stdout",
     "output_type": "stream",
     "text": [
      "time : 85.03, train_loss : 0.07, train_acc : 97.75,val_acc : 56.31,val_loss : 2.64\n"
     ]
    },
    {
     "name": "stderr",
     "output_type": "stream",
     "text": [
      "100%|██████████| 225/225 [01:21<00:00,  2.74it/s]\n",
      "100%|██████████| 29/29 [00:02<00:00, 10.01it/s]\n",
      "  0%|          | 0/225 [00:00<?, ?it/s]"
     ]
    },
    {
     "name": "stdout",
     "output_type": "stream",
     "text": [
      "time : 84.89, train_loss : 0.05, train_acc : 98.59,val_acc : 55.89,val_loss : 2.87\n"
     ]
    },
    {
     "name": "stderr",
     "output_type": "stream",
     "text": [
      "100%|██████████| 225/225 [01:21<00:00,  2.75it/s]\n",
      "100%|██████████| 29/29 [00:02<00:00, 10.02it/s]\n",
      "  0%|          | 0/225 [00:00<?, ?it/s]"
     ]
    },
    {
     "name": "stdout",
     "output_type": "stream",
     "text": [
      "time : 84.69, train_loss : 0.04, train_acc : 98.57,val_acc : 56.37,val_loss : 3.09\n"
     ]
    },
    {
     "name": "stderr",
     "output_type": "stream",
     "text": [
      "100%|██████████| 225/225 [01:21<00:00,  2.75it/s]\n",
      "100%|██████████| 29/29 [00:02<00:00, 10.01it/s]\n",
      "  0%|          | 0/225 [00:00<?, ?it/s]"
     ]
    },
    {
     "name": "stdout",
     "output_type": "stream",
     "text": [
      "time : 84.67, train_loss : 0.06, train_acc : 98.10,val_acc : 54.69,val_loss : 3.29\n"
     ]
    },
    {
     "name": "stderr",
     "output_type": "stream",
     "text": [
      "100%|██████████| 225/225 [01:21<00:00,  2.75it/s]\n",
      "100%|██████████| 29/29 [00:02<00:00, 10.01it/s]\n",
      "  0%|          | 0/225 [00:00<?, ?it/s]"
     ]
    },
    {
     "name": "stdout",
     "output_type": "stream",
     "text": [
      "time : 84.86, train_loss : 0.07, train_acc : 97.48,val_acc : 56.84,val_loss : 2.61\n"
     ]
    },
    {
     "name": "stderr",
     "output_type": "stream",
     "text": [
      "100%|██████████| 225/225 [01:21<00:00,  2.75it/s]\n",
      "100%|██████████| 29/29 [00:02<00:00,  9.99it/s]\n",
      "  0%|          | 0/225 [00:00<?, ?it/s]"
     ]
    },
    {
     "name": "stdout",
     "output_type": "stream",
     "text": [
      "time : 84.84, train_loss : 0.05, train_acc : 98.27,val_acc : 56.67,val_loss : 2.75\n"
     ]
    },
    {
     "name": "stderr",
     "output_type": "stream",
     "text": [
      "100%|██████████| 225/225 [01:21<00:00,  2.75it/s]\n",
      "100%|██████████| 29/29 [00:02<00:00, 10.04it/s]\n",
      "  0%|          | 0/225 [00:00<?, ?it/s]"
     ]
    },
    {
     "name": "stdout",
     "output_type": "stream",
     "text": [
      "time : 84.72, train_loss : 0.03, train_acc : 98.96,val_acc : 56.42,val_loss : 2.88\n"
     ]
    },
    {
     "name": "stderr",
     "output_type": "stream",
     "text": [
      "100%|██████████| 225/225 [01:21<00:00,  2.75it/s]\n",
      "100%|██████████| 29/29 [00:02<00:00,  9.94it/s]\n",
      "  0%|          | 0/225 [00:00<?, ?it/s]"
     ]
    },
    {
     "name": "stdout",
     "output_type": "stream",
     "text": [
      "time : 84.63, train_loss : 0.03, train_acc : 99.00,val_acc : 57.56,val_loss : 2.88\n"
     ]
    },
    {
     "name": "stderr",
     "output_type": "stream",
     "text": [
      "100%|██████████| 225/225 [01:21<00:00,  2.75it/s]\n",
      "100%|██████████| 29/29 [00:02<00:00, 10.04it/s]\n",
      "  0%|          | 0/225 [00:00<?, ?it/s]"
     ]
    },
    {
     "name": "stdout",
     "output_type": "stream",
     "text": [
      "time : 84.60, train_loss : 0.06, train_acc : 98.13,val_acc : 56.73,val_loss : 2.81\n"
     ]
    },
    {
     "name": "stderr",
     "output_type": "stream",
     "text": [
      "100%|██████████| 225/225 [01:21<00:00,  2.75it/s]\n",
      "100%|██████████| 29/29 [00:02<00:00, 10.01it/s]\n",
      "  0%|          | 0/225 [00:00<?, ?it/s]"
     ]
    },
    {
     "name": "stdout",
     "output_type": "stream",
     "text": [
      "time : 84.68, train_loss : 0.06, train_acc : 97.99,val_acc : 56.28,val_loss : 2.91\n"
     ]
    },
    {
     "name": "stderr",
     "output_type": "stream",
     "text": [
      "100%|██████████| 225/225 [01:21<00:00,  2.75it/s]\n",
      "100%|██████████| 29/29 [00:02<00:00, 10.02it/s]\n",
      "  0%|          | 0/225 [00:00<?, ?it/s]"
     ]
    },
    {
     "name": "stdout",
     "output_type": "stream",
     "text": [
      "time : 84.77, train_loss : 0.05, train_acc : 98.16,val_acc : 56.90,val_loss : 2.91\n"
     ]
    },
    {
     "name": "stderr",
     "output_type": "stream",
     "text": [
      "100%|██████████| 225/225 [01:21<00:00,  2.75it/s]\n",
      "100%|██████████| 29/29 [00:02<00:00, 10.05it/s]\n",
      "  0%|          | 0/225 [00:00<?, ?it/s]"
     ]
    },
    {
     "name": "stdout",
     "output_type": "stream",
     "text": [
      "time : 84.66, train_loss : 0.05, train_acc : 98.41,val_acc : 56.06,val_loss : 3.02\n"
     ]
    },
    {
     "name": "stderr",
     "output_type": "stream",
     "text": [
      "100%|██████████| 225/225 [01:21<00:00,  2.76it/s]\n",
      "100%|██████████| 29/29 [00:02<00:00, 10.03it/s]\n",
      "  0%|          | 0/225 [00:00<?, ?it/s]"
     ]
    },
    {
     "name": "stdout",
     "output_type": "stream",
     "text": [
      "time : 84.55, train_loss : 0.04, train_acc : 98.75,val_acc : 57.29,val_loss : 3.10\n"
     ]
    },
    {
     "name": "stderr",
     "output_type": "stream",
     "text": [
      "100%|██████████| 225/225 [01:21<00:00,  2.76it/s]\n",
      "100%|██████████| 29/29 [00:02<00:00,  9.95it/s]\n",
      "  0%|          | 0/225 [00:00<?, ?it/s]"
     ]
    },
    {
     "name": "stdout",
     "output_type": "stream",
     "text": [
      "time : 84.55, train_loss : 0.04, train_acc : 98.67,val_acc : 56.23,val_loss : 3.16\n"
     ]
    },
    {
     "name": "stderr",
     "output_type": "stream",
     "text": [
      "100%|██████████| 225/225 [01:21<00:00,  2.75it/s]\n",
      "100%|██████████| 29/29 [00:02<00:00, 10.00it/s]\n",
      "  0%|          | 0/225 [00:00<?, ?it/s]"
     ]
    },
    {
     "name": "stdout",
     "output_type": "stream",
     "text": [
      "time : 84.61, train_loss : 0.07, train_acc : 97.64,val_acc : 56.39,val_loss : 3.23\n"
     ]
    },
    {
     "name": "stderr",
     "output_type": "stream",
     "text": [
      "100%|██████████| 225/225 [01:21<00:00,  2.75it/s]\n",
      "100%|██████████| 29/29 [00:02<00:00,  9.97it/s]\n",
      "  0%|          | 0/225 [00:00<?, ?it/s]"
     ]
    },
    {
     "name": "stdout",
     "output_type": "stream",
     "text": [
      "time : 84.75, train_loss : 0.06, train_acc : 97.68,val_acc : 57.56,val_loss : 3.03\n"
     ]
    },
    {
     "name": "stderr",
     "output_type": "stream",
     "text": [
      "100%|██████████| 225/225 [01:21<00:00,  2.75it/s]\n",
      "100%|██████████| 29/29 [00:02<00:00, 10.03it/s]\n",
      "  0%|          | 0/225 [00:00<?, ?it/s]"
     ]
    },
    {
     "name": "stdout",
     "output_type": "stream",
     "text": [
      "time : 84.62, train_loss : 0.04, train_acc : 98.61,val_acc : 57.76,val_loss : 2.86\n"
     ]
    },
    {
     "name": "stderr",
     "output_type": "stream",
     "text": [
      "100%|██████████| 225/225 [01:21<00:00,  2.76it/s]\n",
      "100%|██████████| 29/29 [00:02<00:00, 10.01it/s]\n",
      "  0%|          | 0/225 [00:00<?, ?it/s]"
     ]
    },
    {
     "name": "stdout",
     "output_type": "stream",
     "text": [
      "time : 84.52, train_loss : 0.03, train_acc : 99.05,val_acc : 56.65,val_loss : 2.89\n"
     ]
    },
    {
     "name": "stderr",
     "output_type": "stream",
     "text": [
      "100%|██████████| 225/225 [01:21<00:00,  2.76it/s]\n",
      "100%|██████████| 29/29 [00:02<00:00, 10.03it/s]\n",
      "  0%|          | 0/225 [00:00<?, ?it/s]"
     ]
    },
    {
     "name": "stdout",
     "output_type": "stream",
     "text": [
      "time : 84.50, train_loss : 0.02, train_acc : 99.26,val_acc : 57.56,val_loss : 3.24\n"
     ]
    },
    {
     "name": "stderr",
     "output_type": "stream",
     "text": [
      "100%|██████████| 225/225 [01:21<00:00,  2.76it/s]\n",
      "100%|██████████| 29/29 [00:02<00:00,  9.94it/s]\n",
      "  0%|          | 0/225 [00:00<?, ?it/s]"
     ]
    },
    {
     "name": "stdout",
     "output_type": "stream",
     "text": [
      "time : 84.55, train_loss : 0.06, train_acc : 97.91,val_acc : 55.17,val_loss : 3.22\n"
     ]
    },
    {
     "name": "stderr",
     "output_type": "stream",
     "text": [
      "100%|██████████| 225/225 [01:21<00:00,  2.75it/s]\n",
      "100%|██████████| 29/29 [00:02<00:00, 10.01it/s]\n",
      "  0%|          | 0/29 [00:00<?, ?it/s]"
     ]
    },
    {
     "name": "stdout",
     "output_type": "stream",
     "text": [
      "time : 84.68, train_loss : 0.09, train_acc : 96.84,val_acc : 56.59,val_loss : 2.80\n"
     ]
    },
    {
     "name": "stderr",
     "output_type": "stream",
     "text": [
      "100%|██████████| 29/29 [00:02<00:00, 10.02it/s]\n"
     ]
    }
   ],
   "source": [
    "seed = 123\n",
    "np.random.seed(seed)\n",
    "torch.manual_seed(seed)\n",
    "net=ResNet50()\n",
    "net.cuda()\n",
    "criterion=nn.CrossEntropyLoss()\n",
    "optimizer = optim.Adam(net.parameters(), lr=0.0015, weight_decay=0.00001)\n",
    "train_losses=[]\n",
    "val_losses=[]\n",
    "train_accs=[]\n",
    "val_accs=[]\n",
    "for epoch in range(100):\n",
    "    ts=time.time()\n",
    "    net, train_loss,train_acc=train(net, partition, optimizer, criterion)\n",
    "    val_loss, val_acc = validate(net, partition, criterion)\n",
    "    te=time.time()\n",
    "    print('time : {:2.2f}, train_loss : {:2.2f}, train_acc : {:2.2f},val_acc : {:2.2f},val_loss : {:2.2f}'.format(te-ts,train_loss,train_acc,val_acc,val_loss))\n",
    "    train_loss=round(train_loss,2)\n",
    "    val_loss=round(val_loss,2)\n",
    "    train_acc=round(train_acc,2)\n",
    "    val_acc=round(val_acc,2)\n",
    "    train_losses.append(train_loss)\n",
    "    val_losses.append(val_loss)\n",
    "    train_accs.append(train_acc)\n",
    "    val_accs.append(val_acc)\n",
    "test_acc = test(net,partition)\n",
    "test_acc=round(test_acc,2)"
   ]
  },
  {
   "cell_type": "code",
   "execution_count": 23,
   "id": "dominant-resident",
   "metadata": {},
   "outputs": [],
   "source": [
    "np.save(\"/home/lab/양창희/Emotion Project/fer2013/result_CNN_pytorch/resnet_train_loss.npy\",train_losses)\n",
    "np.save(\"/home/lab/양창희/Emotion Project/fer2013/result_CNN_pytorch/resnet_val_loss.npy\",val_losses)\n",
    "np.save(\"/home/lab/양창희/Emotion Project/fer2013/result_CNN_pytorch/resnet_train_acc.npy\",train_accs)\n",
    "np.save(\"/home/lab/양창희/Emotion Project/fer2013/result_CNN_pytorch/resnet_val_acc.npy\",val_accs)"
   ]
  },
  {
   "cell_type": "code",
   "execution_count": null,
   "id": "sporting-niger",
   "metadata": {},
   "outputs": [],
   "source": []
  },
  {
   "cell_type": "code",
   "execution_count": null,
   "id": "hollow-adobe",
   "metadata": {},
   "outputs": [],
   "source": []
  },
  {
   "cell_type": "code",
   "execution_count": null,
   "id": "developing-partition",
   "metadata": {},
   "outputs": [],
   "source": []
  },
  {
   "cell_type": "code",
   "execution_count": null,
   "id": "driving-devil",
   "metadata": {},
   "outputs": [],
   "source": []
  }
 ],
 "metadata": {
  "kernelspec": {
   "display_name": "Python 3",
   "language": "python",
   "name": "python3"
  },
  "language_info": {
   "codemirror_mode": {
    "name": "ipython",
    "version": 3
   },
   "file_extension": ".py",
   "mimetype": "text/x-python",
   "name": "python",
   "nbconvert_exporter": "python",
   "pygments_lexer": "ipython3",
   "version": "3.7.10"
  }
 },
 "nbformat": 4,
 "nbformat_minor": 5
}
