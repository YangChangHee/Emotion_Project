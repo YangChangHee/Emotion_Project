{
 "cells": [
  {
   "cell_type": "code",
   "execution_count": 1,
   "id": "f59d9a19",
   "metadata": {},
   "outputs": [],
   "source": [
    "from sklearn.base import clone\n",
    "from itertools import combinations\n",
    "import numpy as np\n",
    "from sklearn.metrics import accuracy_score\n",
    "from sklearn.model_selection import train_test_split"
   ]
  },
  {
   "cell_type": "code",
   "execution_count": 4,
   "id": "662f8bdc",
   "metadata": {},
   "outputs": [],
   "source": [
    "input_data=np.load(\"gradient_emo.npy\")\n",
    "label=np.load(\"label_landmark.npy\")"
   ]
  },
  {
   "cell_type": "code",
   "execution_count": 5,
   "id": "2ba600b0",
   "metadata": {},
   "outputs": [
    {
     "data": {
      "text/plain": [
       "(35528, 59)"
      ]
     },
     "execution_count": 5,
     "metadata": {},
     "output_type": "execute_result"
    }
   ],
   "source": [
    "label.shape\n",
    "input_data.shape"
   ]
  },
  {
   "cell_type": "code",
   "execution_count": 6,
   "id": "bc0adf86",
   "metadata": {},
   "outputs": [
    {
     "data": {
      "text/plain": [
       "array([-0.1466  , -0.1267  ,  8.5     ,  3.666   ,  1.728   ,  0.8237  ,\n",
       "        1.462   ,  0.8184  , -0.      ,  0.02    ,  0.02    , -1.143   ,\n",
       "       -1.409   , -2.666   , -5.668   ,  0.1466  , -0.3572  , -0.      ,\n",
       "        0.625   ,  1.      , -0.6665  , -0.013336, -2.      , -1.375   ,\n",
       "        1.75    ,  1.444   , -0.08    ,  0.6     ,  1.      ,  1.      ,\n",
       "        0.      , -0.375   ,  0.8335  , -0.06    ,  0.      ,  1.      ,\n",
       "       -0.6     , -0.      , -1.      , -0.      ,  0.02    , -0.579   ,\n",
       "       -0.1765  ,  1.5     ,  0.6665  , -0.75    , -1.272   , -4.668   ,\n",
       "       -1.667   ,  0.      ,  0.5     ,  3.666   , -0.3333  ,  0.5     ,\n",
       "       -0.02    , -1.      , -0.0733  ,  0.      ,  0.6     ],\n",
       "      dtype=float16)"
      ]
     },
     "execution_count": 6,
     "metadata": {},
     "output_type": "execute_result"
    }
   ],
   "source": [
    "input_data[0]"
   ]
  },
  {
   "cell_type": "code",
   "execution_count": 7,
   "id": "fa06cf42",
   "metadata": {},
   "outputs": [
    {
     "data": {
      "text/plain": [
       "array([ 7.332 ,  1.714 ,  3.75  ,  1.546 ,  1.8   ,  2.75  ,  0.3   ,\n",
       "        0.636 , -0.3333, -0.5557, -0.3809, -1.214 , -2.572 , -2.25  ,\n",
       "       -5.668 , -3.143 , -4.668 , -0.3635, -0.    , -0.    , -0.4   ,\n",
       "       -0.    ,  0.5   ,  1.286 , -5.25  , -7.332 , -0.0933,  0.75  ,\n",
       "        1.333 , -0.5713, -0.    , -1.    , -0.    ,  0.636 , -0.4285,\n",
       "        0.    , -0.7   , -0.    ,  1.    , -0.2727,  0.    , -1.    ,\n",
       "       -0.4285,  0.4285, -0.    , -0.    , -0.    , -2.    , -0.3635,\n",
       "        0.    ,  0.5713,  0.4285, -0.    ,  0.75  , -0.    , -0.389 ,\n",
       "       -0.389 ,  0.    ,  0.4285], dtype=float16)"
      ]
     },
     "execution_count": 7,
     "metadata": {},
     "output_type": "execute_result"
    }
   ],
   "source": [
    "input_data[10001]"
   ]
  },
  {
   "cell_type": "code",
   "execution_count": 8,
   "id": "0e9cae33",
   "metadata": {},
   "outputs": [],
   "source": [
    "from sklearn.model_selection import train_test_split\n",
    "\n",
    "X_train, X_test, y_train, y_test = \\\n",
    "    train_test_split(input_data, label, test_size=0.3, \n",
    "                     stratify=label,\n",
    "                     random_state=0)"
   ]
  },
  {
   "cell_type": "code",
   "execution_count": 9,
   "id": "7e578ad7",
   "metadata": {},
   "outputs": [],
   "source": [
    "from sklearn.preprocessing import StandardScaler\n",
    "\n",
    "sc = StandardScaler()\n",
    "X_train_std = sc.fit_transform(X_train)\n",
    "X_test_std = sc.transform(X_test)"
   ]
  },
  {
   "cell_type": "code",
   "execution_count": 18,
   "id": "c430cecf",
   "metadata": {},
   "outputs": [
    {
     "name": "stdout",
     "output_type": "stream",
     "text": [
      "테스트 정확도: 0.371\n"
     ]
    }
   ],
   "source": [
    "from sklearn.preprocessing import StandardScaler\n",
    "from sklearn.decomposition import PCA\n",
    "from sklearn.linear_model import LogisticRegression\n",
    "from sklearn.pipeline import make_pipeline\n",
    "\n",
    "pipe_lr = make_pipeline(StandardScaler(),\n",
    "                        PCA(n_components=55),\n",
    "                        LogisticRegression(solver='liblinear', random_state=1))\n",
    "\n",
    "pipe_lr.fit(X_train_std, y_train)\n",
    "y_pred = pipe_lr.predict(X_test_std)\n",
    "print('테스트 정확도: %.3f' % pipe_lr.score(X_test_std, y_test))"
   ]
  },
  {
   "cell_type": "code",
   "execution_count": 19,
   "id": "f41f7897",
   "metadata": {},
   "outputs": [
    {
     "name": "stdout",
     "output_type": "stream",
     "text": [
      "폴드:  1, 클래스 분포: [3086  343 3179 5634 3876 3764 2500], 정확도: 0.383\n",
      "폴드:  2, 클래스 분포: [3086  343 3179 5634 3876 3764 2500], 정확도: 0.366\n",
      "폴드:  3, 클래스 분포: [3085  343 3179 5634 3876 3765 2500], 정확도: 0.371\n",
      "폴드:  4, 클래스 분포: [3085  343 3180 5634 3875 3765 2500], 정확도: 0.377\n",
      "폴드:  5, 클래스 분포: [3085  343 3180 5634 3875 3765 2500], 정확도: 0.372\n",
      "폴드:  6, 클래스 분포: [3085  343 3180 5634 3875 3765 2500], 정확도: 0.364\n",
      "폴드:  7, 클래스 분포: [3085  343 3180 5634 3875 3765 2500], 정확도: 0.365\n",
      "폴드:  8, 클래스 분포: [3085  343 3180 5634 3875 3765 2500], 정확도: 0.377\n",
      "폴드:  9, 클래스 분포: [3085  342 3180 5634 3875 3765 2501], 정확도: 0.377\n",
      "폴드: 10, 클래스 분포: [3085  343 3180 5634 3876 3764 2501], 정확도: 0.375\n",
      "\n",
      "CV 정확도: 0.373 +/- 0.006\n"
     ]
    }
   ],
   "source": [
    "import numpy as np\n",
    "from sklearn.model_selection import StratifiedKFold\n",
    "    \n",
    "\n",
    "kfold = StratifiedKFold(n_splits=10, shuffle=True,\n",
    "                        random_state=1).split(X_train, y_train)\n",
    "\n",
    "scores = []\n",
    "for k, (train, test) in enumerate(kfold):\n",
    "    pipe_lr.fit(X_train[train], y_train[train])\n",
    "    score = pipe_lr.score(X_train[test], y_train[test])\n",
    "    scores.append(score)\n",
    "    print('폴드: %2d, 클래스 분포: %s, 정확도: %.3f' % (k+1,\n",
    "          np.bincount(y_train[train]), score))\n",
    "    \n",
    "print('\\nCV 정확도: %.3f +/- %.3f' % (np.mean(scores), np.std(scores)))"
   ]
  },
  {
   "cell_type": "code",
   "execution_count": 20,
   "id": "8f7fd796",
   "metadata": {},
   "outputs": [
    {
     "name": "stdout",
     "output_type": "stream",
     "text": [
      "CV 정확도 점수: [0.37354242 0.37474869 0.35866506 0.37314033 0.36791315 0.37917169\n",
      " 0.37394451 0.36911942 0.37836751 0.36564763]\n",
      "CV 정확도: 0.371 +/- 0.006\n"
     ]
    }
   ],
   "source": [
    "from sklearn.model_selection import cross_val_score\n",
    "\n",
    "scores = cross_val_score(estimator=pipe_lr,\n",
    "                         X=X_train,\n",
    "                         y=y_train,\n",
    "                         cv=10,\n",
    "                         n_jobs=-1)#하나의 CPU하나의 코어만 사용\n",
    "print('CV 정확도 점수: %s' % scores)\n",
    "print('CV 정확도: %.3f +/- %.3f' % (np.mean(scores), np.std(scores)))"
   ]
  },
  {
   "cell_type": "code",
   "execution_count": 21,
   "id": "d08108cc",
   "metadata": {},
   "outputs": [
    {
     "name": "stdout",
     "output_type": "stream",
     "text": [
      "CV 정확도 점수: [0.37354242 0.37474869 0.35866506 0.37314033 0.36791315 0.37917169\n",
      " 0.37394451 0.36911942 0.37836751 0.36564763]\n",
      "CV 정확도: 0.371 +/- 0.006\n"
     ]
    }
   ],
   "source": [
    "from sklearn.model_selection import cross_validate\n",
    "\n",
    "scores = cross_validate(estimator=pipe_lr, \n",
    "                        X=X_train, \n",
    "                        y=y_train, \n",
    "                        scoring=['accuracy'], \n",
    "                        cv=10, \n",
    "                        n_jobs=-1, # 컴퓨터에 설치된 모든 CPU의 코어를 사용한다.\n",
    "                        return_train_score=False)\n",
    "print('CV 정확도 점수: %s' % scores['test_accuracy'])\n",
    "print('CV 정확도: %.3f +/- %.3f' % (np.mean(scores['test_accuracy']), \n",
    "                                 np.std(scores['test_accuracy'])))"
   ]
  },
  {
   "cell_type": "code",
   "execution_count": 22,
   "id": "e99cf50d",
   "metadata": {},
   "outputs": [],
   "source": [
    "import matplotlib.pyplot as plt"
   ]
  },
  {
   "cell_type": "code",
   "execution_count": 24,
   "id": "fa09575d",
   "metadata": {},
   "outputs": [
    {
     "data": {
      "image/png": "[encoded data removed]",
      "text/plain": [
       "<Figure size 432x288 with 1 Axes>"
      ]
     },
     "metadata": {
      "needs_background": "light"
     },
     "output_type": "display_data"
    }
   ],
   "source": [
    "from sklearn.model_selection import learning_curve\n",
    "\n",
    "\n",
    "pipe_lr = make_pipeline(StandardScaler(),\n",
    "                        LogisticRegression(solver='liblinear', \n",
    "                                           penalty='l2', \n",
    "                                           random_state=1))\n",
    "\n",
    "train_sizes, train_scores, test_scores =\\\n",
    "                learning_curve(estimator=pipe_lr, # 학습곡선 그려줌\n",
    "                               X=X_train,\n",
    "                               y=y_train,\n",
    "                               train_sizes=np.linspace(0.1, 1.0, 10),\n",
    "                               cv=10,\n",
    "                               n_jobs=-1)\n",
    "\n",
    "train_mean = np.mean(train_scores, axis=1)\n",
    "train_std = np.std(train_scores, axis=1)\n",
    "test_mean = np.mean(test_scores, axis=1)\n",
    "test_std = np.std(test_scores, axis=1)\n",
    "\n",
    "plt.plot(train_sizes, train_mean,\n",
    "         color='blue', marker='o',\n",
    "         markersize=5, label='training accuracy')\n",
    "\n",
    "plt.fill_between(train_sizes,\n",
    "                 train_mean + train_std,\n",
    "                 train_mean - train_std,\n",
    "                 alpha=0.15, color='blue')\n",
    "\n",
    "plt.plot(train_sizes, test_mean,\n",
    "         color='green', linestyle='--',\n",
    "         marker='s', markersize=5,\n",
    "         label='validation accuracy')\n",
    "\n",
    "plt.fill_between(train_sizes,\n",
    "                 test_mean + test_std,\n",
    "                 test_mean - test_std,\n",
    "                 alpha=0.15, color='green')\n",
    "\n",
    "plt.grid()\n",
    "plt.xlabel('Number of training samples')\n",
    "plt.ylabel('Accuracy')\n",
    "plt.legend(loc='lower right')\n",
    "plt.ylim([0.0, 1.03])\n",
    "plt.tight_layout()\n",
    "plt.show()"
   ]
  },
  {
   "cell_type": "code",
   "execution_count": null,
   "id": "dda5f286",
   "metadata": {},
   "outputs": [],
   "source": []
  }
 ],
 "metadata": {
  "kernelspec": {
   "display_name": "Python 3",
   "language": "python",
   "name": "python3"
  },
  "language_info": {
   "codemirror_mode": {
    "name": "ipython",
    "version": 3
   },
   "file_extension": ".py",
   "mimetype": "text/x-python",
   "name": "python",
   "nbconvert_exporter": "python",
   "pygments_lexer": "ipython3",
   "version": "3.6.12"
  }
 },
 "nbformat": 4,
 "nbformat_minor": 5
}
