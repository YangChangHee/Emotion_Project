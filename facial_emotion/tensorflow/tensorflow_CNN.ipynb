{
 "cells": [
  {
   "cell_type": "code",
   "execution_count": 1,
   "id": "8785a1d7",
   "metadata": {},
   "outputs": [],
   "source": [
    "import numpy as np"
   ]
  },
  {
   "cell_type": "code",
   "execution_count": 2,
   "id": "7152f720",
   "metadata": {},
   "outputs": [],
   "source": [
    "a=np.load(\"input_data_emotion.npy\")\n",
    "b=np.load(\"label.np.npy\")"
   ]
  },
  {
   "cell_type": "code",
   "execution_count": 3,
   "id": "ff625f0c",
   "metadata": {},
   "outputs": [
    {
     "data": {
      "text/plain": [
       "(35887, 48, 48, 3)"
      ]
     },
     "execution_count": 3,
     "metadata": {},
     "output_type": "execute_result"
    }
   ],
   "source": [
    "a.shape"
   ]
  },
  {
   "cell_type": "code",
   "execution_count": 4,
   "id": "d29d07e7",
   "metadata": {},
   "outputs": [
    {
     "data": {
      "text/plain": [
       "(35887,)"
      ]
     },
     "execution_count": 4,
     "metadata": {},
     "output_type": "execute_result"
    }
   ],
   "source": [
    "b.shape"
   ]
  },
  {
   "cell_type": "code",
   "execution_count": 5,
   "id": "31abdf71",
   "metadata": {},
   "outputs": [],
   "source": [
    "from sklearn.model_selection import train_test_split\n",
    "X_train, X_test, y_train, y_test = \\\n",
    "    train_test_split(a, b, \n",
    "                     test_size=0.20,\n",
    "                     stratify=b,\n",
    "                     random_state=1)"
   ]
  },
  {
   "cell_type": "code",
   "execution_count": 6,
   "id": "e941f276",
   "metadata": {},
   "outputs": [],
   "source": [
    "mean_vals = np.mean(X_train, axis=0)\n",
    "std_val = np.std(X_train)"
   ]
  },
  {
   "cell_type": "code",
   "execution_count": 7,
   "id": "c2253433",
   "metadata": {},
   "outputs": [],
   "source": [
    "X_train_centered = (X_train - mean_vals)/std_val\n",
    "X_valid_centered = (X_test - mean_vals)/std_val"
   ]
  },
  {
   "cell_type": "code",
   "execution_count": 8,
   "id": "a5232386",
   "metadata": {},
   "outputs": [
    {
     "data": {
      "text/plain": [
       "(28709, 48, 48, 3)"
      ]
     },
     "execution_count": 8,
     "metadata": {},
     "output_type": "execute_result"
    }
   ],
   "source": [
    "X_train.shape"
   ]
  },
  {
   "cell_type": "code",
   "execution_count": 9,
   "id": "b001301e",
   "metadata": {},
   "outputs": [],
   "source": [
    "from tensorflow.keras.utils import to_categorical\n",
    "\n",
    "y_train_onehot = to_categorical(y_train)\n",
    "y_valid_onehot = to_categorical(y_test)"
   ]
  },
  {
   "cell_type": "code",
   "execution_count": 10,
   "id": "213c9c07",
   "metadata": {},
   "outputs": [],
   "source": [
    "from tensorflow.keras import layers, models"
   ]
  },
  {
   "cell_type": "code",
   "execution_count": 11,
   "id": "12e27def",
   "metadata": {},
   "outputs": [],
   "source": [
    "model = models.Sequential()"
   ]
  },
  {
   "cell_type": "code",
   "execution_count": 12,
   "id": "5539662e",
   "metadata": {},
   "outputs": [],
   "source": [
    "model.add(layers.Conv2D(32, (5, 5), padding='valid', \n",
    "                        activation='relu', input_shape=(48, 48,3)))\n",
    "model.add(layers.MaxPool2D((2, 2)))\n",
    "model.add(layers.Conv2D(64, (5, 5), padding='valid', \n",
    "                        activation='relu'))\n",
    "model.add(layers.MaxPool2D((2, 2)))\n",
    "model.add(layers.Flatten())\n",
    "model.add(layers.Dense(9*9*64, activation='relu'))\n",
    "model.add(layers.Dropout(0.5))\n",
    "model.add(layers.Dense(7, activation='softmax'))"
   ]
  },
  {
   "cell_type": "code",
   "execution_count": 13,
   "id": "3d44e506",
   "metadata": {},
   "outputs": [
    {
     "name": "stdout",
     "output_type": "stream",
     "text": [
      "Model: \"sequential\"\n",
      "_________________________________________________________________\n",
      "Layer (type)                 Output Shape              Param #   \n",
      "=================================================================\n",
      "conv2d (Conv2D)              (None, 44, 44, 32)        2432      \n",
      "_________________________________________________________________\n",
      "max_pooling2d (MaxPooling2D) (None, 22, 22, 32)        0         \n",
      "_________________________________________________________________\n",
      "conv2d_1 (Conv2D)            (None, 18, 18, 64)        51264     \n",
      "_________________________________________________________________\n",
      "max_pooling2d_1 (MaxPooling2 (None, 9, 9, 64)          0         \n",
      "_________________________________________________________________\n",
      "flatten (Flatten)            (None, 5184)              0         \n",
      "_________________________________________________________________\n",
      "dense (Dense)                (None, 5184)              26879040  \n",
      "_________________________________________________________________\n",
      "dropout (Dropout)            (None, 5184)              0         \n",
      "_________________________________________________________________\n",
      "dense_1 (Dense)              (None, 7)                 36295     \n",
      "=================================================================\n",
      "Total params: 26,969,031\n",
      "Trainable params: 26,969,031\n",
      "Non-trainable params: 0\n",
      "_________________________________________________________________\n"
     ]
    }
   ],
   "source": [
    "model.summary()"
   ]
  },
  {
   "cell_type": "code",
   "execution_count": 14,
   "id": "212951ef",
   "metadata": {},
   "outputs": [],
   "source": [
    "model.compile(loss='categorical_crossentropy', \n",
    "              optimizer='adam', metrics=['acc'])"
   ]
  },
  {
   "cell_type": "code",
   "execution_count": 15,
   "id": "d04febe5",
   "metadata": {},
   "outputs": [],
   "source": [
    "import time\n",
    "from tensorflow.keras.callbacks import ModelCheckpoint, TensorBoard\n",
    "\n",
    "callback_list = [ModelCheckpoint(filepath='cnn_checkpoint.h5', \n",
    "                                 monitor='val_loss', \n",
    "                                 save_best_only=True), \n",
    "                 TensorBoard(log_dir=\"logs/{}\".format(time.asctime()))]"
   ]
  },
  {
   "cell_type": "code",
   "execution_count": 16,
   "id": "25125c75",
   "metadata": {},
   "outputs": [
    {
     "name": "stdout",
     "output_type": "stream",
     "text": [
      "Epoch 1/100\n",
      "15/15 [==============================] - 3s 88ms/step - loss: 222.4333 - acc: 0.1816 - val_loss: 1.9313 - val_acc: 0.2509\n",
      "Epoch 2/100\n",
      "15/15 [==============================] - 1s 64ms/step - loss: 1.9197 - acc: 0.2494 - val_loss: 1.8811 - val_acc: 0.2503\n",
      "Epoch 3/100\n",
      "15/15 [==============================] - 1s 64ms/step - loss: 1.8679 - acc: 0.2492 - val_loss: 1.8364 - val_acc: 0.2506\n",
      "Epoch 4/100\n",
      "15/15 [==============================] - 1s 64ms/step - loss: 1.8283 - acc: 0.2498 - val_loss: 1.8186 - val_acc: 0.2513\n",
      "Epoch 5/100\n",
      "15/15 [==============================] - 1s 64ms/step - loss: 1.8109 - acc: 0.2555 - val_loss: 1.8136 - val_acc: 0.2510\n",
      "Epoch 6/100\n",
      "15/15 [==============================] - 1s 64ms/step - loss: 1.8086 - acc: 0.2530 - val_loss: 1.8168 - val_acc: 0.2519\n",
      "Epoch 7/100\n",
      "15/15 [==============================] - 1s 64ms/step - loss: 1.8035 - acc: 0.2574 - val_loss: 1.8134 - val_acc: 0.2517\n",
      "Epoch 8/100\n",
      "15/15 [==============================] - 1s 64ms/step - loss: 1.8015 - acc: 0.2555 - val_loss: 1.8132 - val_acc: 0.2519\n",
      "Epoch 9/100\n",
      "15/15 [==============================] - 1s 64ms/step - loss: 1.8003 - acc: 0.2576 - val_loss: 1.8142 - val_acc: 0.2531\n",
      "Epoch 10/100\n",
      "15/15 [==============================] - 1s 64ms/step - loss: 1.7975 - acc: 0.2592 - val_loss: 1.8171 - val_acc: 0.2526\n",
      "Epoch 11/100\n",
      "15/15 [==============================] - 1s 64ms/step - loss: 1.7987 - acc: 0.2551 - val_loss: 1.8176 - val_acc: 0.2515\n",
      "Epoch 12/100\n",
      "15/15 [==============================] - 1s 64ms/step - loss: 1.7965 - acc: 0.2605 - val_loss: 1.8178 - val_acc: 0.2531\n",
      "Epoch 13/100\n",
      "15/15 [==============================] - 1s 64ms/step - loss: 1.7966 - acc: 0.2538 - val_loss: 1.8310 - val_acc: 0.2534\n",
      "Epoch 14/100\n",
      "15/15 [==============================] - 1s 64ms/step - loss: 1.7917 - acc: 0.2628 - val_loss: 1.8355 - val_acc: 0.2529\n",
      "Epoch 15/100\n",
      "15/15 [==============================] - 1s 64ms/step - loss: 1.7964 - acc: 0.2603 - val_loss: 1.8319 - val_acc: 0.2536\n",
      "Epoch 16/100\n",
      "15/15 [==============================] - 1s 64ms/step - loss: 1.8012 - acc: 0.2590 - val_loss: 1.8247 - val_acc: 0.2506\n",
      "Epoch 17/100\n",
      "15/15 [==============================] - 1s 64ms/step - loss: 1.7935 - acc: 0.2612 - val_loss: 1.8198 - val_acc: 0.2522\n",
      "Epoch 18/100\n",
      "15/15 [==============================] - 1s 65ms/step - loss: 1.7940 - acc: 0.2605 - val_loss: 1.8243 - val_acc: 0.2527\n",
      "Epoch 19/100\n",
      "15/15 [==============================] - 1s 65ms/step - loss: 1.7902 - acc: 0.2607 - val_loss: 1.8320 - val_acc: 0.2526\n",
      "Epoch 20/100\n",
      "15/15 [==============================] - 1s 64ms/step - loss: 1.7872 - acc: 0.2622 - val_loss: 1.8371 - val_acc: 0.2526\n",
      "Epoch 21/100\n",
      "15/15 [==============================] - 1s 64ms/step - loss: 1.7861 - acc: 0.2648 - val_loss: 1.8552 - val_acc: 0.2538\n",
      "Epoch 22/100\n",
      "15/15 [==============================] - 1s 65ms/step - loss: 1.7853 - acc: 0.2671 - val_loss: 1.8409 - val_acc: 0.2533\n",
      "Epoch 23/100\n",
      "15/15 [==============================] - 1s 65ms/step - loss: 1.7946 - acc: 0.2615 - val_loss: 1.8425 - val_acc: 0.2538\n",
      "Epoch 24/100\n",
      "15/15 [==============================] - 1s 64ms/step - loss: 1.7814 - acc: 0.2665 - val_loss: 1.8455 - val_acc: 0.2536\n",
      "Epoch 25/100\n",
      "15/15 [==============================] - 1s 65ms/step - loss: 1.7762 - acc: 0.2670 - val_loss: 1.8570 - val_acc: 0.2548\n",
      "Epoch 26/100\n",
      "15/15 [==============================] - 1s 65ms/step - loss: 1.7713 - acc: 0.2704 - val_loss: 1.8642 - val_acc: 0.2547\n",
      "Epoch 27/100\n",
      "15/15 [==============================] - 1s 65ms/step - loss: 1.7725 - acc: 0.2692 - val_loss: 1.8738 - val_acc: 0.2545\n",
      "Epoch 28/100\n",
      "15/15 [==============================] - 1s 64ms/step - loss: 1.7680 - acc: 0.2744 - val_loss: 1.8815 - val_acc: 0.2559\n",
      "Epoch 29/100\n",
      "15/15 [==============================] - 1s 65ms/step - loss: 1.7662 - acc: 0.2710 - val_loss: 1.8755 - val_acc: 0.2561\n",
      "Epoch 30/100\n",
      "15/15 [==============================] - 1s 64ms/step - loss: 1.7709 - acc: 0.2692 - val_loss: 1.9092 - val_acc: 0.2561\n",
      "Epoch 31/100\n",
      "15/15 [==============================] - 1s 65ms/step - loss: 1.7672 - acc: 0.2749 - val_loss: 1.8732 - val_acc: 0.2555\n",
      "Epoch 32/100\n",
      "15/15 [==============================] - 1s 65ms/step - loss: 1.7604 - acc: 0.2742 - val_loss: 1.8802 - val_acc: 0.2576\n",
      "Epoch 33/100\n",
      "15/15 [==============================] - 1s 65ms/step - loss: 1.7589 - acc: 0.2764 - val_loss: 1.9098 - val_acc: 0.2580\n",
      "Epoch 34/100\n",
      "15/15 [==============================] - 1s 65ms/step - loss: 1.7785 - acc: 0.2723 - val_loss: 1.8842 - val_acc: 0.2549\n",
      "Epoch 35/100\n",
      "15/15 [==============================] - 1s 64ms/step - loss: 1.7734 - acc: 0.2707 - val_loss: 1.9356 - val_acc: 0.2569\n",
      "Epoch 36/100\n",
      "15/15 [==============================] - 1s 65ms/step - loss: 1.7805 - acc: 0.2709 - val_loss: 1.8643 - val_acc: 0.2563\n",
      "Epoch 37/100\n",
      "15/15 [==============================] - 1s 64ms/step - loss: 1.7682 - acc: 0.2742 - val_loss: 1.9124 - val_acc: 0.2565\n",
      "Epoch 38/100\n",
      "15/15 [==============================] - 1s 65ms/step - loss: 1.7623 - acc: 0.2754 - val_loss: 1.9004 - val_acc: 0.2572\n",
      "Epoch 39/100\n",
      "15/15 [==============================] - 1s 65ms/step - loss: 1.7643 - acc: 0.2750 - val_loss: 1.8899 - val_acc: 0.2562\n",
      "Epoch 40/100\n",
      "15/15 [==============================] - 1s 65ms/step - loss: 1.7612 - acc: 0.2720 - val_loss: 1.9185 - val_acc: 0.2566\n",
      "Epoch 41/100\n",
      "15/15 [==============================] - 1s 65ms/step - loss: 1.7571 - acc: 0.2769 - val_loss: 1.9053 - val_acc: 0.2581\n",
      "Epoch 42/100\n",
      "15/15 [==============================] - 1s 65ms/step - loss: 1.7551 - acc: 0.2762 - val_loss: 1.9225 - val_acc: 0.2588\n",
      "Epoch 43/100\n",
      "15/15 [==============================] - 1s 65ms/step - loss: 1.7535 - acc: 0.2787 - val_loss: 1.9381 - val_acc: 0.2583\n",
      "Epoch 44/100\n",
      "15/15 [==============================] - 1s 65ms/step - loss: 1.7522 - acc: 0.2772 - val_loss: 1.9074 - val_acc: 0.2556\n",
      "Epoch 45/100\n",
      "15/15 [==============================] - 1s 65ms/step - loss: 1.7731 - acc: 0.2715 - val_loss: 1.9593 - val_acc: 0.2577\n",
      "Epoch 46/100\n",
      "15/15 [==============================] - 1s 65ms/step - loss: 1.7678 - acc: 0.2765 - val_loss: 1.9686 - val_acc: 0.2562\n",
      "Epoch 47/100\n",
      "15/15 [==============================] - 1s 65ms/step - loss: 1.7641 - acc: 0.2730 - val_loss: 1.9283 - val_acc: 0.2575\n",
      "Epoch 48/100\n",
      "15/15 [==============================] - 1s 66ms/step - loss: 1.7531 - acc: 0.2805 - val_loss: 1.9437 - val_acc: 0.2588\n",
      "Epoch 49/100\n",
      "15/15 [==============================] - 1s 65ms/step - loss: 1.7662 - acc: 0.2762 - val_loss: 1.9444 - val_acc: 0.2569\n",
      "Epoch 50/100\n",
      "15/15 [==============================] - 1s 66ms/step - loss: 1.7641 - acc: 0.2723 - val_loss: 1.9274 - val_acc: 0.2572\n",
      "Epoch 51/100\n",
      "15/15 [==============================] - 1s 65ms/step - loss: 1.7559 - acc: 0.2797 - val_loss: 1.9348 - val_acc: 0.2570\n",
      "Epoch 52/100\n",
      "15/15 [==============================] - 1s 65ms/step - loss: 1.7534 - acc: 0.2805 - val_loss: 1.9527 - val_acc: 0.2551\n",
      "Epoch 53/100\n",
      "15/15 [==============================] - 1s 65ms/step - loss: 1.7523 - acc: 0.2774 - val_loss: 1.9838 - val_acc: 0.2588\n",
      "Epoch 54/100\n",
      "15/15 [==============================] - 1s 65ms/step - loss: 1.7435 - acc: 0.2863 - val_loss: 1.9654 - val_acc: 0.2593\n",
      "Epoch 55/100\n",
      "15/15 [==============================] - 1s 65ms/step - loss: 1.7371 - acc: 0.2859 - val_loss: 1.9856 - val_acc: 0.2590\n",
      "Epoch 56/100\n",
      "15/15 [==============================] - 1s 65ms/step - loss: 1.7394 - acc: 0.2841 - val_loss: 2.0016 - val_acc: 0.2579\n",
      "Epoch 57/100\n",
      "15/15 [==============================] - 1s 65ms/step - loss: 1.7457 - acc: 0.2837 - val_loss: 1.9926 - val_acc: 0.2576\n",
      "Epoch 58/100\n",
      "15/15 [==============================] - 1s 66ms/step - loss: 1.7503 - acc: 0.2830 - val_loss: 1.9731 - val_acc: 0.2576\n",
      "Epoch 59/100\n",
      "15/15 [==============================] - 1s 66ms/step - loss: 1.7461 - acc: 0.2800 - val_loss: 1.9925 - val_acc: 0.2577\n",
      "Epoch 60/100\n",
      "15/15 [==============================] - 1s 65ms/step - loss: 1.7402 - acc: 0.2871 - val_loss: 1.9454 - val_acc: 0.2594\n",
      "Epoch 61/100\n",
      "15/15 [==============================] - 1s 65ms/step - loss: 1.7623 - acc: 0.2784 - val_loss: 1.9623 - val_acc: 0.2612\n",
      "Epoch 62/100\n"
     ]
    },
    {
     "name": "stdout",
     "output_type": "stream",
     "text": [
      "15/15 [==============================] - 1s 65ms/step - loss: 1.7581 - acc: 0.2791 - val_loss: 1.9229 - val_acc: 0.2570\n",
      "Epoch 63/100\n",
      "15/15 [==============================] - 1s 65ms/step - loss: 1.7590 - acc: 0.2770 - val_loss: 1.9293 - val_acc: 0.2548\n",
      "Epoch 64/100\n",
      "15/15 [==============================] - 1s 65ms/step - loss: 1.7486 - acc: 0.2806 - val_loss: 1.9695 - val_acc: 0.2593\n",
      "Epoch 65/100\n",
      "15/15 [==============================] - 1s 65ms/step - loss: 1.7439 - acc: 0.2815 - val_loss: 1.9582 - val_acc: 0.2593\n",
      "Epoch 66/100\n",
      "15/15 [==============================] - 1s 65ms/step - loss: 1.7360 - acc: 0.2846 - val_loss: 1.9646 - val_acc: 0.2605\n",
      "Epoch 67/100\n",
      "15/15 [==============================] - 1s 65ms/step - loss: 1.7631 - acc: 0.2760 - val_loss: 1.9326 - val_acc: 0.2586\n",
      "Epoch 68/100\n",
      "15/15 [==============================] - 1s 65ms/step - loss: 1.7705 - acc: 0.2720 - val_loss: 1.9549 - val_acc: 0.2565\n",
      "Epoch 69/100\n",
      "15/15 [==============================] - 1s 66ms/step - loss: 1.7554 - acc: 0.2777 - val_loss: 1.9527 - val_acc: 0.2566\n",
      "Epoch 70/100\n",
      "15/15 [==============================] - 1s 65ms/step - loss: 1.7573 - acc: 0.2807 - val_loss: 1.9305 - val_acc: 0.2572\n",
      "Epoch 71/100\n",
      "15/15 [==============================] - 1s 66ms/step - loss: 1.7519 - acc: 0.2809 - val_loss: 1.9360 - val_acc: 0.2565\n",
      "Epoch 72/100\n",
      "15/15 [==============================] - 1s 65ms/step - loss: 1.7613 - acc: 0.2744 - val_loss: 1.9484 - val_acc: 0.2563\n",
      "Epoch 73/100\n",
      "15/15 [==============================] - 1s 66ms/step - loss: 1.7680 - acc: 0.2739 - val_loss: 1.9133 - val_acc: 0.2566\n",
      "Epoch 74/100\n",
      "15/15 [==============================] - 1s 65ms/step - loss: 1.7609 - acc: 0.2773 - val_loss: 1.9499 - val_acc: 0.2577\n",
      "Epoch 75/100\n",
      "15/15 [==============================] - 1s 65ms/step - loss: 1.7573 - acc: 0.2814 - val_loss: 1.9394 - val_acc: 0.2579\n",
      "Epoch 76/100\n",
      "15/15 [==============================] - 1s 65ms/step - loss: 1.7550 - acc: 0.2823 - val_loss: 1.9268 - val_acc: 0.2577\n",
      "Epoch 77/100\n",
      "15/15 [==============================] - 1s 65ms/step - loss: 1.7517 - acc: 0.2833 - val_loss: 1.9314 - val_acc: 0.2575\n",
      "Epoch 78/100\n",
      "15/15 [==============================] - 1s 66ms/step - loss: 1.7558 - acc: 0.2816 - val_loss: 1.9264 - val_acc: 0.2604\n",
      "Epoch 79/100\n",
      "15/15 [==============================] - 1s 65ms/step - loss: 1.7635 - acc: 0.2795 - val_loss: 1.9261 - val_acc: 0.2562\n",
      "Epoch 80/100\n",
      "15/15 [==============================] - 1s 66ms/step - loss: 1.7638 - acc: 0.2770 - val_loss: 1.9757 - val_acc: 0.2577\n",
      "Epoch 81/100\n",
      "15/15 [==============================] - 1s 65ms/step - loss: 1.7573 - acc: 0.2791 - val_loss: 1.9808 - val_acc: 0.2583\n",
      "Epoch 82/100\n",
      "15/15 [==============================] - 1s 66ms/step - loss: 1.7435 - acc: 0.2853 - val_loss: 1.9752 - val_acc: 0.2591\n",
      "Epoch 83/100\n",
      "15/15 [==============================] - 1s 66ms/step - loss: 1.7550 - acc: 0.2827 - val_loss: 1.9245 - val_acc: 0.2579\n",
      "Epoch 84/100\n",
      "15/15 [==============================] - 1s 65ms/step - loss: 1.7537 - acc: 0.2770 - val_loss: 1.9761 - val_acc: 0.2583\n",
      "Epoch 85/100\n",
      "15/15 [==============================] - 1s 66ms/step - loss: 1.7475 - acc: 0.2838 - val_loss: 2.0412 - val_acc: 0.2584\n",
      "Epoch 86/100\n",
      "15/15 [==============================] - 1s 66ms/step - loss: 1.7593 - acc: 0.2784 - val_loss: 1.9454 - val_acc: 0.2569\n",
      "Epoch 87/100\n",
      "15/15 [==============================] - 1s 65ms/step - loss: 1.7480 - acc: 0.2823 - val_loss: 2.0060 - val_acc: 0.2590\n",
      "Epoch 88/100\n",
      "15/15 [==============================] - 1s 65ms/step - loss: 1.7506 - acc: 0.2837 - val_loss: 1.9732 - val_acc: 0.2602\n",
      "Epoch 89/100\n",
      "15/15 [==============================] - 1s 65ms/step - loss: 1.7389 - acc: 0.2834 - val_loss: 1.9904 - val_acc: 0.2600\n",
      "Epoch 90/100\n",
      "15/15 [==============================] - 1s 66ms/step - loss: 1.7391 - acc: 0.2849 - val_loss: 2.0134 - val_acc: 0.2595\n",
      "Epoch 91/100\n",
      "15/15 [==============================] - 1s 66ms/step - loss: 1.7339 - acc: 0.2900 - val_loss: 2.0218 - val_acc: 0.2593\n",
      "Epoch 92/100\n",
      "15/15 [==============================] - 1s 65ms/step - loss: 1.7341 - acc: 0.2883 - val_loss: 2.0391 - val_acc: 0.2591\n",
      "Epoch 93/100\n",
      "15/15 [==============================] - 1s 65ms/step - loss: 1.7299 - acc: 0.2887 - val_loss: 2.0020 - val_acc: 0.2581\n",
      "Epoch 94/100\n",
      "15/15 [==============================] - 1s 65ms/step - loss: 1.7491 - acc: 0.2813 - val_loss: 1.9887 - val_acc: 0.2563\n",
      "Epoch 95/100\n",
      "15/15 [==============================] - 1s 65ms/step - loss: 1.7459 - acc: 0.2842 - val_loss: 1.9686 - val_acc: 0.2573\n",
      "Epoch 96/100\n",
      "15/15 [==============================] - 1s 66ms/step - loss: 1.7418 - acc: 0.2857 - val_loss: 2.0482 - val_acc: 0.2561\n",
      "Epoch 97/100\n",
      "15/15 [==============================] - 1s 65ms/step - loss: 1.7739 - acc: 0.2785 - val_loss: 1.9482 - val_acc: 0.2568\n",
      "Epoch 98/100\n",
      "15/15 [==============================] - 1s 64ms/step - loss: 1.7724 - acc: 0.2727 - val_loss: 1.9517 - val_acc: 0.2572\n",
      "Epoch 99/100\n",
      "15/15 [==============================] - 1s 65ms/step - loss: 1.7640 - acc: 0.2768 - val_loss: 1.9701 - val_acc: 0.2562\n",
      "Epoch 100/100\n",
      "15/15 [==============================] - 1s 65ms/step - loss: 1.7612 - acc: 0.2750 - val_loss: 1.9838 - val_acc: 0.2552\n"
     ]
    }
   ],
   "source": [
    "history = model.fit(X_train, y_train_onehot, \n",
    "                    batch_size=2048, epochs=100, \n",
    "                    validation_data=(X_test, y_valid_onehot),\n",
    "                    callbacks=callback_list)"
   ]
  },
  {
   "cell_type": "code",
   "execution_count": 17,
   "id": "21d905d5",
   "metadata": {},
   "outputs": [
    {
     "data": {
      "text/plain": [
       "(7178, 7)"
      ]
     },
     "execution_count": 17,
     "metadata": {},
     "output_type": "execute_result"
    }
   ],
   "source": [
    "y_valid_onehot.shape"
   ]
  },
  {
   "cell_type": "code",
   "execution_count": 18,
   "id": "73e9a2fc",
   "metadata": {},
   "outputs": [],
   "source": [
    "model.save('cnn_model.h5')"
   ]
  },
  {
   "cell_type": "code",
   "execution_count": 19,
   "id": "594103c3",
   "metadata": {},
   "outputs": [],
   "source": [
    "from tensorflow.keras.models import load_model\n",
    "\n",
    "restored_model = load_model('cnn_model.h5')\n",
    "restored_model.load_weights('cnn_checkpoint.h5')"
   ]
  },
  {
   "cell_type": "code",
   "execution_count": 20,
   "id": "9dba1303",
   "metadata": {},
   "outputs": [
    {
     "name": "stdout",
     "output_type": "stream",
     "text": [
      "225/225 [==============================] - 0s 1ms/step - loss: 1.8132 - acc: 0.2519\n"
     ]
    },
    {
     "data": {
      "text/plain": [
       "[1.8131568431854248, 0.2518807351589203]"
      ]
     },
     "execution_count": 20,
     "metadata": {},
     "output_type": "execute_result"
    }
   ],
   "source": [
    "restored_model.evaluate(X_test, y_valid_onehot)"
   ]
  },
  {
   "cell_type": "code",
   "execution_count": 21,
   "id": "3d5b1ed7",
   "metadata": {},
   "outputs": [],
   "source": [
    "pred=np.argmax(restored_model.predict(X_test), axis=1)"
   ]
  },
  {
   "cell_type": "code",
   "execution_count": 22,
   "id": "10461854",
   "metadata": {},
   "outputs": [
    {
     "data": {
      "text/plain": [
       "(7178,)"
      ]
     },
     "execution_count": 22,
     "metadata": {},
     "output_type": "execute_result"
    }
   ],
   "source": [
    "pred.shape"
   ]
  },
  {
   "cell_type": "code",
   "execution_count": 23,
   "id": "c044256e",
   "metadata": {},
   "outputs": [
    {
     "data": {
      "text/plain": [
       "<tf.Tensor: shape=(7, 7), dtype=int32, numpy=\n",
       "array([[   0,    0,    2,  987,    1,    1,    0],\n",
       "       [   0,    0,    0,  109,    0,    0,    0],\n",
       "       [   0,    0,    4, 1015,    2,    2,    1],\n",
       "       [   0,    0,    5, 1788,    4,    1,    0],\n",
       "       [   2,    0,    1, 1224,    5,    8,    0],\n",
       "       [   1,    0,    3, 1199,    3,   10,    0],\n",
       "       [   0,    0,    0,  799,    0,    0,    1]], dtype=int32)>"
      ]
     },
     "execution_count": 23,
     "metadata": {},
     "output_type": "execute_result"
    }
   ],
   "source": [
    "import tensorflow as tf\n",
    "tf.math.confusion_matrix(y_test,pred)"
   ]
  },
  {
   "cell_type": "code",
   "execution_count": null,
   "id": "77d6fcc1",
   "metadata": {},
   "outputs": [],
   "source": []
  }
 ],
 "metadata": {
  "kernelspec": {
   "display_name": "Python 3",
   "language": "python",
   "name": "python3"
  },
  "language_info": {
   "codemirror_mode": {
    "name": "ipython",
    "version": 3
   },
   "file_extension": ".py",
   "mimetype": "text/x-python",
   "name": "python",
   "nbconvert_exporter": "python",
   "pygments_lexer": "ipython3",
   "version": "3.7.10"
  }
 },
 "nbformat": 4,
 "nbformat_minor": 5
}
