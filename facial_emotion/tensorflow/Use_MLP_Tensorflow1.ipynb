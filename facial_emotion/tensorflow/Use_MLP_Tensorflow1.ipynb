{
 "cells": [
  {
   "cell_type": "code",
   "execution_count": 5,
   "id": "7106856b",
   "metadata": {},
   "outputs": [],
   "source": [
    "import numpy as np\n",
    "input_data=np.load(\"gradient_emo.npy\")\n",
    "label=np.load(\"label_landmark.npy\")\n",
    "from sklearn.model_selection import train_test_split\n",
    "\n",
    "X_train, X_test, y_train, y_test = \\\n",
    "    train_test_split(input_data, label, test_size=0.3, \n",
    "                     stratify=label,\n",
    "                     random_state=0)"
   ]
  },
  {
   "cell_type": "code",
   "execution_count": 1,
   "id": "0f5853a6",
   "metadata": {},
   "outputs": [],
   "source": [
    "import tensorflow as tf"
   ]
  },
  {
   "cell_type": "code",
   "execution_count": 2,
   "id": "c99ba6fd",
   "metadata": {},
   "outputs": [
    {
     "data": {
      "text/plain": [
       "'2.4.1'"
      ]
     },
     "execution_count": 2,
     "metadata": {},
     "output_type": "execute_result"
    }
   ],
   "source": [
    "tf.__version__"
   ]
  },
  {
   "cell_type": "code",
   "execution_count": 3,
   "id": "76d925a8",
   "metadata": {},
   "outputs": [
    {
     "name": "stdout",
     "output_type": "stream",
     "text": [
      "Last updated: 2021-06-11\n",
      "\n",
      "Python implementation: CPython\n",
      "Python version       : 3.7.10\n",
      "IPython version      : 7.24.1\n",
      "\n",
      "numpy     : 1.20.2\n",
      "tensorflow: 2.4.1\n",
      "matplotlib: 3.4.2\n",
      "\n"
     ]
    }
   ],
   "source": [
    "%load_ext watermark\n",
    "%watermark -u -d -v -p numpy,tensorflow,matplotlib"
   ]
  },
  {
   "cell_type": "code",
   "execution_count": 4,
   "id": "058d42a6",
   "metadata": {},
   "outputs": [
    {
     "name": "stdout",
     "output_type": "stream",
     "text": [
      "x= 1.0 --> z= 2.7\n",
      "x= 0.6 --> z= 1.9\n",
      "x=-1.8 --> z=-2.9\n"
     ]
    }
   ],
   "source": [
    "import tensorflow as tf\n",
    "\n",
    "## 그래프를 생성합니다\n",
    "g = tf.Graph()\n",
    "with g.as_default():\n",
    "    x = tf.compat.v1.placeholder(dtype=tf.float32,\n",
    "                       shape=(None), name='x')\n",
    "    w = tf.Variable(2.0, name='weight')\n",
    "    b = tf.Variable(0.7, name='bias')\n",
    "\n",
    "    z = w*x + b\n",
    "    init = tf.compat.v1.global_variables_initializer()\n",
    "\n",
    "## 세션을 만들고 그래프 g를 전달합니다\n",
    "with tf.compat.v1.Session(graph=g) as sess:\n",
    "    ## w와 b를 초기화합니다.\n",
    "    sess.run(init)\n",
    "    ## z를 평가합니다.\n",
    "    for t in [1.0, 0.6, -1.8]:\n",
    "        print('x=%4.1f --> z=%4.1f'%(\n",
    "              t, sess.run(z, feed_dict={x:t})))"
   ]
  },
  {
   "cell_type": "code",
   "execution_count": 7,
   "id": "8214f61d",
   "metadata": {},
   "outputs": [
    {
     "name": "stdout",
     "output_type": "stream",
     "text": [
      "행: 24869,  열: 59\n",
      "행: 10659,  열: 59\n",
      "(24869, 59) (24869,)\n",
      "(10659, 59) (10659,)\n"
     ]
    },
    {
     "name": "stderr",
     "output_type": "stream",
     "text": [
      "/home/lab/anaconda3/envs/tensorflow/lib/python3.7/site-packages/numpy/core/_methods.py:243: RuntimeWarning: overflow encountered in reduce\n",
      "  ret = umr_sum(x, axis, dtype, out, keepdims=keepdims, where=where)\n"
     ]
    }
   ],
   "source": [
    "\n",
    "print('행: %d,  열: %d' %(X_train.shape[0], \n",
    "                                 X_train.shape[1]))\n",
    "\n",
    "print('행: %d,  열: %d' %(X_test.shape[0], \n",
    "                                 X_test.shape[1]))\n",
    "\n",
    "## 평균을 0으로 만들고 표준 편차로 나눕니다.\n",
    "mean_vals = np.mean(X_train, axis=0)\n",
    "std_val = np.std(X_train)\n",
    "\n",
    "X_train_centered = (X_train - mean_vals)/std_val\n",
    "X_test_centered = (X_test - mean_vals)/std_val\n",
    " \n",
    "del X_train, X_test\n",
    " \n",
    "print(X_train_centered.shape, y_train.shape)\n",
    "\n",
    "print(X_test_centered.shape, y_test.shape)"
   ]
  },
  {
   "cell_type": "code",
   "execution_count": 8,
   "id": "03456728",
   "metadata": {},
   "outputs": [],
   "source": [
    "np.random.seed(123)"
   ]
  },
  {
   "cell_type": "code",
   "execution_count": 9,
   "id": "7796c75a",
   "metadata": {},
   "outputs": [
    {
     "name": "stdout",
     "output_type": "stream",
     "text": [
      "처음 3개 레이블:  [3 2 4]\n",
      "\n",
      "처음 3개 레이블 (원-핫):\n",
      " [[0. 0. 0. 1. 0. 0. 0.]\n",
      " [0. 0. 1. 0. 0. 0. 0.]\n",
      " [0. 0. 0. 0. 1. 0. 0.]]\n"
     ]
    }
   ],
   "source": [
    "y_train_onehot = tf.keras.utils.to_categorical(y_train)\n",
    " \n",
    "print('처음 3개 레이블: ', y_train[:3])\n",
    "print('\\n처음 3개 레이블 (원-핫):\\n', y_train_onehot[:3])"
   ]
  },
  {
   "cell_type": "code",
   "execution_count": 18,
   "id": "6d2e283e",
   "metadata": {},
   "outputs": [],
   "source": [
    "model = tf.keras.models.Sequential()\n",
    "\n",
    "model.add(\n",
    "    tf.keras.layers.Dense(\n",
    "        units=200,    \n",
    "        input_dim=X_train_centered.shape[1],\n",
    "        kernel_initializer='glorot_uniform',\n",
    "        bias_initializer='zeros',\n",
    "        activation='tanh'))\n",
    "\n",
    "model.add(\n",
    "    tf.keras.layers.Dense(\n",
    "        units=200,    \n",
    "        input_dim=500,\n",
    "        kernel_initializer='glorot_uniform',\n",
    "        bias_initializer='zeros',\n",
    "        activation='tanh'))\n",
    "\n",
    "model.add(\n",
    "    tf.keras.layers.Dense(\n",
    "        units=y_train_onehot.shape[1],    \n",
    "        input_dim=500,\n",
    "        kernel_initializer='glorot_uniform',\n",
    "        bias_initializer='zeros',\n",
    "        activation='softmax'))"
   ]
  },
  {
   "cell_type": "code",
   "execution_count": 19,
   "id": "5d0fe40a",
   "metadata": {},
   "outputs": [
    {
     "name": "stdout",
     "output_type": "stream",
     "text": [
      "Model: \"sequential_2\"\n",
      "_________________________________________________________________\n",
      "Layer (type)                 Output Shape              Param #   \n",
      "=================================================================\n",
      "dense_6 (Dense)              (None, 200)               12000     \n",
      "_________________________________________________________________\n",
      "dense_7 (Dense)              (None, 200)               40200     \n",
      "_________________________________________________________________\n",
      "dense_8 (Dense)              (None, 7)                 1407      \n",
      "=================================================================\n",
      "Total params: 53,607\n",
      "Trainable params: 53,607\n",
      "Non-trainable params: 0\n",
      "_________________________________________________________________\n"
     ]
    }
   ],
   "source": [
    "model.summary()"
   ]
  },
  {
   "cell_type": "code",
   "execution_count": 20,
   "id": "aaf84881",
   "metadata": {},
   "outputs": [],
   "source": [
    "sgd_optimizer = tf.keras.optimizers.SGD(\n",
    "    lr=0.001, decay=1e-7, momentum=.9)\n",
    "\n",
    "model.compile(optimizer=sgd_optimizer,\n",
    "              loss='categorical_crossentropy')"
   ]
  },
  {
   "cell_type": "code",
   "execution_count": 21,
   "id": "9ca34acf",
   "metadata": {},
   "outputs": [
    {
     "name": "stdout",
     "output_type": "stream",
     "text": [
      "Epoch 1/50\n",
      "350/350 [==============================] - 1s 1ms/step - loss: 1.8872 - val_loss: 1.8242\n",
      "Epoch 2/50\n",
      "350/350 [==============================] - 0s 1ms/step - loss: 1.8185 - val_loss: 1.8161\n",
      "Epoch 3/50\n",
      "350/350 [==============================] - 0s 1ms/step - loss: 1.8124 - val_loss: 1.8141\n",
      "Epoch 4/50\n",
      "350/350 [==============================] - 0s 1ms/step - loss: 1.8117 - val_loss: 1.8135\n",
      "Epoch 5/50\n",
      "350/350 [==============================] - 0s 1ms/step - loss: 1.8105 - val_loss: 1.8129\n",
      "Epoch 6/50\n",
      "350/350 [==============================] - 0s 1ms/step - loss: 1.8108 - val_loss: 1.8132\n",
      "Epoch 7/50\n",
      "350/350 [==============================] - 0s 1ms/step - loss: 1.8057 - val_loss: 1.8136\n",
      "Epoch 8/50\n",
      "350/350 [==============================] - 0s 1ms/step - loss: 1.8086 - val_loss: 1.8132\n",
      "Epoch 9/50\n",
      "350/350 [==============================] - 0s 1ms/step - loss: 1.8115 - val_loss: 1.8128\n",
      "Epoch 10/50\n",
      "350/350 [==============================] - 0s 1ms/step - loss: 1.8122 - val_loss: 1.8133\n",
      "Epoch 11/50\n",
      "350/350 [==============================] - 0s 1ms/step - loss: 1.8072 - val_loss: 1.8131\n",
      "Epoch 12/50\n",
      "350/350 [==============================] - 0s 1ms/step - loss: 1.8118 - val_loss: 1.8131\n",
      "Epoch 13/50\n",
      "350/350 [==============================] - 0s 1ms/step - loss: 1.8159 - val_loss: 1.8129\n",
      "Epoch 14/50\n",
      "350/350 [==============================] - 0s 1ms/step - loss: 1.8069 - val_loss: 1.8132\n",
      "Epoch 15/50\n",
      "350/350 [==============================] - 0s 1ms/step - loss: 1.8094 - val_loss: 1.8134\n",
      "Epoch 16/50\n",
      "350/350 [==============================] - 0s 1ms/step - loss: 1.8075 - val_loss: 1.8128\n",
      "Epoch 17/50\n",
      "350/350 [==============================] - 0s 1ms/step - loss: 1.8158 - val_loss: 1.8131\n",
      "Epoch 18/50\n",
      "350/350 [==============================] - 0s 1ms/step - loss: 1.8099 - val_loss: 1.8134\n",
      "Epoch 19/50\n",
      "350/350 [==============================] - 0s 1ms/step - loss: 1.8099 - val_loss: 1.8132\n",
      "Epoch 20/50\n",
      "350/350 [==============================] - 0s 1ms/step - loss: 1.8085 - val_loss: 1.8129\n",
      "Epoch 21/50\n",
      "350/350 [==============================] - 0s 1ms/step - loss: 1.8119 - val_loss: 1.8136\n",
      "Epoch 22/50\n",
      "350/350 [==============================] - 0s 1ms/step - loss: 1.8106 - val_loss: 1.8127\n",
      "Epoch 23/50\n",
      "350/350 [==============================] - 0s 1ms/step - loss: 1.8121 - val_loss: 1.8131\n",
      "Epoch 24/50\n",
      "350/350 [==============================] - 0s 1ms/step - loss: 1.8112 - val_loss: 1.8131\n",
      "Epoch 25/50\n",
      "350/350 [==============================] - 0s 1ms/step - loss: 1.8074 - val_loss: 1.8134\n",
      "Epoch 26/50\n",
      "350/350 [==============================] - 0s 1ms/step - loss: 1.8147 - val_loss: 1.8131\n",
      "Epoch 27/50\n",
      "350/350 [==============================] - 0s 1ms/step - loss: 1.8072 - val_loss: 1.8132\n",
      "Epoch 28/50\n",
      "350/350 [==============================] - 0s 1ms/step - loss: 1.8054 - val_loss: 1.8137\n",
      "Epoch 29/50\n",
      "350/350 [==============================] - 0s 1ms/step - loss: 1.8097 - val_loss: 1.8136\n",
      "Epoch 30/50\n",
      "350/350 [==============================] - 0s 1ms/step - loss: 1.8093 - val_loss: 1.8134\n",
      "Epoch 31/50\n",
      "350/350 [==============================] - 0s 1ms/step - loss: 1.8124 - val_loss: 1.8135\n",
      "Epoch 32/50\n",
      "350/350 [==============================] - 0s 1ms/step - loss: 1.8063 - val_loss: 1.8128\n",
      "Epoch 33/50\n",
      "350/350 [==============================] - 0s 1ms/step - loss: 1.8118 - val_loss: 1.8130\n",
      "Epoch 34/50\n",
      "350/350 [==============================] - 0s 1ms/step - loss: 1.8109 - val_loss: 1.8133\n",
      "Epoch 35/50\n",
      "350/350 [==============================] - 0s 1ms/step - loss: 1.8075 - val_loss: 1.8134\n",
      "Epoch 36/50\n",
      "350/350 [==============================] - 0s 1ms/step - loss: 1.8112 - val_loss: 1.8132\n",
      "Epoch 37/50\n",
      "350/350 [==============================] - 0s 1ms/step - loss: 1.8106 - val_loss: 1.8132\n",
      "Epoch 38/50\n",
      "350/350 [==============================] - 0s 1ms/step - loss: 1.8108 - val_loss: 1.8136\n",
      "Epoch 39/50\n",
      "350/350 [==============================] - 0s 1ms/step - loss: 1.8085 - val_loss: 1.8127\n",
      "Epoch 40/50\n",
      "350/350 [==============================] - 0s 1ms/step - loss: 1.8099 - val_loss: 1.8133\n",
      "Epoch 41/50\n",
      "350/350 [==============================] - 0s 1ms/step - loss: 1.8091 - val_loss: 1.8125\n",
      "Epoch 42/50\n",
      "350/350 [==============================] - 0s 1ms/step - loss: 1.8130 - val_loss: 1.8128\n",
      "Epoch 43/50\n",
      "350/350 [==============================] - 0s 1ms/step - loss: 1.8085 - val_loss: 1.8128\n",
      "Epoch 44/50\n",
      "350/350 [==============================] - 0s 1ms/step - loss: 1.8104 - val_loss: 1.8132\n",
      "Epoch 45/50\n",
      "350/350 [==============================] - 0s 1ms/step - loss: 1.8058 - val_loss: 1.8133\n",
      "Epoch 46/50\n",
      "350/350 [==============================] - 0s 1ms/step - loss: 1.8144 - val_loss: 1.8143\n",
      "Epoch 47/50\n",
      "350/350 [==============================] - 0s 1ms/step - loss: 1.8130 - val_loss: 1.8132\n",
      "Epoch 48/50\n",
      "350/350 [==============================] - 0s 1ms/step - loss: 1.8106 - val_loss: 1.8135\n",
      "Epoch 49/50\n",
      "350/350 [==============================] - 0s 1ms/step - loss: 1.8089 - val_loss: 1.8130\n",
      "Epoch 50/50\n",
      "350/350 [==============================] - 0s 1ms/step - loss: 1.8119 - val_loss: 1.8137\n"
     ]
    }
   ],
   "source": [
    "history = model.fit(X_train_centered, y_train_onehot,\n",
    "                    batch_size=64, epochs=50,\n",
    "                    verbose=1,\n",
    "                    validation_split=0.1)"
   ]
  },
  {
   "cell_type": "code",
   "execution_count": 22,
   "id": "89de71ac",
   "metadata": {},
   "outputs": [
    {
     "name": "stdout",
     "output_type": "stream",
     "text": [
      "처음 3개 예측:  [3 3 3]\n",
      "훈련 정확도: 25.17%\n"
     ]
    }
   ],
   "source": [
    "y_train_pred = model.predict_classes(X_train_centered, \n",
    "                                     verbose=0)\n",
    "correct_preds = np.sum(y_train == y_train_pred, axis=0) \n",
    "train_acc = correct_preds / y_train.shape[0]\n",
    "\n",
    "print('처음 3개 예측: ', y_train_pred[:3])\n",
    "print('훈련 정확도: %.2f%%' % (train_acc * 100))"
   ]
  },
  {
   "cell_type": "code",
   "execution_count": 23,
   "id": "842ccc38",
   "metadata": {},
   "outputs": [
    {
     "name": "stdout",
     "output_type": "stream",
     "text": [
      "테스트 정확도: 25.17%\n"
     ]
    }
   ],
   "source": [
    "y_test_pred = model.predict_classes(X_test_centered, \n",
    "                                    verbose=0)\n",
    "\n",
    "correct_preds = np.sum(y_test == y_test_pred, axis=0) \n",
    "test_acc = correct_preds / y_test.shape[0]\n",
    "print('테스트 정확도: %.2f%%' % (test_acc * 100))"
   ]
  },
  {
   "cell_type": "code",
   "execution_count": 24,
   "id": "08ed6436",
   "metadata": {},
   "outputs": [
    {
     "name": "stdout",
     "output_type": "stream",
     "text": [
      "P(y=1|x) = 0.888\n"
     ]
    }
   ],
   "source": [
    "import numpy as np\n",
    "\n",
    "X = np.array([1, 1.4, 2.5]) ## 첫 번째 원소는 1이어야 합니다\n",
    "w = np.array([0.4, 0.3, 0.5])\n",
    "\n",
    "def net_input(X, w):\n",
    "    return np.dot(X, w)\n",
    "\n",
    "def logistic(z):\n",
    "    return 1.0 / (1.0 + np.exp(-z))\n",
    "\n",
    "def logistic_activation(X, w):\n",
    "    z = net_input(X, w)\n",
    "    return logistic(z)\n",
    "\n",
    "print('P(y=1|x) = %.3f' % logistic_activation(X, w))"
   ]
  },
  {
   "cell_type": "code",
   "execution_count": null,
   "id": "55b402f9",
   "metadata": {},
   "outputs": [],
   "source": []
  }
 ],
 "metadata": {
  "kernelspec": {
   "display_name": "Python 3",
   "language": "python",
   "name": "python3"
  },
  "language_info": {
   "codemirror_mode": {
    "name": "ipython",
    "version": 3
   },
   "file_extension": ".py",
   "mimetype": "text/x-python",
   "name": "python",
   "nbconvert_exporter": "python",
   "pygments_lexer": "ipython3",
   "version": "3.7.10"
  }
 },
 "nbformat": 4,
 "nbformat_minor": 5
}
