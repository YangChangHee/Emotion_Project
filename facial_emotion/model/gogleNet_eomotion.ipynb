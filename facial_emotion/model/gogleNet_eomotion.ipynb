{
 "cells": [
  {
   "cell_type": "code",
   "execution_count": 1,
   "id": "specified-johns",
   "metadata": {},
   "outputs": [],
   "source": [
    "import torch\n",
    "import torch.nn as nn"
   ]
  },
  {
   "cell_type": "code",
   "execution_count": 2,
   "id": "western-recognition",
   "metadata": {},
   "outputs": [],
   "source": [
    "class Inception(nn.Module):\n",
    "    \n",
    "    def __init__(self, in_planes, kernel_1_x, \n",
    "                 kernel_3_in, kernel_3_x, kernel_5_in, kernel_5_x, pool_planes):\n",
    "        super(Inception, self).__init__()\n",
    "        \n",
    "        ############### 1x1 conv brance ########################\n",
    "        # nn,Conv2d(in_dim, out_Dim, filter) stride=1 padding=1\n",
    "        self.b1 =nn.Sequential(\n",
    "        nn.Conv2d(in_planes, kernel_1_x, kernel_size=1),\n",
    "        nn.BatchNorm2d(kernel_1_x),\n",
    "        nn.ReLU(True),\n",
    "        )\n",
    "        ############### 1x1 conv => 3x3 conv brance ########################\n",
    "        self.b2 = nn.Sequential(\n",
    "            nn.Conv2d(in_planes,kernel_3_in,kernel_size=1),\n",
    "            nn.BatchNorm2d(kernel_3_in),\n",
    "            nn.ReLU(True),\n",
    "            nn.Conv2d(kernel_3_in,kernel_3_x,kernel_size=3,padding=1),\n",
    "            nn.BatchNorm2d(kernel_3_x),\n",
    "            nn.ReLU(True),\n",
    "        )\n",
    "        ############### 1x1 conv => 3x3 conv => 3x3 conv brance ############\n",
    "        self.b3 = nn.Sequential(\n",
    "            nn.Conv2d(in_planes, kernel_5_in,kernel_size=1),\n",
    "            nn.BatchNorm2d(kernel_5_in),\n",
    "            nn.ReLU(True),\n",
    "            nn.Conv2d(kernel_5_in,kernel_5_x,kernel_size=3,padding=1),\n",
    "            nn.BatchNorm2d(kernel_5_x),\n",
    "            nn.ReLU(True),\n",
    "            nn.Conv2d(kernel_5_x,kernel_5_x,kernel_size=3,padding=1),\n",
    "            nn.BatchNorm2d(kernel_5_x),\n",
    "            nn.ReLU(True),\n",
    "        )\n",
    "        self.b4=nn.Sequential(\n",
    "            nn.MaxPool2d(3, stride=1, padding=1),\n",
    "            nn.Conv2d(in_planes, pool_planes, kernel_size=1),\n",
    "            nn.BatchNorm2d(pool_planes),\n",
    "            nn.ReLU(True),\n",
    "        )\n",
    "    def forward(self,x):\n",
    "        y1=self.b1(x) #2 64 227 227\n",
    "        y2=self.b2(x) #2 128 227 227 => y1+y2= 2 192 227 227\n",
    "        y3=self.b3(x) #2 32 227 227 => y1+y2+y3 = 2 224 227 227\n",
    "        y4=self.b4(x) #2 32 227 227 => 2 256 227 227\n",
    "        return torch.cat([y1,y2,y3,y4],1)"
   ]
  },
  {
   "cell_type": "code",
   "execution_count": 3,
   "id": "practical-jerusalem",
   "metadata": {},
   "outputs": [],
   "source": [
    "def dimension_check():\n",
    "    net=Inception(3, 64, 96, 128, 16, 32, 32)\n",
    "    x= torch.randn(2,3,48,48)\n",
    "    y=net(x)\n",
    "    print(y.size())"
   ]
  },
  {
   "cell_type": "code",
   "execution_count": 4,
   "id": "killing-allen",
   "metadata": {},
   "outputs": [
    {
     "name": "stdout",
     "output_type": "stream",
     "text": [
      "torch.Size([2, 256, 48, 48])\n"
     ]
    }
   ],
   "source": [
    "dimension_check()"
   ]
  },
  {
   "cell_type": "code",
   "execution_count": 23,
   "id": "handled-template",
   "metadata": {},
   "outputs": [],
   "source": [
    "class GoogleNet(nn.Module):\n",
    "    def __init__(self):\n",
    "        super(GoogleNet,self).__init__()\n",
    "        self.pre_layers= nn.Sequential(\n",
    "            nn.Conv2d(3,192,kernel_size=3,padding=1),\n",
    "            nn.BatchNorm2d(192),\n",
    "            nn.ReLU(True),\n",
    "        )\n",
    "        self.a3= Inception(192, 64, 96, 128, 16, 32, 32) # 64 128 32 32 = 256\n",
    "        self.b3 = Inception(256, 128, 128, 192, 32, 96, 64) # 128 192 96 64 = 480\n",
    "        \n",
    "        self.max_pool = nn.MaxPool2d(3,stride=2,padding=1)\n",
    "        self.a4 = Inception(480, 192,  96, 208, 16,  48,  64)# 192 208 48 64 = 512\n",
    "        self.b4 = Inception(512, 160, 112, 224, 24,  64,  64)\n",
    "        self.c4 = Inception(512, 128, 128, 256, 24,  64,  64)\n",
    "        self.d4 = Inception(512, 112, 144, 288, 32,  64,  64)\n",
    "        self.e4 = Inception(528, 256, 160, 320, 32, 128, 128)\n",
    "        self.a5 = Inception(832, 256, 160, 320, 32, 128, 128)\n",
    "        self.b5 = Inception(832, 384, 192, 384, 48, 128, 128)\n",
    "        \n",
    "        self.avgpool = nn.AvgPool2d(8, stride=1)\n",
    "        self.linear = nn.Linear(25600, 7)\n",
    "        \n",
    "    def forward(self,x):\n",
    "        x= self.pre_layers(x)\n",
    "        x= self.a3(x)       # 2 256 48 48\n",
    "        x= self.b3(x)       # 2 480 48 48\n",
    "        x= self.max_pool(x) # 2 480 24 24\n",
    "        x = self.a4(x)      # 2 512 24 24\n",
    "        x = self.b4(x)      # 2 512 24 24\n",
    "        x = self.c4(x)      # 2 512 24 24\n",
    "        x = self.d4(x)      # 2 528 24 24\n",
    "        x = self.e4(x)      # 2 832 24 24\n",
    "        x = self.max_pool(x)# 2 832 12 12\n",
    "        x = self.a5(x)      # 2 832 12 12\n",
    "        x = self.b5(x)      # 2 1024 12 12\n",
    "        x = self.avgpool(x) # 2 1024 6 6\n",
    "        x = x.view(x.size(0), -1) # 36864\n",
    "        x = self.linear(x)  # 10\n",
    "        return x"
   ]
  },
  {
   "cell_type": "code",
   "execution_count": 24,
   "id": "sunrise-boxing",
   "metadata": {},
   "outputs": [],
   "source": [
    "def dimension_check():\n",
    "    net=Inception(3,  64,  96, 128, 16, 32, 32)\n",
    "    x= torch.randn(2,3,50,50)\n",
    "    y=net(x)\n",
    "    print(y.size())"
   ]
  },
  {
   "cell_type": "code",
   "execution_count": 25,
   "id": "legal-reception",
   "metadata": {},
   "outputs": [],
   "source": [
    "def dimension_check():\n",
    "    net=GoogleNet()\n",
    "    x= torch.randn(1,3,48,48)\n",
    "    y=net(x)\n",
    "    print(y.size())"
   ]
  },
  {
   "cell_type": "code",
   "execution_count": 26,
   "id": "allied-christian",
   "metadata": {},
   "outputs": [
    {
     "name": "stdout",
     "output_type": "stream",
     "text": [
      "torch.Size([1, 7])\n"
     ]
    }
   ],
   "source": [
    "dimension_check()"
   ]
  },
  {
   "cell_type": "code",
   "execution_count": 27,
   "id": "further-cabin",
   "metadata": {},
   "outputs": [],
   "source": [
    "import matplotlib.pyplot as plt\n",
    "import numpy as np\n",
    "import random\n",
    "import torch\n",
    "import torchvision\n",
    "import torchvision.transforms as transforms\n",
    "import torch.nn as nn\n",
    "import torch.nn.functional as F\n",
    "import torch.optim as optim\n",
    "import argparse\n",
    "import numpy as np\n",
    "import time\n",
    "from copy import deepcopy\n",
    "import seaborn as sns \n",
    "import matplotlib.pyplot as plt"
   ]
  },
  {
   "cell_type": "code",
   "execution_count": 28,
   "id": "twelve-world",
   "metadata": {},
   "outputs": [],
   "source": [
    "input_data=np.load(\"input_data_emotion.npy\")\n",
    "label=np.load(\"label.np.npy\")"
   ]
  },
  {
   "cell_type": "code",
   "execution_count": 29,
   "id": "hundred-minneapolis",
   "metadata": {},
   "outputs": [],
   "source": [
    "label=np.array(label)\n",
    "input_data= (input_data*(1/256)-0.5)/0.5"
   ]
  },
  {
   "cell_type": "code",
   "execution_count": 30,
   "id": "wrong-integrity",
   "metadata": {},
   "outputs": [],
   "source": [
    "input_data=torch.FloatTensor(input_data)\n",
    "label=torch.LongTensor(label)"
   ]
  },
  {
   "cell_type": "code",
   "execution_count": 31,
   "id": "favorite-wagon",
   "metadata": {},
   "outputs": [],
   "source": [
    "input_data=input_data.transpose(1,3)"
   ]
  },
  {
   "cell_type": "code",
   "execution_count": 32,
   "id": "western-thesis",
   "metadata": {},
   "outputs": [],
   "source": [
    "from torch.utils.data import TensorDataset\n",
    "from torch.utils.data import DataLoader\n",
    "dataset = TensorDataset(input_data,label)"
   ]
  },
  {
   "cell_type": "code",
   "execution_count": 33,
   "id": "electric-minimum",
   "metadata": {},
   "outputs": [],
   "source": [
    "trainset,valset=torch.utils.data.random_split(dataset,[30887,5000])\n",
    "trainset,testset=torch.utils.data.random_split(trainset,[25887,5000])\n",
    "\n",
    "partition={'train':trainset,'val':valset,'test':testset}"
   ]
  },
  {
   "cell_type": "code",
   "execution_count": 34,
   "id": "fourth-welding",
   "metadata": {},
   "outputs": [],
   "source": [
    "def train(net,partition,optimizer,criterion):\n",
    "    trainloader = torch.utils.data.DataLoader(partition['train'],\n",
    "                                             batch_size=32,\n",
    "                                             shuffle=True)\n",
    "    net.train()\n",
    "    correct = 0\n",
    "    total =0\n",
    "    train_loss = 0.0\n",
    "    for i, data in enumerate(tqdm(trainloader, 0)):\n",
    "        time.sleep(0.0000001)\n",
    "        optimizer.zero_grad()\n",
    "        inputs, labels = data\n",
    "        inputs = inputs.cuda()\n",
    "        labels = labels.cuda()\n",
    "        outputs = net(inputs)\n",
    "        #break\n",
    "        loss = criterion(outputs, labels)\n",
    "        loss.backward()\n",
    "        optimizer.step()\n",
    "        \n",
    "        train_loss += loss.item()\n",
    "        _, predicted = torch.max(outputs.data, 1)\n",
    "        total += labels.size(0)\n",
    "        correct += (predicted == labels).sum().item()\n",
    "        #if i % 200 == 0:\n",
    "        #    print(correct,train_loss)\n",
    "    train_loss = train_loss / len(trainloader)\n",
    "    train_acc = 100 * correct / total\n",
    "    return net, train_loss, train_acc"
   ]
  },
  {
   "cell_type": "code",
   "execution_count": 35,
   "id": "still-liabilities",
   "metadata": {},
   "outputs": [],
   "source": [
    "def test(net, partition):\n",
    "    testloader = torch.utils.data.DataLoader(partition['test'], \n",
    "                                             batch_size=32, \n",
    "                                             shuffle=False, num_workers=2)\n",
    "    net.eval()\n",
    "    \n",
    "    correct = 0\n",
    "    total = 0\n",
    "    with torch.no_grad():\n",
    "        for data in tqdm(testloader):\n",
    "            time.sleep(0.0000001)\n",
    "            images, labels = data\n",
    "            images = images.cuda()\n",
    "            labels = labels.cuda()\n",
    "\n",
    "            outputs = net(images)\n",
    "            _, predicted = torch.max(outputs.data, 1)\n",
    "            total += labels.size(0)\n",
    "            correct += (predicted == labels).sum().item()\n",
    "\n",
    "        test_acc = 100 * correct / total\n",
    "    return test_acc"
   ]
  },
  {
   "cell_type": "code",
   "execution_count": 36,
   "id": "ordinary-review",
   "metadata": {},
   "outputs": [],
   "source": [
    "def validate(net, partition, criterion):\n",
    "    valloader = torch.utils.data.DataLoader(partition['val'], \n",
    "                                            batch_size=32, \n",
    "                                            shuffle=False, num_workers=2)\n",
    "    net.eval()\n",
    "\n",
    "    correct = 0\n",
    "    total = 0\n",
    "    val_loss = 0 \n",
    "    with torch.no_grad():\n",
    "        for data in tqdm(valloader):\n",
    "            time.sleep(0.0000001)\n",
    "            images, labels = data\n",
    "            images = images.cuda()\n",
    "            labels = labels.cuda()\n",
    "            outputs = net(images)\n",
    "\n",
    "            loss = criterion(outputs, labels)\n",
    "            \n",
    "            val_loss += loss.item()\n",
    "            _, predicted = torch.max(outputs.data, 1)\n",
    "            total += labels.size(0)\n",
    "            correct += (predicted == labels).sum().item()\n",
    "\n",
    "        val_loss = val_loss / len(valloader)\n",
    "        val_acc = 100 * correct / total\n",
    "    return val_loss, val_acc"
   ]
  },
  {
   "cell_type": "code",
   "execution_count": 37,
   "id": "aerial-algebra",
   "metadata": {},
   "outputs": [],
   "source": [
    "from tqdm import tqdm, tqdm_notebook\n",
    "from tqdm import trange\n",
    "import time"
   ]
  },
  {
   "cell_type": "code",
   "execution_count": 38,
   "id": "radical-treatment",
   "metadata": {},
   "outputs": [
    {
     "name": "stderr",
     "output_type": "stream",
     "text": [
      "100%|██████████| 809/809 [01:47<00:00,  7.55it/s]\n",
      "100%|██████████| 157/157 [00:05<00:00, 28.13it/s]\n",
      "  0%|          | 1/809 [00:00<01:50,  7.34it/s]"
     ]
    },
    {
     "name": "stdout",
     "output_type": "stream",
     "text": [
      "time : 112.73, train_loss : 1.89, train_acc : 26.13,val_acc : 29.30,val_loss : 1.74\n"
     ]
    },
    {
     "name": "stderr",
     "output_type": "stream",
     "text": [
      "100%|██████████| 809/809 [01:48<00:00,  7.43it/s]\n",
      "100%|██████████| 157/157 [00:05<00:00, 28.01it/s]\n",
      "  0%|          | 1/809 [00:00<01:53,  7.13it/s]"
     ]
    },
    {
     "name": "stdout",
     "output_type": "stream",
     "text": [
      "time : 114.49, train_loss : 1.58, train_acc : 37.55,val_acc : 38.02,val_loss : 1.60\n"
     ]
    },
    {
     "name": "stderr",
     "output_type": "stream",
     "text": [
      "100%|██████████| 809/809 [01:49<00:00,  7.41it/s]\n",
      "100%|██████████| 157/157 [00:05<00:00, 27.99it/s]\n",
      "  0%|          | 1/809 [00:00<01:54,  7.09it/s]"
     ]
    },
    {
     "name": "stdout",
     "output_type": "stream",
     "text": [
      "time : 114.81, train_loss : 1.39, train_acc : 45.65,val_acc : 44.92,val_loss : 1.45\n"
     ]
    },
    {
     "name": "stderr",
     "output_type": "stream",
     "text": [
      "100%|██████████| 809/809 [01:49<00:00,  7.40it/s]\n",
      "100%|██████████| 157/157 [00:05<00:00, 27.83it/s]\n",
      "  0%|          | 1/809 [00:00<01:53,  7.15it/s]"
     ]
    },
    {
     "name": "stdout",
     "output_type": "stream",
     "text": [
      "time : 114.95, train_loss : 1.29, train_acc : 50.29,val_acc : 51.82,val_loss : 1.24\n"
     ]
    },
    {
     "name": "stderr",
     "output_type": "stream",
     "text": [
      "100%|██████████| 809/809 [01:49<00:00,  7.40it/s]\n",
      "100%|██████████| 157/157 [00:05<00:00, 27.85it/s]\n",
      "  0%|          | 1/809 [00:00<01:53,  7.12it/s]"
     ]
    },
    {
     "name": "stdout",
     "output_type": "stream",
     "text": [
      "time : 114.99, train_loss : 1.21, train_acc : 53.30,val_acc : 53.02,val_loss : 1.22\n"
     ]
    },
    {
     "name": "stderr",
     "output_type": "stream",
     "text": [
      "100%|██████████| 809/809 [01:49<00:00,  7.40it/s]\n",
      "100%|██████████| 157/157 [00:05<00:00, 27.84it/s]\n",
      "  0%|          | 1/809 [00:00<01:52,  7.19it/s]"
     ]
    },
    {
     "name": "stdout",
     "output_type": "stream",
     "text": [
      "time : 114.96, train_loss : 1.15, train_acc : 55.78,val_acc : 54.68,val_loss : 1.18\n"
     ]
    },
    {
     "name": "stderr",
     "output_type": "stream",
     "text": [
      "100%|██████████| 809/809 [01:49<00:00,  7.40it/s]\n",
      "100%|██████████| 157/157 [00:05<00:00, 27.98it/s]\n",
      "  0%|          | 1/809 [00:00<01:52,  7.17it/s]"
     ]
    },
    {
     "name": "stdout",
     "output_type": "stream",
     "text": [
      "time : 114.90, train_loss : 1.11, train_acc : 57.83,val_acc : 56.58,val_loss : 1.14\n"
     ]
    },
    {
     "name": "stderr",
     "output_type": "stream",
     "text": [
      "100%|██████████| 809/809 [01:49<00:00,  7.40it/s]\n",
      "100%|██████████| 157/157 [00:05<00:00, 28.04it/s]\n",
      "  0%|          | 1/809 [00:00<01:52,  7.16it/s]"
     ]
    },
    {
     "name": "stdout",
     "output_type": "stream",
     "text": [
      "time : 114.93, train_loss : 1.07, train_acc : 59.74,val_acc : 55.18,val_loss : 1.17\n"
     ]
    },
    {
     "name": "stderr",
     "output_type": "stream",
     "text": [
      "100%|██████████| 809/809 [01:49<00:00,  7.39it/s]\n",
      "100%|██████████| 157/157 [00:05<00:00, 27.96it/s]\n",
      "  0%|          | 1/809 [00:00<01:51,  7.21it/s]"
     ]
    },
    {
     "name": "stdout",
     "output_type": "stream",
     "text": [
      "time : 115.15, train_loss : 1.03, train_acc : 60.66,val_acc : 58.12,val_loss : 1.11\n"
     ]
    },
    {
     "name": "stderr",
     "output_type": "stream",
     "text": [
      "100%|██████████| 809/809 [01:49<00:00,  7.39it/s]\n",
      "100%|██████████| 157/157 [00:05<00:00, 27.85it/s]\n",
      "  0%|          | 1/809 [00:00<01:53,  7.14it/s]"
     ]
    },
    {
     "name": "stdout",
     "output_type": "stream",
     "text": [
      "time : 115.15, train_loss : 0.99, train_acc : 62.51,val_acc : 59.26,val_loss : 1.08\n"
     ]
    },
    {
     "name": "stderr",
     "output_type": "stream",
     "text": [
      "100%|██████████| 809/809 [01:49<00:00,  7.39it/s]\n",
      "100%|██████████| 157/157 [00:05<00:00, 27.81it/s]\n",
      "  0%|          | 1/809 [00:00<01:52,  7.20it/s]"
     ]
    },
    {
     "name": "stdout",
     "output_type": "stream",
     "text": [
      "time : 115.17, train_loss : 0.95, train_acc : 64.23,val_acc : 58.04,val_loss : 1.13\n"
     ]
    },
    {
     "name": "stderr",
     "output_type": "stream",
     "text": [
      "100%|██████████| 809/809 [01:49<00:00,  7.39it/s]\n",
      "100%|██████████| 157/157 [00:05<00:00, 27.88it/s]\n",
      "  0%|          | 1/809 [00:00<01:51,  7.23it/s]"
     ]
    },
    {
     "name": "stdout",
     "output_type": "stream",
     "text": [
      "time : 115.10, train_loss : 0.91, train_acc : 65.64,val_acc : 59.92,val_loss : 1.11\n"
     ]
    },
    {
     "name": "stderr",
     "output_type": "stream",
     "text": [
      "100%|██████████| 809/809 [01:49<00:00,  7.38it/s]\n",
      "100%|██████████| 157/157 [00:05<00:00, 27.87it/s]\n",
      "  0%|          | 1/809 [00:00<01:52,  7.19it/s]"
     ]
    },
    {
     "name": "stdout",
     "output_type": "stream",
     "text": [
      "time : 115.21, train_loss : 0.87, train_acc : 67.46,val_acc : 55.78,val_loss : 1.31\n"
     ]
    },
    {
     "name": "stderr",
     "output_type": "stream",
     "text": [
      "100%|██████████| 809/809 [01:49<00:00,  7.41it/s]\n",
      "100%|██████████| 157/157 [00:05<00:00, 27.92it/s]\n",
      "  0%|          | 1/809 [00:00<01:51,  7.23it/s]"
     ]
    },
    {
     "name": "stdout",
     "output_type": "stream",
     "text": [
      "time : 114.82, train_loss : 0.82, train_acc : 69.33,val_acc : 60.16,val_loss : 1.10\n"
     ]
    },
    {
     "name": "stderr",
     "output_type": "stream",
     "text": [
      "100%|██████████| 809/809 [01:49<00:00,  7.39it/s]\n",
      "100%|██████████| 157/157 [00:05<00:00, 27.51it/s]\n",
      "  0%|          | 1/809 [00:00<01:52,  7.21it/s]"
     ]
    },
    {
     "name": "stdout",
     "output_type": "stream",
     "text": [
      "time : 115.24, train_loss : 0.76, train_acc : 71.67,val_acc : 61.36,val_loss : 1.07\n"
     ]
    },
    {
     "name": "stderr",
     "output_type": "stream",
     "text": [
      "100%|██████████| 809/809 [01:49<00:00,  7.38it/s]\n",
      "100%|██████████| 157/157 [00:05<00:00, 27.80it/s]\n",
      "  0%|          | 1/809 [00:00<01:51,  7.22it/s]"
     ]
    },
    {
     "name": "stdout",
     "output_type": "stream",
     "text": [
      "time : 115.32, train_loss : 0.70, train_acc : 74.00,val_acc : 60.26,val_loss : 1.14\n"
     ]
    },
    {
     "name": "stderr",
     "output_type": "stream",
     "text": [
      "100%|██████████| 809/809 [01:49<00:00,  7.39it/s]\n",
      "100%|██████████| 157/157 [00:05<00:00, 27.83it/s]\n",
      "  0%|          | 1/809 [00:00<01:52,  7.21it/s]"
     ]
    },
    {
     "name": "stdout",
     "output_type": "stream",
     "text": [
      "time : 115.11, train_loss : 0.64, train_acc : 76.35,val_acc : 60.18,val_loss : 1.17\n"
     ]
    },
    {
     "name": "stderr",
     "output_type": "stream",
     "text": [
      "100%|██████████| 809/809 [01:49<00:00,  7.41it/s]\n",
      "100%|██████████| 157/157 [00:05<00:00, 27.84it/s]\n",
      "  0%|          | 1/809 [00:00<01:52,  7.16it/s]"
     ]
    },
    {
     "name": "stdout",
     "output_type": "stream",
     "text": [
      "time : 114.78, train_loss : 0.58, train_acc : 78.51,val_acc : 59.72,val_loss : 1.19\n"
     ]
    },
    {
     "name": "stderr",
     "output_type": "stream",
     "text": [
      "100%|██████████| 809/809 [01:49<00:00,  7.41it/s]\n",
      "100%|██████████| 157/157 [00:05<00:00, 27.89it/s]\n",
      "  0%|          | 1/809 [00:00<01:53,  7.11it/s]"
     ]
    },
    {
     "name": "stdout",
     "output_type": "stream",
     "text": [
      "time : 114.78, train_loss : 0.51, train_acc : 80.90,val_acc : 60.50,val_loss : 1.28\n"
     ]
    },
    {
     "name": "stderr",
     "output_type": "stream",
     "text": [
      "100%|██████████| 809/809 [01:49<00:00,  7.41it/s]\n",
      "100%|██████████| 157/157 [00:05<00:00, 27.82it/s]\n",
      "  0%|          | 1/809 [00:00<01:52,  7.19it/s]"
     ]
    },
    {
     "name": "stdout",
     "output_type": "stream",
     "text": [
      "time : 114.80, train_loss : 0.45, train_acc : 83.06,val_acc : 61.18,val_loss : 1.35\n"
     ]
    },
    {
     "name": "stderr",
     "output_type": "stream",
     "text": [
      "100%|██████████| 809/809 [01:49<00:00,  7.42it/s]\n",
      "100%|██████████| 157/157 [00:05<00:00, 27.83it/s]\n",
      "  0%|          | 1/809 [00:00<01:49,  7.36it/s]"
     ]
    },
    {
     "name": "stdout",
     "output_type": "stream",
     "text": [
      "time : 114.67, train_loss : 0.40, train_acc : 85.12,val_acc : 61.48,val_loss : 1.51\n"
     ]
    },
    {
     "name": "stderr",
     "output_type": "stream",
     "text": [
      "100%|██████████| 809/809 [01:48<00:00,  7.43it/s]\n",
      "100%|██████████| 157/157 [00:05<00:00, 28.07it/s]\n",
      "  0%|          | 1/809 [00:00<01:51,  7.23it/s]"
     ]
    },
    {
     "name": "stdout",
     "output_type": "stream",
     "text": [
      "time : 114.54, train_loss : 0.36, train_acc : 86.73,val_acc : 60.58,val_loss : 1.49\n"
     ]
    },
    {
     "name": "stderr",
     "output_type": "stream",
     "text": [
      "100%|██████████| 809/809 [01:48<00:00,  7.43it/s]\n",
      "100%|██████████| 157/157 [00:05<00:00, 27.89it/s]\n",
      "  0%|          | 1/809 [00:00<01:52,  7.21it/s]"
     ]
    },
    {
     "name": "stdout",
     "output_type": "stream",
     "text": [
      "time : 114.56, train_loss : 0.31, train_acc : 88.47,val_acc : 57.84,val_loss : 1.66\n"
     ]
    },
    {
     "name": "stderr",
     "output_type": "stream",
     "text": [
      "100%|██████████| 809/809 [01:49<00:00,  7.42it/s]\n",
      "100%|██████████| 157/157 [00:05<00:00, 27.89it/s]\n",
      "  0%|          | 1/809 [00:00<01:51,  7.23it/s]"
     ]
    },
    {
     "name": "stdout",
     "output_type": "stream",
     "text": [
      "time : 114.70, train_loss : 0.28, train_acc : 89.70,val_acc : 58.48,val_loss : 1.73\n"
     ]
    },
    {
     "name": "stderr",
     "output_type": "stream",
     "text": [
      "100%|██████████| 809/809 [01:49<00:00,  7.40it/s]\n",
      "100%|██████████| 157/157 [00:05<00:00, 27.96it/s]\n",
      "  0%|          | 1/809 [00:00<01:52,  7.16it/s]"
     ]
    },
    {
     "name": "stdout",
     "output_type": "stream",
     "text": [
      "time : 114.89, train_loss : 0.26, train_acc : 90.93,val_acc : 59.62,val_loss : 1.81\n"
     ]
    },
    {
     "name": "stderr",
     "output_type": "stream",
     "text": [
      "100%|██████████| 809/809 [01:49<00:00,  7.41it/s]\n",
      "100%|██████████| 157/157 [00:05<00:00, 27.90it/s]\n",
      "  0%|          | 1/809 [00:00<01:51,  7.22it/s]"
     ]
    },
    {
     "name": "stdout",
     "output_type": "stream",
     "text": [
      "time : 114.82, train_loss : 0.23, train_acc : 91.59,val_acc : 60.14,val_loss : 1.86\n"
     ]
    },
    {
     "name": "stderr",
     "output_type": "stream",
     "text": [
      "100%|██████████| 809/809 [01:49<00:00,  7.39it/s]\n",
      "100%|██████████| 157/157 [00:05<00:00, 27.66it/s]\n",
      "  0%|          | 1/809 [00:00<01:52,  7.21it/s]"
     ]
    },
    {
     "name": "stdout",
     "output_type": "stream",
     "text": [
      "time : 115.14, train_loss : 0.22, train_acc : 92.14,val_acc : 59.48,val_loss : 1.90\n"
     ]
    },
    {
     "name": "stderr",
     "output_type": "stream",
     "text": [
      "100%|██████████| 809/809 [01:49<00:00,  7.39it/s]\n",
      "100%|██████████| 157/157 [00:05<00:00, 27.66it/s]\n",
      "  0%|          | 1/809 [00:00<01:49,  7.36it/s]"
     ]
    },
    {
     "name": "stdout",
     "output_type": "stream",
     "text": [
      "time : 115.23, train_loss : 0.22, train_acc : 92.35,val_acc : 58.82,val_loss : 2.07\n"
     ]
    },
    {
     "name": "stderr",
     "output_type": "stream",
     "text": [
      "100%|██████████| 809/809 [01:49<00:00,  7.37it/s]\n",
      "100%|██████████| 157/157 [00:05<00:00, 27.85it/s]\n",
      "  0%|          | 1/809 [00:00<01:51,  7.22it/s]"
     ]
    },
    {
     "name": "stdout",
     "output_type": "stream",
     "text": [
      "time : 115.39, train_loss : 0.19, train_acc : 93.29,val_acc : 60.38,val_loss : 2.02\n"
     ]
    },
    {
     "name": "stderr",
     "output_type": "stream",
     "text": [
      "100%|██████████| 809/809 [01:49<00:00,  7.38it/s]\n",
      "100%|██████████| 157/157 [00:05<00:00, 27.96it/s]\n",
      "  0%|          | 1/809 [00:00<01:51,  7.26it/s]"
     ]
    },
    {
     "name": "stdout",
     "output_type": "stream",
     "text": [
      "time : 115.22, train_loss : 0.18, train_acc : 93.44,val_acc : 60.46,val_loss : 2.12\n"
     ]
    },
    {
     "name": "stderr",
     "output_type": "stream",
     "text": [
      "100%|██████████| 809/809 [01:49<00:00,  7.39it/s]\n",
      "100%|██████████| 157/157 [00:05<00:00, 27.74it/s]\n",
      "  0%|          | 1/809 [00:00<01:50,  7.29it/s]"
     ]
    },
    {
     "name": "stdout",
     "output_type": "stream",
     "text": [
      "time : 115.07, train_loss : 0.17, train_acc : 94.17,val_acc : 58.90,val_loss : 2.01\n"
     ]
    },
    {
     "name": "stderr",
     "output_type": "stream",
     "text": [
      "100%|██████████| 809/809 [01:49<00:00,  7.37it/s]\n",
      "100%|██████████| 157/157 [00:05<00:00, 27.91it/s]\n",
      "  0%|          | 1/809 [00:00<01:52,  7.19it/s]"
     ]
    },
    {
     "name": "stdout",
     "output_type": "stream",
     "text": [
      "time : 115.34, train_loss : 0.17, train_acc : 94.19,val_acc : 60.44,val_loss : 2.05\n"
     ]
    },
    {
     "name": "stderr",
     "output_type": "stream",
     "text": [
      "100%|██████████| 809/809 [01:49<00:00,  7.38it/s]\n",
      "100%|██████████| 157/157 [00:05<00:00, 27.91it/s]\n",
      "  0%|          | 1/809 [00:00<01:51,  7.23it/s]"
     ]
    },
    {
     "name": "stdout",
     "output_type": "stream",
     "text": [
      "time : 115.28, train_loss : 0.16, train_acc : 94.45,val_acc : 58.00,val_loss : 2.16\n"
     ]
    },
    {
     "name": "stderr",
     "output_type": "stream",
     "text": [
      "100%|██████████| 809/809 [01:49<00:00,  7.38it/s]\n",
      "100%|██████████| 157/157 [00:05<00:00, 27.77it/s]\n",
      "  0%|          | 1/809 [00:00<01:53,  7.14it/s]"
     ]
    },
    {
     "name": "stdout",
     "output_type": "stream",
     "text": [
      "time : 115.22, train_loss : 0.15, train_acc : 94.72,val_acc : 59.68,val_loss : 2.28\n"
     ]
    },
    {
     "name": "stderr",
     "output_type": "stream",
     "text": [
      "100%|██████████| 809/809 [01:49<00:00,  7.41it/s]\n",
      "100%|██████████| 157/157 [00:05<00:00, 28.07it/s]\n",
      "  0%|          | 1/809 [00:00<01:52,  7.20it/s]"
     ]
    },
    {
     "name": "stdout",
     "output_type": "stream",
     "text": [
      "time : 114.80, train_loss : 0.16, train_acc : 94.47,val_acc : 59.62,val_loss : 2.18\n"
     ]
    },
    {
     "name": "stderr",
     "output_type": "stream",
     "text": [
      "100%|██████████| 809/809 [01:49<00:00,  7.40it/s]\n",
      "100%|██████████| 157/157 [00:05<00:00, 27.88it/s]\n",
      "  0%|          | 1/809 [00:00<01:52,  7.20it/s]"
     ]
    },
    {
     "name": "stdout",
     "output_type": "stream",
     "text": [
      "time : 114.90, train_loss : 0.14, train_acc : 95.26,val_acc : 61.26,val_loss : 2.22\n"
     ]
    },
    {
     "name": "stderr",
     "output_type": "stream",
     "text": [
      "100%|██████████| 809/809 [01:49<00:00,  7.39it/s]\n",
      "100%|██████████| 157/157 [00:05<00:00, 27.84it/s]\n",
      "  0%|          | 1/809 [00:00<01:51,  7.24it/s]"
     ]
    },
    {
     "name": "stdout",
     "output_type": "stream",
     "text": [
      "time : 115.11, train_loss : 0.14, train_acc : 95.27,val_acc : 61.08,val_loss : 2.26\n"
     ]
    },
    {
     "name": "stderr",
     "output_type": "stream",
     "text": [
      "100%|██████████| 809/809 [01:49<00:00,  7.40it/s]\n",
      "100%|██████████| 157/157 [00:05<00:00, 27.97it/s]\n",
      "  0%|          | 1/809 [00:00<01:49,  7.35it/s]"
     ]
    },
    {
     "name": "stdout",
     "output_type": "stream",
     "text": [
      "time : 114.95, train_loss : 0.16, train_acc : 94.43,val_acc : 60.60,val_loss : 2.22\n"
     ]
    },
    {
     "name": "stderr",
     "output_type": "stream",
     "text": [
      "100%|██████████| 809/809 [01:49<00:00,  7.41it/s]\n",
      "100%|██████████| 157/157 [00:05<00:00, 27.95it/s]\n",
      "  0%|          | 1/809 [00:00<01:49,  7.41it/s]"
     ]
    },
    {
     "name": "stdout",
     "output_type": "stream",
     "text": [
      "time : 114.84, train_loss : 0.13, train_acc : 95.84,val_acc : 59.96,val_loss : 2.23\n"
     ]
    },
    {
     "name": "stderr",
     "output_type": "stream",
     "text": [
      "100%|██████████| 809/809 [01:49<00:00,  7.41it/s]\n",
      "100%|██████████| 157/157 [00:05<00:00, 28.07it/s]\n",
      "  0%|          | 1/809 [00:00<01:53,  7.15it/s]"
     ]
    },
    {
     "name": "stdout",
     "output_type": "stream",
     "text": [
      "time : 114.84, train_loss : 0.12, train_acc : 95.87,val_acc : 60.48,val_loss : 2.38\n"
     ]
    },
    {
     "name": "stderr",
     "output_type": "stream",
     "text": [
      "100%|██████████| 809/809 [01:49<00:00,  7.39it/s]\n",
      "100%|██████████| 157/157 [00:05<00:00, 27.89it/s]\n",
      "  0%|          | 1/809 [00:00<01:49,  7.35it/s]"
     ]
    },
    {
     "name": "stdout",
     "output_type": "stream",
     "text": [
      "time : 115.05, train_loss : 0.13, train_acc : 95.68,val_acc : 58.46,val_loss : 2.34\n"
     ]
    },
    {
     "name": "stderr",
     "output_type": "stream",
     "text": [
      "100%|██████████| 809/809 [01:49<00:00,  7.41it/s]\n",
      "100%|██████████| 157/157 [00:05<00:00, 27.98it/s]\n",
      "  0%|          | 1/809 [00:00<01:52,  7.21it/s]"
     ]
    },
    {
     "name": "stdout",
     "output_type": "stream",
     "text": [
      "time : 114.84, train_loss : 0.12, train_acc : 95.81,val_acc : 59.84,val_loss : 2.29\n"
     ]
    },
    {
     "name": "stderr",
     "output_type": "stream",
     "text": [
      "100%|██████████| 809/809 [01:49<00:00,  7.41it/s]\n",
      "100%|██████████| 157/157 [00:05<00:00, 28.04it/s]\n",
      "  0%|          | 1/809 [00:00<01:52,  7.20it/s]"
     ]
    },
    {
     "name": "stdout",
     "output_type": "stream",
     "text": [
      "time : 114.76, train_loss : 0.12, train_acc : 95.90,val_acc : 59.92,val_loss : 2.35\n"
     ]
    },
    {
     "name": "stderr",
     "output_type": "stream",
     "text": [
      "100%|██████████| 809/809 [01:49<00:00,  7.41it/s]\n",
      "100%|██████████| 157/157 [00:05<00:00, 27.82it/s]\n",
      "  0%|          | 1/809 [00:00<01:52,  7.16it/s]"
     ]
    },
    {
     "name": "stdout",
     "output_type": "stream",
     "text": [
      "time : 114.86, train_loss : 0.11, train_acc : 96.33,val_acc : 60.74,val_loss : 2.48\n"
     ]
    },
    {
     "name": "stderr",
     "output_type": "stream",
     "text": [
      "100%|██████████| 809/809 [01:49<00:00,  7.40it/s]\n",
      "100%|██████████| 157/157 [00:05<00:00, 28.04it/s]\n",
      "  0%|          | 1/809 [00:00<01:52,  7.17it/s]"
     ]
    },
    {
     "name": "stdout",
     "output_type": "stream",
     "text": [
      "time : 114.86, train_loss : 0.11, train_acc : 96.22,val_acc : 60.26,val_loss : 2.47\n"
     ]
    },
    {
     "name": "stderr",
     "output_type": "stream",
     "text": [
      "100%|██████████| 809/809 [01:49<00:00,  7.40it/s]\n",
      "100%|██████████| 157/157 [00:05<00:00, 28.07it/s]\n",
      "  0%|          | 1/809 [00:00<01:52,  7.18it/s]"
     ]
    },
    {
     "name": "stdout",
     "output_type": "stream",
     "text": [
      "time : 114.93, train_loss : 0.11, train_acc : 96.31,val_acc : 58.20,val_loss : 2.36\n"
     ]
    },
    {
     "name": "stderr",
     "output_type": "stream",
     "text": [
      "100%|██████████| 809/809 [01:49<00:00,  7.42it/s]\n",
      "100%|██████████| 157/157 [00:05<00:00, 27.96it/s]\n",
      "  0%|          | 1/809 [00:00<01:49,  7.37it/s]"
     ]
    },
    {
     "name": "stdout",
     "output_type": "stream",
     "text": [
      "time : 114.68, train_loss : 0.11, train_acc : 96.35,val_acc : 60.76,val_loss : 2.42\n"
     ]
    },
    {
     "name": "stderr",
     "output_type": "stream",
     "text": [
      "100%|██████████| 809/809 [01:49<00:00,  7.41it/s]\n",
      "100%|██████████| 157/157 [00:05<00:00, 28.06it/s]\n",
      "  0%|          | 1/809 [00:00<01:52,  7.20it/s]"
     ]
    },
    {
     "name": "stdout",
     "output_type": "stream",
     "text": [
      "time : 114.83, train_loss : 0.11, train_acc : 96.45,val_acc : 60.26,val_loss : 2.37\n"
     ]
    },
    {
     "name": "stderr",
     "output_type": "stream",
     "text": [
      "100%|██████████| 809/809 [01:49<00:00,  7.42it/s]\n",
      "100%|██████████| 157/157 [00:05<00:00, 28.02it/s]\n",
      "  0%|          | 1/809 [00:00<01:49,  7.38it/s]"
     ]
    },
    {
     "name": "stdout",
     "output_type": "stream",
     "text": [
      "time : 114.69, train_loss : 0.11, train_acc : 96.09,val_acc : 61.12,val_loss : 2.28\n"
     ]
    },
    {
     "name": "stderr",
     "output_type": "stream",
     "text": [
      "100%|██████████| 809/809 [01:49<00:00,  7.41it/s]\n",
      "100%|██████████| 157/157 [00:05<00:00, 28.13it/s]\n",
      "  0%|          | 1/809 [00:00<01:50,  7.29it/s]"
     ]
    },
    {
     "name": "stdout",
     "output_type": "stream",
     "text": [
      "time : 114.71, train_loss : 0.10, train_acc : 96.77,val_acc : 60.74,val_loss : 2.46\n"
     ]
    },
    {
     "name": "stderr",
     "output_type": "stream",
     "text": [
      "100%|██████████| 809/809 [01:48<00:00,  7.43it/s]\n",
      "100%|██████████| 157/157 [00:05<00:00, 27.94it/s]\n",
      "  0%|          | 1/809 [00:00<01:49,  7.41it/s]"
     ]
    },
    {
     "name": "stdout",
     "output_type": "stream",
     "text": [
      "time : 114.54, train_loss : 0.11, train_acc : 96.31,val_acc : 59.64,val_loss : 2.34\n"
     ]
    },
    {
     "name": "stderr",
     "output_type": "stream",
     "text": [
      "100%|██████████| 809/809 [01:49<00:00,  7.42it/s]\n",
      "100%|██████████| 157/157 [00:05<00:00, 28.13it/s]\n",
      "  0%|          | 1/809 [00:00<01:52,  7.19it/s]"
     ]
    },
    {
     "name": "stdout",
     "output_type": "stream",
     "text": [
      "time : 114.68, train_loss : 0.09, train_acc : 97.01,val_acc : 61.86,val_loss : 2.24\n"
     ]
    },
    {
     "name": "stderr",
     "output_type": "stream",
     "text": [
      "100%|██████████| 809/809 [01:49<00:00,  7.41it/s]\n",
      "100%|██████████| 157/157 [00:05<00:00, 28.08it/s]\n",
      "  0%|          | 1/809 [00:00<01:52,  7.16it/s]"
     ]
    },
    {
     "name": "stdout",
     "output_type": "stream",
     "text": [
      "time : 114.73, train_loss : 0.11, train_acc : 96.43,val_acc : 56.62,val_loss : 2.67\n"
     ]
    },
    {
     "name": "stderr",
     "output_type": "stream",
     "text": [
      "100%|██████████| 809/809 [01:49<00:00,  7.41it/s]\n",
      "100%|██████████| 157/157 [00:05<00:00, 28.01it/s]\n",
      "  0%|          | 1/809 [00:00<01:52,  7.20it/s]"
     ]
    },
    {
     "name": "stdout",
     "output_type": "stream",
     "text": [
      "time : 114.73, train_loss : 0.10, train_acc : 96.71,val_acc : 59.14,val_loss : 2.49\n"
     ]
    },
    {
     "name": "stderr",
     "output_type": "stream",
     "text": [
      "100%|██████████| 809/809 [01:49<00:00,  7.42it/s]\n",
      "100%|██████████| 157/157 [00:05<00:00, 28.17it/s]\n",
      "  0%|          | 1/809 [00:00<01:49,  7.37it/s]"
     ]
    },
    {
     "name": "stdout",
     "output_type": "stream",
     "text": [
      "time : 114.66, train_loss : 0.09, train_acc : 96.91,val_acc : 59.94,val_loss : 2.41\n"
     ]
    },
    {
     "name": "stderr",
     "output_type": "stream",
     "text": [
      "100%|██████████| 809/809 [01:49<00:00,  7.42it/s]\n",
      "100%|██████████| 157/157 [00:05<00:00, 27.94it/s]\n",
      "  0%|          | 1/809 [00:00<01:51,  7.23it/s]"
     ]
    },
    {
     "name": "stdout",
     "output_type": "stream",
     "text": [
      "time : 114.70, train_loss : 0.10, train_acc : 96.56,val_acc : 60.20,val_loss : 2.23\n"
     ]
    },
    {
     "name": "stderr",
     "output_type": "stream",
     "text": [
      "100%|██████████| 809/809 [01:49<00:00,  7.41it/s]\n",
      "100%|██████████| 157/157 [00:05<00:00, 28.11it/s]\n",
      "  0%|          | 1/809 [00:00<01:51,  7.22it/s]"
     ]
    },
    {
     "name": "stdout",
     "output_type": "stream",
     "text": [
      "time : 114.69, train_loss : 0.09, train_acc : 96.94,val_acc : 62.00,val_loss : 2.41\n"
     ]
    },
    {
     "name": "stderr",
     "output_type": "stream",
     "text": [
      "100%|██████████| 809/809 [01:48<00:00,  7.43it/s]\n",
      "100%|██████████| 157/157 [00:05<00:00, 27.99it/s]\n",
      "  0%|          | 1/809 [00:00<01:49,  7.38it/s]"
     ]
    },
    {
     "name": "stdout",
     "output_type": "stream",
     "text": [
      "time : 114.54, train_loss : 0.10, train_acc : 96.67,val_acc : 60.10,val_loss : 2.49\n"
     ]
    },
    {
     "name": "stderr",
     "output_type": "stream",
     "text": [
      "100%|██████████| 809/809 [01:48<00:00,  7.43it/s]\n",
      "100%|██████████| 157/157 [00:05<00:00, 27.98it/s]\n",
      "  0%|          | 1/809 [00:00<01:51,  7.27it/s]"
     ]
    },
    {
     "name": "stdout",
     "output_type": "stream",
     "text": [
      "time : 114.53, train_loss : 0.09, train_acc : 96.98,val_acc : 59.94,val_loss : 2.43\n"
     ]
    },
    {
     "name": "stderr",
     "output_type": "stream",
     "text": [
      "100%|██████████| 809/809 [01:48<00:00,  7.42it/s]\n",
      "100%|██████████| 157/157 [00:05<00:00, 27.93it/s]\n",
      "  0%|          | 1/809 [00:00<01:52,  7.19it/s]"
     ]
    },
    {
     "name": "stdout",
     "output_type": "stream",
     "text": [
      "time : 114.59, train_loss : 0.09, train_acc : 96.87,val_acc : 61.60,val_loss : 2.33\n"
     ]
    },
    {
     "name": "stderr",
     "output_type": "stream",
     "text": [
      "100%|██████████| 809/809 [01:49<00:00,  7.42it/s]\n",
      "100%|██████████| 157/157 [00:05<00:00, 28.11it/s]\n",
      "  0%|          | 1/809 [00:00<01:51,  7.25it/s]"
     ]
    },
    {
     "name": "stdout",
     "output_type": "stream",
     "text": [
      "time : 114.67, train_loss : 0.09, train_acc : 97.06,val_acc : 60.20,val_loss : 2.45\n"
     ]
    },
    {
     "name": "stderr",
     "output_type": "stream",
     "text": [
      "100%|██████████| 809/809 [01:49<00:00,  7.42it/s]\n",
      "100%|██████████| 157/157 [00:05<00:00, 27.96it/s]\n",
      "  0%|          | 1/809 [00:00<01:52,  7.20it/s]"
     ]
    },
    {
     "name": "stdout",
     "output_type": "stream",
     "text": [
      "time : 114.64, train_loss : 0.09, train_acc : 96.96,val_acc : 60.22,val_loss : 2.39\n"
     ]
    },
    {
     "name": "stderr",
     "output_type": "stream",
     "text": [
      "100%|██████████| 809/809 [01:48<00:00,  7.42it/s]\n",
      "100%|██████████| 157/157 [00:05<00:00, 28.07it/s]\n",
      "  0%|          | 1/809 [00:00<01:52,  7.20it/s]"
     ]
    },
    {
     "name": "stdout",
     "output_type": "stream",
     "text": [
      "time : 114.58, train_loss : 0.09, train_acc : 97.24,val_acc : 59.32,val_loss : 2.58\n"
     ]
    },
    {
     "name": "stderr",
     "output_type": "stream",
     "text": [
      "100%|██████████| 809/809 [01:49<00:00,  7.40it/s]\n",
      "100%|██████████| 157/157 [00:05<00:00, 27.96it/s]\n",
      "  0%|          | 1/809 [00:00<01:51,  7.27it/s]"
     ]
    },
    {
     "name": "stdout",
     "output_type": "stream",
     "text": [
      "time : 114.99, train_loss : 0.09, train_acc : 97.08,val_acc : 60.66,val_loss : 2.52\n"
     ]
    },
    {
     "name": "stderr",
     "output_type": "stream",
     "text": [
      "100%|██████████| 809/809 [01:49<00:00,  7.39it/s]\n",
      "100%|██████████| 157/157 [00:05<00:00, 27.92it/s]\n",
      "  0%|          | 1/809 [00:00<01:52,  7.18it/s]"
     ]
    },
    {
     "name": "stdout",
     "output_type": "stream",
     "text": [
      "time : 115.10, train_loss : 0.09, train_acc : 97.01,val_acc : 59.96,val_loss : 2.53\n"
     ]
    },
    {
     "name": "stderr",
     "output_type": "stream",
     "text": [
      "100%|██████████| 809/809 [01:49<00:00,  7.40it/s]\n",
      "100%|██████████| 157/157 [00:05<00:00, 28.09it/s]\n",
      "  0%|          | 1/809 [00:00<01:52,  7.21it/s]"
     ]
    },
    {
     "name": "stdout",
     "output_type": "stream",
     "text": [
      "time : 114.95, train_loss : 0.09, train_acc : 97.07,val_acc : 60.60,val_loss : 2.50\n"
     ]
    },
    {
     "name": "stderr",
     "output_type": "stream",
     "text": [
      "100%|██████████| 809/809 [01:49<00:00,  7.41it/s]\n",
      "100%|██████████| 157/157 [00:05<00:00, 28.05it/s]\n",
      "  0%|          | 1/809 [00:00<01:51,  7.22it/s]"
     ]
    },
    {
     "name": "stdout",
     "output_type": "stream",
     "text": [
      "time : 114.74, train_loss : 0.07, train_acc : 97.66,val_acc : 61.26,val_loss : 2.47\n"
     ]
    },
    {
     "name": "stderr",
     "output_type": "stream",
     "text": [
      "100%|██████████| 809/809 [01:49<00:00,  7.40it/s]\n",
      "100%|██████████| 157/157 [00:05<00:00, 27.80it/s]\n",
      "  0%|          | 1/809 [00:00<01:51,  7.21it/s]"
     ]
    },
    {
     "name": "stdout",
     "output_type": "stream",
     "text": [
      "time : 115.01, train_loss : 0.09, train_acc : 97.16,val_acc : 60.30,val_loss : 2.34\n"
     ]
    },
    {
     "name": "stderr",
     "output_type": "stream",
     "text": [
      "100%|██████████| 809/809 [01:49<00:00,  7.41it/s]\n",
      "100%|██████████| 157/157 [00:05<00:00, 27.91it/s]\n",
      "  0%|          | 1/809 [00:00<01:53,  7.11it/s]"
     ]
    },
    {
     "name": "stdout",
     "output_type": "stream",
     "text": [
      "time : 114.86, train_loss : 0.08, train_acc : 97.28,val_acc : 60.40,val_loss : 2.61\n"
     ]
    },
    {
     "name": "stderr",
     "output_type": "stream",
     "text": [
      "100%|██████████| 809/809 [01:49<00:00,  7.41it/s]\n",
      "100%|██████████| 157/157 [00:05<00:00, 27.93it/s]\n",
      "  0%|          | 1/809 [00:00<01:48,  7.42it/s]"
     ]
    },
    {
     "name": "stdout",
     "output_type": "stream",
     "text": [
      "time : 114.78, train_loss : 0.08, train_acc : 97.19,val_acc : 60.16,val_loss : 2.42\n"
     ]
    },
    {
     "name": "stderr",
     "output_type": "stream",
     "text": [
      "100%|██████████| 809/809 [01:49<00:00,  7.41it/s]\n",
      "100%|██████████| 157/157 [00:05<00:00, 28.03it/s]\n",
      "  0%|          | 1/809 [00:00<01:51,  7.23it/s]"
     ]
    },
    {
     "name": "stdout",
     "output_type": "stream",
     "text": [
      "time : 114.73, train_loss : 0.09, train_acc : 96.90,val_acc : 60.22,val_loss : 2.30\n"
     ]
    },
    {
     "name": "stderr",
     "output_type": "stream",
     "text": [
      "100%|██████████| 809/809 [01:49<00:00,  7.41it/s]\n",
      "100%|██████████| 157/157 [00:05<00:00, 27.83it/s]\n",
      "  0%|          | 1/809 [00:00<01:51,  7.24it/s]"
     ]
    },
    {
     "name": "stdout",
     "output_type": "stream",
     "text": [
      "time : 114.78, train_loss : 0.07, train_acc : 97.55,val_acc : 58.74,val_loss : 2.68\n"
     ]
    },
    {
     "name": "stderr",
     "output_type": "stream",
     "text": [
      "100%|██████████| 809/809 [01:49<00:00,  7.41it/s]\n",
      "100%|██████████| 157/157 [00:05<00:00, 28.00it/s]\n",
      "  0%|          | 1/809 [00:00<01:52,  7.20it/s]"
     ]
    },
    {
     "name": "stdout",
     "output_type": "stream",
     "text": [
      "time : 114.72, train_loss : 0.08, train_acc : 97.38,val_acc : 60.58,val_loss : 2.54\n"
     ]
    },
    {
     "name": "stderr",
     "output_type": "stream",
     "text": [
      "100%|██████████| 809/809 [01:49<00:00,  7.41it/s]\n",
      "100%|██████████| 157/157 [00:05<00:00, 28.09it/s]\n",
      "  0%|          | 1/809 [00:00<01:50,  7.28it/s]"
     ]
    },
    {
     "name": "stdout",
     "output_type": "stream",
     "text": [
      "time : 114.73, train_loss : 0.08, train_acc : 97.39,val_acc : 61.92,val_loss : 2.50\n"
     ]
    },
    {
     "name": "stderr",
     "output_type": "stream",
     "text": [
      "100%|██████████| 809/809 [01:49<00:00,  7.42it/s]\n",
      "100%|██████████| 157/157 [00:05<00:00, 28.06it/s]\n",
      "  0%|          | 1/809 [00:00<01:52,  7.15it/s]"
     ]
    },
    {
     "name": "stdout",
     "output_type": "stream",
     "text": [
      "time : 114.61, train_loss : 0.08, train_acc : 97.40,val_acc : 58.92,val_loss : 2.41\n"
     ]
    },
    {
     "name": "stderr",
     "output_type": "stream",
     "text": [
      "100%|██████████| 809/809 [01:49<00:00,  7.41it/s]\n",
      "100%|██████████| 157/157 [00:05<00:00, 27.86it/s]\n",
      "  0%|          | 1/809 [00:00<01:51,  7.24it/s]"
     ]
    },
    {
     "name": "stdout",
     "output_type": "stream",
     "text": [
      "time : 114.75, train_loss : 0.07, train_acc : 97.52,val_acc : 60.24,val_loss : 2.58\n"
     ]
    },
    {
     "name": "stderr",
     "output_type": "stream",
     "text": [
      "100%|██████████| 809/809 [01:49<00:00,  7.42it/s]\n",
      "100%|██████████| 157/157 [00:05<00:00, 27.95it/s]\n",
      "  0%|          | 1/809 [00:00<01:53,  7.13it/s]"
     ]
    },
    {
     "name": "stdout",
     "output_type": "stream",
     "text": [
      "time : 114.72, train_loss : 0.08, train_acc : 97.38,val_acc : 60.98,val_loss : 2.50\n"
     ]
    },
    {
     "name": "stderr",
     "output_type": "stream",
     "text": [
      "100%|██████████| 809/809 [01:49<00:00,  7.42it/s]\n",
      "100%|██████████| 157/157 [00:05<00:00, 27.97it/s]\n",
      "  0%|          | 1/809 [00:00<01:52,  7.21it/s]"
     ]
    },
    {
     "name": "stdout",
     "output_type": "stream",
     "text": [
      "time : 114.69, train_loss : 0.09, train_acc : 96.94,val_acc : 60.64,val_loss : 2.49\n"
     ]
    },
    {
     "name": "stderr",
     "output_type": "stream",
     "text": [
      "100%|██████████| 809/809 [01:48<00:00,  7.43it/s]\n",
      "100%|██████████| 157/157 [00:05<00:00, 28.08it/s]\n",
      "  0%|          | 1/809 [00:00<01:52,  7.21it/s]"
     ]
    },
    {
     "name": "stdout",
     "output_type": "stream",
     "text": [
      "time : 114.50, train_loss : 0.08, train_acc : 97.38,val_acc : 60.62,val_loss : 2.49\n"
     ]
    },
    {
     "name": "stderr",
     "output_type": "stream",
     "text": [
      "100%|██████████| 809/809 [01:49<00:00,  7.42it/s]\n",
      "100%|██████████| 157/157 [00:05<00:00, 27.97it/s]\n",
      "  0%|          | 1/809 [00:00<01:48,  7.42it/s]"
     ]
    },
    {
     "name": "stdout",
     "output_type": "stream",
     "text": [
      "time : 114.65, train_loss : 0.06, train_acc : 97.96,val_acc : 60.98,val_loss : 2.39\n"
     ]
    },
    {
     "name": "stderr",
     "output_type": "stream",
     "text": [
      "100%|██████████| 809/809 [01:49<00:00,  7.40it/s]\n",
      "100%|██████████| 157/157 [00:05<00:00, 27.72it/s]\n",
      "  0%|          | 1/809 [00:00<01:51,  7.26it/s]"
     ]
    },
    {
     "name": "stdout",
     "output_type": "stream",
     "text": [
      "time : 114.92, train_loss : 0.08, train_acc : 97.32,val_acc : 60.04,val_loss : 2.65\n"
     ]
    },
    {
     "name": "stderr",
     "output_type": "stream",
     "text": [
      "100%|██████████| 809/809 [01:48<00:00,  7.43it/s]\n",
      "100%|██████████| 157/157 [00:05<00:00, 27.95it/s]\n",
      "  0%|          | 1/809 [00:00<01:52,  7.19it/s]"
     ]
    },
    {
     "name": "stdout",
     "output_type": "stream",
     "text": [
      "time : 114.57, train_loss : 0.08, train_acc : 97.13,val_acc : 59.98,val_loss : 2.37\n"
     ]
    },
    {
     "name": "stderr",
     "output_type": "stream",
     "text": [
      "100%|██████████| 809/809 [01:49<00:00,  7.42it/s]\n",
      "100%|██████████| 157/157 [00:05<00:00, 27.99it/s]\n",
      "  0%|          | 1/809 [00:00<01:51,  7.27it/s]"
     ]
    },
    {
     "name": "stdout",
     "output_type": "stream",
     "text": [
      "time : 114.64, train_loss : 0.07, train_acc : 97.59,val_acc : 60.34,val_loss : 2.54\n"
     ]
    },
    {
     "name": "stderr",
     "output_type": "stream",
     "text": [
      "100%|██████████| 809/809 [01:49<00:00,  7.40it/s]\n",
      "100%|██████████| 157/157 [00:05<00:00, 27.73it/s]\n",
      "  0%|          | 1/809 [00:00<01:52,  7.16it/s]"
     ]
    },
    {
     "name": "stdout",
     "output_type": "stream",
     "text": [
      "time : 115.06, train_loss : 0.08, train_acc : 97.31,val_acc : 60.86,val_loss : 2.36\n"
     ]
    },
    {
     "name": "stderr",
     "output_type": "stream",
     "text": [
      "100%|██████████| 809/809 [01:49<00:00,  7.37it/s]\n",
      "100%|██████████| 157/157 [00:05<00:00, 27.68it/s]\n",
      "  0%|          | 1/809 [00:00<01:51,  7.22it/s]"
     ]
    },
    {
     "name": "stdout",
     "output_type": "stream",
     "text": [
      "time : 115.39, train_loss : 0.06, train_acc : 98.08,val_acc : 59.90,val_loss : 2.71\n"
     ]
    },
    {
     "name": "stderr",
     "output_type": "stream",
     "text": [
      "100%|██████████| 809/809 [01:49<00:00,  7.37it/s]\n",
      "100%|██████████| 157/157 [00:05<00:00, 27.68it/s]\n",
      "  0%|          | 1/809 [00:00<01:52,  7.21it/s]"
     ]
    },
    {
     "name": "stdout",
     "output_type": "stream",
     "text": [
      "time : 115.39, train_loss : 0.08, train_acc : 97.29,val_acc : 58.66,val_loss : 2.77\n"
     ]
    },
    {
     "name": "stderr",
     "output_type": "stream",
     "text": [
      "100%|██████████| 809/809 [01:49<00:00,  7.38it/s]\n",
      "100%|██████████| 157/157 [00:05<00:00, 27.82it/s]\n",
      "  0%|          | 1/809 [00:00<01:52,  7.20it/s]"
     ]
    },
    {
     "name": "stdout",
     "output_type": "stream",
     "text": [
      "time : 115.27, train_loss : 0.07, train_acc : 97.49,val_acc : 61.02,val_loss : 2.59\n"
     ]
    },
    {
     "name": "stderr",
     "output_type": "stream",
     "text": [
      "100%|██████████| 809/809 [01:49<00:00,  7.36it/s]\n",
      "100%|██████████| 157/157 [00:05<00:00, 27.74it/s]\n",
      "  0%|          | 1/809 [00:00<01:53,  7.12it/s]"
     ]
    },
    {
     "name": "stdout",
     "output_type": "stream",
     "text": [
      "time : 115.51, train_loss : 0.07, train_acc : 97.71,val_acc : 59.68,val_loss : 2.59\n"
     ]
    },
    {
     "name": "stderr",
     "output_type": "stream",
     "text": [
      "100%|██████████| 809/809 [01:50<00:00,  7.35it/s]\n",
      "100%|██████████| 157/157 [00:05<00:00, 27.63it/s]\n",
      "  0%|          | 1/809 [00:00<01:51,  7.23it/s]"
     ]
    },
    {
     "name": "stdout",
     "output_type": "stream",
     "text": [
      "time : 115.75, train_loss : 0.07, train_acc : 97.65,val_acc : 59.56,val_loss : 2.59\n"
     ]
    },
    {
     "name": "stderr",
     "output_type": "stream",
     "text": [
      "100%|██████████| 809/809 [01:49<00:00,  7.36it/s]\n",
      "100%|██████████| 157/157 [00:05<00:00, 27.71it/s]\n",
      "  0%|          | 1/809 [00:00<01:53,  7.13it/s]"
     ]
    },
    {
     "name": "stdout",
     "output_type": "stream",
     "text": [
      "time : 115.66, train_loss : 0.08, train_acc : 97.45,val_acc : 57.94,val_loss : 2.63\n"
     ]
    },
    {
     "name": "stderr",
     "output_type": "stream",
     "text": [
      "100%|██████████| 809/809 [01:50<00:00,  7.34it/s]\n",
      "100%|██████████| 157/157 [00:05<00:00, 27.66it/s]\n",
      "  0%|          | 1/809 [00:00<01:51,  7.22it/s]"
     ]
    },
    {
     "name": "stdout",
     "output_type": "stream",
     "text": [
      "time : 115.83, train_loss : 0.07, train_acc : 97.80,val_acc : 60.94,val_loss : 2.43\n"
     ]
    },
    {
     "name": "stderr",
     "output_type": "stream",
     "text": [
      "100%|██████████| 809/809 [01:50<00:00,  7.35it/s]\n",
      "100%|██████████| 157/157 [00:05<00:00, 27.56it/s]\n",
      "  0%|          | 1/809 [00:00<01:53,  7.13it/s]"
     ]
    },
    {
     "name": "stdout",
     "output_type": "stream",
     "text": [
      "time : 115.80, train_loss : 0.07, train_acc : 97.50,val_acc : 58.42,val_loss : 2.52\n"
     ]
    },
    {
     "name": "stderr",
     "output_type": "stream",
     "text": [
      "100%|██████████| 809/809 [01:50<00:00,  7.34it/s]\n",
      "100%|██████████| 157/157 [00:05<00:00, 27.56it/s]\n",
      "  0%|          | 1/809 [00:00<01:51,  7.24it/s]"
     ]
    },
    {
     "name": "stdout",
     "output_type": "stream",
     "text": [
      "time : 115.85, train_loss : 0.07, train_acc : 97.80,val_acc : 59.26,val_loss : 2.77\n"
     ]
    },
    {
     "name": "stderr",
     "output_type": "stream",
     "text": [
      "100%|██████████| 809/809 [01:50<00:00,  7.34it/s]\n",
      "100%|██████████| 157/157 [00:05<00:00, 27.73it/s]\n",
      "  0%|          | 1/809 [00:00<01:53,  7.09it/s]"
     ]
    },
    {
     "name": "stdout",
     "output_type": "stream",
     "text": [
      "time : 115.89, train_loss : 0.08, train_acc : 97.17,val_acc : 60.56,val_loss : 2.51\n"
     ]
    },
    {
     "name": "stderr",
     "output_type": "stream",
     "text": [
      "100%|██████████| 809/809 [01:50<00:00,  7.34it/s]\n",
      "100%|██████████| 157/157 [00:05<00:00, 27.66it/s]\n",
      "  0%|          | 1/809 [00:00<01:52,  7.17it/s]"
     ]
    },
    {
     "name": "stdout",
     "output_type": "stream",
     "text": [
      "time : 115.92, train_loss : 0.06, train_acc : 98.18,val_acc : 60.70,val_loss : 2.54\n"
     ]
    },
    {
     "name": "stderr",
     "output_type": "stream",
     "text": [
      "100%|██████████| 809/809 [01:50<00:00,  7.34it/s]\n",
      "100%|██████████| 157/157 [00:05<00:00, 27.60it/s]\n",
      "  0%|          | 1/809 [00:00<01:51,  7.25it/s]"
     ]
    },
    {
     "name": "stdout",
     "output_type": "stream",
     "text": [
      "time : 115.85, train_loss : 0.07, train_acc : 97.60,val_acc : 60.52,val_loss : 2.60\n"
     ]
    },
    {
     "name": "stderr",
     "output_type": "stream",
     "text": [
      "100%|██████████| 809/809 [01:50<00:00,  7.33it/s]\n",
      "100%|██████████| 157/157 [00:05<00:00, 27.76it/s]\n",
      "  0%|          | 1/809 [00:00<01:53,  7.10it/s]"
     ]
    },
    {
     "name": "stdout",
     "output_type": "stream",
     "text": [
      "time : 116.01, train_loss : 0.08, train_acc : 97.44,val_acc : 60.60,val_loss : 2.67\n"
     ]
    },
    {
     "name": "stderr",
     "output_type": "stream",
     "text": [
      "100%|██████████| 809/809 [01:50<00:00,  7.33it/s]\n",
      "100%|██████████| 157/157 [00:05<00:00, 27.55it/s]\n",
      "  0%|          | 1/809 [00:00<01:49,  7.41it/s]"
     ]
    },
    {
     "name": "stdout",
     "output_type": "stream",
     "text": [
      "time : 116.09, train_loss : 0.06, train_acc : 98.01,val_acc : 60.34,val_loss : 2.59\n"
     ]
    },
    {
     "name": "stderr",
     "output_type": "stream",
     "text": [
      "100%|██████████| 809/809 [01:50<00:00,  7.33it/s]\n",
      "100%|██████████| 157/157 [00:05<00:00, 27.51it/s]\n",
      "  0%|          | 1/809 [00:00<01:52,  7.19it/s]"
     ]
    },
    {
     "name": "stdout",
     "output_type": "stream",
     "text": [
      "time : 116.07, train_loss : 0.08, train_acc : 97.30,val_acc : 57.56,val_loss : 2.75\n"
     ]
    },
    {
     "name": "stderr",
     "output_type": "stream",
     "text": [
      "100%|██████████| 809/809 [01:50<00:00,  7.33it/s]\n",
      "100%|██████████| 157/157 [00:05<00:00, 27.67it/s]\n",
      "  0%|          | 0/157 [00:00<?, ?it/s]"
     ]
    },
    {
     "name": "stdout",
     "output_type": "stream",
     "text": [
      "time : 116.09, train_loss : 0.07, train_acc : 97.77,val_acc : 61.48,val_loss : 2.49\n"
     ]
    },
    {
     "name": "stderr",
     "output_type": "stream",
     "text": [
      "100%|██████████| 157/157 [00:05<00:00, 27.52it/s]\n"
     ]
    }
   ],
   "source": [
    "seed = 123\n",
    "np.random.seed(seed)\n",
    "torch.manual_seed(seed)\n",
    "net=GoogleNet()\n",
    "net.cuda()\n",
    "criterion=nn.CrossEntropyLoss()\n",
    "optimizer = optim.Adam(net.parameters(), lr=0.0015, weight_decay=0.00001)\n",
    "train_losses=[]\n",
    "val_losses=[]\n",
    "train_accs=[]\n",
    "val_accs=[]\n",
    "for epoch in range(100):\n",
    "    ts=time.time()\n",
    "    net, train_loss,train_acc=train(net, partition, optimizer, criterion)\n",
    "    val_loss, val_acc = validate(net, partition, criterion)\n",
    "    te=time.time()\n",
    "    print('time : {:2.2f}, train_loss : {:2.2f}, train_acc : {:2.2f},val_acc : {:2.2f},val_loss : {:2.2f}'.format(te-ts,train_loss,train_acc,val_acc,val_loss))\n",
    "    train_loss=round(train_loss,2)\n",
    "    val_loss=round(val_loss,2)\n",
    "    train_acc=round(train_acc,2)\n",
    "    val_acc=round(val_acc,2)\n",
    "    train_losses.append(train_loss)\n",
    "    val_losses.append(val_loss)\n",
    "    train_accs.append(train_acc)\n",
    "    val_accs.append(val_acc)\n",
    "test_acc = test(net,partition)\n",
    "test_acc=round(test_acc,2)"
   ]
  },
  {
   "cell_type": "code",
   "execution_count": 39,
   "id": "lesser-ballot",
   "metadata": {},
   "outputs": [],
   "source": [
    "np.save(\"/home/lab/양창희/Emotion Project/test_list_file/Gogle_train_loss.npy\",train_loss)\n",
    "np.save(\"/home/lab/양창희/Emotion Project/test_list_file/Gogle_val_loss.npy\",val_loss)\n",
    "np.save(\"/home/lab/양창희/Emotion Project/test_list_file/Gogle_train_acc.npy\",train_acc)\n",
    "np.save(\"/home/lab/양창희/Emotion Project/test_list_file/Gogle_val_acc.npy\",val_acc)"
   ]
  },
  {
   "cell_type": "code",
   "execution_count": null,
   "id": "stock-stanley",
   "metadata": {},
   "outputs": [],
   "source": []
  }
 ],
 "metadata": {
  "kernelspec": {
   "display_name": "Python 3",
   "language": "python",
   "name": "python3"
  },
  "language_info": {
   "codemirror_mode": {
    "name": "ipython",
    "version": 3
   },
   "file_extension": ".py",
   "mimetype": "text/x-python",
   "name": "python",
   "nbconvert_exporter": "python",
   "pygments_lexer": "ipython3",
   "version": "3.6.12"
  }
 },
 "nbformat": 4,
 "nbformat_minor": 5
}
