{
 "cells": [
  {
   "cell_type": "code",
   "execution_count": 1,
   "id": "stuck-excess",
   "metadata": {},
   "outputs": [],
   "source": [
    "import torch\n",
    "\n",
    "import torch.nn as nn\n",
    "import torch.optim as optim\n",
    "\n",
    "import torch.nn.functional as F\n",
    "from torch.autograd import Variable\n",
    "\n",
    "import torchvision.datasets as dset\n",
    "import torchvision.transforms as transforms\n",
    "from torch.utils.data import DataLoader\n",
    "\n",
    "import torchvision.models as models\n",
    "\n",
    "import sys\n",
    "import math"
   ]
  },
  {
   "cell_type": "code",
   "execution_count": 2,
   "id": "close-reward",
   "metadata": {},
   "outputs": [],
   "source": [
    "class Bottleneck(nn.Module):\n",
    "    def __init__(self, nChannels,growthRate):\n",
    "        super(Bottleneck,self).__init__()\n",
    "        interChannels = 4*growthRate\n",
    "        self.bn1=nn.BatchNorm2d(nChannels)\n",
    "        self.conv1=nn.Conv2d(nChannels, interChannels,kernel_size=1,\n",
    "                            bias=False)\n",
    "        self.bn2=nn.BatchNorm2d(interChannels)\n",
    "        self.conv2 = nn.Conv2d(interChannels, growthRate, kernel_size=3,\n",
    "                               padding=1, bias=False)\n",
    "    def forward(self,x):\n",
    "        out = self.conv1(F.relu(self.bn1(x)))\n",
    "        out = self.conv2(F.relu(self.bn2(out)))\n",
    "        out = torch.cat((x, out), 1)\n",
    "        return out"
   ]
  },
  {
   "cell_type": "code",
   "execution_count": 3,
   "id": "decimal-paradise",
   "metadata": {},
   "outputs": [],
   "source": [
    "class Transition(nn.Module): # 반으로 줄여주는 작업임.\n",
    "    def __init__(self, nChannels, nOutChannels):\n",
    "        super(Transition, self).__init__()\n",
    "        self.bn1 = nn.BatchNorm2d(nChannels)\n",
    "        self.conv1 = nn.Conv2d(nChannels, nOutChannels, kernel_size=1,\n",
    "                               bias=False)\n",
    "\n",
    "    def forward(self, x):\n",
    "        out = self.conv1(F.relu(self.bn1(x)))\n",
    "        out = F.avg_pool2d(out, 2)\n",
    "        return out"
   ]
  },
  {
   "cell_type": "code",
   "execution_count": 4,
   "id": "designed-smith",
   "metadata": {},
   "outputs": [],
   "source": [
    "class DenseNet(nn.Module):\n",
    "    def __init__(self, growthRate, depth, reduction, nClasses, bottleneck):\n",
    "        super(DenseNet, self).__init__()\n",
    "\n",
    "        nDenseBlocks = (depth-4) // 3 # 만약 depth가 100이라면 32\n",
    "        if bottleneck:\n",
    "            nDenseBlocks //= 2 # Bottleneck이 있다면  16\n",
    "\n",
    "        nChannels = 2*growthRate # growthRate 12\n",
    "        self.conv1 = nn.Conv2d(3, nChannels, kernel_size=3, padding=1,\n",
    "                               bias=False)\n",
    "        # 1, 24, 50, 50\n",
    "        \n",
    "        #nDenseBlock => 16(Bottleneck)\n",
    "        #nChannel => 24\n",
    "        #growthRath => 12\n",
    "        self.dense1 = self._make_dense(nChannels, growthRate, nDenseBlocks, bottleneck)\n",
    "        # 1, 216, 50, 50\n",
    "        # 12*18 => 12 == growthRath \n",
    "        nChannels += nDenseBlocks*growthRate\n",
    "        # 24 + 192 =>nChannels\n",
    "        #print(nChannels)\n",
    "        nOutChannels = int(math.floor(nChannels*reduction)) #math.floor는 소수점 내림.\n",
    "        # nOutChannels => 108\n",
    "        self.trans1 = Transition(nChannels, nOutChannels)\n",
    "        # 1, 108, 25, 25 반반으로 짜름\n",
    "\n",
    "        nChannels = nOutChannels\n",
    "        # 1, 108, 25, 25 => x \n",
    "        # nChannels => 108\n",
    "        self.dense2 = self._make_dense(nChannels, growthRate, nDenseBlocks, bottleneck)\n",
    "        # 1, 300, 25, 25\n",
    "        # 108 + 12*16 = > 300\n",
    "        nChannels += nDenseBlocks*growthRate\n",
    "        nOutChannels = int(math.floor(nChannels*reduction))\n",
    "        self.trans2 = Transition(nChannels, nOutChannels)\n",
    "        # 1, 150, 12 ,12\n",
    "\n",
    "        nChannels = nOutChannels\n",
    "        self.dense3 = self._make_dense(nChannels, growthRate, nDenseBlocks, bottleneck)\n",
    "        # 1, 342, 12, 12\n",
    "        # 192를 계속 더해줌 Tip!\n",
    "        # 150+192=>342\n",
    "        nChannels += nDenseBlocks*growthRate\n",
    "        # print(nChannels)\n",
    "        # nChannels => 342\n",
    "        \n",
    "\n",
    "        self.bn1 = nn.BatchNorm2d(nChannels)\n",
    "        self.fc = nn.Linear(nChannels, nClasses)\n",
    "\n",
    "        # layer의 초기화 \n",
    "        for m in self.modules():\n",
    "            if isinstance(m, nn.Conv2d): # m이 nn.Conv2d이면\n",
    "                n = m.kernel_size[0] * m.kernel_size[1] * m.out_channels\n",
    "                # n=> size\n",
    "                m.weight.data.normal_(0, math.sqrt(2. / n))\n",
    "                #zero-mean Gaussian distribution Standard deviation\n",
    "                \n",
    "                #print(m.weight.data)\n",
    "                # 가중치 초기화\n",
    "            elif isinstance(m, nn.BatchNorm2d): # m이 nn.BatchNorm2d이면\n",
    "                m.weight.data.fill_(1)\n",
    "                m.bias.data.zero_()\n",
    "                # bias => 0\n",
    "            elif isinstance(m, nn.Linear): # m이 nn.Linear이면\n",
    "                m.bias.data.zero_()\n",
    "                # bias=> 0\n",
    "        # xavier method => initial differnece thesis ReLu/PReLU 제외\n",
    "        # delving deep into rectifiers: surpassing human level performance on imagenet classification\n",
    "\n",
    "    def _make_dense(self, nChannels, growthRate, nDenseBlocks, bottleneck):\n",
    "        layers = []\n",
    "        for i in range(int(nDenseBlocks)):\n",
    "            if bottleneck:\n",
    "                layers.append(Bottleneck(nChannels, growthRate))\n",
    "            else:\n",
    "                layers.append(SingleLayer(nChannels, growthRate))\n",
    "            nChannels += growthRate\n",
    "        return nn.Sequential(*layers)\n",
    "\n",
    "    def forward(self, x):\n",
    "        out = self.conv1(x)\n",
    "        # 1, 24, 50, 50\n",
    "        out = self.trans1(self.dense1(out))\n",
    "        # 1, 216, 50, 50\n",
    "        # 1, 108, 25, 25\n",
    "        out = self.trans2(self.dense2(out))\n",
    "        # 1, 300, 25, 25\n",
    "        # 1, 150, 12 ,12\n",
    "        out = self.dense3(out)\n",
    "        # 1, 342, 12 ,12\n",
    "        out = torch.squeeze(F.avg_pool2d(F.relu(self.bn1(out)), 8))\n",
    "        # avg_pool2d out => 1, 342, 1, 1\n",
    "        out = F.log_softmax(self.fc(out))\n",
    "        return out"
   ]
  },
  {
   "cell_type": "code",
   "execution_count": 5,
   "id": "addressed-graduate",
   "metadata": {},
   "outputs": [],
   "source": [
    "import matplotlib.pyplot as plt\n",
    "import numpy as np\n",
    "import random\n",
    "import torch\n",
    "import torchvision\n",
    "import torchvision.transforms as transforms\n",
    "import torch.nn as nn\n",
    "import torch.nn.functional as F\n",
    "import torch.optim as optim\n",
    "import argparse\n",
    "import numpy as np\n",
    "import time\n",
    "from copy import deepcopy\n",
    "import seaborn as sns \n",
    "import matplotlib.pyplot as plt"
   ]
  },
  {
   "cell_type": "code",
   "execution_count": 6,
   "id": "official-thing",
   "metadata": {},
   "outputs": [],
   "source": [
    "input_data=np.load(\"input_data_emotion.npy\")\n",
    "label=np.load(\"label.np.npy\")"
   ]
  },
  {
   "cell_type": "code",
   "execution_count": 7,
   "id": "premium-teddy",
   "metadata": {},
   "outputs": [],
   "source": [
    "label=np.array(label)\n",
    "input_data= (input_data*(1/256)-0.5)/0.5"
   ]
  },
  {
   "cell_type": "code",
   "execution_count": 8,
   "id": "finite-activation",
   "metadata": {},
   "outputs": [],
   "source": [
    "input_data=torch.FloatTensor(input_data)\n",
    "label=torch.LongTensor(label)"
   ]
  },
  {
   "cell_type": "code",
   "execution_count": 9,
   "id": "civil-organic",
   "metadata": {},
   "outputs": [],
   "source": [
    "input_data=input_data.transpose(1,3)"
   ]
  },
  {
   "cell_type": "code",
   "execution_count": 10,
   "id": "hispanic-constraint",
   "metadata": {},
   "outputs": [],
   "source": [
    "from torch.utils.data import TensorDataset\n",
    "from torch.utils.data import DataLoader\n",
    "dataset = TensorDataset(input_data,label)"
   ]
  },
  {
   "cell_type": "code",
   "execution_count": 11,
   "id": "still-diagnosis",
   "metadata": {},
   "outputs": [],
   "source": [
    "trainset,valset=torch.utils.data.random_split(dataset,[30887,5000])\n",
    "trainset,testset=torch.utils.data.random_split(trainset,[25887,5000])\n",
    "\n",
    "partition={'train':trainset,'val':valset,'test':testset}"
   ]
  },
  {
   "cell_type": "code",
   "execution_count": 12,
   "id": "frank-affairs",
   "metadata": {},
   "outputs": [],
   "source": [
    "def train(net,partition,optimizer,criterion):\n",
    "    trainloader = torch.utils.data.DataLoader(partition['train'],\n",
    "                                             batch_size=32,\n",
    "                                             shuffle=True)\n",
    "    net.train()\n",
    "    correct = 0\n",
    "    total =0\n",
    "    train_loss = 0.0\n",
    "    for i, data in enumerate(tqdm(trainloader, 0)):\n",
    "        time.sleep(0.0000001)\n",
    "        optimizer.zero_grad()\n",
    "        inputs, labels = data\n",
    "        inputs = inputs.cuda()\n",
    "        labels = labels.cuda()\n",
    "        outputs = net(inputs)\n",
    "        #break\n",
    "        loss = criterion(outputs, labels)\n",
    "        loss.backward()\n",
    "        optimizer.step()\n",
    "        \n",
    "        train_loss += loss.item()\n",
    "        _, predicted = torch.max(outputs.data, 1)\n",
    "        total += labels.size(0)\n",
    "        correct += (predicted == labels).sum().item()\n",
    "        #if i % 200 == 0:\n",
    "        #    print(correct,train_loss)\n",
    "    train_loss = train_loss / len(trainloader)\n",
    "    train_acc = 100 * correct / total\n",
    "    return net, train_loss, train_acc"
   ]
  },
  {
   "cell_type": "code",
   "execution_count": 13,
   "id": "guided-indicator",
   "metadata": {},
   "outputs": [],
   "source": [
    "def test(net):\n",
    "    testloader = torch.utils.data.DataLoader(partition['test'], \n",
    "                                             batch_size=32, \n",
    "                                             shuffle=False, num_workers=2)\n",
    "    net.eval()\n",
    "    \n",
    "    correct = 0\n",
    "    total = 0\n",
    "    with torch.no_grad():\n",
    "        for data in tqdm(testloader):\n",
    "            time.sleep(0.0000001)\n",
    "            images, labels = data\n",
    "            images = images.cuda()\n",
    "            labels = labels.cuda()\n",
    "\n",
    "            outputs = net(images)\n",
    "            _, predicted = torch.max(outputs.data, 1)\n",
    "            total += labels.size(0)\n",
    "            correct += (predicted == labels).sum().item()\n",
    "\n",
    "        test_acc = 100 * correct / total\n",
    "    return test_acc"
   ]
  },
  {
   "cell_type": "code",
   "execution_count": 14,
   "id": "continuing-looking",
   "metadata": {},
   "outputs": [],
   "source": [
    "def validate(net, partition, criterion):\n",
    "    valloader = torch.utils.data.DataLoader(partition['val'], \n",
    "                                            batch_size=32, \n",
    "                                            shuffle=False, num_workers=2)\n",
    "    net.eval()\n",
    "\n",
    "    correct = 0\n",
    "    total = 0\n",
    "    val_loss = 0 \n",
    "    with torch.no_grad():\n",
    "        for data in tqdm(valloader):\n",
    "            time.sleep(0.0000001)\n",
    "            images, labels = data\n",
    "            images = images.cuda()\n",
    "            labels = labels.cuda()\n",
    "            outputs = net(images)\n",
    "\n",
    "            loss = criterion(outputs, labels)\n",
    "            \n",
    "            val_loss += loss.item()\n",
    "            _, predicted = torch.max(outputs.data, 1)\n",
    "            total += labels.size(0)\n",
    "            correct += (predicted == labels).sum().item()\n",
    "\n",
    "        val_loss = val_loss / len(valloader)\n",
    "        val_acc = 100 * correct / total\n",
    "    return val_loss, val_acc"
   ]
  },
  {
   "cell_type": "code",
   "execution_count": 15,
   "id": "outstanding-subdivision",
   "metadata": {},
   "outputs": [],
   "source": [
    "from tqdm import tqdm, tqdm_notebook\n",
    "from tqdm import trange\n",
    "import time"
   ]
  },
  {
   "cell_type": "code",
   "execution_count": 16,
   "id": "residential-disney",
   "metadata": {},
   "outputs": [
    {
     "name": "stderr",
     "output_type": "stream",
     "text": [
      "  0%|          | 0/809 [00:00<?, ?it/s]/home/lab/anaconda3/envs/pytorch/lib/python3.6/site-packages/ipykernel_launcher.py:95: UserWarning: Implicit dimension choice for log_softmax has been deprecated. Change the call to include dim=X as an argument.\n",
      "100%|██████████| 809/809 [01:28<00:00,  9.10it/s]\n",
      "100%|██████████| 157/157 [00:03<00:00, 41.51it/s]\n",
      "  0%|          | 1/809 [00:00<01:31,  8.79it/s]"
     ]
    },
    {
     "name": "stdout",
     "output_type": "stream",
     "text": [
      "time : 92.67, train_loss : 1.55, train_acc : 38.30,val_acc : 49.14,val_loss : 1.34\n"
     ]
    },
    {
     "name": "stderr",
     "output_type": "stream",
     "text": [
      "100%|██████████| 809/809 [01:29<00:00,  9.07it/s]\n",
      "100%|██████████| 157/157 [00:03<00:00, 41.46it/s]\n",
      "  0%|          | 1/809 [00:00<01:32,  8.78it/s]"
     ]
    },
    {
     "name": "stdout",
     "output_type": "stream",
     "text": [
      "time : 92.94, train_loss : 1.23, train_acc : 53.06,val_acc : 51.46,val_loss : 1.30\n"
     ]
    },
    {
     "name": "stderr",
     "output_type": "stream",
     "text": [
      "100%|██████████| 809/809 [01:29<00:00,  9.07it/s]\n",
      "100%|██████████| 157/157 [00:03<00:00, 41.65it/s]\n",
      "  0%|          | 1/809 [00:00<01:33,  8.66it/s]"
     ]
    },
    {
     "name": "stdout",
     "output_type": "stream",
     "text": [
      "time : 92.93, train_loss : 1.12, train_acc : 57.67,val_acc : 56.08,val_loss : 1.17\n"
     ]
    },
    {
     "name": "stderr",
     "output_type": "stream",
     "text": [
      "100%|██████████| 809/809 [01:29<00:00,  9.05it/s]\n",
      "100%|██████████| 157/157 [00:03<00:00, 41.44it/s]\n",
      "  0%|          | 1/809 [00:00<01:32,  8.75it/s]"
     ]
    },
    {
     "name": "stdout",
     "output_type": "stream",
     "text": [
      "time : 93.21, train_loss : 1.04, train_acc : 60.75,val_acc : 57.76,val_loss : 1.14\n"
     ]
    },
    {
     "name": "stderr",
     "output_type": "stream",
     "text": [
      "100%|██████████| 809/809 [01:29<00:00,  9.05it/s]\n",
      "100%|██████████| 157/157 [00:03<00:00, 41.39it/s]\n",
      "  0%|          | 1/809 [00:00<01:32,  8.69it/s]"
     ]
    },
    {
     "name": "stdout",
     "output_type": "stream",
     "text": [
      "time : 93.21, train_loss : 0.98, train_acc : 62.91,val_acc : 61.26,val_loss : 1.05\n"
     ]
    },
    {
     "name": "stderr",
     "output_type": "stream",
     "text": [
      "100%|██████████| 809/809 [01:29<00:00,  9.05it/s]\n",
      "100%|██████████| 157/157 [00:03<00:00, 41.41it/s]\n",
      "  0%|          | 1/809 [00:00<01:32,  8.74it/s]"
     ]
    },
    {
     "name": "stdout",
     "output_type": "stream",
     "text": [
      "time : 93.23, train_loss : 0.93, train_acc : 65.33,val_acc : 61.76,val_loss : 1.04\n"
     ]
    },
    {
     "name": "stderr",
     "output_type": "stream",
     "text": [
      "100%|██████████| 809/809 [01:29<00:00,  9.06it/s]\n",
      "100%|██████████| 157/157 [00:03<00:00, 41.53it/s]\n",
      "  0%|          | 1/809 [00:00<01:32,  8.69it/s]"
     ]
    },
    {
     "name": "stdout",
     "output_type": "stream",
     "text": [
      "time : 93.11, train_loss : 0.88, train_acc : 67.23,val_acc : 61.70,val_loss : 1.06\n"
     ]
    },
    {
     "name": "stderr",
     "output_type": "stream",
     "text": [
      "100%|██████████| 809/809 [01:29<00:00,  9.05it/s]\n",
      "100%|██████████| 157/157 [00:03<00:00, 41.52it/s]\n",
      "  0%|          | 1/809 [00:00<01:31,  8.82it/s]"
     ]
    },
    {
     "name": "stdout",
     "output_type": "stream",
     "text": [
      "time : 93.17, train_loss : 0.83, train_acc : 69.04,val_acc : 61.68,val_loss : 1.06\n"
     ]
    },
    {
     "name": "stderr",
     "output_type": "stream",
     "text": [
      "100%|██████████| 809/809 [01:29<00:00,  9.07it/s]\n",
      "100%|██████████| 157/157 [00:03<00:00, 41.52it/s]\n",
      "  0%|          | 1/809 [00:00<01:33,  8.67it/s]"
     ]
    },
    {
     "name": "stdout",
     "output_type": "stream",
     "text": [
      "time : 92.97, train_loss : 0.77, train_acc : 71.25,val_acc : 61.70,val_loss : 1.06\n"
     ]
    },
    {
     "name": "stderr",
     "output_type": "stream",
     "text": [
      "100%|██████████| 809/809 [01:29<00:00,  9.06it/s]\n",
      "100%|██████████| 157/157 [00:03<00:00, 41.57it/s]\n",
      "  0%|          | 1/809 [00:00<01:30,  8.96it/s]"
     ]
    },
    {
     "name": "stdout",
     "output_type": "stream",
     "text": [
      "time : 93.10, train_loss : 0.72, train_acc : 72.98,val_acc : 63.42,val_loss : 1.04\n"
     ]
    },
    {
     "name": "stderr",
     "output_type": "stream",
     "text": [
      "100%|██████████| 809/809 [01:29<00:00,  9.06it/s]\n",
      "100%|██████████| 157/157 [00:03<00:00, 41.39it/s]\n",
      "  0%|          | 1/809 [00:00<01:32,  8.75it/s]"
     ]
    },
    {
     "name": "stdout",
     "output_type": "stream",
     "text": [
      "time : 93.06, train_loss : 0.65, train_acc : 75.83,val_acc : 62.76,val_loss : 1.09\n"
     ]
    },
    {
     "name": "stderr",
     "output_type": "stream",
     "text": [
      "100%|██████████| 809/809 [01:29<00:00,  9.07it/s]\n",
      "100%|██████████| 157/157 [00:03<00:00, 41.38it/s]\n",
      "  0%|          | 1/809 [00:00<01:32,  8.72it/s]"
     ]
    },
    {
     "name": "stdout",
     "output_type": "stream",
     "text": [
      "time : 93.02, train_loss : 0.59, train_acc : 78.04,val_acc : 62.32,val_loss : 1.14\n"
     ]
    },
    {
     "name": "stderr",
     "output_type": "stream",
     "text": [
      "100%|██████████| 809/809 [01:29<00:00,  9.05it/s]\n",
      "100%|██████████| 157/157 [00:03<00:00, 41.44it/s]\n",
      "  0%|          | 1/809 [00:00<01:31,  8.84it/s]"
     ]
    },
    {
     "name": "stdout",
     "output_type": "stream",
     "text": [
      "time : 93.21, train_loss : 0.53, train_acc : 80.33,val_acc : 61.48,val_loss : 1.22\n"
     ]
    },
    {
     "name": "stderr",
     "output_type": "stream",
     "text": [
      "100%|██████████| 809/809 [01:29<00:00,  9.05it/s]\n",
      "100%|██████████| 157/157 [00:03<00:00, 41.49it/s]\n",
      "  0%|          | 1/809 [00:00<01:32,  8.70it/s]"
     ]
    },
    {
     "name": "stdout",
     "output_type": "stream",
     "text": [
      "time : 93.21, train_loss : 0.46, train_acc : 82.81,val_acc : 61.08,val_loss : 1.31\n"
     ]
    },
    {
     "name": "stderr",
     "output_type": "stream",
     "text": [
      "100%|██████████| 809/809 [01:29<00:00,  9.05it/s]\n",
      "100%|██████████| 157/157 [00:03<00:00, 41.40it/s]\n",
      "  0%|          | 1/809 [00:00<01:33,  8.64it/s]"
     ]
    },
    {
     "name": "stdout",
     "output_type": "stream",
     "text": [
      "time : 93.17, train_loss : 0.41, train_acc : 85.02,val_acc : 61.80,val_loss : 1.37\n"
     ]
    },
    {
     "name": "stderr",
     "output_type": "stream",
     "text": [
      "100%|██████████| 809/809 [01:29<00:00,  9.06it/s]\n",
      "100%|██████████| 157/157 [00:03<00:00, 41.39it/s]\n",
      "  0%|          | 1/809 [00:00<01:32,  8.74it/s]"
     ]
    },
    {
     "name": "stdout",
     "output_type": "stream",
     "text": [
      "time : 93.12, train_loss : 0.36, train_acc : 87.19,val_acc : 59.84,val_loss : 1.45\n"
     ]
    },
    {
     "name": "stderr",
     "output_type": "stream",
     "text": [
      "100%|██████████| 809/809 [01:29<00:00,  9.07it/s]\n",
      "100%|██████████| 157/157 [00:03<00:00, 41.54it/s]\n",
      "  0%|          | 1/809 [00:00<01:32,  8.73it/s]"
     ]
    },
    {
     "name": "stdout",
     "output_type": "stream",
     "text": [
      "time : 93.02, train_loss : 0.32, train_acc : 88.38,val_acc : 60.16,val_loss : 1.60\n"
     ]
    },
    {
     "name": "stderr",
     "output_type": "stream",
     "text": [
      "100%|██████████| 809/809 [01:29<00:00,  9.04it/s]\n",
      "100%|██████████| 157/157 [00:03<00:00, 41.46it/s]\n",
      "  0%|          | 1/809 [00:00<01:33,  8.65it/s]"
     ]
    },
    {
     "name": "stdout",
     "output_type": "stream",
     "text": [
      "time : 93.24, train_loss : 0.28, train_acc : 89.82,val_acc : 60.70,val_loss : 1.63\n"
     ]
    },
    {
     "name": "stderr",
     "output_type": "stream",
     "text": [
      "100%|██████████| 809/809 [01:29<00:00,  9.05it/s]\n",
      "100%|██████████| 157/157 [00:03<00:00, 41.33it/s]\n",
      "  0%|          | 1/809 [00:00<01:32,  8.69it/s]"
     ]
    },
    {
     "name": "stdout",
     "output_type": "stream",
     "text": [
      "time : 93.23, train_loss : 0.25, train_acc : 90.92,val_acc : 60.20,val_loss : 1.63\n"
     ]
    },
    {
     "name": "stderr",
     "output_type": "stream",
     "text": [
      "100%|██████████| 809/809 [01:29<00:00,  9.05it/s]\n",
      "100%|██████████| 157/157 [00:03<00:00, 41.51it/s]\n",
      "  0%|          | 1/809 [00:00<01:31,  8.85it/s]"
     ]
    },
    {
     "name": "stdout",
     "output_type": "stream",
     "text": [
      "time : 93.16, train_loss : 0.22, train_acc : 91.78,val_acc : 62.50,val_loss : 1.78\n"
     ]
    },
    {
     "name": "stderr",
     "output_type": "stream",
     "text": [
      "100%|██████████| 809/809 [01:29<00:00,  9.06it/s]\n",
      "100%|██████████| 157/157 [00:03<00:00, 41.49it/s]\n",
      "  0%|          | 1/809 [00:00<01:32,  8.73it/s]"
     ]
    },
    {
     "name": "stdout",
     "output_type": "stream",
     "text": [
      "time : 93.10, train_loss : 0.21, train_acc : 92.41,val_acc : 59.82,val_loss : 1.78\n"
     ]
    },
    {
     "name": "stderr",
     "output_type": "stream",
     "text": [
      "100%|██████████| 809/809 [01:29<00:00,  9.07it/s]\n",
      "100%|██████████| 157/157 [00:03<00:00, 41.45it/s]\n",
      "  0%|          | 1/809 [00:00<01:32,  8.71it/s]"
     ]
    },
    {
     "name": "stdout",
     "output_type": "stream",
     "text": [
      "time : 93.00, train_loss : 0.20, train_acc : 93.14,val_acc : 60.72,val_loss : 1.85\n"
     ]
    },
    {
     "name": "stderr",
     "output_type": "stream",
     "text": [
      "100%|██████████| 809/809 [01:29<00:00,  9.05it/s]\n",
      "100%|██████████| 157/157 [00:03<00:00, 41.40it/s]\n",
      "  0%|          | 1/809 [00:00<01:32,  8.74it/s]"
     ]
    },
    {
     "name": "stdout",
     "output_type": "stream",
     "text": [
      "time : 93.15, train_loss : 0.19, train_acc : 93.30,val_acc : 61.50,val_loss : 1.84\n"
     ]
    },
    {
     "name": "stderr",
     "output_type": "stream",
     "text": [
      "100%|██████████| 809/809 [01:29<00:00,  9.05it/s]\n",
      "100%|██████████| 157/157 [00:03<00:00, 41.45it/s]\n",
      "  0%|          | 1/809 [00:00<01:32,  8.74it/s]"
     ]
    },
    {
     "name": "stdout",
     "output_type": "stream",
     "text": [
      "time : 93.23, train_loss : 0.17, train_acc : 93.66,val_acc : 62.68,val_loss : 1.72\n"
     ]
    },
    {
     "name": "stderr",
     "output_type": "stream",
     "text": [
      "100%|██████████| 809/809 [01:29<00:00,  9.06it/s]\n",
      "100%|██████████| 157/157 [00:03<00:00, 41.29it/s]\n",
      "  0%|          | 1/809 [00:00<01:32,  8.77it/s]"
     ]
    },
    {
     "name": "stdout",
     "output_type": "stream",
     "text": [
      "time : 93.11, train_loss : 0.17, train_acc : 94.07,val_acc : 62.30,val_loss : 1.88\n"
     ]
    },
    {
     "name": "stderr",
     "output_type": "stream",
     "text": [
      "100%|██████████| 809/809 [01:29<00:00,  9.05it/s]\n",
      "100%|██████████| 157/157 [00:03<00:00, 41.48it/s]\n",
      "  0%|          | 1/809 [00:00<01:32,  8.69it/s]"
     ]
    },
    {
     "name": "stdout",
     "output_type": "stream",
     "text": [
      "time : 93.18, train_loss : 0.17, train_acc : 93.96,val_acc : 61.48,val_loss : 1.95\n"
     ]
    },
    {
     "name": "stderr",
     "output_type": "stream",
     "text": [
      "100%|██████████| 809/809 [01:29<00:00,  9.03it/s]\n",
      "100%|██████████| 157/157 [00:03<00:00, 41.53it/s]\n",
      "  0%|          | 1/809 [00:00<01:31,  8.82it/s]"
     ]
    },
    {
     "name": "stdout",
     "output_type": "stream",
     "text": [
      "time : 93.36, train_loss : 0.14, train_acc : 95.08,val_acc : 62.48,val_loss : 1.99\n"
     ]
    },
    {
     "name": "stderr",
     "output_type": "stream",
     "text": [
      "100%|██████████| 809/809 [01:29<00:00,  9.03it/s]\n",
      "100%|██████████| 157/157 [00:03<00:00, 41.29it/s]\n",
      "  0%|          | 1/809 [00:00<01:32,  8.75it/s]"
     ]
    },
    {
     "name": "stdout",
     "output_type": "stream",
     "text": [
      "time : 93.37, train_loss : 0.16, train_acc : 94.36,val_acc : 62.32,val_loss : 1.88\n"
     ]
    },
    {
     "name": "stderr",
     "output_type": "stream",
     "text": [
      "100%|██████████| 809/809 [01:29<00:00,  9.02it/s]\n",
      "100%|██████████| 157/157 [00:03<00:00, 41.35it/s]\n",
      "  0%|          | 1/809 [00:00<01:32,  8.70it/s]"
     ]
    },
    {
     "name": "stdout",
     "output_type": "stream",
     "text": [
      "time : 93.45, train_loss : 0.14, train_acc : 95.07,val_acc : 61.50,val_loss : 1.93\n"
     ]
    },
    {
     "name": "stderr",
     "output_type": "stream",
     "text": [
      "100%|██████████| 809/809 [01:29<00:00,  9.02it/s]\n",
      "100%|██████████| 157/157 [00:03<00:00, 41.39it/s]\n",
      "  0%|          | 1/809 [00:00<01:30,  8.94it/s]"
     ]
    },
    {
     "name": "stdout",
     "output_type": "stream",
     "text": [
      "time : 93.46, train_loss : 0.13, train_acc : 95.45,val_acc : 61.08,val_loss : 2.07\n"
     ]
    },
    {
     "name": "stderr",
     "output_type": "stream",
     "text": [
      "100%|██████████| 809/809 [01:29<00:00,  9.02it/s]\n",
      "100%|██████████| 157/157 [00:03<00:00, 41.17it/s]\n",
      "  0%|          | 1/809 [00:00<01:32,  8.74it/s]"
     ]
    },
    {
     "name": "stdout",
     "output_type": "stream",
     "text": [
      "time : 93.49, train_loss : 0.14, train_acc : 95.30,val_acc : 62.14,val_loss : 2.01\n"
     ]
    },
    {
     "name": "stderr",
     "output_type": "stream",
     "text": [
      "100%|██████████| 809/809 [01:29<00:00,  9.02it/s]\n",
      "100%|██████████| 157/157 [00:03<00:00, 41.33it/s]\n",
      "  0%|          | 1/809 [00:00<01:32,  8.72it/s]"
     ]
    },
    {
     "name": "stdout",
     "output_type": "stream",
     "text": [
      "time : 93.47, train_loss : 0.13, train_acc : 95.54,val_acc : 61.86,val_loss : 2.10\n"
     ]
    },
    {
     "name": "stderr",
     "output_type": "stream",
     "text": [
      "100%|██████████| 809/809 [01:29<00:00,  9.02it/s]\n",
      "100%|██████████| 157/157 [00:03<00:00, 41.18it/s]\n",
      "  0%|          | 1/809 [00:00<01:33,  8.66it/s]"
     ]
    },
    {
     "name": "stdout",
     "output_type": "stream",
     "text": [
      "time : 93.51, train_loss : 0.12, train_acc : 95.91,val_acc : 58.68,val_loss : 2.37\n"
     ]
    },
    {
     "name": "stderr",
     "output_type": "stream",
     "text": [
      "100%|██████████| 809/809 [01:29<00:00,  9.03it/s]\n",
      "100%|██████████| 157/157 [00:03<00:00, 41.32it/s]\n",
      "  0%|          | 1/809 [00:00<01:34,  8.59it/s]"
     ]
    },
    {
     "name": "stdout",
     "output_type": "stream",
     "text": [
      "time : 93.38, train_loss : 0.13, train_acc : 95.50,val_acc : 62.68,val_loss : 2.01\n"
     ]
    },
    {
     "name": "stderr",
     "output_type": "stream",
     "text": [
      "100%|██████████| 809/809 [01:29<00:00,  9.02it/s]\n",
      "100%|██████████| 157/157 [00:03<00:00, 41.26it/s]\n",
      "  0%|          | 1/809 [00:00<01:34,  8.56it/s]"
     ]
    },
    {
     "name": "stdout",
     "output_type": "stream",
     "text": [
      "time : 93.52, train_loss : 0.12, train_acc : 96.10,val_acc : 62.56,val_loss : 2.07\n"
     ]
    },
    {
     "name": "stderr",
     "output_type": "stream",
     "text": [
      "100%|██████████| 809/809 [01:29<00:00,  9.02it/s]\n",
      "100%|██████████| 157/157 [00:03<00:00, 41.28it/s]\n",
      "  0%|          | 1/809 [00:00<01:32,  8.75it/s]"
     ]
    },
    {
     "name": "stdout",
     "output_type": "stream",
     "text": [
      "time : 93.49, train_loss : 0.12, train_acc : 95.73,val_acc : 63.06,val_loss : 2.07\n"
     ]
    },
    {
     "name": "stderr",
     "output_type": "stream",
     "text": [
      "100%|██████████| 809/809 [01:29<00:00,  9.02it/s]\n",
      "100%|██████████| 157/157 [00:03<00:00, 41.22it/s]\n",
      "  0%|          | 1/809 [00:00<01:32,  8.73it/s]"
     ]
    },
    {
     "name": "stdout",
     "output_type": "stream",
     "text": [
      "time : 93.52, train_loss : 0.12, train_acc : 96.11,val_acc : 62.52,val_loss : 2.08\n"
     ]
    },
    {
     "name": "stderr",
     "output_type": "stream",
     "text": [
      "100%|██████████| 809/809 [01:29<00:00,  9.03it/s]\n",
      "100%|██████████| 157/157 [00:03<00:00, 41.19it/s]\n",
      "  0%|          | 1/809 [00:00<01:33,  8.68it/s]"
     ]
    },
    {
     "name": "stdout",
     "output_type": "stream",
     "text": [
      "time : 93.43, train_loss : 0.11, train_acc : 96.33,val_acc : 62.60,val_loss : 2.03\n"
     ]
    },
    {
     "name": "stderr",
     "output_type": "stream",
     "text": [
      "100%|██████████| 809/809 [01:29<00:00,  9.02it/s]\n",
      "100%|██████████| 157/157 [00:03<00:00, 41.16it/s]\n",
      "  0%|          | 1/809 [00:00<01:30,  8.95it/s]"
     ]
    },
    {
     "name": "stdout",
     "output_type": "stream",
     "text": [
      "time : 93.46, train_loss : 0.12, train_acc : 96.11,val_acc : 62.78,val_loss : 2.07\n"
     ]
    },
    {
     "name": "stderr",
     "output_type": "stream",
     "text": [
      "100%|██████████| 809/809 [01:29<00:00,  9.02it/s]\n",
      "100%|██████████| 157/157 [00:03<00:00, 41.21it/s]\n",
      "  0%|          | 1/809 [00:00<01:31,  8.80it/s]"
     ]
    },
    {
     "name": "stdout",
     "output_type": "stream",
     "text": [
      "time : 93.49, train_loss : 0.11, train_acc : 96.19,val_acc : 62.42,val_loss : 2.10\n"
     ]
    },
    {
     "name": "stderr",
     "output_type": "stream",
     "text": [
      "100%|██████████| 809/809 [01:29<00:00,  9.02it/s]\n",
      "100%|██████████| 157/157 [00:03<00:00, 41.07it/s]\n",
      "  0%|          | 1/809 [00:00<01:33,  8.66it/s]"
     ]
    },
    {
     "name": "stdout",
     "output_type": "stream",
     "text": [
      "time : 93.52, train_loss : 0.11, train_acc : 96.38,val_acc : 61.86,val_loss : 2.16\n"
     ]
    },
    {
     "name": "stderr",
     "output_type": "stream",
     "text": [
      "100%|██████████| 809/809 [01:29<00:00,  9.01it/s]\n",
      "100%|██████████| 157/157 [00:03<00:00, 41.17it/s]\n",
      "  0%|          | 1/809 [00:00<01:32,  8.70it/s]"
     ]
    },
    {
     "name": "stdout",
     "output_type": "stream",
     "text": [
      "time : 93.62, train_loss : 0.11, train_acc : 96.24,val_acc : 62.30,val_loss : 2.08\n"
     ]
    },
    {
     "name": "stderr",
     "output_type": "stream",
     "text": [
      "100%|██████████| 809/809 [01:29<00:00,  9.01it/s]\n",
      "100%|██████████| 157/157 [00:03<00:00, 41.06it/s]\n",
      "  0%|          | 1/809 [00:00<01:32,  8.70it/s]"
     ]
    },
    {
     "name": "stdout",
     "output_type": "stream",
     "text": [
      "time : 93.59, train_loss : 0.10, train_acc : 96.61,val_acc : 63.40,val_loss : 2.10\n"
     ]
    },
    {
     "name": "stderr",
     "output_type": "stream",
     "text": [
      "100%|██████████| 809/809 [01:29<00:00,  9.01it/s]\n",
      "100%|██████████| 157/157 [00:03<00:00, 41.30it/s]\n",
      "  0%|          | 1/809 [00:00<01:29,  8.99it/s]"
     ]
    },
    {
     "name": "stdout",
     "output_type": "stream",
     "text": [
      "time : 93.64, train_loss : 0.10, train_acc : 96.52,val_acc : 61.08,val_loss : 2.28\n"
     ]
    },
    {
     "name": "stderr",
     "output_type": "stream",
     "text": [
      "100%|██████████| 809/809 [01:29<00:00,  9.01it/s]\n",
      "100%|██████████| 157/157 [00:03<00:00, 41.14it/s]\n",
      "  0%|          | 1/809 [00:00<01:33,  8.64it/s]"
     ]
    },
    {
     "name": "stdout",
     "output_type": "stream",
     "text": [
      "time : 93.64, train_loss : 0.12, train_acc : 95.96,val_acc : 62.22,val_loss : 2.20\n"
     ]
    },
    {
     "name": "stderr",
     "output_type": "stream",
     "text": [
      "100%|██████████| 809/809 [01:29<00:00,  9.02it/s]\n",
      "100%|██████████| 157/157 [00:03<00:00, 41.19it/s]\n",
      "  0%|          | 1/809 [00:00<01:33,  8.67it/s]"
     ]
    },
    {
     "name": "stdout",
     "output_type": "stream",
     "text": [
      "time : 93.54, train_loss : 0.09, train_acc : 96.91,val_acc : 64.18,val_loss : 2.09\n"
     ]
    },
    {
     "name": "stderr",
     "output_type": "stream",
     "text": [
      "100%|██████████| 809/809 [01:29<00:00,  9.00it/s]\n",
      "100%|██████████| 157/157 [00:03<00:00, 40.88it/s]\n",
      "  0%|          | 1/809 [00:00<01:30,  8.94it/s]"
     ]
    },
    {
     "name": "stdout",
     "output_type": "stream",
     "text": [
      "time : 93.69, train_loss : 0.09, train_acc : 96.86,val_acc : 62.30,val_loss : 2.18\n"
     ]
    },
    {
     "name": "stderr",
     "output_type": "stream",
     "text": [
      "100%|██████████| 809/809 [01:29<00:00,  8.99it/s]\n",
      "100%|██████████| 157/157 [00:03<00:00, 41.18it/s]\n",
      "  0%|          | 1/809 [00:00<01:32,  8.75it/s]"
     ]
    },
    {
     "name": "stdout",
     "output_type": "stream",
     "text": [
      "time : 93.76, train_loss : 0.10, train_acc : 96.82,val_acc : 63.04,val_loss : 2.22\n"
     ]
    },
    {
     "name": "stderr",
     "output_type": "stream",
     "text": [
      "100%|██████████| 809/809 [01:29<00:00,  9.01it/s]\n",
      "100%|██████████| 157/157 [00:03<00:00, 41.07it/s]\n",
      "  0%|          | 1/809 [00:00<01:32,  8.71it/s]"
     ]
    },
    {
     "name": "stdout",
     "output_type": "stream",
     "text": [
      "time : 93.62, train_loss : 0.10, train_acc : 96.61,val_acc : 62.80,val_loss : 2.13\n"
     ]
    },
    {
     "name": "stderr",
     "output_type": "stream",
     "text": [
      "100%|██████████| 809/809 [01:29<00:00,  9.01it/s]\n",
      "100%|██████████| 157/157 [00:03<00:00, 41.08it/s]\n",
      "  0%|          | 1/809 [00:00<01:32,  8.71it/s]"
     ]
    },
    {
     "name": "stdout",
     "output_type": "stream",
     "text": [
      "time : 93.63, train_loss : 0.10, train_acc : 96.61,val_acc : 61.96,val_loss : 2.16\n"
     ]
    },
    {
     "name": "stderr",
     "output_type": "stream",
     "text": [
      "100%|██████████| 809/809 [01:29<00:00,  9.01it/s]\n",
      "100%|██████████| 157/157 [00:03<00:00, 41.27it/s]\n",
      "  0%|          | 1/809 [00:00<01:33,  8.67it/s]"
     ]
    },
    {
     "name": "stdout",
     "output_type": "stream",
     "text": [
      "time : 93.64, train_loss : 0.09, train_acc : 96.93,val_acc : 61.36,val_loss : 2.25\n"
     ]
    },
    {
     "name": "stderr",
     "output_type": "stream",
     "text": [
      "100%|██████████| 809/809 [01:29<00:00,  9.00it/s]\n",
      "100%|██████████| 157/157 [00:03<00:00, 41.26it/s]\n",
      "  0%|          | 1/809 [00:00<01:32,  8.77it/s]"
     ]
    },
    {
     "name": "stdout",
     "output_type": "stream",
     "text": [
      "time : 93.65, train_loss : 0.10, train_acc : 96.61,val_acc : 61.84,val_loss : 2.24\n"
     ]
    },
    {
     "name": "stderr",
     "output_type": "stream",
     "text": [
      "100%|██████████| 809/809 [01:29<00:00,  9.02it/s]\n",
      "100%|██████████| 157/157 [00:03<00:00, 41.22it/s]\n",
      "  0%|          | 1/809 [00:00<01:34,  8.59it/s]"
     ]
    },
    {
     "name": "stdout",
     "output_type": "stream",
     "text": [
      "time : 93.52, train_loss : 0.08, train_acc : 97.27,val_acc : 62.42,val_loss : 2.25\n"
     ]
    },
    {
     "name": "stderr",
     "output_type": "stream",
     "text": [
      "100%|██████████| 809/809 [01:29<00:00,  9.01it/s]\n",
      "100%|██████████| 157/157 [00:03<00:00, 41.10it/s]\n",
      "  0%|          | 1/809 [00:00<01:37,  8.25it/s]"
     ]
    },
    {
     "name": "stdout",
     "output_type": "stream",
     "text": [
      "time : 93.66, train_loss : 0.10, train_acc : 96.64,val_acc : 62.82,val_loss : 2.14\n"
     ]
    },
    {
     "name": "stderr",
     "output_type": "stream",
     "text": [
      "100%|██████████| 809/809 [01:34<00:00,  8.53it/s]\n",
      "100%|██████████| 157/157 [00:03<00:00, 41.41it/s]\n",
      "  0%|          | 1/809 [00:00<01:32,  8.70it/s]"
     ]
    },
    {
     "name": "stdout",
     "output_type": "stream",
     "text": [
      "time : 98.60, train_loss : 0.09, train_acc : 97.00,val_acc : 62.20,val_loss : 2.24\n"
     ]
    },
    {
     "name": "stderr",
     "output_type": "stream",
     "text": [
      "100%|██████████| 809/809 [01:29<00:00,  9.01it/s]\n",
      "100%|██████████| 157/157 [00:03<00:00, 41.33it/s]\n",
      "  0%|          | 1/809 [00:00<01:33,  8.63it/s]"
     ]
    },
    {
     "name": "stdout",
     "output_type": "stream",
     "text": [
      "time : 93.57, train_loss : 0.08, train_acc : 97.38,val_acc : 61.44,val_loss : 2.43\n"
     ]
    },
    {
     "name": "stderr",
     "output_type": "stream",
     "text": [
      "100%|██████████| 809/809 [01:29<00:00,  9.00it/s]\n",
      "100%|██████████| 157/157 [00:03<00:00, 41.25it/s]\n",
      "  0%|          | 1/809 [00:00<01:32,  8.76it/s]"
     ]
    },
    {
     "name": "stdout",
     "output_type": "stream",
     "text": [
      "time : 93.65, train_loss : 0.10, train_acc : 96.63,val_acc : 63.18,val_loss : 2.22\n"
     ]
    },
    {
     "name": "stderr",
     "output_type": "stream",
     "text": [
      "100%|██████████| 809/809 [01:29<00:00,  9.00it/s]\n",
      "100%|██████████| 157/157 [00:03<00:00, 41.10it/s]\n",
      "  0%|          | 1/809 [00:00<01:33,  8.66it/s]"
     ]
    },
    {
     "name": "stdout",
     "output_type": "stream",
     "text": [
      "time : 93.70, train_loss : 0.09, train_acc : 97.00,val_acc : 61.88,val_loss : 2.22\n"
     ]
    },
    {
     "name": "stderr",
     "output_type": "stream",
     "text": [
      "100%|██████████| 809/809 [01:29<00:00,  9.00it/s]\n",
      "100%|██████████| 157/157 [00:03<00:00, 41.21it/s]\n",
      "  0%|          | 1/809 [00:00<01:38,  8.23it/s]"
     ]
    },
    {
     "name": "stdout",
     "output_type": "stream",
     "text": [
      "time : 93.66, train_loss : 0.09, train_acc : 97.05,val_acc : 62.18,val_loss : 2.21\n"
     ]
    },
    {
     "name": "stderr",
     "output_type": "stream",
     "text": [
      "100%|██████████| 809/809 [01:34<00:00,  8.53it/s]\n",
      "100%|██████████| 157/157 [00:03<00:00, 41.15it/s]\n",
      "  0%|          | 1/809 [00:00<01:37,  8.27it/s]"
     ]
    },
    {
     "name": "stdout",
     "output_type": "stream",
     "text": [
      "time : 98.67, train_loss : 0.08, train_acc : 97.16,val_acc : 62.94,val_loss : 2.37\n"
     ]
    },
    {
     "name": "stderr",
     "output_type": "stream",
     "text": [
      "100%|██████████| 809/809 [01:34<00:00,  8.55it/s]\n",
      "100%|██████████| 157/157 [00:03<00:00, 41.14it/s]\n",
      "  0%|          | 1/809 [00:00<01:32,  8.70it/s]"
     ]
    },
    {
     "name": "stdout",
     "output_type": "stream",
     "text": [
      "time : 98.49, train_loss : 0.09, train_acc : 96.91,val_acc : 61.64,val_loss : 2.30\n"
     ]
    },
    {
     "name": "stderr",
     "output_type": "stream",
     "text": [
      "100%|██████████| 809/809 [01:29<00:00,  9.00it/s]\n",
      "100%|██████████| 157/157 [00:03<00:00, 41.20it/s]\n",
      "  0%|          | 1/809 [00:00<01:33,  8.67it/s]"
     ]
    },
    {
     "name": "stdout",
     "output_type": "stream",
     "text": [
      "time : 93.69, train_loss : 0.08, train_acc : 97.26,val_acc : 63.70,val_loss : 2.20\n"
     ]
    },
    {
     "name": "stderr",
     "output_type": "stream",
     "text": [
      "100%|██████████| 809/809 [01:29<00:00,  9.01it/s]\n",
      "100%|██████████| 157/157 [00:03<00:00, 41.04it/s]\n",
      "  0%|          | 1/809 [00:00<01:33,  8.66it/s]"
     ]
    },
    {
     "name": "stdout",
     "output_type": "stream",
     "text": [
      "time : 93.58, train_loss : 0.07, train_acc : 97.70,val_acc : 61.32,val_loss : 2.35\n"
     ]
    },
    {
     "name": "stderr",
     "output_type": "stream",
     "text": [
      "100%|██████████| 809/809 [01:29<00:00,  9.01it/s]\n",
      "100%|██████████| 157/157 [00:03<00:00, 41.04it/s]\n",
      "  0%|          | 1/809 [00:00<01:32,  8.72it/s]"
     ]
    },
    {
     "name": "stdout",
     "output_type": "stream",
     "text": [
      "time : 93.63, train_loss : 0.09, train_acc : 97.12,val_acc : 62.60,val_loss : 2.46\n"
     ]
    },
    {
     "name": "stderr",
     "output_type": "stream",
     "text": [
      "100%|██████████| 809/809 [01:29<00:00,  9.00it/s]\n",
      "100%|██████████| 157/157 [00:03<00:00, 41.15it/s]\n",
      "  0%|          | 1/809 [00:00<01:30,  8.92it/s]"
     ]
    },
    {
     "name": "stdout",
     "output_type": "stream",
     "text": [
      "time : 93.67, train_loss : 0.09, train_acc : 97.18,val_acc : 62.98,val_loss : 2.22\n"
     ]
    },
    {
     "name": "stderr",
     "output_type": "stream",
     "text": [
      "100%|██████████| 809/809 [01:29<00:00,  9.00it/s]\n",
      "100%|██████████| 157/157 [00:03<00:00, 41.23it/s]\n",
      "  0%|          | 1/809 [00:00<01:30,  8.95it/s]"
     ]
    },
    {
     "name": "stdout",
     "output_type": "stream",
     "text": [
      "time : 93.66, train_loss : 0.08, train_acc : 97.30,val_acc : 60.10,val_loss : 2.31\n"
     ]
    },
    {
     "name": "stderr",
     "output_type": "stream",
     "text": [
      "100%|██████████| 809/809 [01:29<00:00,  9.00it/s]\n",
      "100%|██████████| 157/157 [00:03<00:00, 41.10it/s]\n",
      "  0%|          | 1/809 [00:00<01:33,  8.62it/s]"
     ]
    },
    {
     "name": "stdout",
     "output_type": "stream",
     "text": [
      "time : 93.66, train_loss : 0.07, train_acc : 97.53,val_acc : 60.42,val_loss : 2.41\n"
     ]
    },
    {
     "name": "stderr",
     "output_type": "stream",
     "text": [
      "100%|██████████| 809/809 [01:29<00:00,  9.00it/s]\n",
      "100%|██████████| 157/157 [00:03<00:00, 41.14it/s]\n",
      "  0%|          | 1/809 [00:00<01:33,  8.68it/s]"
     ]
    },
    {
     "name": "stdout",
     "output_type": "stream",
     "text": [
      "time : 93.70, train_loss : 0.08, train_acc : 97.20,val_acc : 62.66,val_loss : 2.32\n"
     ]
    },
    {
     "name": "stderr",
     "output_type": "stream",
     "text": [
      "100%|██████████| 809/809 [01:29<00:00,  9.00it/s]\n",
      "100%|██████████| 157/157 [00:03<00:00, 41.25it/s]\n",
      "  0%|          | 1/809 [00:00<01:32,  8.73it/s]"
     ]
    },
    {
     "name": "stdout",
     "output_type": "stream",
     "text": [
      "time : 93.66, train_loss : 0.08, train_acc : 97.34,val_acc : 61.52,val_loss : 2.60\n"
     ]
    },
    {
     "name": "stderr",
     "output_type": "stream",
     "text": [
      "100%|██████████| 809/809 [01:29<00:00,  9.02it/s]\n",
      "100%|██████████| 157/157 [00:03<00:00, 41.10it/s]\n",
      "  0%|          | 1/809 [00:00<01:32,  8.71it/s]"
     ]
    },
    {
     "name": "stdout",
     "output_type": "stream",
     "text": [
      "time : 93.48, train_loss : 0.08, train_acc : 97.45,val_acc : 60.58,val_loss : 2.43\n"
     ]
    },
    {
     "name": "stderr",
     "output_type": "stream",
     "text": [
      "100%|██████████| 809/809 [01:29<00:00,  9.03it/s]\n",
      "100%|██████████| 157/157 [00:03<00:00, 41.24it/s]\n",
      "  0%|          | 1/809 [00:00<01:33,  8.62it/s]"
     ]
    },
    {
     "name": "stdout",
     "output_type": "stream",
     "text": [
      "time : 93.38, train_loss : 0.08, train_acc : 97.41,val_acc : 63.08,val_loss : 2.24\n"
     ]
    },
    {
     "name": "stderr",
     "output_type": "stream",
     "text": [
      "100%|██████████| 809/809 [01:29<00:00,  9.04it/s]\n",
      "100%|██████████| 157/157 [00:03<00:00, 41.44it/s]\n",
      "  0%|          | 1/809 [00:00<01:32,  8.74it/s]"
     ]
    },
    {
     "name": "stdout",
     "output_type": "stream",
     "text": [
      "time : 93.32, train_loss : 0.08, train_acc : 97.39,val_acc : 62.36,val_loss : 2.30\n"
     ]
    },
    {
     "name": "stderr",
     "output_type": "stream",
     "text": [
      "100%|██████████| 809/809 [01:29<00:00,  9.03it/s]\n",
      "100%|██████████| 157/157 [00:03<00:00, 41.24it/s]\n",
      "  0%|          | 1/809 [00:00<01:32,  8.72it/s]"
     ]
    },
    {
     "name": "stdout",
     "output_type": "stream",
     "text": [
      "time : 93.41, train_loss : 0.08, train_acc : 97.34,val_acc : 61.66,val_loss : 2.50\n"
     ]
    },
    {
     "name": "stderr",
     "output_type": "stream",
     "text": [
      "100%|██████████| 809/809 [01:29<00:00,  9.02it/s]\n",
      "100%|██████████| 157/157 [00:03<00:00, 41.45it/s]\n",
      "  0%|          | 1/809 [00:00<01:31,  8.79it/s]"
     ]
    },
    {
     "name": "stdout",
     "output_type": "stream",
     "text": [
      "time : 93.49, train_loss : 0.07, train_acc : 97.67,val_acc : 62.08,val_loss : 2.56\n"
     ]
    },
    {
     "name": "stderr",
     "output_type": "stream",
     "text": [
      "100%|██████████| 809/809 [01:29<00:00,  9.02it/s]\n",
      "100%|██████████| 157/157 [00:03<00:00, 41.44it/s]\n",
      "  0%|          | 1/809 [00:00<01:33,  8.69it/s]"
     ]
    },
    {
     "name": "stdout",
     "output_type": "stream",
     "text": [
      "time : 93.44, train_loss : 0.09, train_acc : 97.04,val_acc : 63.30,val_loss : 2.28\n"
     ]
    },
    {
     "name": "stderr",
     "output_type": "stream",
     "text": [
      "100%|██████████| 809/809 [01:29<00:00,  9.03it/s]\n",
      "100%|██████████| 157/157 [00:03<00:00, 41.32it/s]\n",
      "  0%|          | 1/809 [00:00<01:33,  8.65it/s]"
     ]
    },
    {
     "name": "stdout",
     "output_type": "stream",
     "text": [
      "time : 93.35, train_loss : 0.07, train_acc : 97.82,val_acc : 58.76,val_loss : 2.54\n"
     ]
    },
    {
     "name": "stderr",
     "output_type": "stream",
     "text": [
      "100%|██████████| 809/809 [01:29<00:00,  9.03it/s]\n",
      "100%|██████████| 157/157 [00:03<00:00, 41.26it/s]\n",
      "  0%|          | 1/809 [00:00<01:32,  8.76it/s]"
     ]
    },
    {
     "name": "stdout",
     "output_type": "stream",
     "text": [
      "time : 93.41, train_loss : 0.08, train_acc : 97.18,val_acc : 61.58,val_loss : 2.40\n"
     ]
    },
    {
     "name": "stderr",
     "output_type": "stream",
     "text": [
      "100%|██████████| 809/809 [01:29<00:00,  9.03it/s]\n",
      "100%|██████████| 157/157 [00:03<00:00, 41.48it/s]\n",
      "  0%|          | 1/809 [00:00<01:32,  8.72it/s]"
     ]
    },
    {
     "name": "stdout",
     "output_type": "stream",
     "text": [
      "time : 93.35, train_loss : 0.07, train_acc : 97.45,val_acc : 62.74,val_loss : 2.33\n"
     ]
    },
    {
     "name": "stderr",
     "output_type": "stream",
     "text": [
      "100%|██████████| 809/809 [01:29<00:00,  9.04it/s]\n",
      "100%|██████████| 157/157 [00:03<00:00, 41.42it/s]\n",
      "  0%|          | 1/809 [00:00<01:32,  8.70it/s]"
     ]
    },
    {
     "name": "stdout",
     "output_type": "stream",
     "text": [
      "time : 93.27, train_loss : 0.07, train_acc : 97.69,val_acc : 62.78,val_loss : 2.28\n"
     ]
    },
    {
     "name": "stderr",
     "output_type": "stream",
     "text": [
      "100%|██████████| 809/809 [01:29<00:00,  9.03it/s]\n",
      "100%|██████████| 157/157 [00:03<00:00, 41.52it/s]\n",
      "  0%|          | 1/809 [00:00<01:33,  8.68it/s]"
     ]
    },
    {
     "name": "stdout",
     "output_type": "stream",
     "text": [
      "time : 93.34, train_loss : 0.08, train_acc : 97.50,val_acc : 62.06,val_loss : 2.35\n"
     ]
    },
    {
     "name": "stderr",
     "output_type": "stream",
     "text": [
      "100%|██████████| 809/809 [01:29<00:00,  9.04it/s]\n",
      "100%|██████████| 157/157 [00:03<00:00, 41.32it/s]\n",
      "  0%|          | 1/809 [00:00<01:32,  8.76it/s]"
     ]
    },
    {
     "name": "stdout",
     "output_type": "stream",
     "text": [
      "time : 93.29, train_loss : 0.08, train_acc : 97.32,val_acc : 60.36,val_loss : 2.37\n"
     ]
    },
    {
     "name": "stderr",
     "output_type": "stream",
     "text": [
      "100%|██████████| 809/809 [01:29<00:00,  9.03it/s]\n",
      "100%|██████████| 157/157 [00:03<00:00, 41.44it/s]\n",
      "  0%|          | 1/809 [00:00<01:32,  8.77it/s]"
     ]
    },
    {
     "name": "stdout",
     "output_type": "stream",
     "text": [
      "time : 93.37, train_loss : 0.07, train_acc : 97.55,val_acc : 63.08,val_loss : 2.23\n"
     ]
    },
    {
     "name": "stderr",
     "output_type": "stream",
     "text": [
      "100%|██████████| 809/809 [01:29<00:00,  9.04it/s]\n",
      "100%|██████████| 157/157 [00:03<00:00, 41.29it/s]\n",
      "  0%|          | 1/809 [00:00<01:32,  8.70it/s]"
     ]
    },
    {
     "name": "stdout",
     "output_type": "stream",
     "text": [
      "time : 93.31, train_loss : 0.07, train_acc : 97.50,val_acc : 58.60,val_loss : 2.61\n"
     ]
    },
    {
     "name": "stderr",
     "output_type": "stream",
     "text": [
      "100%|██████████| 809/809 [01:29<00:00,  9.04it/s]\n",
      "100%|██████████| 157/157 [00:03<00:00, 41.25it/s]\n",
      "  0%|          | 1/809 [00:00<01:32,  8.74it/s]"
     ]
    },
    {
     "name": "stdout",
     "output_type": "stream",
     "text": [
      "time : 93.31, train_loss : 0.07, train_acc : 97.67,val_acc : 59.60,val_loss : 2.53\n"
     ]
    },
    {
     "name": "stderr",
     "output_type": "stream",
     "text": [
      "100%|██████████| 809/809 [01:29<00:00,  9.04it/s]\n",
      "100%|██████████| 157/157 [00:03<00:00, 41.31it/s]\n",
      "  0%|          | 1/809 [00:00<01:33,  8.64it/s]"
     ]
    },
    {
     "name": "stdout",
     "output_type": "stream",
     "text": [
      "time : 93.33, train_loss : 0.07, train_acc : 97.94,val_acc : 63.06,val_loss : 2.32\n"
     ]
    },
    {
     "name": "stderr",
     "output_type": "stream",
     "text": [
      "100%|██████████| 809/809 [01:29<00:00,  9.04it/s]\n",
      "100%|██████████| 157/157 [00:03<00:00, 41.43it/s]\n",
      "  0%|          | 1/809 [00:00<01:34,  8.57it/s]"
     ]
    },
    {
     "name": "stdout",
     "output_type": "stream",
     "text": [
      "time : 93.32, train_loss : 0.07, train_acc : 97.68,val_acc : 61.56,val_loss : 2.35\n"
     ]
    },
    {
     "name": "stderr",
     "output_type": "stream",
     "text": [
      "100%|██████████| 809/809 [01:29<00:00,  9.04it/s]\n",
      "100%|██████████| 157/157 [00:03<00:00, 41.38it/s]\n",
      "  0%|          | 1/809 [00:00<01:33,  8.65it/s]"
     ]
    },
    {
     "name": "stdout",
     "output_type": "stream",
     "text": [
      "time : 93.34, train_loss : 0.08, train_acc : 97.30,val_acc : 61.88,val_loss : 2.42\n"
     ]
    },
    {
     "name": "stderr",
     "output_type": "stream",
     "text": [
      "100%|██████████| 809/809 [01:29<00:00,  9.03it/s]\n",
      "100%|██████████| 157/157 [00:03<00:00, 41.50it/s]\n",
      "  0%|          | 1/809 [00:00<01:32,  8.74it/s]"
     ]
    },
    {
     "name": "stdout",
     "output_type": "stream",
     "text": [
      "time : 93.40, train_loss : 0.07, train_acc : 97.79,val_acc : 62.30,val_loss : 2.50\n"
     ]
    },
    {
     "name": "stderr",
     "output_type": "stream",
     "text": [
      "100%|██████████| 809/809 [01:29<00:00,  9.03it/s]\n",
      "100%|██████████| 157/157 [00:03<00:00, 41.30it/s]\n",
      "  0%|          | 1/809 [00:00<01:32,  8.72it/s]"
     ]
    },
    {
     "name": "stdout",
     "output_type": "stream",
     "text": [
      "time : 93.36, train_loss : 0.07, train_acc : 97.72,val_acc : 60.66,val_loss : 2.63\n"
     ]
    },
    {
     "name": "stderr",
     "output_type": "stream",
     "text": [
      "100%|██████████| 809/809 [01:29<00:00,  9.03it/s]\n",
      "100%|██████████| 157/157 [00:03<00:00, 41.31it/s]\n",
      "  0%|          | 1/809 [00:00<01:30,  8.98it/s]"
     ]
    },
    {
     "name": "stdout",
     "output_type": "stream",
     "text": [
      "time : 93.43, train_loss : 0.07, train_acc : 97.48,val_acc : 61.36,val_loss : 2.44\n"
     ]
    },
    {
     "name": "stderr",
     "output_type": "stream",
     "text": [
      "100%|██████████| 809/809 [01:29<00:00,  9.04it/s]\n",
      "100%|██████████| 157/157 [00:03<00:00, 41.35it/s]\n",
      "  0%|          | 1/809 [00:00<01:33,  8.64it/s]"
     ]
    },
    {
     "name": "stdout",
     "output_type": "stream",
     "text": [
      "time : 93.28, train_loss : 0.07, train_acc : 97.56,val_acc : 60.64,val_loss : 2.30\n"
     ]
    },
    {
     "name": "stderr",
     "output_type": "stream",
     "text": [
      "100%|██████████| 809/809 [01:29<00:00,  9.03it/s]\n",
      "100%|██████████| 157/157 [00:03<00:00, 41.32it/s]\n",
      "  0%|          | 1/809 [00:00<01:32,  8.74it/s]"
     ]
    },
    {
     "name": "stdout",
     "output_type": "stream",
     "text": [
      "time : 93.35, train_loss : 0.06, train_acc : 97.73,val_acc : 61.48,val_loss : 2.51\n"
     ]
    },
    {
     "name": "stderr",
     "output_type": "stream",
     "text": [
      "100%|██████████| 809/809 [01:29<00:00,  9.03it/s]\n",
      "100%|██████████| 157/157 [00:03<00:00, 41.31it/s]\n",
      "  0%|          | 1/809 [00:00<01:33,  8.68it/s]"
     ]
    },
    {
     "name": "stdout",
     "output_type": "stream",
     "text": [
      "time : 93.37, train_loss : 0.07, train_acc : 97.47,val_acc : 61.52,val_loss : 2.48\n"
     ]
    },
    {
     "name": "stderr",
     "output_type": "stream",
     "text": [
      "100%|██████████| 809/809 [01:29<00:00,  9.04it/s]\n",
      "100%|██████████| 157/157 [00:03<00:00, 41.34it/s]\n",
      "  0%|          | 1/809 [00:00<01:32,  8.71it/s]"
     ]
    },
    {
     "name": "stdout",
     "output_type": "stream",
     "text": [
      "time : 93.29, train_loss : 0.06, train_acc : 97.89,val_acc : 61.66,val_loss : 2.33\n"
     ]
    },
    {
     "name": "stderr",
     "output_type": "stream",
     "text": [
      "100%|██████████| 809/809 [01:29<00:00,  9.04it/s]\n",
      "100%|██████████| 157/157 [00:03<00:00, 41.52it/s]\n",
      "  0%|          | 1/809 [00:00<01:33,  8.63it/s]"
     ]
    },
    {
     "name": "stdout",
     "output_type": "stream",
     "text": [
      "time : 93.26, train_loss : 0.07, train_acc : 97.45,val_acc : 61.48,val_loss : 2.46\n"
     ]
    },
    {
     "name": "stderr",
     "output_type": "stream",
     "text": [
      "100%|██████████| 809/809 [01:29<00:00,  9.05it/s]\n",
      "100%|██████████| 157/157 [00:03<00:00, 41.42it/s]\n",
      "  0%|          | 1/809 [00:00<01:32,  8.72it/s]"
     ]
    },
    {
     "name": "stdout",
     "output_type": "stream",
     "text": [
      "time : 93.22, train_loss : 0.06, train_acc : 97.96,val_acc : 60.82,val_loss : 2.52\n"
     ]
    },
    {
     "name": "stderr",
     "output_type": "stream",
     "text": [
      "100%|██████████| 809/809 [01:29<00:00,  9.02it/s]\n",
      "100%|██████████| 157/157 [00:03<00:00, 41.38it/s]\n",
      "  0%|          | 1/809 [00:00<01:33,  8.68it/s]"
     ]
    },
    {
     "name": "stdout",
     "output_type": "stream",
     "text": [
      "time : 93.45, train_loss : 0.08, train_acc : 97.23,val_acc : 61.20,val_loss : 2.31\n"
     ]
    },
    {
     "name": "stderr",
     "output_type": "stream",
     "text": [
      "100%|██████████| 809/809 [01:29<00:00,  9.03it/s]\n",
      "100%|██████████| 157/157 [00:03<00:00, 41.44it/s]\n",
      "  0%|          | 1/809 [00:00<01:33,  8.68it/s]"
     ]
    },
    {
     "name": "stdout",
     "output_type": "stream",
     "text": [
      "time : 93.34, train_loss : 0.07, train_acc : 97.73,val_acc : 61.52,val_loss : 2.48\n"
     ]
    },
    {
     "name": "stderr",
     "output_type": "stream",
     "text": [
      "100%|██████████| 809/809 [01:29<00:00,  9.03it/s]\n",
      "100%|██████████| 157/157 [00:03<00:00, 41.60it/s]\n",
      "  0%|          | 1/809 [00:00<01:33,  8.65it/s]"
     ]
    },
    {
     "name": "stdout",
     "output_type": "stream",
     "text": [
      "time : 93.34, train_loss : 0.07, train_acc : 97.83,val_acc : 62.34,val_loss : 2.38\n"
     ]
    },
    {
     "name": "stderr",
     "output_type": "stream",
     "text": [
      "100%|██████████| 809/809 [01:29<00:00,  9.03it/s]\n",
      "100%|██████████| 157/157 [00:03<00:00, 41.31it/s]"
     ]
    },
    {
     "name": "stdout",
     "output_type": "stream",
     "text": [
      "time : 93.37, train_loss : 0.06, train_acc : 97.98,val_acc : 61.60,val_loss : 2.40\n"
     ]
    },
    {
     "name": "stderr",
     "output_type": "stream",
     "text": [
      "\n"
     ]
    }
   ],
   "source": [
    "seed = 123\n",
    "np.random.seed(seed)\n",
    "torch.manual_seed(seed)\n",
    "net = DenseNet(growthRate=12, depth=100, reduction=0.5,\n",
    "                            bottleneck=True, nClasses=7)\n",
    "net.cuda()\n",
    "criterion=nn.CrossEntropyLoss()\n",
    "optimizer = optim.Adam(net.parameters(), lr=0.0015, weight_decay=0.00001)\n",
    "train_losses=[]\n",
    "val_losses=[]\n",
    "train_accs=[]\n",
    "val_accs=[]\n",
    "for epoch in range(100):\n",
    "    ts=time.time()\n",
    "    net, train_loss,train_acc=train(net, partition, optimizer, criterion)\n",
    "    val_loss, val_acc = validate(net, partition, criterion)\n",
    "    te=time.time()\n",
    "    print('time : {:2.2f}, train_loss : {:2.2f}, train_acc : {:2.2f},val_acc : {:2.2f},val_loss : {:2.2f}'.format(te-ts,train_loss,train_acc,val_acc,val_loss))\n",
    "    train_loss=round(train_loss,2)\n",
    "    val_loss=round(val_loss,2)\n",
    "    train_acc=round(train_acc,2)\n",
    "    val_acc=round(val_acc,2)\n",
    "    train_losses.append(train_loss)\n",
    "    val_losses.append(val_loss)\n",
    "    train_accs.append(train_acc)\n",
    "    val_accs.append(val_acc)"
   ]
  },
  {
   "cell_type": "code",
   "execution_count": 17,
   "id": "defined-shannon",
   "metadata": {},
   "outputs": [],
   "source": [
    "np.save(\"/home/lab/양창희/Emotion Project/test_list_file/Dense_train_loss.npy\",train_loss)\n",
    "np.save(\"/home/lab/양창희/Emotion Project/test_list_file/Dense_val_loss.npy\",val_loss)\n",
    "np.save(\"/home/lab/양창희/Emotion Project/test_list_file/Dense_train_acc.npy\",train_acc)\n",
    "np.save(\"/home/lab/양창희/Emotion Project/test_list_file/Dense_val_acc.npy\",val_acc)"
   ]
  },
  {
   "cell_type": "code",
   "execution_count": null,
   "id": "environmental-portrait",
   "metadata": {},
   "outputs": [],
   "source": []
  },
  {
   "cell_type": "code",
   "execution_count": null,
   "id": "selective-greenhouse",
   "metadata": {},
   "outputs": [],
   "source": []
  },
  {
   "cell_type": "code",
   "execution_count": null,
   "id": "through-chapter",
   "metadata": {},
   "outputs": [],
   "source": []
  },
  {
   "cell_type": "code",
   "execution_count": null,
   "id": "tracked-bosnia",
   "metadata": {},
   "outputs": [],
   "source": []
  },
  {
   "cell_type": "code",
   "execution_count": null,
   "id": "rolled-benjamin",
   "metadata": {},
   "outputs": [],
   "source": []
  },
  {
   "cell_type": "code",
   "execution_count": null,
   "id": "sexual-receptor",
   "metadata": {},
   "outputs": [],
   "source": []
  }
 ],
 "metadata": {
  "kernelspec": {
   "display_name": "Python 3",
   "language": "python",
   "name": "python3"
  },
  "language_info": {
   "codemirror_mode": {
    "name": "ipython",
    "version": 3
   },
   "file_extension": ".py",
   "mimetype": "text/x-python",
   "name": "python",
   "nbconvert_exporter": "python",
   "pygments_lexer": "ipython3",
   "version": "3.6.12"
  }
 },
 "nbformat": 4,
 "nbformat_minor": 5
}
