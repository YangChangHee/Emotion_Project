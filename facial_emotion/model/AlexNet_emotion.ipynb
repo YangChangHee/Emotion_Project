{
 "cells": [
  {
   "cell_type": "code",
   "execution_count": 1,
   "id": "obvious-worthy",
   "metadata": {},
   "outputs": [],
   "source": [
    "import matplotlib.pyplot as plt\n",
    "import numpy as np\n",
    "import random\n",
    "import torch\n",
    "import torchvision\n",
    "import torchvision.transforms as transforms\n",
    "import torch.nn as nn\n",
    "import torch.nn.functional as F\n",
    "import torch.optim as optim\n",
    "import argparse\n",
    "import numpy as np\n",
    "import time\n",
    "from copy import deepcopy\n",
    "import seaborn as sns \n",
    "import matplotlib.pyplot as plt"
   ]
  },
  {
   "cell_type": "code",
   "execution_count": 2,
   "id": "continuing-responsibility",
   "metadata": {},
   "outputs": [],
   "source": [
    "input_data=np.load(\"input_data_emotion.npy\")\n",
    "label=np.load(\"label.np.npy\")"
   ]
  },
  {
   "cell_type": "code",
   "execution_count": 3,
   "id": "chubby-closer",
   "metadata": {},
   "outputs": [
    {
     "data": {
      "text/plain": [
       "(35887, 48, 48, 3)"
      ]
     },
     "execution_count": 3,
     "metadata": {},
     "output_type": "execute_result"
    }
   ],
   "source": [
    "input_data.shape"
   ]
  },
  {
   "cell_type": "code",
   "execution_count": 4,
   "id": "active-valuation",
   "metadata": {},
   "outputs": [],
   "source": [
    "label=np.array(label)\n",
    "input_data= (input_data*(1/256)-0.5)/0.5"
   ]
  },
  {
   "cell_type": "code",
   "execution_count": 5,
   "id": "entitled-western",
   "metadata": {},
   "outputs": [],
   "source": [
    "input_data=torch.FloatTensor(input_data)\n",
    "label=torch.LongTensor(label)"
   ]
  },
  {
   "cell_type": "code",
   "execution_count": 6,
   "id": "interracial-orchestra",
   "metadata": {},
   "outputs": [],
   "source": [
    "input_data=input_data.transpose(1,3)"
   ]
  },
  {
   "cell_type": "code",
   "execution_count": 7,
   "id": "traditional-meeting",
   "metadata": {},
   "outputs": [],
   "source": [
    "from torch.utils.data import TensorDataset\n",
    "from torch.utils.data import DataLoader\n",
    "dataset = TensorDataset(input_data,label)"
   ]
  },
  {
   "cell_type": "code",
   "execution_count": 8,
   "id": "military-figure",
   "metadata": {},
   "outputs": [],
   "source": [
    "trainset,valset=torch.utils.data.random_split(dataset,[30887,5000])\n",
    "trainset,testset=torch.utils.data.random_split(trainset,[25887,5000])\n",
    "\n",
    "partition={'train':trainset,'val':valset,'test':testset}"
   ]
  },
  {
   "cell_type": "code",
   "execution_count": 9,
   "id": "affected-banking",
   "metadata": {},
   "outputs": [],
   "source": [
    "class AlexNet_test(nn.Module):\n",
    "    \n",
    "    def __init__(self):\n",
    "        super(AlexNet_test,self).__init__()\n",
    "        self.feature=nn.Sequential(\n",
    "        nn.Conv2d(3, 64, kernel_size=4, stride=2, padding=2),# 64 26 26 => kernel remake\n",
    "        nn.ReLU(inplace=True),\n",
    "        nn.MaxPool2d(kernel_size=2,stride=2),# 64 13 13 => kernel remake\n",
    "        nn.Conv2d(64, 192, kernel_size=4, padding=2), # 192, 13, 13 => kernel remake\n",
    "        nn.ReLU(inplace=True),\n",
    "        nn.MaxPool2d(kernel_size=2,stride=2), # 192 7 7 => kernel remake\n",
    "        nn.Conv2d(192, 384, kernel_size=3, padding=1), # 384 7 7 => kernel remake\n",
    "        nn.ReLU(inplace=True),\n",
    "        nn.Conv2d(384, 256, kernel_size=3, padding=1), # 256 7 7\n",
    "        nn.ReLU(inplace=True),\n",
    "        nn.Conv2d(256, 256, kernel_size=3, padding=1),\n",
    "        nn.ReLU(inplace=True),\n",
    "        nn.MaxPool2d(kernel_size=3, stride=2) # 256 6 6 \n",
    "        )\n",
    "        self.avgpool=nn.AdaptiveAvgPool2d((3,3)) # 256 6 6 (6,6)은 output size이다.\n",
    "        # 평균을 구하는 것으로 반올림 정수가 나옴.\n",
    "        self.classifier = nn.Sequential(\n",
    "        nn.Dropout(),\n",
    "        nn.Linear(256*3*3,1024),  # 9216=>4096, 256 36\n",
    "        nn.ReLU(inplace=True),\n",
    "        nn.Dropout(),\n",
    "        nn.Linear(1024,1024),\n",
    "        nn.ReLU(inplace=True),\n",
    "        nn.Linear(1024,7),\n",
    "        \n",
    "        )\n",
    "    def forward(self, x):\n",
    "        x=self.feature(x)\n",
    "        x=self.avgpool(x)\n",
    "        x=torch.flatten(x,1) # ex => 2,2,2 => 2,4\n",
    "        x=self.classifier(x)\n",
    "        return x"
   ]
  },
  {
   "cell_type": "code",
   "execution_count": 10,
   "id": "remarkable-satin",
   "metadata": {},
   "outputs": [],
   "source": [
    "def dimension_check():\n",
    "    net=AlexNet_test()\n",
    "    x=torch.randn(1,3,48,48)\n",
    "    y=net(x)\n",
    "    print(y.size())"
   ]
  },
  {
   "cell_type": "code",
   "execution_count": 11,
   "id": "functional-moment",
   "metadata": {},
   "outputs": [
    {
     "name": "stdout",
     "output_type": "stream",
     "text": [
      "torch.Size([1, 7])\n"
     ]
    }
   ],
   "source": [
    "dimension_check()"
   ]
  },
  {
   "cell_type": "code",
   "execution_count": 12,
   "id": "conservative-ambassador",
   "metadata": {},
   "outputs": [],
   "source": [
    "def train(net,partition,optimizer,criterion):\n",
    "    trainloader = torch.utils.data.DataLoader(partition['train'],\n",
    "                                             batch_size=64,\n",
    "                                             shuffle=True)\n",
    "    net.train()\n",
    "    correct = 0\n",
    "    total =0\n",
    "    train_loss = 0.0\n",
    "    for i, data in enumerate(tqdm(trainloader, 0)):\n",
    "        time.sleep(0.0000001)\n",
    "        optimizer.zero_grad()\n",
    "        inputs, labels = data\n",
    "        inputs = inputs.cuda()\n",
    "        labels = labels.cuda()\n",
    "        outputs = net(inputs)\n",
    "        #break\n",
    "        loss = criterion(outputs, labels)\n",
    "        loss.backward()\n",
    "        optimizer.step()\n",
    "        \n",
    "        train_loss += loss.item()\n",
    "        _, predicted = torch.max(outputs.data, 1)\n",
    "        total += labels.size(0)\n",
    "        correct += (predicted == labels).sum().item()\n",
    "        #if i % 200 == 0:\n",
    "        #    print(correct,train_loss)\n",
    "    train_loss = train_loss / len(trainloader)\n",
    "    train_acc = 100 * correct / total\n",
    "    return net, train_loss, train_acc"
   ]
  },
  {
   "cell_type": "code",
   "execution_count": 13,
   "id": "cheap-configuration",
   "metadata": {},
   "outputs": [],
   "source": [
    "def test(net, partition):\n",
    "    testloader = torch.utils.data.DataLoader(partition['test'], \n",
    "                                             batch_size=64, \n",
    "                                             shuffle=False, num_workers=2)\n",
    "    net.eval()\n",
    "    \n",
    "    correct = 0\n",
    "    total = 0\n",
    "    with torch.no_grad():\n",
    "        for data in tqdm(testloader):\n",
    "            time.sleep(0.0000001)\n",
    "            images, labels = data\n",
    "            images = images.cuda()\n",
    "            labels = labels.cuda()\n",
    "\n",
    "            outputs = net(images)\n",
    "            _, predicted = torch.max(outputs.data, 1)\n",
    "            total += labels.size(0)\n",
    "            correct += (predicted == labels).sum().item()\n",
    "\n",
    "        test_acc = 100 * correct / total\n",
    "    return test_acc"
   ]
  },
  {
   "cell_type": "code",
   "execution_count": 14,
   "id": "independent-escape",
   "metadata": {},
   "outputs": [],
   "source": [
    "def validate(net, partition, criterion):\n",
    "    valloader = torch.utils.data.DataLoader(partition['val'], \n",
    "                                            batch_size=64, \n",
    "                                            shuffle=False, num_workers=2)\n",
    "    net.eval()\n",
    "\n",
    "    correct = 0\n",
    "    total = 0\n",
    "    val_loss = 0 \n",
    "    with torch.no_grad():\n",
    "        for data in tqdm(valloader):\n",
    "            time.sleep(0.0000001)\n",
    "            images, labels = data\n",
    "            images = images.cuda()\n",
    "            labels = labels.cuda()\n",
    "            outputs = net(images)\n",
    "\n",
    "            loss = criterion(outputs, labels)\n",
    "            \n",
    "            val_loss += loss.item()\n",
    "            _, predicted = torch.max(outputs.data, 1)\n",
    "            total += labels.size(0)\n",
    "            correct += (predicted == labels).sum().item()\n",
    "\n",
    "        val_loss = val_loss / len(valloader)\n",
    "        val_acc = 100 * correct / total\n",
    "    return val_loss, val_acc"
   ]
  },
  {
   "cell_type": "code",
   "execution_count": 15,
   "id": "narrow-radar",
   "metadata": {},
   "outputs": [],
   "source": [
    "from tqdm import tqdm, tqdm_notebook\n",
    "from tqdm import trange\n",
    "import time"
   ]
  },
  {
   "cell_type": "code",
   "execution_count": 16,
   "id": "respective-railway",
   "metadata": {},
   "outputs": [
    {
     "name": "stderr",
     "output_type": "stream",
     "text": [
      "100%|██████████| 405/405 [00:03<00:00, 126.39it/s]\n",
      "100%|██████████| 79/79 [00:00<00:00, 270.23it/s]\n",
      "  3%|▎         | 14/405 [00:00<00:02, 134.95it/s]"
     ]
    },
    {
     "name": "stdout",
     "output_type": "stream",
     "text": [
      "time : 3.50, train_loss : 1.81, train_acc : 24.85,val_acc : 24.48,val_loss : 1.80\n"
     ]
    },
    {
     "name": "stderr",
     "output_type": "stream",
     "text": [
      "100%|██████████| 405/405 [00:02<00:00, 140.67it/s]\n",
      "100%|██████████| 79/79 [00:00<00:00, 284.31it/s]\n",
      "  3%|▎         | 14/405 [00:00<00:02, 131.61it/s]"
     ]
    },
    {
     "name": "stdout",
     "output_type": "stream",
     "text": [
      "time : 3.16, train_loss : 1.80, train_acc : 25.06,val_acc : 24.48,val_loss : 1.80\n"
     ]
    },
    {
     "name": "stderr",
     "output_type": "stream",
     "text": [
      "100%|██████████| 405/405 [00:02<00:00, 139.00it/s]\n",
      "100%|██████████| 79/79 [00:00<00:00, 274.36it/s]\n",
      "  3%|▎         | 14/405 [00:00<00:02, 135.53it/s]"
     ]
    },
    {
     "name": "stdout",
     "output_type": "stream",
     "text": [
      "time : 3.20, train_loss : 1.76, train_acc : 27.57,val_acc : 29.14,val_loss : 1.72\n"
     ]
    },
    {
     "name": "stderr",
     "output_type": "stream",
     "text": [
      "100%|██████████| 405/405 [00:02<00:00, 138.56it/s]\n",
      "100%|██████████| 79/79 [00:00<00:00, 269.49it/s]\n",
      "  3%|▎         | 14/405 [00:00<00:02, 131.70it/s]"
     ]
    },
    {
     "name": "stdout",
     "output_type": "stream",
     "text": [
      "time : 3.22, train_loss : 1.70, train_acc : 31.14,val_acc : 33.22,val_loss : 1.65\n"
     ]
    },
    {
     "name": "stderr",
     "output_type": "stream",
     "text": [
      "100%|██████████| 405/405 [00:02<00:00, 139.73it/s]\n",
      "100%|██████████| 79/79 [00:00<00:00, 274.44it/s]\n",
      "  3%|▎         | 14/405 [00:00<00:02, 134.57it/s]"
     ]
    },
    {
     "name": "stdout",
     "output_type": "stream",
     "text": [
      "time : 3.19, train_loss : 1.65, train_acc : 33.51,val_acc : 33.36,val_loss : 1.64\n"
     ]
    },
    {
     "name": "stderr",
     "output_type": "stream",
     "text": [
      "100%|██████████| 405/405 [00:02<00:00, 140.76it/s]\n",
      "100%|██████████| 79/79 [00:00<00:00, 268.42it/s]\n",
      "  3%|▎         | 14/405 [00:00<00:02, 131.71it/s]"
     ]
    },
    {
     "name": "stdout",
     "output_type": "stream",
     "text": [
      "time : 3.17, train_loss : 1.62, train_acc : 34.38,val_acc : 35.02,val_loss : 1.62\n"
     ]
    },
    {
     "name": "stderr",
     "output_type": "stream",
     "text": [
      "100%|██████████| 405/405 [00:02<00:00, 138.86it/s]\n",
      "100%|██████████| 79/79 [00:00<00:00, 270.33it/s]\n",
      "  3%|▎         | 14/405 [00:00<00:02, 135.34it/s]"
     ]
    },
    {
     "name": "stdout",
     "output_type": "stream",
     "text": [
      "time : 3.21, train_loss : 1.61, train_acc : 35.65,val_acc : 35.24,val_loss : 1.62\n"
     ]
    },
    {
     "name": "stderr",
     "output_type": "stream",
     "text": [
      "100%|██████████| 405/405 [00:02<00:00, 139.27it/s]\n",
      "100%|██████████| 79/79 [00:00<00:00, 274.65it/s]\n",
      "  3%|▎         | 14/405 [00:00<00:02, 133.30it/s]"
     ]
    },
    {
     "name": "stdout",
     "output_type": "stream",
     "text": [
      "time : 3.20, train_loss : 1.60, train_acc : 35.75,val_acc : 37.22,val_loss : 1.59\n"
     ]
    },
    {
     "name": "stderr",
     "output_type": "stream",
     "text": [
      "100%|██████████| 405/405 [00:02<00:00, 138.00it/s]\n",
      "100%|██████████| 79/79 [00:00<00:00, 273.69it/s]\n",
      "  3%|▎         | 14/405 [00:00<00:02, 131.45it/s]"
     ]
    },
    {
     "name": "stdout",
     "output_type": "stream",
     "text": [
      "time : 3.23, train_loss : 1.58, train_acc : 37.19,val_acc : 37.48,val_loss : 1.59\n"
     ]
    },
    {
     "name": "stderr",
     "output_type": "stream",
     "text": [
      "100%|██████████| 405/405 [00:02<00:00, 139.31it/s]\n",
      "100%|██████████| 79/79 [00:00<00:00, 275.62it/s]\n",
      "  3%|▎         | 14/405 [00:00<00:02, 133.71it/s]"
     ]
    },
    {
     "name": "stdout",
     "output_type": "stream",
     "text": [
      "time : 3.20, train_loss : 1.58, train_acc : 37.43,val_acc : 37.86,val_loss : 1.58\n"
     ]
    },
    {
     "name": "stderr",
     "output_type": "stream",
     "text": [
      "100%|██████████| 405/405 [00:02<00:00, 139.99it/s]\n",
      "100%|██████████| 79/79 [00:00<00:00, 281.00it/s]\n",
      "  3%|▎         | 14/405 [00:00<00:02, 131.11it/s]"
     ]
    },
    {
     "name": "stdout",
     "output_type": "stream",
     "text": [
      "time : 3.18, train_loss : 1.57, train_acc : 38.32,val_acc : 36.96,val_loss : 1.59\n"
     ]
    },
    {
     "name": "stderr",
     "output_type": "stream",
     "text": [
      "100%|██████████| 405/405 [00:02<00:00, 138.48it/s]\n",
      "100%|██████████| 79/79 [00:00<00:00, 279.84it/s]\n",
      "  3%|▎         | 14/405 [00:00<00:02, 133.61it/s]"
     ]
    },
    {
     "name": "stdout",
     "output_type": "stream",
     "text": [
      "time : 3.21, train_loss : 1.56, train_acc : 37.98,val_acc : 37.78,val_loss : 1.58\n"
     ]
    },
    {
     "name": "stderr",
     "output_type": "stream",
     "text": [
      "100%|██████████| 405/405 [00:02<00:00, 139.25it/s]\n",
      "100%|██████████| 79/79 [00:00<00:00, 269.21it/s]\n",
      "  3%|▎         | 14/405 [00:00<00:02, 133.80it/s]"
     ]
    },
    {
     "name": "stdout",
     "output_type": "stream",
     "text": [
      "time : 3.20, train_loss : 1.55, train_acc : 38.61,val_acc : 37.20,val_loss : 1.59\n"
     ]
    },
    {
     "name": "stderr",
     "output_type": "stream",
     "text": [
      "100%|██████████| 405/405 [00:02<00:00, 139.57it/s]\n",
      "100%|██████████| 79/79 [00:00<00:00, 274.42it/s]\n",
      "  3%|▎         | 14/405 [00:00<00:02, 133.49it/s]"
     ]
    },
    {
     "name": "stdout",
     "output_type": "stream",
     "text": [
      "time : 3.19, train_loss : 1.55, train_acc : 39.10,val_acc : 38.54,val_loss : 1.56\n"
     ]
    },
    {
     "name": "stderr",
     "output_type": "stream",
     "text": [
      "100%|██████████| 405/405 [00:02<00:00, 137.95it/s]\n",
      "100%|██████████| 79/79 [00:00<00:00, 281.85it/s]\n",
      "  3%|▎         | 14/405 [00:00<00:02, 132.63it/s]"
     ]
    },
    {
     "name": "stdout",
     "output_type": "stream",
     "text": [
      "time : 3.22, train_loss : 1.53, train_acc : 39.50,val_acc : 39.32,val_loss : 1.56\n"
     ]
    },
    {
     "name": "stderr",
     "output_type": "stream",
     "text": [
      "100%|██████████| 405/405 [00:02<00:00, 138.04it/s]\n",
      "100%|██████████| 79/79 [00:00<00:00, 275.46it/s]\n",
      "  3%|▎         | 14/405 [00:00<00:02, 132.25it/s]"
     ]
    },
    {
     "name": "stdout",
     "output_type": "stream",
     "text": [
      "time : 3.22, train_loss : 1.53, train_acc : 40.03,val_acc : 38.04,val_loss : 1.58\n"
     ]
    },
    {
     "name": "stderr",
     "output_type": "stream",
     "text": [
      "100%|██████████| 405/405 [00:02<00:00, 139.35it/s]\n",
      "100%|██████████| 79/79 [00:00<00:00, 269.38it/s]\n",
      "  3%|▎         | 14/405 [00:00<00:02, 132.13it/s]"
     ]
    },
    {
     "name": "stdout",
     "output_type": "stream",
     "text": [
      "time : 3.20, train_loss : 1.52, train_acc : 40.17,val_acc : 40.60,val_loss : 1.54\n"
     ]
    },
    {
     "name": "stderr",
     "output_type": "stream",
     "text": [
      "100%|██████████| 405/405 [00:02<00:00, 138.56it/s]\n",
      "100%|██████████| 79/79 [00:00<00:00, 280.51it/s]\n",
      "  3%|▎         | 14/405 [00:00<00:02, 132.42it/s]"
     ]
    },
    {
     "name": "stdout",
     "output_type": "stream",
     "text": [
      "time : 3.21, train_loss : 1.51, train_acc : 40.63,val_acc : 40.52,val_loss : 1.54\n"
     ]
    },
    {
     "name": "stderr",
     "output_type": "stream",
     "text": [
      "100%|██████████| 405/405 [00:02<00:00, 137.55it/s]\n",
      "100%|██████████| 79/79 [00:00<00:00, 267.39it/s]\n",
      "  3%|▎         | 14/405 [00:00<00:02, 134.78it/s]"
     ]
    },
    {
     "name": "stdout",
     "output_type": "stream",
     "text": [
      "time : 3.24, train_loss : 1.50, train_acc : 40.90,val_acc : 39.84,val_loss : 1.53\n"
     ]
    },
    {
     "name": "stderr",
     "output_type": "stream",
     "text": [
      "100%|██████████| 405/405 [00:02<00:00, 139.65it/s]\n",
      "100%|██████████| 79/79 [00:00<00:00, 265.94it/s]\n",
      "  3%|▎         | 14/405 [00:00<00:02, 134.63it/s]"
     ]
    },
    {
     "name": "stdout",
     "output_type": "stream",
     "text": [
      "time : 3.20, train_loss : 1.50, train_acc : 41.34,val_acc : 39.74,val_loss : 1.54\n"
     ]
    },
    {
     "name": "stderr",
     "output_type": "stream",
     "text": [
      "100%|██████████| 405/405 [00:02<00:00, 139.29it/s]\n",
      "100%|██████████| 79/79 [00:00<00:00, 274.03it/s]\n",
      "  3%|▎         | 14/405 [00:00<00:02, 134.55it/s]"
     ]
    },
    {
     "name": "stdout",
     "output_type": "stream",
     "text": [
      "time : 3.20, train_loss : 1.49, train_acc : 41.63,val_acc : 40.54,val_loss : 1.52\n"
     ]
    },
    {
     "name": "stderr",
     "output_type": "stream",
     "text": [
      "100%|██████████| 405/405 [00:02<00:00, 138.77it/s]\n",
      "100%|██████████| 79/79 [00:00<00:00, 271.55it/s]\n",
      "  3%|▎         | 14/405 [00:00<00:02, 131.86it/s]"
     ]
    },
    {
     "name": "stdout",
     "output_type": "stream",
     "text": [
      "time : 3.21, train_loss : 1.48, train_acc : 42.08,val_acc : 41.26,val_loss : 1.52\n"
     ]
    },
    {
     "name": "stderr",
     "output_type": "stream",
     "text": [
      "100%|██████████| 405/405 [00:02<00:00, 139.80it/s]\n",
      "100%|██████████| 79/79 [00:00<00:00, 270.57it/s]\n",
      "  3%|▎         | 14/405 [00:00<00:02, 131.87it/s]"
     ]
    },
    {
     "name": "stdout",
     "output_type": "stream",
     "text": [
      "time : 3.19, train_loss : 1.48, train_acc : 41.75,val_acc : 40.38,val_loss : 1.53\n"
     ]
    },
    {
     "name": "stderr",
     "output_type": "stream",
     "text": [
      "100%|██████████| 405/405 [00:02<00:00, 139.06it/s]\n",
      "100%|██████████| 79/79 [00:00<00:00, 277.94it/s]\n",
      "  3%|▎         | 14/405 [00:00<00:02, 134.02it/s]"
     ]
    },
    {
     "name": "stdout",
     "output_type": "stream",
     "text": [
      "time : 3.20, train_loss : 1.47, train_acc : 42.55,val_acc : 41.52,val_loss : 1.50\n"
     ]
    },
    {
     "name": "stderr",
     "output_type": "stream",
     "text": [
      "100%|██████████| 405/405 [00:02<00:00, 139.11it/s]\n",
      "100%|██████████| 79/79 [00:00<00:00, 279.35it/s]\n",
      "  3%|▎         | 14/405 [00:00<00:02, 131.34it/s]"
     ]
    },
    {
     "name": "stdout",
     "output_type": "stream",
     "text": [
      "time : 3.20, train_loss : 1.46, train_acc : 43.20,val_acc : 41.80,val_loss : 1.50\n"
     ]
    },
    {
     "name": "stderr",
     "output_type": "stream",
     "text": [
      "100%|██████████| 405/405 [00:02<00:00, 137.65it/s]\n",
      "100%|██████████| 79/79 [00:00<00:00, 266.80it/s]\n",
      "  3%|▎         | 14/405 [00:00<00:02, 133.02it/s]"
     ]
    },
    {
     "name": "stdout",
     "output_type": "stream",
     "text": [
      "time : 3.24, train_loss : 1.45, train_acc : 43.57,val_acc : 42.10,val_loss : 1.50\n"
     ]
    },
    {
     "name": "stderr",
     "output_type": "stream",
     "text": [
      "100%|██████████| 405/405 [00:02<00:00, 138.35it/s]\n",
      "100%|██████████| 79/79 [00:00<00:00, 267.55it/s]\n",
      "  3%|▎         | 14/405 [00:00<00:02, 134.67it/s]"
     ]
    },
    {
     "name": "stdout",
     "output_type": "stream",
     "text": [
      "time : 3.23, train_loss : 1.45, train_acc : 43.54,val_acc : 41.50,val_loss : 1.51\n"
     ]
    },
    {
     "name": "stderr",
     "output_type": "stream",
     "text": [
      "100%|██████████| 405/405 [00:02<00:00, 139.95it/s]\n",
      "100%|██████████| 79/79 [00:00<00:00, 272.01it/s]\n",
      "  3%|▎         | 14/405 [00:00<00:02, 132.31it/s]"
     ]
    },
    {
     "name": "stdout",
     "output_type": "stream",
     "text": [
      "time : 3.19, train_loss : 1.44, train_acc : 43.99,val_acc : 41.46,val_loss : 1.50\n"
     ]
    },
    {
     "name": "stderr",
     "output_type": "stream",
     "text": [
      "100%|██████████| 405/405 [00:02<00:00, 138.62it/s]\n",
      "100%|██████████| 79/79 [00:00<00:00, 265.48it/s]\n",
      "  3%|▎         | 14/405 [00:00<00:02, 131.47it/s]"
     ]
    },
    {
     "name": "stdout",
     "output_type": "stream",
     "text": [
      "time : 3.22, train_loss : 1.43, train_acc : 44.13,val_acc : 42.60,val_loss : 1.49\n"
     ]
    },
    {
     "name": "stderr",
     "output_type": "stream",
     "text": [
      "100%|██████████| 405/405 [00:02<00:00, 137.92it/s]\n",
      "100%|██████████| 79/79 [00:00<00:00, 255.48it/s]\n",
      "  3%|▎         | 14/405 [00:00<00:02, 131.82it/s]"
     ]
    },
    {
     "name": "stdout",
     "output_type": "stream",
     "text": [
      "time : 3.25, train_loss : 1.42, train_acc : 44.48,val_acc : 42.76,val_loss : 1.49\n"
     ]
    },
    {
     "name": "stderr",
     "output_type": "stream",
     "text": [
      "100%|██████████| 405/405 [00:02<00:00, 139.54it/s]\n",
      "100%|██████████| 79/79 [00:00<00:00, 280.20it/s]\n",
      "  3%|▎         | 14/405 [00:00<00:02, 136.61it/s]"
     ]
    },
    {
     "name": "stdout",
     "output_type": "stream",
     "text": [
      "time : 3.19, train_loss : 1.41, train_acc : 45.05,val_acc : 43.44,val_loss : 1.49\n"
     ]
    },
    {
     "name": "stderr",
     "output_type": "stream",
     "text": [
      "100%|██████████| 405/405 [00:02<00:00, 137.99it/s]\n",
      "100%|██████████| 79/79 [00:00<00:00, 265.85it/s]\n",
      "  3%|▎         | 14/405 [00:00<00:02, 131.33it/s]"
     ]
    },
    {
     "name": "stdout",
     "output_type": "stream",
     "text": [
      "time : 3.23, train_loss : 1.40, train_acc : 45.57,val_acc : 42.70,val_loss : 1.50\n"
     ]
    },
    {
     "name": "stderr",
     "output_type": "stream",
     "text": [
      "100%|██████████| 405/405 [00:02<00:00, 137.69it/s]\n",
      "100%|██████████| 79/79 [00:00<00:00, 277.77it/s]\n",
      "  3%|▎         | 14/405 [00:00<00:02, 133.60it/s]"
     ]
    },
    {
     "name": "stdout",
     "output_type": "stream",
     "text": [
      "time : 3.23, train_loss : 1.39, train_acc : 45.74,val_acc : 43.56,val_loss : 1.48\n"
     ]
    },
    {
     "name": "stderr",
     "output_type": "stream",
     "text": [
      "100%|██████████| 405/405 [00:02<00:00, 137.90it/s]\n",
      "100%|██████████| 79/79 [00:00<00:00, 270.24it/s]\n",
      "  3%|▎         | 14/405 [00:00<00:02, 131.73it/s]"
     ]
    },
    {
     "name": "stdout",
     "output_type": "stream",
     "text": [
      "time : 3.23, train_loss : 1.38, train_acc : 46.40,val_acc : 43.80,val_loss : 1.48\n"
     ]
    },
    {
     "name": "stderr",
     "output_type": "stream",
     "text": [
      "100%|██████████| 405/405 [00:02<00:00, 137.98it/s]\n",
      "100%|██████████| 79/79 [00:00<00:00, 261.95it/s]\n",
      "  3%|▎         | 14/405 [00:00<00:02, 131.64it/s]"
     ]
    },
    {
     "name": "stdout",
     "output_type": "stream",
     "text": [
      "time : 3.24, train_loss : 1.37, train_acc : 46.51,val_acc : 42.42,val_loss : 1.49\n"
     ]
    },
    {
     "name": "stderr",
     "output_type": "stream",
     "text": [
      "100%|██████████| 405/405 [00:02<00:00, 137.42it/s]\n",
      "100%|██████████| 79/79 [00:00<00:00, 279.43it/s]\n",
      "  3%|▎         | 14/405 [00:00<00:02, 133.90it/s]"
     ]
    },
    {
     "name": "stdout",
     "output_type": "stream",
     "text": [
      "time : 3.23, train_loss : 1.36, train_acc : 47.05,val_acc : 43.40,val_loss : 1.47\n"
     ]
    },
    {
     "name": "stderr",
     "output_type": "stream",
     "text": [
      "100%|██████████| 405/405 [00:02<00:00, 137.59it/s]\n",
      "100%|██████████| 79/79 [00:00<00:00, 280.18it/s]\n",
      "  3%|▎         | 14/405 [00:00<00:02, 134.56it/s]"
     ]
    },
    {
     "name": "stdout",
     "output_type": "stream",
     "text": [
      "time : 3.23, train_loss : 1.35, train_acc : 47.36,val_acc : 43.38,val_loss : 1.48\n"
     ]
    },
    {
     "name": "stderr",
     "output_type": "stream",
     "text": [
      "100%|██████████| 405/405 [00:02<00:00, 139.20it/s]\n",
      "100%|██████████| 79/79 [00:00<00:00, 271.48it/s]\n",
      "  3%|▎         | 14/405 [00:00<00:02, 134.79it/s]"
     ]
    },
    {
     "name": "stdout",
     "output_type": "stream",
     "text": [
      "time : 3.20, train_loss : 1.34, train_acc : 47.92,val_acc : 43.08,val_loss : 1.48\n"
     ]
    },
    {
     "name": "stderr",
     "output_type": "stream",
     "text": [
      "100%|██████████| 405/405 [00:02<00:00, 139.52it/s]\n",
      "100%|██████████| 79/79 [00:00<00:00, 263.77it/s]\n",
      "  3%|▎         | 14/405 [00:00<00:02, 131.33it/s]"
     ]
    },
    {
     "name": "stdout",
     "output_type": "stream",
     "text": [
      "time : 3.21, train_loss : 1.33, train_acc : 48.62,val_acc : 42.62,val_loss : 1.48\n"
     ]
    },
    {
     "name": "stderr",
     "output_type": "stream",
     "text": [
      "100%|██████████| 405/405 [00:02<00:00, 137.79it/s]\n",
      "100%|██████████| 79/79 [00:00<00:00, 284.48it/s]\n",
      "  3%|▎         | 14/405 [00:00<00:02, 133.71it/s]"
     ]
    },
    {
     "name": "stdout",
     "output_type": "stream",
     "text": [
      "time : 3.22, train_loss : 1.32, train_acc : 48.76,val_acc : 42.68,val_loss : 1.48\n"
     ]
    },
    {
     "name": "stderr",
     "output_type": "stream",
     "text": [
      "100%|██████████| 405/405 [00:02<00:00, 138.76it/s]\n",
      "100%|██████████| 79/79 [00:00<00:00, 275.09it/s]\n",
      "  3%|▎         | 14/405 [00:00<00:02, 134.23it/s]"
     ]
    },
    {
     "name": "stdout",
     "output_type": "stream",
     "text": [
      "time : 3.21, train_loss : 1.31, train_acc : 49.19,val_acc : 43.40,val_loss : 1.47\n"
     ]
    },
    {
     "name": "stderr",
     "output_type": "stream",
     "text": [
      "100%|██████████| 405/405 [00:02<00:00, 138.49it/s]\n",
      "100%|██████████| 79/79 [00:00<00:00, 276.82it/s]\n",
      "  3%|▎         | 14/405 [00:00<00:02, 132.08it/s]"
     ]
    },
    {
     "name": "stdout",
     "output_type": "stream",
     "text": [
      "time : 3.21, train_loss : 1.30, train_acc : 49.57,val_acc : 44.38,val_loss : 1.48\n"
     ]
    },
    {
     "name": "stderr",
     "output_type": "stream",
     "text": [
      "100%|██████████| 405/405 [00:02<00:00, 137.17it/s]\n",
      "100%|██████████| 79/79 [00:00<00:00, 267.61it/s]\n",
      "  3%|▎         | 14/405 [00:00<00:02, 130.90it/s]"
     ]
    },
    {
     "name": "stdout",
     "output_type": "stream",
     "text": [
      "time : 3.25, train_loss : 1.28, train_acc : 49.95,val_acc : 43.44,val_loss : 1.48\n"
     ]
    },
    {
     "name": "stderr",
     "output_type": "stream",
     "text": [
      "100%|██████████| 405/405 [00:02<00:00, 138.41it/s]\n",
      "100%|██████████| 79/79 [00:00<00:00, 261.82it/s]\n",
      "  3%|▎         | 14/405 [00:00<00:02, 131.82it/s]"
     ]
    },
    {
     "name": "stdout",
     "output_type": "stream",
     "text": [
      "time : 3.23, train_loss : 1.28, train_acc : 50.32,val_acc : 44.68,val_loss : 1.49\n"
     ]
    },
    {
     "name": "stderr",
     "output_type": "stream",
     "text": [
      "100%|██████████| 405/405 [00:02<00:00, 138.13it/s]\n",
      "100%|██████████| 79/79 [00:00<00:00, 275.93it/s]\n",
      "  3%|▎         | 14/405 [00:00<00:02, 133.00it/s]"
     ]
    },
    {
     "name": "stdout",
     "output_type": "stream",
     "text": [
      "time : 3.22, train_loss : 1.26, train_acc : 51.55,val_acc : 44.00,val_loss : 1.46\n"
     ]
    },
    {
     "name": "stderr",
     "output_type": "stream",
     "text": [
      "100%|██████████| 405/405 [00:02<00:00, 138.45it/s]\n",
      "100%|██████████| 79/79 [00:00<00:00, 268.21it/s]\n",
      "  3%|▎         | 14/405 [00:00<00:02, 135.24it/s]"
     ]
    },
    {
     "name": "stdout",
     "output_type": "stream",
     "text": [
      "time : 3.22, train_loss : 1.24, train_acc : 51.94,val_acc : 44.70,val_loss : 1.47\n"
     ]
    },
    {
     "name": "stderr",
     "output_type": "stream",
     "text": [
      "100%|██████████| 405/405 [00:02<00:00, 137.37it/s]\n",
      "100%|██████████| 79/79 [00:00<00:00, 280.33it/s]\n",
      "  3%|▎         | 14/405 [00:00<00:02, 132.61it/s]"
     ]
    },
    {
     "name": "stdout",
     "output_type": "stream",
     "text": [
      "time : 3.23, train_loss : 1.24, train_acc : 52.25,val_acc : 44.64,val_loss : 1.46\n"
     ]
    },
    {
     "name": "stderr",
     "output_type": "stream",
     "text": [
      "100%|██████████| 405/405 [00:02<00:00, 137.67it/s]\n",
      "100%|██████████| 79/79 [00:00<00:00, 271.26it/s]\n",
      "  3%|▎         | 14/405 [00:00<00:02, 133.84it/s]"
     ]
    },
    {
     "name": "stdout",
     "output_type": "stream",
     "text": [
      "time : 3.24, train_loss : 1.23, train_acc : 52.63,val_acc : 44.26,val_loss : 1.48\n"
     ]
    },
    {
     "name": "stderr",
     "output_type": "stream",
     "text": [
      "100%|██████████| 405/405 [00:02<00:00, 138.99it/s]\n",
      "100%|██████████| 79/79 [00:00<00:00, 273.38it/s]\n",
      "  3%|▎         | 14/405 [00:00<00:02, 133.39it/s]"
     ]
    },
    {
     "name": "stdout",
     "output_type": "stream",
     "text": [
      "time : 3.21, train_loss : 1.21, train_acc : 53.28,val_acc : 44.72,val_loss : 1.48\n"
     ]
    },
    {
     "name": "stderr",
     "output_type": "stream",
     "text": [
      "100%|██████████| 405/405 [00:02<00:00, 139.58it/s]\n",
      "100%|██████████| 79/79 [00:00<00:00, 262.29it/s]\n",
      "  3%|▎         | 14/405 [00:00<00:03, 130.23it/s]"
     ]
    },
    {
     "name": "stdout",
     "output_type": "stream",
     "text": [
      "time : 3.21, train_loss : 1.18, train_acc : 54.76,val_acc : 45.08,val_loss : 1.48\n"
     ]
    },
    {
     "name": "stderr",
     "output_type": "stream",
     "text": [
      "100%|██████████| 405/405 [00:02<00:00, 138.01it/s]\n",
      "100%|██████████| 79/79 [00:00<00:00, 270.40it/s]\n",
      "  3%|▎         | 14/405 [00:00<00:02, 132.60it/s]"
     ]
    },
    {
     "name": "stdout",
     "output_type": "stream",
     "text": [
      "time : 3.23, train_loss : 1.18, train_acc : 54.83,val_acc : 45.02,val_loss : 1.51\n"
     ]
    },
    {
     "name": "stderr",
     "output_type": "stream",
     "text": [
      "100%|██████████| 405/405 [00:02<00:00, 137.83it/s]\n",
      "100%|██████████| 79/79 [00:00<00:00, 279.25it/s]\n",
      "  3%|▎         | 14/405 [00:00<00:02, 131.65it/s]"
     ]
    },
    {
     "name": "stdout",
     "output_type": "stream",
     "text": [
      "time : 3.22, train_loss : 1.15, train_acc : 55.84,val_acc : 44.32,val_loss : 1.53\n"
     ]
    },
    {
     "name": "stderr",
     "output_type": "stream",
     "text": [
      "100%|██████████| 405/405 [00:02<00:00, 138.90it/s]\n",
      "100%|██████████| 79/79 [00:00<00:00, 274.04it/s]\n",
      "  3%|▎         | 14/405 [00:00<00:02, 131.16it/s]"
     ]
    },
    {
     "name": "stdout",
     "output_type": "stream",
     "text": [
      "time : 3.21, train_loss : 1.14, train_acc : 56.05,val_acc : 45.18,val_loss : 1.48\n"
     ]
    },
    {
     "name": "stderr",
     "output_type": "stream",
     "text": [
      "100%|██████████| 405/405 [00:02<00:00, 138.42it/s]\n",
      "100%|██████████| 79/79 [00:00<00:00, 286.93it/s]\n",
      "  3%|▎         | 14/405 [00:00<00:02, 131.24it/s]"
     ]
    },
    {
     "name": "stdout",
     "output_type": "stream",
     "text": [
      "time : 3.20, train_loss : 1.13, train_acc : 56.69,val_acc : 44.54,val_loss : 1.56\n"
     ]
    },
    {
     "name": "stderr",
     "output_type": "stream",
     "text": [
      "100%|██████████| 405/405 [00:02<00:00, 138.21it/s]\n",
      "100%|██████████| 79/79 [00:00<00:00, 277.86it/s]\n",
      "  3%|▎         | 14/405 [00:00<00:02, 131.09it/s]"
     ]
    },
    {
     "name": "stdout",
     "output_type": "stream",
     "text": [
      "time : 3.22, train_loss : 1.10, train_acc : 57.95,val_acc : 45.28,val_loss : 1.55\n"
     ]
    },
    {
     "name": "stderr",
     "output_type": "stream",
     "text": [
      "100%|██████████| 405/405 [00:02<00:00, 137.38it/s]\n",
      "100%|██████████| 79/79 [00:00<00:00, 271.73it/s]\n",
      "  3%|▎         | 14/405 [00:00<00:02, 131.93it/s]"
     ]
    },
    {
     "name": "stdout",
     "output_type": "stream",
     "text": [
      "time : 3.24, train_loss : 1.08, train_acc : 58.71,val_acc : 44.46,val_loss : 1.57\n"
     ]
    },
    {
     "name": "stderr",
     "output_type": "stream",
     "text": [
      "100%|██████████| 405/405 [00:02<00:00, 137.17it/s]\n",
      "100%|██████████| 79/79 [00:00<00:00, 271.68it/s]\n",
      "  3%|▎         | 14/405 [00:00<00:02, 135.32it/s]"
     ]
    },
    {
     "name": "stdout",
     "output_type": "stream",
     "text": [
      "time : 3.25, train_loss : 1.07, train_acc : 59.01,val_acc : 45.96,val_loss : 1.56\n"
     ]
    },
    {
     "name": "stderr",
     "output_type": "stream",
     "text": [
      "100%|██████████| 405/405 [00:02<00:00, 137.90it/s]\n",
      "100%|██████████| 79/79 [00:00<00:00, 280.01it/s]\n",
      "  3%|▎         | 14/405 [00:00<00:02, 132.49it/s]"
     ]
    },
    {
     "name": "stdout",
     "output_type": "stream",
     "text": [
      "time : 3.22, train_loss : 1.05, train_acc : 60.07,val_acc : 45.26,val_loss : 1.56\n"
     ]
    },
    {
     "name": "stderr",
     "output_type": "stream",
     "text": [
      "100%|██████████| 405/405 [00:02<00:00, 136.97it/s]\n",
      "100%|██████████| 79/79 [00:00<00:00, 273.86it/s]\n",
      "  3%|▎         | 14/405 [00:00<00:02, 131.39it/s]"
     ]
    },
    {
     "name": "stdout",
     "output_type": "stream",
     "text": [
      "time : 3.25, train_loss : 1.03, train_acc : 61.03,val_acc : 44.86,val_loss : 1.58\n"
     ]
    },
    {
     "name": "stderr",
     "output_type": "stream",
     "text": [
      "100%|██████████| 405/405 [00:02<00:00, 138.14it/s]\n",
      "100%|██████████| 79/79 [00:00<00:00, 268.92it/s]\n",
      "  3%|▎         | 14/405 [00:00<00:02, 130.76it/s]"
     ]
    },
    {
     "name": "stdout",
     "output_type": "stream",
     "text": [
      "time : 3.23, train_loss : 1.01, train_acc : 62.05,val_acc : 44.10,val_loss : 1.60\n"
     ]
    },
    {
     "name": "stderr",
     "output_type": "stream",
     "text": [
      "100%|██████████| 405/405 [00:02<00:00, 138.50it/s]\n",
      "100%|██████████| 79/79 [00:00<00:00, 274.24it/s]\n",
      "  3%|▎         | 14/405 [00:00<00:02, 133.50it/s]"
     ]
    },
    {
     "name": "stdout",
     "output_type": "stream",
     "text": [
      "time : 3.22, train_loss : 0.98, train_acc : 62.93,val_acc : 44.56,val_loss : 1.62\n"
     ]
    },
    {
     "name": "stderr",
     "output_type": "stream",
     "text": [
      "100%|██████████| 405/405 [00:02<00:00, 138.96it/s]\n",
      "100%|██████████| 79/79 [00:00<00:00, 270.66it/s]\n",
      "  3%|▎         | 14/405 [00:00<00:02, 134.64it/s]"
     ]
    },
    {
     "name": "stdout",
     "output_type": "stream",
     "text": [
      "time : 3.21, train_loss : 0.96, train_acc : 63.60,val_acc : 44.80,val_loss : 1.66\n"
     ]
    },
    {
     "name": "stderr",
     "output_type": "stream",
     "text": [
      "100%|██████████| 405/405 [00:02<00:00, 139.47it/s]\n",
      "100%|██████████| 79/79 [00:00<00:00, 266.27it/s]\n",
      "  3%|▎         | 14/405 [00:00<00:02, 131.46it/s]"
     ]
    },
    {
     "name": "stdout",
     "output_type": "stream",
     "text": [
      "time : 3.20, train_loss : 0.93, train_acc : 65.04,val_acc : 44.46,val_loss : 1.63\n"
     ]
    },
    {
     "name": "stderr",
     "output_type": "stream",
     "text": [
      "100%|██████████| 405/405 [00:02<00:00, 137.45it/s]\n",
      "100%|██████████| 79/79 [00:00<00:00, 265.63it/s]\n",
      "  3%|▎         | 13/405 [00:00<00:03, 126.20it/s]"
     ]
    },
    {
     "name": "stdout",
     "output_type": "stream",
     "text": [
      "time : 3.25, train_loss : 0.92, train_acc : 65.82,val_acc : 44.98,val_loss : 1.65\n"
     ]
    },
    {
     "name": "stderr",
     "output_type": "stream",
     "text": [
      "100%|██████████| 405/405 [00:02<00:00, 139.22it/s]\n",
      "100%|██████████| 79/79 [00:00<00:00, 273.46it/s]\n",
      "  3%|▎         | 14/405 [00:00<00:02, 131.28it/s]"
     ]
    },
    {
     "name": "stdout",
     "output_type": "stream",
     "text": [
      "time : 3.20, train_loss : 0.90, train_acc : 66.67,val_acc : 43.90,val_loss : 1.68\n"
     ]
    },
    {
     "name": "stderr",
     "output_type": "stream",
     "text": [
      "100%|██████████| 405/405 [00:02<00:00, 138.54it/s]\n",
      "100%|██████████| 79/79 [00:00<00:00, 276.17it/s]\n",
      "  3%|▎         | 14/405 [00:00<00:02, 136.61it/s]"
     ]
    },
    {
     "name": "stdout",
     "output_type": "stream",
     "text": [
      "time : 3.21, train_loss : 0.88, train_acc : 67.25,val_acc : 43.70,val_loss : 1.65\n"
     ]
    },
    {
     "name": "stderr",
     "output_type": "stream",
     "text": [
      "100%|██████████| 405/405 [00:02<00:00, 139.58it/s]\n",
      "100%|██████████| 79/79 [00:00<00:00, 285.19it/s]\n",
      "  3%|▎         | 14/405 [00:00<00:02, 133.57it/s]"
     ]
    },
    {
     "name": "stdout",
     "output_type": "stream",
     "text": [
      "time : 3.18, train_loss : 0.84, train_acc : 68.73,val_acc : 43.28,val_loss : 1.78\n"
     ]
    },
    {
     "name": "stderr",
     "output_type": "stream",
     "text": [
      "100%|██████████| 405/405 [00:02<00:00, 139.17it/s]\n",
      "100%|██████████| 79/79 [00:00<00:00, 288.61it/s]\n",
      "  3%|▎         | 14/405 [00:00<00:02, 134.91it/s]"
     ]
    },
    {
     "name": "stdout",
     "output_type": "stream",
     "text": [
      "time : 3.19, train_loss : 0.82, train_acc : 69.85,val_acc : 44.44,val_loss : 1.77\n"
     ]
    },
    {
     "name": "stderr",
     "output_type": "stream",
     "text": [
      "100%|██████████| 405/405 [00:02<00:00, 139.26it/s]\n",
      "100%|██████████| 79/79 [00:00<00:00, 284.10it/s]\n",
      "  3%|▎         | 14/405 [00:00<00:02, 131.59it/s]"
     ]
    },
    {
     "name": "stdout",
     "output_type": "stream",
     "text": [
      "time : 3.19, train_loss : 0.80, train_acc : 70.58,val_acc : 43.94,val_loss : 1.75\n"
     ]
    },
    {
     "name": "stderr",
     "output_type": "stream",
     "text": [
      "100%|██████████| 405/405 [00:02<00:00, 138.17it/s]\n",
      "100%|██████████| 79/79 [00:00<00:00, 265.70it/s]\n",
      "  3%|▎         | 14/405 [00:00<00:02, 132.41it/s]"
     ]
    },
    {
     "name": "stdout",
     "output_type": "stream",
     "text": [
      "time : 3.23, train_loss : 0.78, train_acc : 71.52,val_acc : 44.80,val_loss : 1.77\n"
     ]
    },
    {
     "name": "stderr",
     "output_type": "stream",
     "text": [
      "100%|██████████| 405/405 [00:02<00:00, 139.59it/s]\n",
      "100%|██████████| 79/79 [00:00<00:00, 276.82it/s]\n",
      "  3%|▎         | 14/405 [00:00<00:02, 134.61it/s]"
     ]
    },
    {
     "name": "stdout",
     "output_type": "stream",
     "text": [
      "time : 3.19, train_loss : 0.75, train_acc : 72.77,val_acc : 44.78,val_loss : 1.91\n"
     ]
    },
    {
     "name": "stderr",
     "output_type": "stream",
     "text": [
      "100%|██████████| 405/405 [00:02<00:00, 138.46it/s]\n",
      "100%|██████████| 79/79 [00:00<00:00, 275.82it/s]\n",
      "  3%|▎         | 13/405 [00:00<00:03, 129.93it/s]"
     ]
    },
    {
     "name": "stdout",
     "output_type": "stream",
     "text": [
      "time : 3.21, train_loss : 0.74, train_acc : 73.40,val_acc : 43.72,val_loss : 1.81\n"
     ]
    },
    {
     "name": "stderr",
     "output_type": "stream",
     "text": [
      "100%|██████████| 405/405 [00:02<00:00, 137.72it/s]\n",
      "100%|██████████| 79/79 [00:00<00:00, 279.16it/s]\n",
      "  3%|▎         | 14/405 [00:00<00:02, 132.52it/s]"
     ]
    },
    {
     "name": "stdout",
     "output_type": "stream",
     "text": [
      "time : 3.23, train_loss : 0.70, train_acc : 74.98,val_acc : 44.04,val_loss : 1.93\n"
     ]
    },
    {
     "name": "stderr",
     "output_type": "stream",
     "text": [
      "100%|██████████| 405/405 [00:02<00:00, 137.86it/s]\n",
      "100%|██████████| 79/79 [00:00<00:00, 272.73it/s]\n",
      "  3%|▎         | 14/405 [00:00<00:02, 131.31it/s]"
     ]
    },
    {
     "name": "stdout",
     "output_type": "stream",
     "text": [
      "time : 3.23, train_loss : 0.66, train_acc : 76.31,val_acc : 44.24,val_loss : 1.95\n"
     ]
    },
    {
     "name": "stderr",
     "output_type": "stream",
     "text": [
      "100%|██████████| 405/405 [00:02<00:00, 137.92it/s]\n",
      "100%|██████████| 79/79 [00:00<00:00, 275.05it/s]\n",
      "  3%|▎         | 14/405 [00:00<00:02, 131.31it/s]"
     ]
    },
    {
     "name": "stdout",
     "output_type": "stream",
     "text": [
      "time : 3.23, train_loss : 0.67, train_acc : 76.46,val_acc : 42.88,val_loss : 1.89\n"
     ]
    },
    {
     "name": "stderr",
     "output_type": "stream",
     "text": [
      "100%|██████████| 405/405 [00:02<00:00, 137.26it/s]\n",
      "100%|██████████| 79/79 [00:00<00:00, 275.68it/s]\n",
      "  3%|▎         | 14/405 [00:00<00:02, 134.55it/s]"
     ]
    },
    {
     "name": "stdout",
     "output_type": "stream",
     "text": [
      "time : 3.24, train_loss : 0.61, train_acc : 78.24,val_acc : 44.68,val_loss : 1.95\n"
     ]
    },
    {
     "name": "stderr",
     "output_type": "stream",
     "text": [
      "100%|██████████| 405/405 [00:02<00:00, 139.65it/s]\n",
      "100%|██████████| 79/79 [00:00<00:00, 286.44it/s]\n",
      "  3%|▎         | 14/405 [00:00<00:02, 134.30it/s]"
     ]
    },
    {
     "name": "stdout",
     "output_type": "stream",
     "text": [
      "time : 3.18, train_loss : 0.61, train_acc : 78.20,val_acc : 43.84,val_loss : 2.03\n"
     ]
    },
    {
     "name": "stderr",
     "output_type": "stream",
     "text": [
      "100%|██████████| 405/405 [00:02<00:00, 137.81it/s]\n",
      "100%|██████████| 79/79 [00:00<00:00, 273.74it/s]\n",
      "  3%|▎         | 14/405 [00:00<00:02, 133.36it/s]"
     ]
    },
    {
     "name": "stdout",
     "output_type": "stream",
     "text": [
      "time : 3.23, train_loss : 0.60, train_acc : 78.97,val_acc : 44.32,val_loss : 1.99\n"
     ]
    },
    {
     "name": "stderr",
     "output_type": "stream",
     "text": [
      "100%|██████████| 405/405 [00:02<00:00, 139.47it/s]\n",
      "100%|██████████| 79/79 [00:00<00:00, 276.81it/s]\n",
      "  3%|▎         | 14/405 [00:00<00:02, 132.34it/s]"
     ]
    },
    {
     "name": "stdout",
     "output_type": "stream",
     "text": [
      "time : 3.19, train_loss : 0.56, train_acc : 80.15,val_acc : 44.18,val_loss : 2.11\n"
     ]
    },
    {
     "name": "stderr",
     "output_type": "stream",
     "text": [
      "100%|██████████| 405/405 [00:02<00:00, 138.56it/s]\n",
      "100%|██████████| 79/79 [00:00<00:00, 277.50it/s]\n",
      "  3%|▎         | 14/405 [00:00<00:02, 132.10it/s]"
     ]
    },
    {
     "name": "stdout",
     "output_type": "stream",
     "text": [
      "time : 3.21, train_loss : 0.55, train_acc : 80.83,val_acc : 44.94,val_loss : 2.11\n"
     ]
    },
    {
     "name": "stderr",
     "output_type": "stream",
     "text": [
      "100%|██████████| 405/405 [00:02<00:00, 138.91it/s]\n",
      "100%|██████████| 79/79 [00:00<00:00, 283.47it/s]\n",
      "  3%|▎         | 14/405 [00:00<00:02, 137.06it/s]"
     ]
    },
    {
     "name": "stdout",
     "output_type": "stream",
     "text": [
      "time : 3.20, train_loss : 0.53, train_acc : 81.62,val_acc : 43.72,val_loss : 2.04\n"
     ]
    },
    {
     "name": "stderr",
     "output_type": "stream",
     "text": [
      "100%|██████████| 405/405 [00:02<00:00, 139.49it/s]\n",
      "100%|██████████| 79/79 [00:00<00:00, 274.50it/s]\n",
      "  3%|▎         | 14/405 [00:00<00:02, 131.02it/s]"
     ]
    },
    {
     "name": "stdout",
     "output_type": "stream",
     "text": [
      "time : 3.19, train_loss : 0.51, train_acc : 82.35,val_acc : 44.70,val_loss : 2.17\n"
     ]
    },
    {
     "name": "stderr",
     "output_type": "stream",
     "text": [
      "100%|██████████| 405/405 [00:02<00:00, 138.57it/s]\n",
      "100%|██████████| 79/79 [00:00<00:00, 266.34it/s]\n",
      "  3%|▎         | 14/405 [00:00<00:02, 132.00it/s]"
     ]
    },
    {
     "name": "stdout",
     "output_type": "stream",
     "text": [
      "time : 3.22, train_loss : 0.49, train_acc : 83.12,val_acc : 44.78,val_loss : 2.25\n"
     ]
    },
    {
     "name": "stderr",
     "output_type": "stream",
     "text": [
      "100%|██████████| 405/405 [00:02<00:00, 138.32it/s]\n",
      "100%|██████████| 79/79 [00:00<00:00, 274.28it/s]\n",
      "  3%|▎         | 14/405 [00:00<00:02, 131.21it/s]"
     ]
    },
    {
     "name": "stdout",
     "output_type": "stream",
     "text": [
      "time : 3.22, train_loss : 0.47, train_acc : 83.47,val_acc : 44.48,val_loss : 2.34\n"
     ]
    },
    {
     "name": "stderr",
     "output_type": "stream",
     "text": [
      "100%|██████████| 405/405 [00:02<00:00, 139.01it/s]\n",
      "100%|██████████| 79/79 [00:00<00:00, 276.30it/s]\n",
      "  3%|▎         | 14/405 [00:00<00:02, 132.88it/s]"
     ]
    },
    {
     "name": "stdout",
     "output_type": "stream",
     "text": [
      "time : 3.20, train_loss : 0.46, train_acc : 84.14,val_acc : 44.52,val_loss : 2.31\n"
     ]
    },
    {
     "name": "stderr",
     "output_type": "stream",
     "text": [
      "100%|██████████| 405/405 [00:02<00:00, 138.15it/s]\n",
      "100%|██████████| 79/79 [00:00<00:00, 284.36it/s]\n",
      "  3%|▎         | 13/405 [00:00<00:03, 129.83it/s]"
     ]
    },
    {
     "name": "stdout",
     "output_type": "stream",
     "text": [
      "time : 3.21, train_loss : 0.46, train_acc : 84.25,val_acc : 44.44,val_loss : 2.39\n"
     ]
    },
    {
     "name": "stderr",
     "output_type": "stream",
     "text": [
      "100%|██████████| 405/405 [00:02<00:00, 137.74it/s]\n",
      "100%|██████████| 79/79 [00:00<00:00, 278.78it/s]\n",
      "  3%|▎         | 14/405 [00:00<00:02, 133.42it/s]"
     ]
    },
    {
     "name": "stdout",
     "output_type": "stream",
     "text": [
      "time : 3.23, train_loss : 0.43, train_acc : 85.49,val_acc : 44.30,val_loss : 2.35\n"
     ]
    },
    {
     "name": "stderr",
     "output_type": "stream",
     "text": [
      "100%|██████████| 405/405 [00:02<00:00, 139.13it/s]\n",
      "100%|██████████| 79/79 [00:00<00:00, 281.99it/s]\n",
      "  3%|▎         | 14/405 [00:00<00:02, 133.01it/s]"
     ]
    },
    {
     "name": "stdout",
     "output_type": "stream",
     "text": [
      "time : 3.19, train_loss : 0.43, train_acc : 85.63,val_acc : 44.48,val_loss : 2.30\n"
     ]
    },
    {
     "name": "stderr",
     "output_type": "stream",
     "text": [
      "100%|██████████| 405/405 [00:02<00:00, 138.54it/s]\n",
      "100%|██████████| 79/79 [00:00<00:00, 281.12it/s]\n",
      "  3%|▎         | 14/405 [00:00<00:02, 133.75it/s]"
     ]
    },
    {
     "name": "stdout",
     "output_type": "stream",
     "text": [
      "time : 3.21, train_loss : 0.40, train_acc : 86.58,val_acc : 44.96,val_loss : 2.35\n"
     ]
    },
    {
     "name": "stderr",
     "output_type": "stream",
     "text": [
      "100%|██████████| 405/405 [00:02<00:00, 138.95it/s]\n",
      "100%|██████████| 79/79 [00:00<00:00, 283.99it/s]\n",
      "  3%|▎         | 14/405 [00:00<00:02, 131.00it/s]"
     ]
    },
    {
     "name": "stdout",
     "output_type": "stream",
     "text": [
      "time : 3.20, train_loss : 0.39, train_acc : 86.77,val_acc : 45.02,val_loss : 2.42\n"
     ]
    },
    {
     "name": "stderr",
     "output_type": "stream",
     "text": [
      "100%|██████████| 405/405 [00:02<00:00, 136.89it/s]\n",
      "100%|██████████| 79/79 [00:00<00:00, 265.85it/s]\n",
      "  3%|▎         | 14/405 [00:00<00:02, 131.22it/s]"
     ]
    },
    {
     "name": "stdout",
     "output_type": "stream",
     "text": [
      "time : 3.26, train_loss : 0.37, train_acc : 87.21,val_acc : 44.94,val_loss : 2.37\n"
     ]
    },
    {
     "name": "stderr",
     "output_type": "stream",
     "text": [
      "100%|██████████| 405/405 [00:02<00:00, 137.87it/s]\n",
      "100%|██████████| 79/79 [00:00<00:00, 275.34it/s]\n",
      "  3%|▎         | 14/405 [00:00<00:02, 134.35it/s]"
     ]
    },
    {
     "name": "stdout",
     "output_type": "stream",
     "text": [
      "time : 3.23, train_loss : 0.36, train_acc : 87.90,val_acc : 44.56,val_loss : 2.54\n"
     ]
    },
    {
     "name": "stderr",
     "output_type": "stream",
     "text": [
      "100%|██████████| 405/405 [00:02<00:00, 139.09it/s]\n",
      "100%|██████████| 79/79 [00:00<00:00, 283.99it/s]\n",
      "  3%|▎         | 14/405 [00:00<00:02, 134.02it/s]"
     ]
    },
    {
     "name": "stdout",
     "output_type": "stream",
     "text": [
      "time : 3.19, train_loss : 0.37, train_acc : 87.70,val_acc : 44.86,val_loss : 2.34\n"
     ]
    },
    {
     "name": "stderr",
     "output_type": "stream",
     "text": [
      "100%|██████████| 405/405 [00:02<00:00, 137.17it/s]\n",
      "100%|██████████| 79/79 [00:00<00:00, 272.35it/s]\n",
      "  3%|▎         | 14/405 [00:00<00:02, 134.40it/s]"
     ]
    },
    {
     "name": "stdout",
     "output_type": "stream",
     "text": [
      "time : 3.25, train_loss : 0.35, train_acc : 88.29,val_acc : 45.08,val_loss : 2.49\n"
     ]
    },
    {
     "name": "stderr",
     "output_type": "stream",
     "text": [
      "100%|██████████| 405/405 [00:02<00:00, 138.07it/s]\n",
      "100%|██████████| 79/79 [00:00<00:00, 271.26it/s]\n",
      "  3%|▎         | 14/405 [00:00<00:02, 133.75it/s]"
     ]
    },
    {
     "name": "stdout",
     "output_type": "stream",
     "text": [
      "time : 3.23, train_loss : 0.34, train_acc : 88.47,val_acc : 44.30,val_loss : 2.35\n"
     ]
    },
    {
     "name": "stderr",
     "output_type": "stream",
     "text": [
      "100%|██████████| 405/405 [00:02<00:00, 138.72it/s]\n",
      "100%|██████████| 79/79 [00:00<00:00, 271.49it/s]\n",
      "  3%|▎         | 14/405 [00:00<00:02, 133.91it/s]"
     ]
    },
    {
     "name": "stdout",
     "output_type": "stream",
     "text": [
      "time : 3.21, train_loss : 0.34, train_acc : 88.80,val_acc : 44.00,val_loss : 2.63\n"
     ]
    },
    {
     "name": "stderr",
     "output_type": "stream",
     "text": [
      "100%|██████████| 405/405 [00:02<00:00, 139.36it/s]\n",
      "100%|██████████| 79/79 [00:00<00:00, 274.44it/s]\n",
      "  3%|▎         | 14/405 [00:00<00:02, 137.35it/s]"
     ]
    },
    {
     "name": "stdout",
     "output_type": "stream",
     "text": [
      "time : 3.20, train_loss : 0.35, train_acc : 88.38,val_acc : 45.12,val_loss : 2.56\n"
     ]
    },
    {
     "name": "stderr",
     "output_type": "stream",
     "text": [
      "100%|██████████| 405/405 [00:02<00:00, 138.04it/s]\n",
      "100%|██████████| 79/79 [00:00<00:00, 271.91it/s]\n",
      "  3%|▎         | 14/405 [00:00<00:02, 132.16it/s]"
     ]
    },
    {
     "name": "stdout",
     "output_type": "stream",
     "text": [
      "time : 3.23, train_loss : 0.31, train_acc : 90.18,val_acc : 44.80,val_loss : 2.41\n"
     ]
    },
    {
     "name": "stderr",
     "output_type": "stream",
     "text": [
      "100%|██████████| 405/405 [00:02<00:00, 137.19it/s]\n",
      "100%|██████████| 79/79 [00:00<00:00, 273.44it/s]\n",
      "  3%|▎         | 14/405 [00:00<00:02, 132.97it/s]"
     ]
    },
    {
     "name": "stdout",
     "output_type": "stream",
     "text": [
      "time : 3.24, train_loss : 0.31, train_acc : 89.70,val_acc : 43.82,val_loss : 2.74\n"
     ]
    },
    {
     "name": "stderr",
     "output_type": "stream",
     "text": [
      "100%|██████████| 405/405 [00:02<00:00, 138.71it/s]\n",
      "100%|██████████| 79/79 [00:00<00:00, 273.90it/s]\n",
      "  0%|          | 0/79 [00:00<?, ?it/s]"
     ]
    },
    {
     "name": "stdout",
     "output_type": "stream",
     "text": [
      "time : 3.21, train_loss : 0.33, train_acc : 89.26,val_acc : 44.60,val_loss : 2.45\n"
     ]
    },
    {
     "name": "stderr",
     "output_type": "stream",
     "text": [
      "100%|██████████| 79/79 [00:00<00:00, 288.86it/s]\n"
     ]
    }
   ],
   "source": [
    "seed = 123\n",
    "np.random.seed(seed)\n",
    "torch.manual_seed(seed)\n",
    "net=AlexNet_test()\n",
    "net.cuda()\n",
    "criterion=nn.CrossEntropyLoss()\n",
    "optimizer = optim.Adam(net.parameters(), lr=0.0015, weight_decay=0.00001)\n",
    "train_losses=[]\n",
    "val_losses=[]\n",
    "train_accs=[]\n",
    "val_accs=[]\n",
    "for epoch in range(100):\n",
    "    ts=time.time()\n",
    "    net, train_loss,train_acc=train(net, partition, optimizer, criterion)\n",
    "    val_loss, val_acc = validate(net, partition, criterion)\n",
    "    te=time.time()\n",
    "    print('time : {:2.2f}, train_loss : {:2.2f}, train_acc : {:2.2f},val_acc : {:2.2f},val_loss : {:2.2f}'.format(te-ts,train_loss,train_acc,val_acc,val_loss))\n",
    "    train_loss=round(train_loss,2)\n",
    "    val_loss=round(val_loss,2)\n",
    "    train_acc=round(train_acc,2)\n",
    "    val_acc=round(val_acc,2)\n",
    "    train_losses.append(train_loss)\n",
    "    val_losses.append(val_loss)\n",
    "    train_accs.append(train_acc)\n",
    "    val_accs.append(val_acc)\n",
    "test_acc = test(net,partition)\n",
    "test_acc=round(test_acc,2)"
   ]
  },
  {
   "cell_type": "code",
   "execution_count": 17,
   "id": "gentle-immune",
   "metadata": {},
   "outputs": [],
   "source": [
    "np.save(\"/home/lab/양창희/Emotion Project/test_list_file/Alex_train_loss.npy\",train_loss)\n",
    "np.save(\"/home/lab/양창희/Emotion Project/test_list_file/Alex_val_loss.npy\",val_loss)\n",
    "np.save(\"/home/lab/양창희/Emotion Project/test_list_file/Alex_train_acc.npy\",train_acc)\n",
    "np.save(\"/home/lab/양창희/Emotion Project/test_list_file/Alex_val_acc.npy\",val_acc)"
   ]
  },
  {
   "cell_type": "code",
   "execution_count": null,
   "id": "continental-parameter",
   "metadata": {},
   "outputs": [],
   "source": []
  }
 ],
 "metadata": {
  "kernelspec": {
   "display_name": "Python 3",
   "language": "python",
   "name": "python3"
  },
  "language_info": {
   "codemirror_mode": {
    "name": "ipython",
    "version": 3
   },
   "file_extension": ".py",
   "mimetype": "text/x-python",
   "name": "python",
   "nbconvert_exporter": "python",
   "pygments_lexer": "ipython3",
   "version": "3.6.12"
  }
 },
 "nbformat": 4,
 "nbformat_minor": 5
}
