{
 "cells": [
  {
   "cell_type": "code",
   "execution_count": 1,
   "id": "recreational-uncertainty",
   "metadata": {},
   "outputs": [],
   "source": [
    "import matplotlib.pyplot as plt\n",
    "import numpy as np\n",
    "import random\n",
    "import torch\n",
    "import torchvision\n",
    "import torchvision.transforms as transforms\n",
    "import torch.nn as nn\n",
    "import torch.nn.functional as F\n",
    "import torch.optim as optim\n",
    "import argparse\n",
    "import numpy as np\n",
    "import time\n",
    "from copy import deepcopy\n",
    "import seaborn as sns \n",
    "import matplotlib.pyplot as plt"
   ]
  },
  {
   "cell_type": "code",
   "execution_count": 2,
   "id": "indian-letter",
   "metadata": {},
   "outputs": [],
   "source": [
    "train_angry=np.load(\"/home/lab/양창희/Emotion Project/emotion_image_npy/train_img_angry.npy\")\n",
    "train_disgust=np.load(\"/home/lab/양창희/Emotion Project/emotion_image_npy/train_img_disgust.npy\")\n",
    "train_fear=np.load(\"/home/lab/양창희/Emotion Project/emotion_image_npy/train_img_fear.npy\")\n",
    "train_happy=np.load(\"/home/lab/양창희/Emotion Project/emotion_image_npy/train_img_happy.npy\")\n",
    "train_neutral=np.load(\"/home/lab/양창희/Emotion Project/emotion_image_npy/train_img_neutral.npy\")\n",
    "train_sad=np.load(\"/home/lab/양창희/Emotion Project/emotion_image_npy/train_img_sad.npy\")\n",
    "train_surprise=np.load(\"/home/lab/양창희/Emotion Project/emotion_image_npy/train_img_surprise.npy\")"
   ]
  },
  {
   "cell_type": "code",
   "execution_count": 3,
   "id": "authorized-ecology",
   "metadata": {},
   "outputs": [
    {
     "data": {
      "text/plain": [
       "((3993, 48, 48, 3),\n",
       " (436, 48, 48, 3),\n",
       " (4103, 48, 48, 3),\n",
       " (7164, 48, 48, 3),\n",
       " (4982, 48, 48, 3),\n",
       " (4938, 48, 48, 3),\n",
       " (3205, 48, 48, 3))"
      ]
     },
     "execution_count": 3,
     "metadata": {},
     "output_type": "execute_result"
    }
   ],
   "source": [
    "train_angry.shape, train_disgust.shape, train_fear.shape, train_happy.shape, train_neutral.shape, train_sad.shape, train_surprise.shape"
   ]
  },
  {
   "cell_type": "code",
   "execution_count": 4,
   "id": "cooperative-general",
   "metadata": {},
   "outputs": [],
   "source": [
    "val_angry=np.load(\"/home/lab/양창희/Emotion Project/emotion_image_npy/validation_img_angry.npy\")\n",
    "val_disgust=np.load(\"/home/lab/양창희/Emotion Project/emotion_image_npy/validation_img_disgust.npy\")\n",
    "val_fear=np.load(\"/home/lab/양창희/Emotion Project/emotion_image_npy/validation_img_fear.npy\")\n",
    "val_happy=np.load(\"/home/lab/양창희/Emotion Project/emotion_image_npy/validation_img_happy.npy\")\n",
    "val_neutral=np.load(\"/home/lab/양창희/Emotion Project/emotion_image_npy/validation_img_neutral.npy\")\n",
    "val_sad=np.load(\"/home/lab/양창희/Emotion Project/emotion_image_npy/validation_img_sad.npy\")\n",
    "val_surprise=np.load(\"/home/lab/양창희/Emotion Project/emotion_image_npy/validation_img_surprise.npy\")"
   ]
  },
  {
   "cell_type": "code",
   "execution_count": 5,
   "id": "entitled-prospect",
   "metadata": {},
   "outputs": [],
   "source": [
    "angry=np.concatenate((train_angry,val_angry),axis=0)\n",
    "disgust=np.concatenate((train_disgust,val_disgust),axis=0)\n",
    "fear=np.concatenate((train_fear,val_fear),axis=0)\n",
    "happy=np.concatenate((train_happy,val_happy),axis=0)\n",
    "neutral=np.concatenate((train_neutral,val_neutral),axis=0)\n",
    "sad=np.concatenate((train_sad,val_sad),axis=0)\n",
    "surprise=np.concatenate((train_surprise,val_surprise),axis=0)"
   ]
  },
  {
   "cell_type": "code",
   "execution_count": 6,
   "id": "remarkable-conflict",
   "metadata": {},
   "outputs": [
    {
     "data": {
      "text/plain": [
       "(4953, 48, 48, 3)"
      ]
     },
     "execution_count": 6,
     "metadata": {},
     "output_type": "execute_result"
    }
   ],
   "source": [
    "angry.shape"
   ]
  },
  {
   "cell_type": "code",
   "execution_count": 7,
   "id": "fuzzy-phrase",
   "metadata": {},
   "outputs": [],
   "source": [
    "label=[]\n",
    "for i in range(7):\n",
    "    if i==0:\n",
    "        for j in range(len(angry)):\n",
    "            label.append(0)\n",
    "    elif i==1:\n",
    "        for j in range(len(disgust)):\n",
    "            label.append(1)\n",
    "    elif i==2:\n",
    "        for j in range(len(fear)):\n",
    "            label.append(2)\n",
    "    elif i==3:\n",
    "        for j in range(len(happy)):\n",
    "            label.append(3)\n",
    "    elif i==4:\n",
    "        for j in range(len(neutral)):\n",
    "            label.append(4)\n",
    "    elif i==5:\n",
    "        for j in range(len(sad)):\n",
    "            label.append(5)\n",
    "    elif i==6:\n",
    "        for j in range(len(surprise)):\n",
    "            label.append(6)"
   ]
  },
  {
   "cell_type": "code",
   "execution_count": 8,
   "id": "bacterial-device",
   "metadata": {},
   "outputs": [],
   "source": [
    "input_data=np.concatenate((angry,disgust,fear,happy,neutral,sad,surprise),axis=0)"
   ]
  },
  {
   "cell_type": "code",
   "execution_count": 9,
   "id": "sporting-webster",
   "metadata": {},
   "outputs": [
    {
     "data": {
      "text/plain": [
       "((35887,), (35887, 48, 48, 3))"
      ]
     },
     "execution_count": 9,
     "metadata": {},
     "output_type": "execute_result"
    }
   ],
   "source": [
    "label=np.array(label)\n",
    "label.shape, input_data.shape"
   ]
  },
  {
   "cell_type": "code",
   "execution_count": 10,
   "id": "controversial-philadelphia",
   "metadata": {},
   "outputs": [],
   "source": [
    "input_data= (input_data*(1/256)-0.5)/0.5"
   ]
  },
  {
   "cell_type": "code",
   "execution_count": 11,
   "id": "ordered-inventory",
   "metadata": {},
   "outputs": [],
   "source": [
    "input_data=torch.FloatTensor(input_data)\n",
    "label=torch.LongTensor(label)"
   ]
  },
  {
   "cell_type": "code",
   "execution_count": 13,
   "id": "anonymous-romania",
   "metadata": {},
   "outputs": [
    {
     "data": {
      "text/plain": [
       "torch.Size([35887])"
      ]
     },
     "execution_count": 13,
     "metadata": {},
     "output_type": "execute_result"
    }
   ],
   "source": [
    "label.shape"
   ]
  },
  {
   "cell_type": "code",
   "execution_count": 49,
   "id": "viral-documentary",
   "metadata": {},
   "outputs": [],
   "source": [
    "input_data=input_data.transpose(1,3)"
   ]
  },
  {
   "cell_type": "code",
   "execution_count": 50,
   "id": "thermal-trader",
   "metadata": {},
   "outputs": [
    {
     "data": {
      "text/plain": [
       "torch.Size([35887, 3, 48, 48])"
      ]
     },
     "execution_count": 50,
     "metadata": {},
     "output_type": "execute_result"
    }
   ],
   "source": [
    "input_data.shape"
   ]
  },
  {
   "cell_type": "code",
   "execution_count": 51,
   "id": "amended-oracle",
   "metadata": {},
   "outputs": [],
   "source": [
    "from torch.utils.data import TensorDataset\n",
    "from torch.utils.data import DataLoader\n",
    "dataset = TensorDataset(input_data,label)"
   ]
  },
  {
   "cell_type": "code",
   "execution_count": 52,
   "id": "taken-underground",
   "metadata": {},
   "outputs": [],
   "source": [
    "trainset,valset=torch.utils.data.random_split(dataset,[30887,5000])\n",
    "trainset,testset=torch.utils.data.random_split(trainset,[25887,5000])\n",
    "\n",
    "partition={'train':trainset,'val':valset,'test':testset}"
   ]
  },
  {
   "cell_type": "code",
   "execution_count": 97,
   "id": "quick-passion",
   "metadata": {},
   "outputs": [],
   "source": [
    "class CNN(nn.Module):\n",
    "    \n",
    "    def __init__(self):\n",
    "        super(CNN, self).__init__()\n",
    "        \n",
    "        self.conv1=nn.Conv2d(in_channels=3,\n",
    "                            out_channels=32,\n",
    "                            kernel_size=6,\n",
    "                            stride=2,\n",
    "                            padding=2) # 32 24 24\n",
    "        self.conv2=nn.Conv2d(in_channels=32, \n",
    "                            out_channels=64,\n",
    "                            kernel_size=5,\n",
    "                            stride=1,\n",
    "                            padding=2) # 64 60 64\n",
    "        self.conv3=nn.Conv2d(in_channels=64,\n",
    "                            out_channels=128,\n",
    "                            kernel_size=3,\n",
    "                            stride=1,\n",
    "                            padding=1) # 25 30 128\n",
    "        self.act=nn.ReLU()\n",
    "        self.maxpool1=nn.MaxPool2d(kernel_size=2,\n",
    "                                  stride=2)\n",
    "        self.fc=nn.Linear(1152,7)\n",
    "    def forward(self,x):\n",
    "        x=self.conv1(x)\n",
    "        x=self.act(x)\n",
    "        x=self.maxpool1(x)\n",
    "        x=self.conv2(x)\n",
    "        x=self.act(x)\n",
    "        x=self.maxpool1(x)\n",
    "        x=self.conv3(x)\n",
    "        x=self.act(x)\n",
    "        x=self.maxpool1(x)\n",
    "        x=x.view(x.size(0),-1)\n",
    "        x=self.fc(x)\n",
    "        return x"
   ]
  },
  {
   "cell_type": "code",
   "execution_count": 98,
   "id": "directed-israeli",
   "metadata": {},
   "outputs": [],
   "source": [
    "def dimension_check():\n",
    "    net=CNN()\n",
    "    x=torch.randn(1,3,48,48)\n",
    "    y=net(x)\n",
    "    print(y.size())"
   ]
  },
  {
   "cell_type": "code",
   "execution_count": 99,
   "id": "unlikely-sodium",
   "metadata": {},
   "outputs": [
    {
     "name": "stdout",
     "output_type": "stream",
     "text": [
      "torch.Size([1, 7])\n"
     ]
    }
   ],
   "source": [
    "dimension_check()"
   ]
  },
  {
   "cell_type": "code",
   "execution_count": 100,
   "id": "preceding-defensive",
   "metadata": {},
   "outputs": [],
   "source": [
    "def train(net,partition,optimizer,criterion):\n",
    "    trainloader = torch.utils.data.DataLoader(partition['train'],\n",
    "                                             batch_size=64,\n",
    "                                             shuffle=True)\n",
    "    net.train()\n",
    "    correct = 0\n",
    "    total =0\n",
    "    train_loss = 0.0\n",
    "    for i, data in enumerate(tqdm(trainloader, 0)):\n",
    "        time.sleep(0.0000001)\n",
    "        optimizer.zero_grad()\n",
    "        inputs, labels = data\n",
    "        inputs = inputs.cuda()\n",
    "        labels = labels.cuda()\n",
    "        outputs = net(inputs)\n",
    "        #break\n",
    "        loss = criterion(outputs, labels)\n",
    "        loss.backward()\n",
    "        optimizer.step()\n",
    "        \n",
    "        train_loss += loss.item()\n",
    "        _, predicted = torch.max(outputs.data, 1)\n",
    "        total += labels.size(0)\n",
    "        correct += (predicted == labels).sum().item()\n",
    "        #if i % 200 == 0:\n",
    "        #    print(correct,train_loss)\n",
    "    train_loss = train_loss / len(trainloader)\n",
    "    train_acc = 100 * correct / total\n",
    "    return net, train_loss, train_acc"
   ]
  },
  {
   "cell_type": "code",
   "execution_count": 101,
   "id": "electric-truck",
   "metadata": {},
   "outputs": [],
   "source": [
    "def test(net, partition):\n",
    "    testloader = torch.utils.data.DataLoader(partition['test'], \n",
    "                                             batch_size=64, \n",
    "                                             shuffle=False, num_workers=2)\n",
    "    net.eval()\n",
    "    \n",
    "    correct = 0\n",
    "    total = 0\n",
    "    with torch.no_grad():\n",
    "        for data in tqdm(testloader):\n",
    "            time.sleep(0.0000001)\n",
    "            images, labels = data\n",
    "            images = images.cuda()\n",
    "            labels = labels.cuda()\n",
    "\n",
    "            outputs = net(images)\n",
    "            _, predicted = torch.max(outputs.data, 1)\n",
    "            total += labels.size(0)\n",
    "            correct += (predicted == labels).sum().item()\n",
    "\n",
    "        test_acc = 100 * correct / total\n",
    "    return test_acc"
   ]
  },
  {
   "cell_type": "code",
   "execution_count": 102,
   "id": "behavioral-award",
   "metadata": {},
   "outputs": [],
   "source": [
    "def validate(net, partition, criterion):\n",
    "    valloader = torch.utils.data.DataLoader(partition['val'], \n",
    "                                            batch_size=64, \n",
    "                                            shuffle=False, num_workers=2)\n",
    "    net.eval()\n",
    "\n",
    "    correct = 0\n",
    "    total = 0\n",
    "    val_loss = 0 \n",
    "    with torch.no_grad():\n",
    "        for data in tqdm(valloader):\n",
    "            time.sleep(0.0000001)\n",
    "            images, labels = data\n",
    "            images = images.cuda()\n",
    "            labels = labels.cuda()\n",
    "            outputs = net(images)\n",
    "\n",
    "            loss = criterion(outputs, labels)\n",
    "            \n",
    "            val_loss += loss.item()\n",
    "            _, predicted = torch.max(outputs.data, 1)\n",
    "            total += labels.size(0)\n",
    "            correct += (predicted == labels).sum().item()\n",
    "\n",
    "        val_loss = val_loss / len(valloader)\n",
    "        val_acc = 100 * correct / total\n",
    "    return val_loss, val_acc"
   ]
  },
  {
   "cell_type": "code",
   "execution_count": 103,
   "id": "bacterial-toner",
   "metadata": {},
   "outputs": [],
   "source": [
    "from tqdm import tqdm, tqdm_notebook\n",
    "from tqdm import trange\n",
    "import time"
   ]
  },
  {
   "cell_type": "code",
   "execution_count": 105,
   "id": "headed-column",
   "metadata": {},
   "outputs": [
    {
     "name": "stderr",
     "output_type": "stream",
     "text": [
      "100%|██████████| 405/405 [00:01<00:00, 250.34it/s]\n",
      "100%|██████████| 79/79 [00:00<00:00, 351.53it/s]\n",
      "  7%|▋         | 27/405 [00:00<00:01, 268.59it/s]"
     ]
    },
    {
     "name": "stdout",
     "output_type": "stream",
     "text": [
      "time : 1.85, train_loss : 1.61, train_acc : 36.32,val_acc : 44.74,val_loss : 1.46\n"
     ]
    },
    {
     "name": "stderr",
     "output_type": "stream",
     "text": [
      "100%|██████████| 405/405 [00:01<00:00, 297.87it/s]\n",
      "100%|██████████| 79/79 [00:00<00:00, 364.44it/s]\n",
      "  7%|▋         | 29/405 [00:00<00:01, 285.81it/s]"
     ]
    },
    {
     "name": "stdout",
     "output_type": "stream",
     "text": [
      "time : 1.58, train_loss : 1.37, train_acc : 47.49,val_acc : 48.30,val_loss : 1.34\n"
     ]
    },
    {
     "name": "stderr",
     "output_type": "stream",
     "text": [
      "100%|██████████| 405/405 [00:01<00:00, 302.84it/s]\n",
      "100%|██████████| 79/79 [00:00<00:00, 354.09it/s]\n",
      "  7%|▋         | 29/405 [00:00<00:01, 283.63it/s]"
     ]
    },
    {
     "name": "stdout",
     "output_type": "stream",
     "text": [
      "time : 1.56, train_loss : 1.26, train_acc : 52.22,val_acc : 51.66,val_loss : 1.27\n"
     ]
    },
    {
     "name": "stderr",
     "output_type": "stream",
     "text": [
      "100%|██████████| 405/405 [00:01<00:00, 299.94it/s]\n",
      "100%|██████████| 79/79 [00:00<00:00, 357.15it/s]\n",
      "  7%|▋         | 29/405 [00:00<00:01, 288.85it/s]"
     ]
    },
    {
     "name": "stdout",
     "output_type": "stream",
     "text": [
      "time : 1.57, train_loss : 1.16, train_acc : 56.26,val_acc : 52.92,val_loss : 1.24\n"
     ]
    },
    {
     "name": "stderr",
     "output_type": "stream",
     "text": [
      "100%|██████████| 405/405 [00:01<00:00, 302.15it/s]\n",
      "100%|██████████| 79/79 [00:00<00:00, 376.94it/s]\n",
      "  7%|▋         | 27/405 [00:00<00:01, 262.22it/s]"
     ]
    },
    {
     "name": "stdout",
     "output_type": "stream",
     "text": [
      "time : 1.55, train_loss : 1.08, train_acc : 59.37,val_acc : 54.26,val_loss : 1.23\n"
     ]
    },
    {
     "name": "stderr",
     "output_type": "stream",
     "text": [
      "100%|██████████| 405/405 [00:01<00:00, 301.39it/s]\n",
      "100%|██████████| 79/79 [00:00<00:00, 356.75it/s]\n",
      "  7%|▋         | 29/405 [00:00<00:01, 286.64it/s]"
     ]
    },
    {
     "name": "stdout",
     "output_type": "stream",
     "text": [
      "time : 1.57, train_loss : 1.00, train_acc : 62.78,val_acc : 54.48,val_loss : 1.27\n"
     ]
    },
    {
     "name": "stderr",
     "output_type": "stream",
     "text": [
      "100%|██████████| 405/405 [00:01<00:00, 304.56it/s]\n",
      "100%|██████████| 79/79 [00:00<00:00, 361.79it/s]\n",
      "  7%|▋         | 29/405 [00:00<00:01, 287.55it/s]"
     ]
    },
    {
     "name": "stdout",
     "output_type": "stream",
     "text": [
      "time : 1.55, train_loss : 0.92, train_acc : 65.88,val_acc : 54.80,val_loss : 1.29\n"
     ]
    },
    {
     "name": "stderr",
     "output_type": "stream",
     "text": [
      "100%|██████████| 405/405 [00:01<00:00, 301.89it/s]\n",
      "100%|██████████| 79/79 [00:00<00:00, 373.37it/s]\n",
      "  7%|▋         | 30/405 [00:00<00:01, 290.63it/s]"
     ]
    },
    {
     "name": "stdout",
     "output_type": "stream",
     "text": [
      "time : 1.56, train_loss : 0.85, train_acc : 69.09,val_acc : 54.08,val_loss : 1.35\n"
     ]
    },
    {
     "name": "stderr",
     "output_type": "stream",
     "text": [
      "100%|██████████| 405/405 [00:01<00:00, 304.54it/s]\n",
      "100%|██████████| 79/79 [00:00<00:00, 360.86it/s]\n",
      "  7%|▋         | 28/405 [00:00<00:01, 274.43it/s]"
     ]
    },
    {
     "name": "stdout",
     "output_type": "stream",
     "text": [
      "time : 1.55, train_loss : 0.76, train_acc : 72.26,val_acc : 54.54,val_loss : 1.41\n"
     ]
    },
    {
     "name": "stderr",
     "output_type": "stream",
     "text": [
      "100%|██████████| 405/405 [00:01<00:00, 300.80it/s]\n",
      "100%|██████████| 79/79 [00:00<00:00, 350.31it/s]\n",
      "  7%|▋         | 30/405 [00:00<00:01, 293.56it/s]"
     ]
    },
    {
     "name": "stdout",
     "output_type": "stream",
     "text": [
      "time : 1.58, train_loss : 0.69, train_acc : 74.99,val_acc : 53.72,val_loss : 1.51\n"
     ]
    },
    {
     "name": "stderr",
     "output_type": "stream",
     "text": [
      "100%|██████████| 405/405 [00:01<00:00, 302.21it/s]\n",
      "100%|██████████| 79/79 [00:00<00:00, 352.43it/s]\n",
      "  7%|▋         | 29/405 [00:00<00:01, 287.40it/s]"
     ]
    },
    {
     "name": "stdout",
     "output_type": "stream",
     "text": [
      "time : 1.57, train_loss : 0.62, train_acc : 77.55,val_acc : 52.76,val_loss : 1.62\n"
     ]
    },
    {
     "name": "stderr",
     "output_type": "stream",
     "text": [
      "100%|██████████| 405/405 [00:01<00:00, 305.30it/s]\n",
      "100%|██████████| 79/79 [00:00<00:00, 361.39it/s]\n",
      "  7%|▋         | 28/405 [00:00<00:01, 277.81it/s]"
     ]
    },
    {
     "name": "stdout",
     "output_type": "stream",
     "text": [
      "time : 1.55, train_loss : 0.55, train_acc : 79.67,val_acc : 53.26,val_loss : 1.71\n"
     ]
    },
    {
     "name": "stderr",
     "output_type": "stream",
     "text": [
      "100%|██████████| 405/405 [00:01<00:00, 301.02it/s]\n",
      "100%|██████████| 79/79 [00:00<00:00, 375.52it/s]\n",
      "  7%|▋         | 30/405 [00:00<00:01, 293.52it/s]"
     ]
    },
    {
     "name": "stdout",
     "output_type": "stream",
     "text": [
      "time : 1.56, train_loss : 0.50, train_acc : 82.14,val_acc : 53.08,val_loss : 1.85\n"
     ]
    },
    {
     "name": "stderr",
     "output_type": "stream",
     "text": [
      "100%|██████████| 405/405 [00:01<00:00, 308.51it/s]\n",
      "100%|██████████| 79/79 [00:00<00:00, 377.34it/s]\n",
      "  7%|▋         | 30/405 [00:00<00:01, 290.95it/s]"
     ]
    },
    {
     "name": "stdout",
     "output_type": "stream",
     "text": [
      "time : 1.52, train_loss : 0.43, train_acc : 84.40,val_acc : 52.82,val_loss : 2.03\n"
     ]
    },
    {
     "name": "stderr",
     "output_type": "stream",
     "text": [
      "100%|██████████| 405/405 [00:01<00:00, 302.19it/s]\n",
      "100%|██████████| 79/79 [00:00<00:00, 393.87it/s]\n",
      "  7%|▋         | 27/405 [00:00<00:01, 263.15it/s]"
     ]
    },
    {
     "name": "stdout",
     "output_type": "stream",
     "text": [
      "time : 1.54, train_loss : 0.38, train_acc : 86.20,val_acc : 52.06,val_loss : 2.25\n"
     ]
    },
    {
     "name": "stderr",
     "output_type": "stream",
     "text": [
      "100%|██████████| 405/405 [00:01<00:00, 298.17it/s]\n",
      "100%|██████████| 79/79 [00:00<00:00, 358.22it/s]\n",
      "  7%|▋         | 28/405 [00:00<00:01, 279.41it/s]"
     ]
    },
    {
     "name": "stdout",
     "output_type": "stream",
     "text": [
      "time : 1.58, train_loss : 0.34, train_acc : 87.87,val_acc : 52.26,val_loss : 2.34\n"
     ]
    },
    {
     "name": "stderr",
     "output_type": "stream",
     "text": [
      "100%|██████████| 405/405 [00:01<00:00, 301.43it/s]\n",
      "100%|██████████| 79/79 [00:00<00:00, 379.52it/s]\n",
      "  7%|▋         | 29/405 [00:00<00:01, 283.58it/s]"
     ]
    },
    {
     "name": "stdout",
     "output_type": "stream",
     "text": [
      "time : 1.55, train_loss : 0.32, train_acc : 88.77,val_acc : 50.82,val_loss : 2.53\n"
     ]
    },
    {
     "name": "stderr",
     "output_type": "stream",
     "text": [
      "100%|██████████| 405/405 [00:01<00:00, 300.61it/s]\n",
      "100%|██████████| 79/79 [00:00<00:00, 347.09it/s]\n",
      "  7%|▋         | 28/405 [00:00<00:01, 275.90it/s]"
     ]
    },
    {
     "name": "stdout",
     "output_type": "stream",
     "text": [
      "time : 1.58, train_loss : 0.28, train_acc : 90.10,val_acc : 52.78,val_loss : 2.58\n"
     ]
    },
    {
     "name": "stderr",
     "output_type": "stream",
     "text": [
      "100%|██████████| 405/405 [00:01<00:00, 303.09it/s]\n",
      "100%|██████████| 79/79 [00:00<00:00, 339.03it/s]\n",
      "  7%|▋         | 29/405 [00:00<00:01, 284.00it/s]"
     ]
    },
    {
     "name": "stdout",
     "output_type": "stream",
     "text": [
      "time : 1.57, train_loss : 0.26, train_acc : 90.68,val_acc : 52.20,val_loss : 2.81\n"
     ]
    },
    {
     "name": "stderr",
     "output_type": "stream",
     "text": [
      "100%|██████████| 405/405 [00:01<00:00, 302.19it/s]\n",
      "100%|██████████| 79/79 [00:00<00:00, 355.31it/s]\n",
      "  7%|▋         | 28/405 [00:00<00:01, 277.43it/s]"
     ]
    },
    {
     "name": "stdout",
     "output_type": "stream",
     "text": [
      "time : 1.57, train_loss : 0.25, train_acc : 91.02,val_acc : 52.56,val_loss : 2.94\n"
     ]
    },
    {
     "name": "stderr",
     "output_type": "stream",
     "text": [
      "100%|██████████| 405/405 [00:01<00:00, 293.43it/s]\n",
      "100%|██████████| 79/79 [00:00<00:00, 353.56it/s]\n",
      "  7%|▋         | 29/405 [00:00<00:01, 282.31it/s]"
     ]
    },
    {
     "name": "stdout",
     "output_type": "stream",
     "text": [
      "time : 1.61, train_loss : 0.25, train_acc : 91.51,val_acc : 53.02,val_loss : 3.07\n"
     ]
    },
    {
     "name": "stderr",
     "output_type": "stream",
     "text": [
      "100%|██████████| 405/405 [00:01<00:00, 302.77it/s]\n",
      "100%|██████████| 79/79 [00:00<00:00, 366.36it/s]\n",
      "  7%|▋         | 28/405 [00:00<00:01, 274.27it/s]"
     ]
    },
    {
     "name": "stdout",
     "output_type": "stream",
     "text": [
      "time : 1.56, train_loss : 0.23, train_acc : 91.91,val_acc : 52.02,val_loss : 3.19\n"
     ]
    },
    {
     "name": "stderr",
     "output_type": "stream",
     "text": [
      "100%|██████████| 405/405 [00:01<00:00, 302.17it/s]\n",
      "100%|██████████| 79/79 [00:00<00:00, 353.21it/s]\n",
      "  7%|▋         | 28/405 [00:00<00:01, 276.46it/s]"
     ]
    },
    {
     "name": "stdout",
     "output_type": "stream",
     "text": [
      "time : 1.57, train_loss : 0.21, train_acc : 92.78,val_acc : 51.86,val_loss : 3.37\n"
     ]
    },
    {
     "name": "stderr",
     "output_type": "stream",
     "text": [
      "100%|██████████| 405/405 [00:01<00:00, 297.18it/s]\n",
      "100%|██████████| 79/79 [00:00<00:00, 348.89it/s]\n",
      "  6%|▋         | 26/405 [00:00<00:01, 257.54it/s]"
     ]
    },
    {
     "name": "stdout",
     "output_type": "stream",
     "text": [
      "time : 1.59, train_loss : 0.20, train_acc : 92.99,val_acc : 51.30,val_loss : 3.54\n"
     ]
    },
    {
     "name": "stderr",
     "output_type": "stream",
     "text": [
      "100%|██████████| 405/405 [00:01<00:00, 298.08it/s]\n",
      "100%|██████████| 79/79 [00:00<00:00, 366.38it/s]\n",
      "  7%|▋         | 28/405 [00:00<00:01, 273.53it/s]"
     ]
    },
    {
     "name": "stdout",
     "output_type": "stream",
     "text": [
      "time : 1.58, train_loss : 0.21, train_acc : 92.58,val_acc : 51.60,val_loss : 3.58\n"
     ]
    },
    {
     "name": "stderr",
     "output_type": "stream",
     "text": [
      "100%|██████████| 405/405 [00:01<00:00, 291.80it/s]\n",
      "100%|██████████| 79/79 [00:00<00:00, 335.08it/s]\n",
      "  7%|▋         | 29/405 [00:00<00:01, 281.53it/s]"
     ]
    },
    {
     "name": "stdout",
     "output_type": "stream",
     "text": [
      "time : 1.63, train_loss : 0.20, train_acc : 93.55,val_acc : 52.54,val_loss : 3.58\n"
     ]
    },
    {
     "name": "stderr",
     "output_type": "stream",
     "text": [
      "100%|██████████| 405/405 [00:01<00:00, 301.29it/s]\n",
      "100%|██████████| 79/79 [00:00<00:00, 345.10it/s]\n",
      "  7%|▋         | 28/405 [00:00<00:01, 278.08it/s]"
     ]
    },
    {
     "name": "stdout",
     "output_type": "stream",
     "text": [
      "time : 1.58, train_loss : 0.18, train_acc : 94.06,val_acc : 51.62,val_loss : 3.68\n"
     ]
    },
    {
     "name": "stderr",
     "output_type": "stream",
     "text": [
      "100%|██████████| 405/405 [00:01<00:00, 298.10it/s]\n",
      "100%|██████████| 79/79 [00:00<00:00, 347.62it/s]\n",
      "  7%|▋         | 29/405 [00:00<00:01, 281.11it/s]"
     ]
    },
    {
     "name": "stdout",
     "output_type": "stream",
     "text": [
      "time : 1.59, train_loss : 0.20, train_acc : 93.32,val_acc : 52.32,val_loss : 3.82\n"
     ]
    },
    {
     "name": "stderr",
     "output_type": "stream",
     "text": [
      "100%|██████████| 405/405 [00:01<00:00, 300.81it/s]\n",
      "100%|██████████| 79/79 [00:00<00:00, 337.85it/s]\n",
      "  7%|▋         | 29/405 [00:00<00:01, 284.60it/s]"
     ]
    },
    {
     "name": "stdout",
     "output_type": "stream",
     "text": [
      "time : 1.58, train_loss : 0.19, train_acc : 93.89,val_acc : 51.00,val_loss : 4.00\n"
     ]
    },
    {
     "name": "stderr",
     "output_type": "stream",
     "text": [
      "100%|██████████| 405/405 [00:01<00:00, 297.83it/s]\n",
      "100%|██████████| 79/79 [00:00<00:00, 362.42it/s]\n",
      "  8%|▊         | 32/405 [00:00<00:01, 314.45it/s]"
     ]
    },
    {
     "name": "stdout",
     "output_type": "stream",
     "text": [
      "time : 1.58, train_loss : 0.21, train_acc : 93.27,val_acc : 52.00,val_loss : 3.99\n"
     ]
    },
    {
     "name": "stderr",
     "output_type": "stream",
     "text": [
      "100%|██████████| 405/405 [00:01<00:00, 313.51it/s]\n",
      "100%|██████████| 79/79 [00:00<00:00, 364.26it/s]\n",
      "  7%|▋         | 28/405 [00:00<00:01, 274.49it/s]"
     ]
    },
    {
     "name": "stdout",
     "output_type": "stream",
     "text": [
      "time : 1.51, train_loss : 0.18, train_acc : 94.09,val_acc : 51.68,val_loss : 4.07\n"
     ]
    },
    {
     "name": "stderr",
     "output_type": "stream",
     "text": [
      "100%|██████████| 405/405 [00:01<00:00, 299.37it/s]\n",
      "100%|██████████| 79/79 [00:00<00:00, 367.57it/s]\n",
      "  7%|▋         | 27/405 [00:00<00:01, 266.04it/s]"
     ]
    },
    {
     "name": "stdout",
     "output_type": "stream",
     "text": [
      "time : 1.57, train_loss : 0.17, train_acc : 94.70,val_acc : 51.70,val_loss : 4.25\n"
     ]
    },
    {
     "name": "stderr",
     "output_type": "stream",
     "text": [
      "100%|██████████| 405/405 [00:01<00:00, 296.19it/s]\n",
      "100%|██████████| 79/79 [00:00<00:00, 387.90it/s]\n",
      "  7%|▋         | 28/405 [00:00<00:01, 279.34it/s]"
     ]
    },
    {
     "name": "stdout",
     "output_type": "stream",
     "text": [
      "time : 1.57, train_loss : 0.16, train_acc : 94.99,val_acc : 51.30,val_loss : 4.38\n"
     ]
    },
    {
     "name": "stderr",
     "output_type": "stream",
     "text": [
      "100%|██████████| 405/405 [00:01<00:00, 295.20it/s]\n",
      "100%|██████████| 79/79 [00:00<00:00, 374.23it/s]\n",
      "  7%|▋         | 29/405 [00:00<00:01, 283.31it/s]"
     ]
    },
    {
     "name": "stdout",
     "output_type": "stream",
     "text": [
      "time : 1.59, train_loss : 0.16, train_acc : 95.18,val_acc : 51.78,val_loss : 4.51\n"
     ]
    },
    {
     "name": "stderr",
     "output_type": "stream",
     "text": [
      "100%|██████████| 405/405 [00:01<00:00, 305.11it/s]\n",
      "100%|██████████| 79/79 [00:00<00:00, 356.08it/s]\n",
      "  7%|▋         | 28/405 [00:00<00:01, 276.70it/s]"
     ]
    },
    {
     "name": "stdout",
     "output_type": "stream",
     "text": [
      "time : 1.55, train_loss : 0.18, train_acc : 94.44,val_acc : 51.62,val_loss : 4.53\n"
     ]
    },
    {
     "name": "stderr",
     "output_type": "stream",
     "text": [
      "100%|██████████| 405/405 [00:01<00:00, 305.38it/s]\n",
      "100%|██████████| 79/79 [00:00<00:00, 360.60it/s]\n",
      "  7%|▋         | 29/405 [00:00<00:01, 287.67it/s]"
     ]
    },
    {
     "name": "stdout",
     "output_type": "stream",
     "text": [
      "time : 1.55, train_loss : 0.19, train_acc : 94.34,val_acc : 51.56,val_loss : 4.40\n"
     ]
    },
    {
     "name": "stderr",
     "output_type": "stream",
     "text": [
      "100%|██████████| 405/405 [00:01<00:00, 301.69it/s]\n",
      "100%|██████████| 79/79 [00:00<00:00, 359.25it/s]\n",
      "  7%|▋         | 29/405 [00:00<00:01, 287.16it/s]"
     ]
    },
    {
     "name": "stdout",
     "output_type": "stream",
     "text": [
      "time : 1.57, train_loss : 0.18, train_acc : 94.64,val_acc : 52.02,val_loss : 4.44\n"
     ]
    },
    {
     "name": "stderr",
     "output_type": "stream",
     "text": [
      "100%|██████████| 405/405 [00:01<00:00, 304.80it/s]\n",
      "100%|██████████| 79/79 [00:00<00:00, 380.87it/s]\n",
      "  7%|▋         | 29/405 [00:00<00:01, 284.37it/s]"
     ]
    },
    {
     "name": "stdout",
     "output_type": "stream",
     "text": [
      "time : 1.54, train_loss : 0.15, train_acc : 95.60,val_acc : 51.16,val_loss : 4.67\n"
     ]
    },
    {
     "name": "stderr",
     "output_type": "stream",
     "text": [
      "100%|██████████| 405/405 [00:01<00:00, 303.50it/s]\n",
      "100%|██████████| 79/79 [00:00<00:00, 365.24it/s]\n",
      "  7%|▋         | 29/405 [00:00<00:01, 287.89it/s]"
     ]
    },
    {
     "name": "stdout",
     "output_type": "stream",
     "text": [
      "time : 1.55, train_loss : 0.17, train_acc : 94.87,val_acc : 51.34,val_loss : 4.81\n"
     ]
    },
    {
     "name": "stderr",
     "output_type": "stream",
     "text": [
      "100%|██████████| 405/405 [00:01<00:00, 301.36it/s]\n",
      "100%|██████████| 79/79 [00:00<00:00, 352.84it/s]\n",
      "  7%|▋         | 29/405 [00:00<00:01, 285.27it/s]"
     ]
    },
    {
     "name": "stdout",
     "output_type": "stream",
     "text": [
      "time : 1.57, train_loss : 0.17, train_acc : 94.73,val_acc : 51.16,val_loss : 4.74\n"
     ]
    },
    {
     "name": "stderr",
     "output_type": "stream",
     "text": [
      "100%|██████████| 405/405 [00:01<00:00, 301.44it/s]\n",
      "100%|██████████| 79/79 [00:00<00:00, 339.61it/s]\n",
      "  7%|▋         | 30/405 [00:00<00:01, 294.10it/s]"
     ]
    },
    {
     "name": "stdout",
     "output_type": "stream",
     "text": [
      "time : 1.58, train_loss : 0.16, train_acc : 95.15,val_acc : 51.36,val_loss : 4.90\n"
     ]
    },
    {
     "name": "stderr",
     "output_type": "stream",
     "text": [
      "100%|██████████| 405/405 [00:01<00:00, 297.99it/s]\n",
      "100%|██████████| 79/79 [00:00<00:00, 385.91it/s]\n",
      "  7%|▋         | 29/405 [00:00<00:01, 285.01it/s]"
     ]
    },
    {
     "name": "stdout",
     "output_type": "stream",
     "text": [
      "time : 1.57, train_loss : 0.17, train_acc : 94.87,val_acc : 51.40,val_loss : 5.07\n"
     ]
    },
    {
     "name": "stderr",
     "output_type": "stream",
     "text": [
      "100%|██████████| 405/405 [00:01<00:00, 298.83it/s]\n",
      "100%|██████████| 79/79 [00:00<00:00, 365.95it/s]\n",
      "  8%|▊         | 31/405 [00:00<00:01, 294.58it/s]"
     ]
    },
    {
     "name": "stdout",
     "output_type": "stream",
     "text": [
      "time : 1.57, train_loss : 0.16, train_acc : 95.25,val_acc : 50.74,val_loss : 4.82\n"
     ]
    },
    {
     "name": "stderr",
     "output_type": "stream",
     "text": [
      "100%|██████████| 405/405 [00:01<00:00, 302.82it/s]\n",
      "100%|██████████| 79/79 [00:00<00:00, 353.61it/s]\n",
      "  7%|▋         | 29/405 [00:00<00:01, 285.39it/s]"
     ]
    },
    {
     "name": "stdout",
     "output_type": "stream",
     "text": [
      "time : 1.56, train_loss : 0.15, train_acc : 95.58,val_acc : 51.78,val_loss : 4.97\n"
     ]
    },
    {
     "name": "stderr",
     "output_type": "stream",
     "text": [
      "100%|██████████| 405/405 [00:01<00:00, 302.68it/s]\n",
      "100%|██████████| 79/79 [00:00<00:00, 364.69it/s]\n",
      "  7%|▋         | 29/405 [00:00<00:01, 281.47it/s]"
     ]
    },
    {
     "name": "stdout",
     "output_type": "stream",
     "text": [
      "time : 1.56, train_loss : 0.16, train_acc : 95.39,val_acc : 51.26,val_loss : 5.11\n"
     ]
    },
    {
     "name": "stderr",
     "output_type": "stream",
     "text": [
      "100%|██████████| 405/405 [00:01<00:00, 299.25it/s]\n",
      "100%|██████████| 79/79 [00:00<00:00, 367.58it/s]\n",
      "  7%|▋         | 29/405 [00:00<00:01, 282.71it/s]"
     ]
    },
    {
     "name": "stdout",
     "output_type": "stream",
     "text": [
      "time : 1.57, train_loss : 0.16, train_acc : 95.30,val_acc : 51.60,val_loss : 5.26\n"
     ]
    },
    {
     "name": "stderr",
     "output_type": "stream",
     "text": [
      "100%|██████████| 405/405 [00:01<00:00, 300.92it/s]\n",
      "100%|██████████| 79/79 [00:00<00:00, 390.85it/s]\n",
      "  8%|▊         | 31/405 [00:00<00:01, 309.50it/s]"
     ]
    },
    {
     "name": "stdout",
     "output_type": "stream",
     "text": [
      "time : 1.55, train_loss : 0.15, train_acc : 95.49,val_acc : 51.34,val_loss : 5.32\n"
     ]
    },
    {
     "name": "stderr",
     "output_type": "stream",
     "text": [
      "100%|██████████| 405/405 [00:01<00:00, 329.84it/s]\n",
      "100%|██████████| 79/79 [00:00<00:00, 387.90it/s]\n",
      "  7%|▋         | 29/405 [00:00<00:01, 283.83it/s]"
     ]
    },
    {
     "name": "stdout",
     "output_type": "stream",
     "text": [
      "time : 1.43, train_loss : 0.15, train_acc : 95.78,val_acc : 50.92,val_loss : 5.27\n"
     ]
    },
    {
     "name": "stderr",
     "output_type": "stream",
     "text": [
      "100%|██████████| 405/405 [00:01<00:00, 307.16it/s]\n",
      "100%|██████████| 79/79 [00:00<00:00, 356.71it/s]\n",
      "  7%|▋         | 29/405 [00:00<00:01, 288.18it/s]"
     ]
    },
    {
     "name": "stdout",
     "output_type": "stream",
     "text": [
      "time : 1.54, train_loss : 0.16, train_acc : 95.43,val_acc : 51.44,val_loss : 5.20\n"
     ]
    },
    {
     "name": "stderr",
     "output_type": "stream",
     "text": [
      "100%|██████████| 405/405 [00:01<00:00, 304.04it/s]\n",
      "100%|██████████| 79/79 [00:00<00:00, 353.41it/s]\n",
      "  7%|▋         | 27/405 [00:00<00:01, 263.46it/s]"
     ]
    },
    {
     "name": "stdout",
     "output_type": "stream",
     "text": [
      "time : 1.56, train_loss : 0.17, train_acc : 95.30,val_acc : 50.98,val_loss : 4.96\n"
     ]
    },
    {
     "name": "stderr",
     "output_type": "stream",
     "text": [
      "100%|██████████| 405/405 [00:01<00:00, 296.67it/s]\n",
      "100%|██████████| 79/79 [00:00<00:00, 352.32it/s]\n",
      "  7%|▋         | 28/405 [00:00<00:01, 273.18it/s]"
     ]
    },
    {
     "name": "stdout",
     "output_type": "stream",
     "text": [
      "time : 1.59, train_loss : 0.15, train_acc : 95.47,val_acc : 51.52,val_loss : 5.48\n"
     ]
    },
    {
     "name": "stderr",
     "output_type": "stream",
     "text": [
      "100%|██████████| 405/405 [00:01<00:00, 301.34it/s]\n",
      "100%|██████████| 79/79 [00:00<00:00, 350.89it/s]\n",
      "  7%|▋         | 29/405 [00:00<00:01, 284.86it/s]"
     ]
    },
    {
     "name": "stdout",
     "output_type": "stream",
     "text": [
      "time : 1.57, train_loss : 0.15, train_acc : 95.91,val_acc : 51.48,val_loss : 5.26\n"
     ]
    },
    {
     "name": "stderr",
     "output_type": "stream",
     "text": [
      "100%|██████████| 405/405 [00:01<00:00, 305.50it/s]\n",
      "100%|██████████| 79/79 [00:00<00:00, 370.76it/s]\n",
      "  7%|▋         | 28/405 [00:00<00:01, 272.32it/s]"
     ]
    },
    {
     "name": "stdout",
     "output_type": "stream",
     "text": [
      "time : 1.54, train_loss : 0.16, train_acc : 95.37,val_acc : 52.10,val_loss : 5.57\n"
     ]
    },
    {
     "name": "stderr",
     "output_type": "stream",
     "text": [
      "100%|██████████| 405/405 [00:01<00:00, 296.94it/s]\n",
      "100%|██████████| 79/79 [00:00<00:00, 372.33it/s]\n",
      "  7%|▋         | 28/405 [00:00<00:01, 277.24it/s]"
     ]
    },
    {
     "name": "stdout",
     "output_type": "stream",
     "text": [
      "time : 1.58, train_loss : 0.17, train_acc : 95.28,val_acc : 50.94,val_loss : 5.51\n"
     ]
    },
    {
     "name": "stderr",
     "output_type": "stream",
     "text": [
      "100%|██████████| 405/405 [00:01<00:00, 298.91it/s]\n",
      "100%|██████████| 79/79 [00:00<00:00, 387.32it/s]\n",
      "  7%|▋         | 30/405 [00:00<00:01, 293.59it/s]"
     ]
    },
    {
     "name": "stdout",
     "output_type": "stream",
     "text": [
      "time : 1.56, train_loss : 0.14, train_acc : 96.15,val_acc : 52.02,val_loss : 5.67\n"
     ]
    },
    {
     "name": "stderr",
     "output_type": "stream",
     "text": [
      "100%|██████████| 405/405 [00:01<00:00, 303.43it/s]\n",
      "100%|██████████| 79/79 [00:00<00:00, 333.38it/s]\n",
      "  7%|▋         | 27/405 [00:00<00:01, 265.38it/s]"
     ]
    },
    {
     "name": "stdout",
     "output_type": "stream",
     "text": [
      "time : 1.57, train_loss : 0.16, train_acc : 95.39,val_acc : 50.08,val_loss : 6.05\n"
     ]
    },
    {
     "name": "stderr",
     "output_type": "stream",
     "text": [
      "100%|██████████| 405/405 [00:01<00:00, 305.04it/s]\n",
      "100%|██████████| 79/79 [00:00<00:00, 371.32it/s]\n",
      "  7%|▋         | 28/405 [00:00<00:01, 271.61it/s]"
     ]
    },
    {
     "name": "stdout",
     "output_type": "stream",
     "text": [
      "time : 1.54, train_loss : 0.15, train_acc : 95.84,val_acc : 51.08,val_loss : 5.92\n"
     ]
    },
    {
     "name": "stderr",
     "output_type": "stream",
     "text": [
      "100%|██████████| 405/405 [00:01<00:00, 303.31it/s]\n",
      "100%|██████████| 79/79 [00:00<00:00, 371.39it/s]\n",
      "  7%|▋         | 30/405 [00:00<00:01, 291.02it/s]"
     ]
    },
    {
     "name": "stdout",
     "output_type": "stream",
     "text": [
      "time : 1.55, train_loss : 0.17, train_acc : 95.52,val_acc : 51.18,val_loss : 5.84\n"
     ]
    },
    {
     "name": "stderr",
     "output_type": "stream",
     "text": [
      "100%|██████████| 405/405 [00:01<00:00, 306.64it/s]\n",
      "100%|██████████| 79/79 [00:00<00:00, 363.85it/s]\n",
      "  7%|▋         | 28/405 [00:00<00:01, 278.85it/s]"
     ]
    },
    {
     "name": "stdout",
     "output_type": "stream",
     "text": [
      "time : 1.54, train_loss : 0.16, train_acc : 95.55,val_acc : 50.90,val_loss : 5.94\n"
     ]
    },
    {
     "name": "stderr",
     "output_type": "stream",
     "text": [
      "100%|██████████| 405/405 [00:01<00:00, 299.77it/s]\n",
      "100%|██████████| 79/79 [00:00<00:00, 372.68it/s]\n",
      "  7%|▋         | 30/405 [00:00<00:01, 292.49it/s]"
     ]
    },
    {
     "name": "stdout",
     "output_type": "stream",
     "text": [
      "time : 1.57, train_loss : 0.14, train_acc : 96.10,val_acc : 50.92,val_loss : 5.95\n"
     ]
    },
    {
     "name": "stderr",
     "output_type": "stream",
     "text": [
      "100%|██████████| 405/405 [00:01<00:00, 308.60it/s]\n",
      "100%|██████████| 79/79 [00:00<00:00, 346.06it/s]\n",
      "  7%|▋         | 29/405 [00:00<00:01, 286.96it/s]"
     ]
    },
    {
     "name": "stdout",
     "output_type": "stream",
     "text": [
      "time : 1.54, train_loss : 0.15, train_acc : 95.79,val_acc : 50.86,val_loss : 6.00\n"
     ]
    },
    {
     "name": "stderr",
     "output_type": "stream",
     "text": [
      "100%|██████████| 405/405 [00:01<00:00, 304.10it/s]\n",
      "100%|██████████| 79/79 [00:00<00:00, 361.53it/s]\n",
      "  7%|▋         | 30/405 [00:00<00:01, 291.08it/s]"
     ]
    },
    {
     "name": "stdout",
     "output_type": "stream",
     "text": [
      "time : 1.55, train_loss : 0.15, train_acc : 95.80,val_acc : 51.72,val_loss : 5.84\n"
     ]
    },
    {
     "name": "stderr",
     "output_type": "stream",
     "text": [
      "100%|██████████| 405/405 [00:01<00:00, 300.86it/s]\n",
      "100%|██████████| 79/79 [00:00<00:00, 363.57it/s]\n",
      "  7%|▋         | 28/405 [00:00<00:01, 277.08it/s]"
     ]
    },
    {
     "name": "stdout",
     "output_type": "stream",
     "text": [
      "time : 1.57, train_loss : 0.16, train_acc : 95.64,val_acc : 51.24,val_loss : 5.94\n"
     ]
    },
    {
     "name": "stderr",
     "output_type": "stream",
     "text": [
      "100%|██████████| 405/405 [00:01<00:00, 301.00it/s]\n",
      "100%|██████████| 79/79 [00:00<00:00, 337.11it/s]\n",
      "  7%|▋         | 27/405 [00:00<00:01, 268.95it/s]"
     ]
    },
    {
     "name": "stdout",
     "output_type": "stream",
     "text": [
      "time : 1.58, train_loss : 0.14, train_acc : 96.16,val_acc : 51.40,val_loss : 6.12\n"
     ]
    },
    {
     "name": "stderr",
     "output_type": "stream",
     "text": [
      "100%|██████████| 405/405 [00:01<00:00, 302.92it/s]\n",
      "100%|██████████| 79/79 [00:00<00:00, 355.19it/s]\n",
      "  7%|▋         | 30/405 [00:00<00:01, 291.77it/s]"
     ]
    },
    {
     "name": "stdout",
     "output_type": "stream",
     "text": [
      "time : 1.56, train_loss : 0.13, train_acc : 96.59,val_acc : 51.50,val_loss : 6.24\n"
     ]
    },
    {
     "name": "stderr",
     "output_type": "stream",
     "text": [
      "100%|██████████| 405/405 [00:01<00:00, 306.59it/s]\n",
      "100%|██████████| 79/79 [00:00<00:00, 356.17it/s]\n",
      "  7%|▋         | 29/405 [00:00<00:01, 285.66it/s]"
     ]
    },
    {
     "name": "stdout",
     "output_type": "stream",
     "text": [
      "time : 1.55, train_loss : 0.14, train_acc : 96.08,val_acc : 51.72,val_loss : 6.22\n"
     ]
    },
    {
     "name": "stderr",
     "output_type": "stream",
     "text": [
      "100%|██████████| 405/405 [00:01<00:00, 301.79it/s]\n",
      "100%|██████████| 79/79 [00:00<00:00, 350.02it/s]\n",
      "  7%|▋         | 29/405 [00:00<00:01, 282.23it/s]"
     ]
    },
    {
     "name": "stdout",
     "output_type": "stream",
     "text": [
      "time : 1.57, train_loss : 0.16, train_acc : 95.72,val_acc : 50.28,val_loss : 6.35\n"
     ]
    },
    {
     "name": "stderr",
     "output_type": "stream",
     "text": [
      "100%|██████████| 405/405 [00:01<00:00, 301.98it/s]\n",
      "100%|██████████| 79/79 [00:00<00:00, 365.74it/s]\n",
      "  7%|▋         | 30/405 [00:00<00:01, 295.35it/s]"
     ]
    },
    {
     "name": "stdout",
     "output_type": "stream",
     "text": [
      "time : 1.56, train_loss : 0.16, train_acc : 95.65,val_acc : 50.68,val_loss : 6.28\n"
     ]
    },
    {
     "name": "stderr",
     "output_type": "stream",
     "text": [
      "100%|██████████| 405/405 [00:01<00:00, 308.30it/s]\n",
      "100%|██████████| 79/79 [00:00<00:00, 330.14it/s]\n",
      "  7%|▋         | 27/405 [00:00<00:01, 262.30it/s]"
     ]
    },
    {
     "name": "stdout",
     "output_type": "stream",
     "text": [
      "time : 1.56, train_loss : 0.15, train_acc : 96.07,val_acc : 50.62,val_loss : 6.42\n"
     ]
    },
    {
     "name": "stderr",
     "output_type": "stream",
     "text": [
      "100%|██████████| 405/405 [00:01<00:00, 300.34it/s]\n",
      "100%|██████████| 79/79 [00:00<00:00, 384.44it/s]\n",
      "  7%|▋         | 28/405 [00:00<00:01, 275.73it/s]"
     ]
    },
    {
     "name": "stdout",
     "output_type": "stream",
     "text": [
      "time : 1.56, train_loss : 0.14, train_acc : 96.40,val_acc : 50.94,val_loss : 6.52\n"
     ]
    },
    {
     "name": "stderr",
     "output_type": "stream",
     "text": [
      "100%|██████████| 405/405 [00:01<00:00, 300.12it/s]\n",
      "100%|██████████| 79/79 [00:00<00:00, 332.29it/s]\n",
      "  7%|▋         | 29/405 [00:00<00:01, 288.59it/s]"
     ]
    },
    {
     "name": "stdout",
     "output_type": "stream",
     "text": [
      "time : 1.59, train_loss : 0.12, train_acc : 96.70,val_acc : 50.48,val_loss : 6.57\n"
     ]
    },
    {
     "name": "stderr",
     "output_type": "stream",
     "text": [
      "100%|██████████| 405/405 [00:01<00:00, 300.21it/s]\n",
      "100%|██████████| 79/79 [00:00<00:00, 387.74it/s]\n",
      "  7%|▋         | 29/405 [00:00<00:01, 282.87it/s]"
     ]
    },
    {
     "name": "stdout",
     "output_type": "stream",
     "text": [
      "time : 1.56, train_loss : 0.13, train_acc : 96.43,val_acc : 51.10,val_loss : 6.17\n"
     ]
    },
    {
     "name": "stderr",
     "output_type": "stream",
     "text": [
      "100%|██████████| 405/405 [00:01<00:00, 302.60it/s]\n",
      "100%|██████████| 79/79 [00:00<00:00, 362.41it/s]\n",
      "  7%|▋         | 29/405 [00:00<00:01, 287.66it/s]"
     ]
    },
    {
     "name": "stdout",
     "output_type": "stream",
     "text": [
      "time : 1.56, train_loss : 0.17, train_acc : 95.46,val_acc : 50.40,val_loss : 6.44\n"
     ]
    },
    {
     "name": "stderr",
     "output_type": "stream",
     "text": [
      "100%|██████████| 405/405 [00:01<00:00, 305.01it/s]\n",
      "100%|██████████| 79/79 [00:00<00:00, 367.00it/s]\n",
      "  7%|▋         | 29/405 [00:00<00:01, 287.29it/s]"
     ]
    },
    {
     "name": "stdout",
     "output_type": "stream",
     "text": [
      "time : 1.55, train_loss : 0.15, train_acc : 96.04,val_acc : 50.82,val_loss : 6.63\n"
     ]
    },
    {
     "name": "stderr",
     "output_type": "stream",
     "text": [
      "100%|██████████| 405/405 [00:01<00:00, 305.30it/s]\n",
      "100%|██████████| 79/79 [00:00<00:00, 339.41it/s]\n",
      "  7%|▋         | 28/405 [00:00<00:01, 278.13it/s]"
     ]
    },
    {
     "name": "stdout",
     "output_type": "stream",
     "text": [
      "time : 1.56, train_loss : 0.16, train_acc : 95.81,val_acc : 50.96,val_loss : 6.45\n"
     ]
    },
    {
     "name": "stderr",
     "output_type": "stream",
     "text": [
      "100%|██████████| 405/405 [00:01<00:00, 305.66it/s]\n",
      "100%|██████████| 79/79 [00:00<00:00, 348.44it/s]\n",
      "  7%|▋         | 27/405 [00:00<00:01, 268.66it/s]"
     ]
    },
    {
     "name": "stdout",
     "output_type": "stream",
     "text": [
      "time : 1.55, train_loss : 0.14, train_acc : 96.32,val_acc : 51.90,val_loss : 6.70\n"
     ]
    },
    {
     "name": "stderr",
     "output_type": "stream",
     "text": [
      "100%|██████████| 405/405 [00:01<00:00, 302.25it/s]\n",
      "100%|██████████| 79/79 [00:00<00:00, 344.30it/s]\n",
      "  7%|▋         | 27/405 [00:00<00:01, 266.77it/s]"
     ]
    },
    {
     "name": "stdout",
     "output_type": "stream",
     "text": [
      "time : 1.57, train_loss : 0.15, train_acc : 96.20,val_acc : 50.66,val_loss : 6.90\n"
     ]
    },
    {
     "name": "stderr",
     "output_type": "stream",
     "text": [
      "100%|██████████| 405/405 [00:01<00:00, 303.17it/s]\n",
      "100%|██████████| 79/79 [00:00<00:00, 333.72it/s]\n",
      "  7%|▋         | 29/405 [00:00<00:01, 287.67it/s]"
     ]
    },
    {
     "name": "stdout",
     "output_type": "stream",
     "text": [
      "time : 1.58, train_loss : 0.16, train_acc : 96.28,val_acc : 51.34,val_loss : 6.56\n"
     ]
    },
    {
     "name": "stderr",
     "output_type": "stream",
     "text": [
      "100%|██████████| 405/405 [00:01<00:00, 302.46it/s]\n",
      "100%|██████████| 79/79 [00:00<00:00, 355.07it/s]\n",
      "  7%|▋         | 29/405 [00:00<00:01, 287.28it/s]"
     ]
    },
    {
     "name": "stdout",
     "output_type": "stream",
     "text": [
      "time : 1.56, train_loss : 0.13, train_acc : 96.57,val_acc : 51.72,val_loss : 6.82\n"
     ]
    },
    {
     "name": "stderr",
     "output_type": "stream",
     "text": [
      "100%|██████████| 405/405 [00:01<00:00, 302.01it/s]\n",
      "100%|██████████| 79/79 [00:00<00:00, 350.82it/s]\n",
      "  7%|▋         | 27/405 [00:00<00:01, 266.86it/s]"
     ]
    },
    {
     "name": "stdout",
     "output_type": "stream",
     "text": [
      "time : 1.57, train_loss : 0.13, train_acc : 96.87,val_acc : 51.28,val_loss : 6.36\n"
     ]
    },
    {
     "name": "stderr",
     "output_type": "stream",
     "text": [
      "100%|██████████| 405/405 [00:01<00:00, 301.09it/s]\n",
      "100%|██████████| 79/79 [00:00<00:00, 342.91it/s]\n",
      "  7%|▋         | 30/405 [00:00<00:01, 294.46it/s]"
     ]
    },
    {
     "name": "stdout",
     "output_type": "stream",
     "text": [
      "time : 1.58, train_loss : 0.15, train_acc : 96.16,val_acc : 51.22,val_loss : 6.85\n"
     ]
    },
    {
     "name": "stderr",
     "output_type": "stream",
     "text": [
      "100%|██████████| 405/405 [00:01<00:00, 300.73it/s]\n",
      "100%|██████████| 79/79 [00:00<00:00, 376.43it/s]\n",
      "  7%|▋         | 28/405 [00:00<00:01, 279.36it/s]"
     ]
    },
    {
     "name": "stdout",
     "output_type": "stream",
     "text": [
      "time : 1.56, train_loss : 0.16, train_acc : 95.96,val_acc : 52.20,val_loss : 6.90\n"
     ]
    },
    {
     "name": "stderr",
     "output_type": "stream",
     "text": [
      "100%|██████████| 405/405 [00:01<00:00, 297.30it/s]\n",
      "100%|██████████| 79/79 [00:00<00:00, 359.21it/s]\n",
      "  7%|▋         | 27/405 [00:00<00:01, 268.13it/s]"
     ]
    },
    {
     "name": "stdout",
     "output_type": "stream",
     "text": [
      "time : 1.58, train_loss : 0.15, train_acc : 96.24,val_acc : 51.62,val_loss : 6.93\n"
     ]
    },
    {
     "name": "stderr",
     "output_type": "stream",
     "text": [
      "100%|██████████| 405/405 [00:01<00:00, 298.36it/s]\n",
      "100%|██████████| 79/79 [00:00<00:00, 390.16it/s]\n",
      "  7%|▋         | 29/405 [00:00<00:01, 281.18it/s]"
     ]
    },
    {
     "name": "stdout",
     "output_type": "stream",
     "text": [
      "time : 1.56, train_loss : 0.14, train_acc : 96.37,val_acc : 51.66,val_loss : 6.68\n"
     ]
    },
    {
     "name": "stderr",
     "output_type": "stream",
     "text": [
      "100%|██████████| 405/405 [00:01<00:00, 303.55it/s]\n",
      "100%|██████████| 79/79 [00:00<00:00, 345.83it/s]\n",
      "  7%|▋         | 29/405 [00:00<00:01, 282.21it/s]"
     ]
    },
    {
     "name": "stdout",
     "output_type": "stream",
     "text": [
      "time : 1.57, train_loss : 0.17, train_acc : 95.78,val_acc : 51.70,val_loss : 7.06\n"
     ]
    },
    {
     "name": "stderr",
     "output_type": "stream",
     "text": [
      "100%|██████████| 405/405 [00:01<00:00, 299.69it/s]\n",
      "100%|██████████| 79/79 [00:00<00:00, 333.48it/s]\n",
      "  7%|▋         | 28/405 [00:00<00:01, 276.96it/s]"
     ]
    },
    {
     "name": "stdout",
     "output_type": "stream",
     "text": [
      "time : 1.59, train_loss : 0.14, train_acc : 96.48,val_acc : 51.52,val_loss : 6.36\n"
     ]
    },
    {
     "name": "stderr",
     "output_type": "stream",
     "text": [
      "100%|██████████| 405/405 [00:01<00:00, 304.20it/s]\n",
      "100%|██████████| 79/79 [00:00<00:00, 365.47it/s]\n",
      "  7%|▋         | 28/405 [00:00<00:01, 278.88it/s]"
     ]
    },
    {
     "name": "stdout",
     "output_type": "stream",
     "text": [
      "time : 1.55, train_loss : 0.12, train_acc : 96.87,val_acc : 51.40,val_loss : 7.29\n"
     ]
    },
    {
     "name": "stderr",
     "output_type": "stream",
     "text": [
      "100%|██████████| 405/405 [00:01<00:00, 301.66it/s]\n",
      "100%|██████████| 79/79 [00:00<00:00, 380.55it/s]\n",
      "  7%|▋         | 28/405 [00:00<00:01, 271.75it/s]"
     ]
    },
    {
     "name": "stdout",
     "output_type": "stream",
     "text": [
      "time : 1.55, train_loss : 0.14, train_acc : 96.59,val_acc : 50.58,val_loss : 7.11\n"
     ]
    },
    {
     "name": "stderr",
     "output_type": "stream",
     "text": [
      "100%|██████████| 405/405 [00:01<00:00, 305.01it/s]\n",
      "100%|██████████| 79/79 [00:00<00:00, 373.63it/s]\n",
      "  7%|▋         | 29/405 [00:00<00:01, 281.68it/s]"
     ]
    },
    {
     "name": "stdout",
     "output_type": "stream",
     "text": [
      "time : 1.54, train_loss : 0.14, train_acc : 96.66,val_acc : 50.64,val_loss : 6.97\n"
     ]
    },
    {
     "name": "stderr",
     "output_type": "stream",
     "text": [
      "100%|██████████| 405/405 [00:01<00:00, 298.36it/s]\n",
      "100%|██████████| 79/79 [00:00<00:00, 355.83it/s]\n",
      "  7%|▋         | 27/405 [00:00<00:01, 261.00it/s]"
     ]
    },
    {
     "name": "stdout",
     "output_type": "stream",
     "text": [
      "time : 1.58, train_loss : 0.14, train_acc : 96.48,val_acc : 52.56,val_loss : 7.02\n"
     ]
    },
    {
     "name": "stderr",
     "output_type": "stream",
     "text": [
      "100%|██████████| 405/405 [00:01<00:00, 301.68it/s]\n",
      "100%|██████████| 79/79 [00:00<00:00, 355.93it/s]\n",
      "  7%|▋         | 29/405 [00:00<00:01, 287.52it/s]"
     ]
    },
    {
     "name": "stdout",
     "output_type": "stream",
     "text": [
      "time : 1.57, train_loss : 0.18, train_acc : 95.70,val_acc : 51.84,val_loss : 6.96\n"
     ]
    },
    {
     "name": "stderr",
     "output_type": "stream",
     "text": [
      "100%|██████████| 405/405 [00:01<00:00, 301.82it/s]\n",
      "100%|██████████| 79/79 [00:00<00:00, 365.94it/s]\n",
      "  7%|▋         | 30/405 [00:00<00:01, 296.39it/s]"
     ]
    },
    {
     "name": "stdout",
     "output_type": "stream",
     "text": [
      "time : 1.56, train_loss : 0.13, train_acc : 96.79,val_acc : 51.12,val_loss : 7.35\n"
     ]
    },
    {
     "name": "stderr",
     "output_type": "stream",
     "text": [
      "100%|██████████| 405/405 [00:01<00:00, 306.02it/s]\n",
      "100%|██████████| 79/79 [00:00<00:00, 382.16it/s]\n",
      "  7%|▋         | 29/405 [00:00<00:01, 289.52it/s]"
     ]
    },
    {
     "name": "stdout",
     "output_type": "stream",
     "text": [
      "time : 1.53, train_loss : 0.15, train_acc : 96.48,val_acc : 50.96,val_loss : 7.28\n"
     ]
    },
    {
     "name": "stderr",
     "output_type": "stream",
     "text": [
      "100%|██████████| 405/405 [00:01<00:00, 303.49it/s]\n",
      "100%|██████████| 79/79 [00:00<00:00, 377.06it/s]\n",
      "  7%|▋         | 30/405 [00:00<00:01, 291.90it/s]"
     ]
    },
    {
     "name": "stdout",
     "output_type": "stream",
     "text": [
      "time : 1.55, train_loss : 0.15, train_acc : 96.38,val_acc : 50.88,val_loss : 7.41\n"
     ]
    },
    {
     "name": "stderr",
     "output_type": "stream",
     "text": [
      "100%|██████████| 405/405 [00:01<00:00, 305.15it/s]\n",
      "100%|██████████| 79/79 [00:00<00:00, 327.01it/s]\n",
      "  7%|▋         | 29/405 [00:00<00:01, 289.65it/s]"
     ]
    },
    {
     "name": "stdout",
     "output_type": "stream",
     "text": [
      "time : 1.57, train_loss : 0.12, train_acc : 97.01,val_acc : 51.34,val_loss : 7.49\n"
     ]
    },
    {
     "name": "stderr",
     "output_type": "stream",
     "text": [
      "100%|██████████| 405/405 [00:01<00:00, 306.65it/s]\n",
      "100%|██████████| 79/79 [00:00<00:00, 359.68it/s]\n",
      "  7%|▋         | 28/405 [00:00<00:01, 279.25it/s]"
     ]
    },
    {
     "name": "stdout",
     "output_type": "stream",
     "text": [
      "time : 1.54, train_loss : 0.13, train_acc : 96.98,val_acc : 50.40,val_loss : 7.22\n"
     ]
    },
    {
     "name": "stderr",
     "output_type": "stream",
     "text": [
      "100%|██████████| 405/405 [00:01<00:00, 300.33it/s]\n",
      "100%|██████████| 79/79 [00:00<00:00, 384.47it/s]\n",
      "  7%|▋         | 29/405 [00:00<00:01, 281.04it/s]"
     ]
    },
    {
     "name": "stdout",
     "output_type": "stream",
     "text": [
      "time : 1.56, train_loss : 0.15, train_acc : 96.43,val_acc : 51.70,val_loss : 7.11\n"
     ]
    },
    {
     "name": "stderr",
     "output_type": "stream",
     "text": [
      "100%|██████████| 405/405 [00:01<00:00, 305.63it/s]\n",
      "100%|██████████| 79/79 [00:00<00:00, 362.82it/s]\n",
      "  7%|▋         | 29/405 [00:00<00:01, 284.38it/s]"
     ]
    },
    {
     "name": "stdout",
     "output_type": "stream",
     "text": [
      "time : 1.55, train_loss : 0.16, train_acc : 96.04,val_acc : 50.58,val_loss : 7.39\n"
     ]
    },
    {
     "name": "stderr",
     "output_type": "stream",
     "text": [
      "100%|██████████| 405/405 [00:01<00:00, 299.55it/s]\n",
      "100%|██████████| 79/79 [00:00<00:00, 369.38it/s]\n",
      "  7%|▋         | 27/405 [00:00<00:01, 264.37it/s]"
     ]
    },
    {
     "name": "stdout",
     "output_type": "stream",
     "text": [
      "time : 1.57, train_loss : 0.13, train_acc : 96.85,val_acc : 50.54,val_loss : 7.26\n"
     ]
    },
    {
     "name": "stderr",
     "output_type": "stream",
     "text": [
      "100%|██████████| 405/405 [00:01<00:00, 301.76it/s]\n",
      "100%|██████████| 79/79 [00:00<00:00, 363.50it/s]\n",
      "  0%|          | 0/79 [00:00<?, ?it/s]"
     ]
    },
    {
     "name": "stdout",
     "output_type": "stream",
     "text": [
      "time : 1.56, train_loss : 0.16, train_acc : 96.39,val_acc : 51.48,val_loss : 7.66\n"
     ]
    },
    {
     "name": "stderr",
     "output_type": "stream",
     "text": [
      "100%|██████████| 79/79 [00:00<00:00, 370.10it/s]\n"
     ]
    }
   ],
   "source": [
    "seed = 123\n",
    "np.random.seed(seed)\n",
    "torch.manual_seed(seed)\n",
    "net=CNN()\n",
    "net.cuda()\n",
    "criterion=nn.CrossEntropyLoss()\n",
    "optimizer = optim.Adam(net.parameters(), lr=0.0015, weight_decay=0.00001)\n",
    "train_losses=[]\n",
    "val_losses=[]\n",
    "train_accs=[]\n",
    "val_accs=[]\n",
    "for epoch in range(100):\n",
    "    ts=time.time()\n",
    "    net, train_loss,train_acc=train(net, partition, optimizer, criterion)\n",
    "    val_loss, val_acc = validate(net, partition, criterion)\n",
    "    te=time.time()\n",
    "    print('time : {:2.2f}, train_loss : {:2.2f}, train_acc : {:2.2f},val_acc : {:2.2f},val_loss : {:2.2f}'.format(te-ts,train_loss,train_acc,val_acc,val_loss))\n",
    "    train_loss=round(train_loss,2)\n",
    "    val_loss=round(val_loss,2)\n",
    "    train_acc=round(train_acc,2)\n",
    "    val_acc=round(val_acc,2)\n",
    "    train_losses.append(train_loss)\n",
    "    val_losses.append(val_loss)\n",
    "    train_accs.append(train_acc)\n",
    "    val_accs.append(val_acc)\n",
    "test_acc = test(net,partition)\n",
    "test_acc=round(test_acc,2)"
   ]
  },
  {
   "cell_type": "code",
   "execution_count": 107,
   "id": "integral-portable",
   "metadata": {},
   "outputs": [],
   "source": [
    "np.save(\"/home/lab/양창희/Emotion Project/test_list_file/Basic_train_loss.npy\",train_loss)\n",
    "np.save(\"/home/lab/양창희/Emotion Project/test_list_file/Basic_val_loss.npy\",val_loss)\n",
    "np.save(\"/home/lab/양창희/Emotion Project/test_list_file/Basic_train_acc.npy\",train_acc)\n",
    "np.save(\"/home/lab/양창희/Emotion Project/test_list_file/Basic_val_acc.npy\",val_acc)"
   ]
  },
  {
   "cell_type": "code",
   "execution_count": null,
   "id": "subjective-scholarship",
   "metadata": {},
   "outputs": [],
   "source": []
  }
 ],
 "metadata": {
  "kernelspec": {
   "display_name": "Python 3",
   "language": "python",
   "name": "python3"
  },
  "language_info": {
   "codemirror_mode": {
    "name": "ipython",
    "version": 3
   },
   "file_extension": ".py",
   "mimetype": "text/x-python",
   "name": "python",
   "nbconvert_exporter": "python",
   "pygments_lexer": "ipython3",
   "version": "3.6.12"
  }
 },
 "nbformat": 4,
 "nbformat_minor": 5
}
