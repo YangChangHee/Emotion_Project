{
 "cells": [
  {
   "cell_type": "code",
   "execution_count": 1,
   "id": "informational-tablet",
   "metadata": {},
   "outputs": [],
   "source": [
    "import torch.nn as nn\n",
    "import torch"
   ]
  },
  {
   "cell_type": "code",
   "execution_count": 3,
   "id": "harmful-vietnamese",
   "metadata": {},
   "outputs": [],
   "source": [
    "cfg = {\n",
    "    'VGG11': [64, 'M', 128, 'M', 256, 256, 'M', 512, 512, 'M', 512, 512, 'M'],\n",
    "    'VGG13': [64, 64, 'M', 128, 128, 'M', 256, 256, 'M', 512, 512, 'M', 512, 512, 'M'],\n",
    "    'VGG16': [64, 64, 'M', 128, 128, 'M', 256, 256, 256, 'M', 512, 512, 512, 'M', 512, 512, 512, 'M'],\n",
    "    'VGG19': [64, 64, 'M', 128, 128, 'M', 256, 256, 256, 256, 'M', 512, 512, 512, 512, 'M', 512, 512, 512, 512, 'M'],\n",
    "}\n",
    "\n",
    "class VGG(nn.Module):\n",
    "    def __init__(self,vgg_name,num_classes=7):\n",
    "        super(VGG,self).__init__()\n",
    "        self.features= self._make_layers(cfg[vgg_name]) # 함수 앞 _는 private\n",
    "        self.classifier = nn.Linear(512, num_classes)\n",
    "        \n",
    "    def forward(self,x):\n",
    "        x = self.features(x)\n",
    "        x = x.view(x.size(0), -1)\n",
    "        x = self.classifier(x)\n",
    "        return x\n",
    "    def _make_layers(self,cfg):\n",
    "        layers=[]\n",
    "        in_channels = 3\n",
    "        for x in cfg:\n",
    "            if x == 'M':\n",
    "                layers += [nn.MaxPool2d(kernel_size=2,stride=2)]\n",
    "            else :\n",
    "                layers +=[nn.Conv2d(in_channels, x, kernel_size=3, padding=1),\n",
    "                          nn.BatchNorm2d(x),\n",
    "                          nn.ReLU(inplace=True)]\n",
    "                in_channels =x\n",
    "        layers+=[nn.AvgPool2d(kernel_size=1,stride=1)]\n",
    "        return nn.Sequential(*layers)\n",
    "        "
   ]
  },
  {
   "cell_type": "code",
   "execution_count": 4,
   "id": "champion-poverty",
   "metadata": {},
   "outputs": [],
   "source": [
    "def test():\n",
    "    net = VGG('VGG11')\n",
    "    x = torch.randn(2,3,48,48)\n",
    "    y = net(x)\n",
    "    print(y.size())"
   ]
  },
  {
   "cell_type": "code",
   "execution_count": 5,
   "id": "presidential-sociology",
   "metadata": {},
   "outputs": [
    {
     "name": "stdout",
     "output_type": "stream",
     "text": [
      "torch.Size([2, 7])\n"
     ]
    }
   ],
   "source": [
    "test()"
   ]
  },
  {
   "cell_type": "code",
   "execution_count": 6,
   "id": "human-covering",
   "metadata": {},
   "outputs": [],
   "source": [
    "import matplotlib.pyplot as plt\n",
    "import numpy as np\n",
    "import random\n",
    "import torch\n",
    "import torchvision\n",
    "import torchvision.transforms as transforms\n",
    "import torch.nn as nn\n",
    "import torch.nn.functional as F\n",
    "import torch.optim as optim\n",
    "import argparse\n",
    "import numpy as np\n",
    "import time\n",
    "from copy import deepcopy\n",
    "import seaborn as sns \n",
    "import matplotlib.pyplot as plt"
   ]
  },
  {
   "cell_type": "code",
   "execution_count": 7,
   "id": "later-violence",
   "metadata": {},
   "outputs": [],
   "source": [
    "input_data=np.load(\"input_data_emotion.npy\")\n",
    "label=np.load(\"label.np.npy\")"
   ]
  },
  {
   "cell_type": "code",
   "execution_count": 8,
   "id": "consistent-freight",
   "metadata": {},
   "outputs": [],
   "source": [
    "label=np.array(label)\n",
    "input_data= (input_data*(1/256)-0.5)/0.5"
   ]
  },
  {
   "cell_type": "code",
   "execution_count": 9,
   "id": "fatty-chassis",
   "metadata": {},
   "outputs": [],
   "source": [
    "input_data=torch.FloatTensor(input_data)\n",
    "label=torch.LongTensor(label)"
   ]
  },
  {
   "cell_type": "code",
   "execution_count": 10,
   "id": "numerical-payroll",
   "metadata": {},
   "outputs": [],
   "source": [
    "input_data=input_data.transpose(1,3)"
   ]
  },
  {
   "cell_type": "code",
   "execution_count": 11,
   "id": "forward-classic",
   "metadata": {},
   "outputs": [],
   "source": [
    "from torch.utils.data import TensorDataset\n",
    "from torch.utils.data import DataLoader\n",
    "dataset = TensorDataset(input_data,label)"
   ]
  },
  {
   "cell_type": "code",
   "execution_count": 12,
   "id": "ethical-flesh",
   "metadata": {},
   "outputs": [],
   "source": [
    "trainset,valset=torch.utils.data.random_split(dataset,[30887,5000])\n",
    "trainset,testset=torch.utils.data.random_split(trainset,[25887,5000])\n",
    "\n",
    "partition={'train':trainset,'val':valset,'test':testset}"
   ]
  },
  {
   "cell_type": "code",
   "execution_count": 13,
   "id": "suited-third",
   "metadata": {},
   "outputs": [],
   "source": [
    "def train(net,partition,optimizer,criterion):\n",
    "    trainloader = torch.utils.data.DataLoader(partition['train'],\n",
    "                                             batch_size=2048,\n",
    "                                             shuffle=True)\n",
    "    net.train()\n",
    "    correct = 0\n",
    "    total =0\n",
    "    train_loss = 0.0\n",
    "    for i, data in enumerate(tqdm(trainloader, 0)):\n",
    "        time.sleep(0.0000001)\n",
    "        optimizer.zero_grad()\n",
    "        inputs, labels = data\n",
    "        inputs = inputs.cuda()\n",
    "        labels = labels.cuda()\n",
    "        outputs = net(inputs)\n",
    "        #break\n",
    "        loss = criterion(outputs, labels)\n",
    "        loss.backward()\n",
    "        optimizer.step()\n",
    "        \n",
    "        train_loss += loss.item()\n",
    "        _, predicted = torch.max(outputs.data, 1)\n",
    "        total += labels.size(0)\n",
    "        correct += (predicted == labels).sum().item()\n",
    "        #if i % 200 == 0:\n",
    "        #    print(correct,train_loss)\n",
    "    train_loss = train_loss / len(trainloader)\n",
    "    train_acc = 100 * correct / total\n",
    "    return net, train_loss, train_acc"
   ]
  },
  {
   "cell_type": "code",
   "execution_count": 14,
   "id": "operational-dodge",
   "metadata": {},
   "outputs": [],
   "source": [
    "def test(net):\n",
    "    testloader = torch.utils.data.DataLoader(partition['test'], \n",
    "                                             batch_size=2048, \n",
    "                                             shuffle=False, num_workers=2)\n",
    "    net.eval()\n",
    "    \n",
    "    correct = 0\n",
    "    total = 0\n",
    "    with torch.no_grad():\n",
    "        for data in tqdm(testloader):\n",
    "            time.sleep(0.0000001)\n",
    "            images, labels = data\n",
    "            images = images.cuda()\n",
    "            labels = labels.cuda()\n",
    "\n",
    "            outputs = net(images)\n",
    "            _, predicted = torch.max(outputs.data, 1)\n",
    "            total += labels.size(0)\n",
    "            correct += (predicted == labels).sum().item()\n",
    "\n",
    "        test_acc = 100 * correct / total\n",
    "    return test_acc"
   ]
  },
  {
   "cell_type": "code",
   "execution_count": 15,
   "id": "differential-contractor",
   "metadata": {},
   "outputs": [],
   "source": [
    "def validate(net, partition, criterion):\n",
    "    valloader = torch.utils.data.DataLoader(partition['val'], \n",
    "                                            batch_size=2048, \n",
    "                                            shuffle=False, num_workers=2)\n",
    "    net.eval()\n",
    "\n",
    "    correct = 0\n",
    "    total = 0\n",
    "    val_loss = 0 \n",
    "    with torch.no_grad():\n",
    "        for data in tqdm(valloader):\n",
    "            time.sleep(0.0000001)\n",
    "            images, labels = data\n",
    "            images = images.cuda()\n",
    "            labels = labels.cuda()\n",
    "            outputs = net(images)\n",
    "\n",
    "            loss = criterion(outputs, labels)\n",
    "            \n",
    "            val_loss += loss.item()\n",
    "            _, predicted = torch.max(outputs.data, 1)\n",
    "            total += labels.size(0)\n",
    "            correct += (predicted == labels).sum().item()\n",
    "\n",
    "        val_loss = val_loss / len(valloader)\n",
    "        val_acc = 100 * correct / total\n",
    "    return val_loss, val_acc"
   ]
  },
  {
   "cell_type": "code",
   "execution_count": 16,
   "id": "macro-tenant",
   "metadata": {},
   "outputs": [],
   "source": [
    "from tqdm import tqdm, tqdm_notebook\n",
    "from tqdm import trange\n",
    "import time"
   ]
  },
  {
   "cell_type": "code",
   "execution_count": 17,
   "id": "exclusive-prerequisite",
   "metadata": {},
   "outputs": [
    {
     "name": "stderr",
     "output_type": "stream",
     "text": [
      "100%|██████████| 13/13 [00:06<00:00,  2.00it/s]\n",
      "100%|██████████| 3/3 [00:00<00:00,  3.45it/s]\n",
      "  0%|          | 0/13 [00:00<?, ?it/s]"
     ]
    },
    {
     "name": "stdout",
     "output_type": "stream",
     "text": [
      "time : 7.37, train_loss : 2.10, train_acc : 23.39,val_acc : 20.48,val_loss : 4.56\n"
     ]
    },
    {
     "name": "stderr",
     "output_type": "stream",
     "text": [
      "100%|██████████| 13/13 [00:06<00:00,  2.03it/s]\n",
      "100%|██████████| 3/3 [00:00<00:00,  4.44it/s]\n",
      "  0%|          | 0/13 [00:00<?, ?it/s]"
     ]
    },
    {
     "name": "stdout",
     "output_type": "stream",
     "text": [
      "time : 7.08, train_loss : 1.80, train_acc : 25.55,val_acc : 26.30,val_loss : 1.80\n"
     ]
    },
    {
     "name": "stderr",
     "output_type": "stream",
     "text": [
      "100%|██████████| 13/13 [00:06<00:00,  2.03it/s]\n",
      "100%|██████████| 3/3 [00:00<00:00,  4.43it/s]\n",
      "  0%|          | 0/13 [00:00<?, ?it/s]"
     ]
    },
    {
     "name": "stdout",
     "output_type": "stream",
     "text": [
      "time : 7.08, train_loss : 1.79, train_acc : 25.93,val_acc : 25.64,val_loss : 1.78\n"
     ]
    },
    {
     "name": "stderr",
     "output_type": "stream",
     "text": [
      "100%|██████████| 13/13 [00:06<00:00,  2.02it/s]\n",
      "100%|██████████| 3/3 [00:00<00:00,  4.39it/s]\n",
      "  0%|          | 0/13 [00:00<?, ?it/s]"
     ]
    },
    {
     "name": "stdout",
     "output_type": "stream",
     "text": [
      "time : 7.12, train_loss : 1.79, train_acc : 25.70,val_acc : 25.32,val_loss : 1.78\n"
     ]
    },
    {
     "name": "stderr",
     "output_type": "stream",
     "text": [
      "100%|██████████| 13/13 [00:06<00:00,  2.02it/s]\n",
      "100%|██████████| 3/3 [00:00<00:00,  4.36it/s]\n",
      "  0%|          | 0/13 [00:00<?, ?it/s]"
     ]
    },
    {
     "name": "stdout",
     "output_type": "stream",
     "text": [
      "time : 7.14, train_loss : 1.78, train_acc : 25.80,val_acc : 25.04,val_loss : 1.79\n"
     ]
    },
    {
     "name": "stderr",
     "output_type": "stream",
     "text": [
      "100%|██████████| 13/13 [00:06<00:00,  2.01it/s]\n",
      "100%|██████████| 3/3 [00:00<00:00,  4.38it/s]\n",
      "  0%|          | 0/13 [00:00<?, ?it/s]"
     ]
    },
    {
     "name": "stdout",
     "output_type": "stream",
     "text": [
      "time : 7.15, train_loss : 1.78, train_acc : 26.13,val_acc : 26.74,val_loss : 1.77\n"
     ]
    },
    {
     "name": "stderr",
     "output_type": "stream",
     "text": [
      "100%|██████████| 13/13 [00:06<00:00,  2.00it/s]\n",
      "100%|██████████| 3/3 [00:00<00:00,  4.47it/s]\n",
      "  0%|          | 0/13 [00:00<?, ?it/s]"
     ]
    },
    {
     "name": "stdout",
     "output_type": "stream",
     "text": [
      "time : 7.17, train_loss : 1.77, train_acc : 26.39,val_acc : 25.88,val_loss : 1.78\n"
     ]
    },
    {
     "name": "stderr",
     "output_type": "stream",
     "text": [
      "100%|██████████| 13/13 [00:06<00:00,  2.00it/s]\n",
      "100%|██████████| 3/3 [00:00<00:00,  4.34it/s]\n",
      "  0%|          | 0/13 [00:00<?, ?it/s]"
     ]
    },
    {
     "name": "stdout",
     "output_type": "stream",
     "text": [
      "time : 7.20, train_loss : 1.76, train_acc : 27.89,val_acc : 24.60,val_loss : 1.85\n"
     ]
    },
    {
     "name": "stderr",
     "output_type": "stream",
     "text": [
      "100%|██████████| 13/13 [00:06<00:00,  1.99it/s]\n",
      "100%|██████████| 3/3 [00:00<00:00,  4.31it/s]\n",
      "  0%|          | 0/13 [00:00<?, ?it/s]"
     ]
    },
    {
     "name": "stdout",
     "output_type": "stream",
     "text": [
      "time : 7.23, train_loss : 1.73, train_acc : 29.58,val_acc : 25.04,val_loss : 1.88\n"
     ]
    },
    {
     "name": "stderr",
     "output_type": "stream",
     "text": [
      "100%|██████████| 13/13 [00:06<00:00,  1.99it/s]\n",
      "100%|██████████| 3/3 [00:00<00:00,  4.30it/s]\n",
      "  0%|          | 0/13 [00:00<?, ?it/s]"
     ]
    },
    {
     "name": "stdout",
     "output_type": "stream",
     "text": [
      "time : 7.25, train_loss : 1.67, train_acc : 33.16,val_acc : 24.84,val_loss : 1.86\n"
     ]
    },
    {
     "name": "stderr",
     "output_type": "stream",
     "text": [
      "100%|██████████| 13/13 [00:06<00:00,  1.99it/s]\n",
      "100%|██████████| 3/3 [00:00<00:00,  4.33it/s]\n",
      "  0%|          | 0/13 [00:00<?, ?it/s]"
     ]
    },
    {
     "name": "stdout",
     "output_type": "stream",
     "text": [
      "time : 7.25, train_loss : 1.58, train_acc : 37.76,val_acc : 30.78,val_loss : 1.72\n"
     ]
    },
    {
     "name": "stderr",
     "output_type": "stream",
     "text": [
      "100%|██████████| 13/13 [00:06<00:00,  1.98it/s]\n",
      "100%|██████████| 3/3 [00:00<00:00,  4.29it/s]\n",
      "  0%|          | 0/13 [00:00<?, ?it/s]"
     ]
    },
    {
     "name": "stdout",
     "output_type": "stream",
     "text": [
      "time : 7.27, train_loss : 1.52, train_acc : 40.46,val_acc : 35.82,val_loss : 1.61\n"
     ]
    },
    {
     "name": "stderr",
     "output_type": "stream",
     "text": [
      "100%|██████████| 13/13 [00:06<00:00,  1.98it/s]\n",
      "100%|██████████| 3/3 [00:00<00:00,  4.40it/s]\n",
      "  0%|          | 0/13 [00:00<?, ?it/s]"
     ]
    },
    {
     "name": "stdout",
     "output_type": "stream",
     "text": [
      "time : 7.26, train_loss : 1.46, train_acc : 43.13,val_acc : 38.86,val_loss : 1.54\n"
     ]
    },
    {
     "name": "stderr",
     "output_type": "stream",
     "text": [
      "100%|██████████| 13/13 [00:06<00:00,  1.97it/s]\n",
      "100%|██████████| 3/3 [00:00<00:00,  4.34it/s]\n",
      "  0%|          | 0/13 [00:00<?, ?it/s]"
     ]
    },
    {
     "name": "stdout",
     "output_type": "stream",
     "text": [
      "time : 7.30, train_loss : 1.40, train_acc : 45.29,val_acc : 35.84,val_loss : 1.66\n"
     ]
    },
    {
     "name": "stderr",
     "output_type": "stream",
     "text": [
      "100%|██████████| 13/13 [00:06<00:00,  1.97it/s]\n",
      "100%|██████████| 3/3 [00:00<00:00,  4.33it/s]\n",
      "  0%|          | 0/13 [00:00<?, ?it/s]"
     ]
    },
    {
     "name": "stdout",
     "output_type": "stream",
     "text": [
      "time : 7.28, train_loss : 1.37, train_acc : 46.87,val_acc : 43.62,val_loss : 1.49\n"
     ]
    },
    {
     "name": "stderr",
     "output_type": "stream",
     "text": [
      "100%|██████████| 13/13 [00:06<00:00,  1.97it/s]\n",
      "100%|██████████| 3/3 [00:00<00:00,  4.35it/s]\n",
      "  0%|          | 0/13 [00:00<?, ?it/s]"
     ]
    },
    {
     "name": "stdout",
     "output_type": "stream",
     "text": [
      "time : 7.30, train_loss : 1.29, train_acc : 50.06,val_acc : 45.44,val_loss : 1.39\n"
     ]
    },
    {
     "name": "stderr",
     "output_type": "stream",
     "text": [
      "100%|██████████| 13/13 [00:06<00:00,  1.97it/s]\n",
      "100%|██████████| 3/3 [00:00<00:00,  4.31it/s]\n",
      "  0%|          | 0/13 [00:00<?, ?it/s]"
     ]
    },
    {
     "name": "stdout",
     "output_type": "stream",
     "text": [
      "time : 7.31, train_loss : 1.23, train_acc : 52.37,val_acc : 48.56,val_loss : 1.36\n"
     ]
    },
    {
     "name": "stderr",
     "output_type": "stream",
     "text": [
      "100%|██████████| 13/13 [00:06<00:00,  1.97it/s]\n",
      "100%|██████████| 3/3 [00:00<00:00,  4.24it/s]\n",
      "  0%|          | 0/13 [00:00<?, ?it/s]"
     ]
    },
    {
     "name": "stdout",
     "output_type": "stream",
     "text": [
      "time : 7.32, train_loss : 1.17, train_acc : 55.02,val_acc : 50.80,val_loss : 1.27\n"
     ]
    },
    {
     "name": "stderr",
     "output_type": "stream",
     "text": [
      "100%|██████████| 13/13 [00:06<00:00,  1.97it/s]\n",
      "100%|██████████| 3/3 [00:00<00:00,  4.33it/s]\n",
      "  0%|          | 0/13 [00:00<?, ?it/s]"
     ]
    },
    {
     "name": "stdout",
     "output_type": "stream",
     "text": [
      "time : 7.30, train_loss : 1.10, train_acc : 57.65,val_acc : 51.82,val_loss : 1.27\n"
     ]
    },
    {
     "name": "stderr",
     "output_type": "stream",
     "text": [
      "100%|██████████| 13/13 [00:06<00:00,  1.97it/s]\n",
      "100%|██████████| 3/3 [00:00<00:00,  4.28it/s]\n",
      "  0%|          | 0/13 [00:00<?, ?it/s]"
     ]
    },
    {
     "name": "stdout",
     "output_type": "stream",
     "text": [
      "time : 7.33, train_loss : 1.06, train_acc : 59.49,val_acc : 52.90,val_loss : 1.24\n"
     ]
    },
    {
     "name": "stderr",
     "output_type": "stream",
     "text": [
      "100%|██████████| 13/13 [00:06<00:00,  1.97it/s]\n",
      "100%|██████████| 3/3 [00:00<00:00,  4.32it/s]\n",
      "  0%|          | 0/13 [00:00<?, ?it/s]"
     ]
    },
    {
     "name": "stdout",
     "output_type": "stream",
     "text": [
      "time : 7.31, train_loss : 1.00, train_acc : 61.54,val_acc : 48.88,val_loss : 1.37\n"
     ]
    },
    {
     "name": "stderr",
     "output_type": "stream",
     "text": [
      "100%|██████████| 13/13 [00:06<00:00,  1.97it/s]\n",
      "100%|██████████| 3/3 [00:00<00:00,  4.27it/s]\n",
      "  0%|          | 0/13 [00:00<?, ?it/s]"
     ]
    },
    {
     "name": "stdout",
     "output_type": "stream",
     "text": [
      "time : 7.32, train_loss : 0.95, train_acc : 63.99,val_acc : 45.16,val_loss : 1.58\n"
     ]
    },
    {
     "name": "stderr",
     "output_type": "stream",
     "text": [
      "100%|██████████| 13/13 [00:06<00:00,  1.96it/s]\n",
      "100%|██████████| 3/3 [00:00<00:00,  4.33it/s]\n",
      "  0%|          | 0/13 [00:00<?, ?it/s]"
     ]
    },
    {
     "name": "stdout",
     "output_type": "stream",
     "text": [
      "time : 7.33, train_loss : 0.88, train_acc : 66.37,val_acc : 56.70,val_loss : 1.19\n"
     ]
    },
    {
     "name": "stderr",
     "output_type": "stream",
     "text": [
      "100%|██████████| 13/13 [00:06<00:00,  1.96it/s]\n",
      "100%|██████████| 3/3 [00:00<00:00,  4.39it/s]\n",
      "  0%|          | 0/13 [00:00<?, ?it/s]"
     ]
    },
    {
     "name": "stdout",
     "output_type": "stream",
     "text": [
      "time : 7.31, train_loss : 0.82, train_acc : 69.31,val_acc : 50.42,val_loss : 1.40\n"
     ]
    },
    {
     "name": "stderr",
     "output_type": "stream",
     "text": [
      "100%|██████████| 13/13 [00:06<00:00,  1.96it/s]\n",
      "100%|██████████| 3/3 [00:00<00:00,  4.24it/s]\n",
      "  0%|          | 0/13 [00:00<?, ?it/s]"
     ]
    },
    {
     "name": "stdout",
     "output_type": "stream",
     "text": [
      "time : 7.34, train_loss : 0.75, train_acc : 71.97,val_acc : 53.52,val_loss : 1.38\n"
     ]
    },
    {
     "name": "stderr",
     "output_type": "stream",
     "text": [
      "100%|██████████| 13/13 [00:06<00:00,  1.96it/s]\n",
      "100%|██████████| 3/3 [00:00<00:00,  4.37it/s]\n",
      "  0%|          | 0/13 [00:00<?, ?it/s]"
     ]
    },
    {
     "name": "stdout",
     "output_type": "stream",
     "text": [
      "time : 7.33, train_loss : 0.70, train_acc : 73.67,val_acc : 47.20,val_loss : 1.68\n"
     ]
    },
    {
     "name": "stderr",
     "output_type": "stream",
     "text": [
      "100%|██████████| 13/13 [00:06<00:00,  1.96it/s]\n",
      "100%|██████████| 3/3 [00:00<00:00,  4.28it/s]\n",
      "  0%|          | 0/13 [00:00<?, ?it/s]"
     ]
    },
    {
     "name": "stdout",
     "output_type": "stream",
     "text": [
      "time : 7.35, train_loss : 0.62, train_acc : 76.61,val_acc : 54.34,val_loss : 1.44\n"
     ]
    },
    {
     "name": "stderr",
     "output_type": "stream",
     "text": [
      "100%|██████████| 13/13 [00:06<00:00,  1.95it/s]\n",
      "100%|██████████| 3/3 [00:00<00:00,  4.28it/s]\n",
      "  0%|          | 0/13 [00:00<?, ?it/s]"
     ]
    },
    {
     "name": "stdout",
     "output_type": "stream",
     "text": [
      "time : 7.36, train_loss : 0.55, train_acc : 79.81,val_acc : 37.50,val_loss : 2.57\n"
     ]
    },
    {
     "name": "stderr",
     "output_type": "stream",
     "text": [
      "100%|██████████| 13/13 [00:06<00:00,  1.96it/s]\n",
      "100%|██████████| 3/3 [00:00<00:00,  4.27it/s]\n",
      "  0%|          | 0/13 [00:00<?, ?it/s]"
     ]
    },
    {
     "name": "stdout",
     "output_type": "stream",
     "text": [
      "time : 7.35, train_loss : 0.49, train_acc : 82.22,val_acc : 55.22,val_loss : 1.55\n"
     ]
    },
    {
     "name": "stderr",
     "output_type": "stream",
     "text": [
      "100%|██████████| 13/13 [00:06<00:00,  1.95it/s]\n",
      "100%|██████████| 3/3 [00:00<00:00,  4.22it/s]\n",
      "  0%|          | 0/13 [00:00<?, ?it/s]"
     ]
    },
    {
     "name": "stdout",
     "output_type": "stream",
     "text": [
      "time : 7.37, train_loss : 0.41, train_acc : 84.86,val_acc : 49.96,val_loss : 1.91\n"
     ]
    },
    {
     "name": "stderr",
     "output_type": "stream",
     "text": [
      "100%|██████████| 13/13 [00:06<00:00,  1.95it/s]\n",
      "100%|██████████| 3/3 [00:00<00:00,  4.24it/s]\n",
      "  0%|          | 0/13 [00:00<?, ?it/s]"
     ]
    },
    {
     "name": "stdout",
     "output_type": "stream",
     "text": [
      "time : 7.37, train_loss : 0.31, train_acc : 88.62,val_acc : 56.64,val_loss : 1.73\n"
     ]
    },
    {
     "name": "stderr",
     "output_type": "stream",
     "text": [
      "100%|██████████| 13/13 [00:06<00:00,  1.95it/s]\n",
      "100%|██████████| 3/3 [00:00<00:00,  4.29it/s]\n",
      "  0%|          | 0/13 [00:00<?, ?it/s]"
     ]
    },
    {
     "name": "stdout",
     "output_type": "stream",
     "text": [
      "time : 7.37, train_loss : 0.27, train_acc : 90.22,val_acc : 56.32,val_loss : 1.79\n"
     ]
    },
    {
     "name": "stderr",
     "output_type": "stream",
     "text": [
      "100%|██████████| 13/13 [00:06<00:00,  1.95it/s]\n",
      "100%|██████████| 3/3 [00:00<00:00,  4.37it/s]\n",
      "  0%|          | 0/13 [00:00<?, ?it/s]"
     ]
    },
    {
     "name": "stdout",
     "output_type": "stream",
     "text": [
      "time : 7.34, train_loss : 0.24, train_acc : 91.36,val_acc : 55.18,val_loss : 2.01\n"
     ]
    },
    {
     "name": "stderr",
     "output_type": "stream",
     "text": [
      "100%|██████████| 13/13 [00:06<00:00,  1.96it/s]\n",
      "100%|██████████| 3/3 [00:00<00:00,  4.29it/s]\n",
      "  0%|          | 0/13 [00:00<?, ?it/s]"
     ]
    },
    {
     "name": "stdout",
     "output_type": "stream",
     "text": [
      "time : 7.35, train_loss : 0.20, train_acc : 92.72,val_acc : 58.60,val_loss : 1.93\n"
     ]
    },
    {
     "name": "stderr",
     "output_type": "stream",
     "text": [
      "100%|██████████| 13/13 [00:06<00:00,  1.95it/s]\n",
      "100%|██████████| 3/3 [00:00<00:00,  4.30it/s]\n",
      "  0%|          | 0/13 [00:00<?, ?it/s]"
     ]
    },
    {
     "name": "stdout",
     "output_type": "stream",
     "text": [
      "time : 7.36, train_loss : 0.14, train_acc : 94.97,val_acc : 58.00,val_loss : 1.96\n"
     ]
    },
    {
     "name": "stderr",
     "output_type": "stream",
     "text": [
      "100%|██████████| 13/13 [00:06<00:00,  1.95it/s]\n",
      "100%|██████████| 3/3 [00:00<00:00,  4.30it/s]\n",
      "  0%|          | 0/13 [00:00<?, ?it/s]"
     ]
    },
    {
     "name": "stdout",
     "output_type": "stream",
     "text": [
      "time : 7.36, train_loss : 0.13, train_acc : 95.44,val_acc : 59.18,val_loss : 2.13\n"
     ]
    },
    {
     "name": "stderr",
     "output_type": "stream",
     "text": [
      "100%|██████████| 13/13 [00:06<00:00,  1.95it/s]\n",
      "100%|██████████| 3/3 [00:00<00:00,  4.26it/s]\n",
      "  0%|          | 0/13 [00:00<?, ?it/s]"
     ]
    },
    {
     "name": "stdout",
     "output_type": "stream",
     "text": [
      "time : 7.37, train_loss : 0.11, train_acc : 96.20,val_acc : 52.06,val_loss : 2.88\n"
     ]
    },
    {
     "name": "stderr",
     "output_type": "stream",
     "text": [
      "100%|██████████| 13/13 [00:06<00:00,  1.95it/s]\n",
      "100%|██████████| 3/3 [00:00<00:00,  4.31it/s]\n",
      "  0%|          | 0/13 [00:00<?, ?it/s]"
     ]
    },
    {
     "name": "stdout",
     "output_type": "stream",
     "text": [
      "time : 7.35, train_loss : 0.08, train_acc : 97.13,val_acc : 57.08,val_loss : 2.46\n"
     ]
    },
    {
     "name": "stderr",
     "output_type": "stream",
     "text": [
      "100%|██████████| 13/13 [00:06<00:00,  1.96it/s]\n",
      "100%|██████████| 3/3 [00:00<00:00,  4.41it/s]\n",
      "  0%|          | 0/13 [00:00<?, ?it/s]"
     ]
    },
    {
     "name": "stdout",
     "output_type": "stream",
     "text": [
      "time : 7.32, train_loss : 0.07, train_acc : 97.94,val_acc : 59.12,val_loss : 2.37\n"
     ]
    },
    {
     "name": "stderr",
     "output_type": "stream",
     "text": [
      "100%|██████████| 13/13 [00:06<00:00,  1.95it/s]\n",
      "100%|██████████| 3/3 [00:00<00:00,  4.28it/s]\n",
      "  0%|          | 0/13 [00:00<?, ?it/s]"
     ]
    },
    {
     "name": "stdout",
     "output_type": "stream",
     "text": [
      "time : 7.36, train_loss : 0.05, train_acc : 98.38,val_acc : 58.20,val_loss : 2.50\n"
     ]
    },
    {
     "name": "stderr",
     "output_type": "stream",
     "text": [
      "100%|██████████| 13/13 [00:06<00:00,  1.95it/s]\n",
      "100%|██████████| 3/3 [00:00<00:00,  4.31it/s]\n",
      "  0%|          | 0/13 [00:00<?, ?it/s]"
     ]
    },
    {
     "name": "stdout",
     "output_type": "stream",
     "text": [
      "time : 7.38, train_loss : 0.05, train_acc : 98.56,val_acc : 58.38,val_loss : 2.65\n"
     ]
    },
    {
     "name": "stderr",
     "output_type": "stream",
     "text": [
      "100%|██████████| 13/13 [00:06<00:00,  1.96it/s]\n",
      "100%|██████████| 3/3 [00:00<00:00,  4.34it/s]\n",
      "  0%|          | 0/13 [00:00<?, ?it/s]"
     ]
    },
    {
     "name": "stdout",
     "output_type": "stream",
     "text": [
      "time : 7.34, train_loss : 0.04, train_acc : 98.73,val_acc : 57.54,val_loss : 2.79\n"
     ]
    },
    {
     "name": "stderr",
     "output_type": "stream",
     "text": [
      "100%|██████████| 13/13 [00:06<00:00,  1.95it/s]\n",
      "100%|██████████| 3/3 [00:00<00:00,  4.39it/s]\n",
      "  0%|          | 0/13 [00:00<?, ?it/s]"
     ]
    },
    {
     "name": "stdout",
     "output_type": "stream",
     "text": [
      "time : 7.35, train_loss : 0.04, train_acc : 98.77,val_acc : 55.90,val_loss : 2.97\n"
     ]
    },
    {
     "name": "stderr",
     "output_type": "stream",
     "text": [
      "100%|██████████| 13/13 [00:06<00:00,  1.95it/s]\n",
      "100%|██████████| 3/3 [00:00<00:00,  4.30it/s]\n",
      "  0%|          | 0/13 [00:00<?, ?it/s]"
     ]
    },
    {
     "name": "stdout",
     "output_type": "stream",
     "text": [
      "time : 7.38, train_loss : 0.04, train_acc : 98.91,val_acc : 58.40,val_loss : 2.60\n"
     ]
    },
    {
     "name": "stderr",
     "output_type": "stream",
     "text": [
      "100%|██████████| 13/13 [00:06<00:00,  1.95it/s]\n",
      "100%|██████████| 3/3 [00:00<00:00,  4.31it/s]\n",
      "  0%|          | 0/13 [00:00<?, ?it/s]"
     ]
    },
    {
     "name": "stdout",
     "output_type": "stream",
     "text": [
      "time : 7.37, train_loss : 0.03, train_acc : 99.02,val_acc : 58.74,val_loss : 2.66\n"
     ]
    },
    {
     "name": "stderr",
     "output_type": "stream",
     "text": [
      "100%|██████████| 13/13 [00:06<00:00,  1.95it/s]\n",
      "100%|██████████| 3/3 [00:00<00:00,  4.31it/s]\n",
      "  0%|          | 0/13 [00:00<?, ?it/s]"
     ]
    },
    {
     "name": "stdout",
     "output_type": "stream",
     "text": [
      "time : 7.36, train_loss : 0.03, train_acc : 99.12,val_acc : 60.78,val_loss : 2.61\n"
     ]
    },
    {
     "name": "stderr",
     "output_type": "stream",
     "text": [
      "100%|██████████| 13/13 [00:06<00:00,  1.96it/s]\n",
      "100%|██████████| 3/3 [00:00<00:00,  4.33it/s]\n",
      "  0%|          | 0/13 [00:00<?, ?it/s]"
     ]
    },
    {
     "name": "stdout",
     "output_type": "stream",
     "text": [
      "time : 7.34, train_loss : 0.03, train_acc : 99.11,val_acc : 59.62,val_loss : 2.66\n"
     ]
    },
    {
     "name": "stderr",
     "output_type": "stream",
     "text": [
      "100%|██████████| 13/13 [00:06<00:00,  1.96it/s]\n",
      "100%|██████████| 3/3 [00:00<00:00,  4.38it/s]\n",
      "  0%|          | 0/13 [00:00<?, ?it/s]"
     ]
    },
    {
     "name": "stdout",
     "output_type": "stream",
     "text": [
      "time : 7.34, train_loss : 0.02, train_acc : 99.38,val_acc : 58.98,val_loss : 2.92\n"
     ]
    },
    {
     "name": "stderr",
     "output_type": "stream",
     "text": [
      "100%|██████████| 13/13 [00:06<00:00,  1.96it/s]\n",
      "100%|██████████| 3/3 [00:00<00:00,  4.40it/s]\n",
      "  0%|          | 0/13 [00:00<?, ?it/s]"
     ]
    },
    {
     "name": "stdout",
     "output_type": "stream",
     "text": [
      "time : 7.34, train_loss : 0.02, train_acc : 99.42,val_acc : 60.88,val_loss : 2.50\n"
     ]
    },
    {
     "name": "stderr",
     "output_type": "stream",
     "text": [
      "100%|██████████| 13/13 [00:06<00:00,  1.95it/s]\n",
      "100%|██████████| 3/3 [00:00<00:00,  4.27it/s]\n",
      "  0%|          | 0/13 [00:00<?, ?it/s]"
     ]
    },
    {
     "name": "stdout",
     "output_type": "stream",
     "text": [
      "time : 7.36, train_loss : 0.02, train_acc : 99.52,val_acc : 57.74,val_loss : 2.99\n"
     ]
    },
    {
     "name": "stderr",
     "output_type": "stream",
     "text": [
      "100%|██████████| 13/13 [00:06<00:00,  1.95it/s]\n",
      "100%|██████████| 3/3 [00:00<00:00,  4.30it/s]\n",
      "  0%|          | 0/13 [00:00<?, ?it/s]"
     ]
    },
    {
     "name": "stdout",
     "output_type": "stream",
     "text": [
      "time : 7.36, train_loss : 0.02, train_acc : 99.52,val_acc : 59.70,val_loss : 2.66\n"
     ]
    },
    {
     "name": "stderr",
     "output_type": "stream",
     "text": [
      "100%|██████████| 13/13 [00:06<00:00,  1.95it/s]\n",
      "100%|██████████| 3/3 [00:00<00:00,  4.25it/s]\n",
      "  0%|          | 0/13 [00:00<?, ?it/s]"
     ]
    },
    {
     "name": "stdout",
     "output_type": "stream",
     "text": [
      "time : 7.37, train_loss : 0.02, train_acc : 99.56,val_acc : 59.00,val_loss : 2.84\n"
     ]
    },
    {
     "name": "stderr",
     "output_type": "stream",
     "text": [
      "100%|██████████| 13/13 [00:06<00:00,  1.95it/s]\n",
      "100%|██████████| 3/3 [00:00<00:00,  4.29it/s]\n",
      "  0%|          | 0/13 [00:00<?, ?it/s]"
     ]
    },
    {
     "name": "stdout",
     "output_type": "stream",
     "text": [
      "time : 7.38, train_loss : 0.01, train_acc : 99.61,val_acc : 60.86,val_loss : 2.77\n"
     ]
    },
    {
     "name": "stderr",
     "output_type": "stream",
     "text": [
      "100%|██████████| 13/13 [00:06<00:00,  1.95it/s]\n",
      "100%|██████████| 3/3 [00:00<00:00,  4.35it/s]\n",
      "  0%|          | 0/13 [00:00<?, ?it/s]"
     ]
    },
    {
     "name": "stdout",
     "output_type": "stream",
     "text": [
      "time : 7.35, train_loss : 0.01, train_acc : 99.67,val_acc : 60.58,val_loss : 2.75\n"
     ]
    },
    {
     "name": "stderr",
     "output_type": "stream",
     "text": [
      "100%|██████████| 13/13 [00:06<00:00,  1.96it/s]\n",
      "100%|██████████| 3/3 [00:00<00:00,  4.39it/s]\n",
      "  0%|          | 0/13 [00:00<?, ?it/s]"
     ]
    },
    {
     "name": "stdout",
     "output_type": "stream",
     "text": [
      "time : 7.34, train_loss : 0.01, train_acc : 99.70,val_acc : 60.08,val_loss : 2.72\n"
     ]
    },
    {
     "name": "stderr",
     "output_type": "stream",
     "text": [
      "100%|██████████| 13/13 [00:06<00:00,  1.95it/s]\n",
      "100%|██████████| 3/3 [00:00<00:00,  4.22it/s]\n",
      "  0%|          | 0/13 [00:00<?, ?it/s]"
     ]
    },
    {
     "name": "stdout",
     "output_type": "stream",
     "text": [
      "time : 7.40, train_loss : 0.01, train_acc : 99.73,val_acc : 60.42,val_loss : 2.76\n"
     ]
    },
    {
     "name": "stderr",
     "output_type": "stream",
     "text": [
      "100%|██████████| 13/13 [00:06<00:00,  1.95it/s]\n",
      "100%|██████████| 3/3 [00:00<00:00,  4.31it/s]\n",
      "  0%|          | 0/13 [00:00<?, ?it/s]"
     ]
    },
    {
     "name": "stdout",
     "output_type": "stream",
     "text": [
      "time : 7.36, train_loss : 0.01, train_acc : 99.76,val_acc : 60.02,val_loss : 2.76\n"
     ]
    },
    {
     "name": "stderr",
     "output_type": "stream",
     "text": [
      "100%|██████████| 13/13 [00:06<00:00,  1.94it/s]\n",
      "100%|██████████| 3/3 [00:00<00:00,  4.25it/s]\n",
      "  0%|          | 0/13 [00:00<?, ?it/s]"
     ]
    },
    {
     "name": "stdout",
     "output_type": "stream",
     "text": [
      "time : 7.40, train_loss : 0.01, train_acc : 99.79,val_acc : 59.94,val_loss : 2.86\n"
     ]
    },
    {
     "name": "stderr",
     "output_type": "stream",
     "text": [
      "100%|██████████| 13/13 [00:06<00:00,  1.95it/s]\n",
      "100%|██████████| 3/3 [00:00<00:00,  4.32it/s]\n",
      "  0%|          | 0/13 [00:00<?, ?it/s]"
     ]
    },
    {
     "name": "stdout",
     "output_type": "stream",
     "text": [
      "time : 7.37, train_loss : 0.01, train_acc : 99.79,val_acc : 60.88,val_loss : 2.61\n"
     ]
    },
    {
     "name": "stderr",
     "output_type": "stream",
     "text": [
      "100%|██████████| 13/13 [00:06<00:00,  1.95it/s]\n",
      "100%|██████████| 3/3 [00:00<00:00,  4.26it/s]\n",
      "  0%|          | 0/13 [00:00<?, ?it/s]"
     ]
    },
    {
     "name": "stdout",
     "output_type": "stream",
     "text": [
      "time : 7.39, train_loss : 0.01, train_acc : 99.80,val_acc : 61.54,val_loss : 2.69\n"
     ]
    },
    {
     "name": "stderr",
     "output_type": "stream",
     "text": [
      "100%|██████████| 13/13 [00:06<00:00,  1.94it/s]\n",
      "100%|██████████| 3/3 [00:00<00:00,  4.22it/s]\n",
      "  0%|          | 0/13 [00:00<?, ?it/s]"
     ]
    },
    {
     "name": "stdout",
     "output_type": "stream",
     "text": [
      "time : 7.41, train_loss : 0.01, train_acc : 99.80,val_acc : 61.60,val_loss : 2.58\n"
     ]
    },
    {
     "name": "stderr",
     "output_type": "stream",
     "text": [
      "100%|██████████| 13/13 [00:06<00:00,  1.95it/s]\n",
      "100%|██████████| 3/3 [00:00<00:00,  4.33it/s]\n",
      "  0%|          | 0/13 [00:00<?, ?it/s]"
     ]
    },
    {
     "name": "stdout",
     "output_type": "stream",
     "text": [
      "time : 7.38, train_loss : 0.01, train_acc : 99.80,val_acc : 60.50,val_loss : 2.68\n"
     ]
    },
    {
     "name": "stderr",
     "output_type": "stream",
     "text": [
      "100%|██████████| 13/13 [00:06<00:00,  1.95it/s]\n",
      "100%|██████████| 3/3 [00:00<00:00,  4.27it/s]\n",
      "  0%|          | 0/13 [00:00<?, ?it/s]"
     ]
    },
    {
     "name": "stdout",
     "output_type": "stream",
     "text": [
      "time : 7.38, train_loss : 0.01, train_acc : 99.79,val_acc : 61.52,val_loss : 2.59\n"
     ]
    },
    {
     "name": "stderr",
     "output_type": "stream",
     "text": [
      "100%|██████████| 13/13 [00:06<00:00,  1.95it/s]\n",
      "100%|██████████| 3/3 [00:00<00:00,  4.30it/s]\n",
      "  0%|          | 0/13 [00:00<?, ?it/s]"
     ]
    },
    {
     "name": "stdout",
     "output_type": "stream",
     "text": [
      "time : 7.36, train_loss : 0.00, train_acc : 99.80,val_acc : 61.96,val_loss : 2.60\n"
     ]
    },
    {
     "name": "stderr",
     "output_type": "stream",
     "text": [
      "100%|██████████| 13/13 [00:06<00:00,  1.95it/s]\n",
      "100%|██████████| 3/3 [00:00<00:00,  4.25it/s]\n",
      "  0%|          | 0/13 [00:00<?, ?it/s]"
     ]
    },
    {
     "name": "stdout",
     "output_type": "stream",
     "text": [
      "time : 7.37, train_loss : 0.00, train_acc : 99.81,val_acc : 61.90,val_loss : 2.55\n"
     ]
    },
    {
     "name": "stderr",
     "output_type": "stream",
     "text": [
      "100%|██████████| 13/13 [00:06<00:00,  1.94it/s]\n",
      "100%|██████████| 3/3 [00:00<00:00,  4.25it/s]\n",
      "  0%|          | 0/13 [00:00<?, ?it/s]"
     ]
    },
    {
     "name": "stdout",
     "output_type": "stream",
     "text": [
      "time : 7.40, train_loss : 0.00, train_acc : 99.81,val_acc : 60.86,val_loss : 2.60\n"
     ]
    },
    {
     "name": "stderr",
     "output_type": "stream",
     "text": [
      "100%|██████████| 13/13 [00:06<00:00,  1.95it/s]\n",
      "100%|██████████| 3/3 [00:00<00:00,  4.23it/s]\n",
      "  0%|          | 0/13 [00:00<?, ?it/s]"
     ]
    },
    {
     "name": "stdout",
     "output_type": "stream",
     "text": [
      "time : 7.39, train_loss : 0.00, train_acc : 99.81,val_acc : 61.66,val_loss : 2.57\n"
     ]
    },
    {
     "name": "stderr",
     "output_type": "stream",
     "text": [
      "100%|██████████| 13/13 [00:06<00:00,  1.95it/s]\n",
      "100%|██████████| 3/3 [00:00<00:00,  4.28it/s]\n",
      "  0%|          | 0/13 [00:00<?, ?it/s]"
     ]
    },
    {
     "name": "stdout",
     "output_type": "stream",
     "text": [
      "time : 7.37, train_loss : 0.00, train_acc : 99.81,val_acc : 61.88,val_loss : 2.57\n"
     ]
    },
    {
     "name": "stderr",
     "output_type": "stream",
     "text": [
      "100%|██████████| 13/13 [00:06<00:00,  1.95it/s]\n",
      "100%|██████████| 3/3 [00:00<00:00,  4.26it/s]\n",
      "  0%|          | 0/13 [00:00<?, ?it/s]"
     ]
    },
    {
     "name": "stdout",
     "output_type": "stream",
     "text": [
      "time : 7.39, train_loss : 0.00, train_acc : 99.81,val_acc : 61.90,val_loss : 2.53\n"
     ]
    },
    {
     "name": "stderr",
     "output_type": "stream",
     "text": [
      "100%|██████████| 13/13 [00:06<00:00,  1.95it/s]\n",
      "100%|██████████| 3/3 [00:00<00:00,  4.29it/s]\n",
      "  0%|          | 0/13 [00:00<?, ?it/s]"
     ]
    },
    {
     "name": "stdout",
     "output_type": "stream",
     "text": [
      "time : 7.39, train_loss : 0.00, train_acc : 99.81,val_acc : 61.38,val_loss : 2.58\n"
     ]
    },
    {
     "name": "stderr",
     "output_type": "stream",
     "text": [
      "100%|██████████| 13/13 [00:06<00:00,  1.95it/s]\n",
      "100%|██████████| 3/3 [00:00<00:00,  4.34it/s]\n",
      "  0%|          | 0/13 [00:00<?, ?it/s]"
     ]
    },
    {
     "name": "stdout",
     "output_type": "stream",
     "text": [
      "time : 7.36, train_loss : 0.00, train_acc : 99.80,val_acc : 61.76,val_loss : 2.56\n"
     ]
    },
    {
     "name": "stderr",
     "output_type": "stream",
     "text": [
      "100%|██████████| 13/13 [00:06<00:00,  1.95it/s]\n",
      "100%|██████████| 3/3 [00:00<00:00,  4.26it/s]\n",
      "  0%|          | 0/13 [00:00<?, ?it/s]"
     ]
    },
    {
     "name": "stdout",
     "output_type": "stream",
     "text": [
      "time : 7.37, train_loss : 0.00, train_acc : 99.82,val_acc : 61.58,val_loss : 2.52\n"
     ]
    },
    {
     "name": "stderr",
     "output_type": "stream",
     "text": [
      "100%|██████████| 13/13 [00:06<00:00,  1.95it/s]\n",
      "100%|██████████| 3/3 [00:00<00:00,  4.24it/s]\n",
      "  0%|          | 0/13 [00:00<?, ?it/s]"
     ]
    },
    {
     "name": "stdout",
     "output_type": "stream",
     "text": [
      "time : 7.40, train_loss : 0.00, train_acc : 99.79,val_acc : 61.08,val_loss : 2.64\n"
     ]
    },
    {
     "name": "stderr",
     "output_type": "stream",
     "text": [
      "100%|██████████| 13/13 [00:06<00:00,  1.95it/s]\n",
      "100%|██████████| 3/3 [00:00<00:00,  4.32it/s]\n",
      "  0%|          | 0/13 [00:00<?, ?it/s]"
     ]
    },
    {
     "name": "stdout",
     "output_type": "stream",
     "text": [
      "time : 7.37, train_loss : 0.00, train_acc : 99.81,val_acc : 62.30,val_loss : 2.48\n"
     ]
    },
    {
     "name": "stderr",
     "output_type": "stream",
     "text": [
      "100%|██████████| 13/13 [00:06<00:00,  1.95it/s]\n",
      "100%|██████████| 3/3 [00:00<00:00,  4.36it/s]\n",
      "  0%|          | 0/13 [00:00<?, ?it/s]"
     ]
    },
    {
     "name": "stdout",
     "output_type": "stream",
     "text": [
      "time : 7.37, train_loss : 0.00, train_acc : 99.81,val_acc : 61.92,val_loss : 2.56\n"
     ]
    },
    {
     "name": "stderr",
     "output_type": "stream",
     "text": [
      "100%|██████████| 13/13 [00:06<00:00,  1.95it/s]\n",
      "100%|██████████| 3/3 [00:00<00:00,  4.28it/s]\n",
      "  0%|          | 0/13 [00:00<?, ?it/s]"
     ]
    },
    {
     "name": "stdout",
     "output_type": "stream",
     "text": [
      "time : 7.39, train_loss : 0.00, train_acc : 99.81,val_acc : 61.54,val_loss : 2.52\n"
     ]
    },
    {
     "name": "stderr",
     "output_type": "stream",
     "text": [
      "100%|██████████| 13/13 [00:06<00:00,  1.95it/s]\n",
      "100%|██████████| 3/3 [00:00<00:00,  4.41it/s]\n",
      "  0%|          | 0/13 [00:00<?, ?it/s]"
     ]
    },
    {
     "name": "stdout",
     "output_type": "stream",
     "text": [
      "time : 7.35, train_loss : 0.00, train_acc : 99.81,val_acc : 61.36,val_loss : 2.51\n"
     ]
    },
    {
     "name": "stderr",
     "output_type": "stream",
     "text": [
      "100%|██████████| 13/13 [00:06<00:00,  1.94it/s]\n",
      "100%|██████████| 3/3 [00:00<00:00,  4.28it/s]\n",
      "  0%|          | 0/13 [00:00<?, ?it/s]"
     ]
    },
    {
     "name": "stdout",
     "output_type": "stream",
     "text": [
      "time : 7.41, train_loss : 0.00, train_acc : 99.82,val_acc : 61.54,val_loss : 2.55\n"
     ]
    },
    {
     "name": "stderr",
     "output_type": "stream",
     "text": [
      "100%|██████████| 13/13 [00:06<00:00,  1.95it/s]\n",
      "100%|██████████| 3/3 [00:00<00:00,  4.36it/s]\n",
      "  0%|          | 0/13 [00:00<?, ?it/s]"
     ]
    },
    {
     "name": "stdout",
     "output_type": "stream",
     "text": [
      "time : 7.38, train_loss : 0.00, train_acc : 99.78,val_acc : 61.80,val_loss : 2.56\n"
     ]
    },
    {
     "name": "stderr",
     "output_type": "stream",
     "text": [
      "100%|██████████| 13/13 [00:06<00:00,  1.95it/s]\n",
      "100%|██████████| 3/3 [00:00<00:00,  4.27it/s]\n",
      "  0%|          | 0/13 [00:00<?, ?it/s]"
     ]
    },
    {
     "name": "stdout",
     "output_type": "stream",
     "text": [
      "time : 7.37, train_loss : 0.00, train_acc : 99.82,val_acc : 62.10,val_loss : 2.53\n"
     ]
    },
    {
     "name": "stderr",
     "output_type": "stream",
     "text": [
      "100%|██████████| 13/13 [00:06<00:00,  1.95it/s]\n",
      "100%|██████████| 3/3 [00:00<00:00,  4.34it/s]\n",
      "  0%|          | 0/13 [00:00<?, ?it/s]"
     ]
    },
    {
     "name": "stdout",
     "output_type": "stream",
     "text": [
      "time : 7.37, train_loss : 0.00, train_acc : 99.81,val_acc : 61.70,val_loss : 2.50\n"
     ]
    },
    {
     "name": "stderr",
     "output_type": "stream",
     "text": [
      "100%|██████████| 13/13 [00:06<00:00,  1.95it/s]\n",
      "100%|██████████| 3/3 [00:00<00:00,  4.40it/s]\n",
      "  0%|          | 0/13 [00:00<?, ?it/s]"
     ]
    },
    {
     "name": "stdout",
     "output_type": "stream",
     "text": [
      "time : 7.35, train_loss : 0.00, train_acc : 99.80,val_acc : 61.72,val_loss : 2.56\n"
     ]
    },
    {
     "name": "stderr",
     "output_type": "stream",
     "text": [
      "100%|██████████| 13/13 [00:06<00:00,  1.94it/s]\n",
      "100%|██████████| 3/3 [00:00<00:00,  4.36it/s]\n",
      "  0%|          | 0/13 [00:00<?, ?it/s]"
     ]
    },
    {
     "name": "stdout",
     "output_type": "stream",
     "text": [
      "time : 7.38, train_loss : 0.00, train_acc : 99.81,val_acc : 61.72,val_loss : 2.50\n"
     ]
    },
    {
     "name": "stderr",
     "output_type": "stream",
     "text": [
      "100%|██████████| 13/13 [00:06<00:00,  1.95it/s]\n",
      "100%|██████████| 3/3 [00:00<00:00,  4.30it/s]\n",
      "  0%|          | 0/13 [00:00<?, ?it/s]"
     ]
    },
    {
     "name": "stdout",
     "output_type": "stream",
     "text": [
      "time : 7.37, train_loss : 0.00, train_acc : 99.83,val_acc : 61.68,val_loss : 2.55\n"
     ]
    },
    {
     "name": "stderr",
     "output_type": "stream",
     "text": [
      "100%|██████████| 13/13 [00:06<00:00,  1.95it/s]\n",
      "100%|██████████| 3/3 [00:00<00:00,  4.28it/s]\n",
      "  0%|          | 0/13 [00:00<?, ?it/s]"
     ]
    },
    {
     "name": "stdout",
     "output_type": "stream",
     "text": [
      "time : 7.37, train_loss : 0.00, train_acc : 99.80,val_acc : 61.48,val_loss : 2.56\n"
     ]
    },
    {
     "name": "stderr",
     "output_type": "stream",
     "text": [
      "100%|██████████| 13/13 [00:06<00:00,  1.95it/s]\n",
      "100%|██████████| 3/3 [00:00<00:00,  4.34it/s]\n",
      "  0%|          | 0/13 [00:00<?, ?it/s]"
     ]
    },
    {
     "name": "stdout",
     "output_type": "stream",
     "text": [
      "time : 7.36, train_loss : 0.00, train_acc : 99.83,val_acc : 62.20,val_loss : 2.53\n"
     ]
    },
    {
     "name": "stderr",
     "output_type": "stream",
     "text": [
      "100%|██████████| 13/13 [00:06<00:00,  1.95it/s]\n",
      "100%|██████████| 3/3 [00:00<00:00,  4.23it/s]\n",
      "  0%|          | 0/13 [00:00<?, ?it/s]"
     ]
    },
    {
     "name": "stdout",
     "output_type": "stream",
     "text": [
      "time : 7.40, train_loss : 0.00, train_acc : 99.83,val_acc : 61.96,val_loss : 2.56\n"
     ]
    },
    {
     "name": "stderr",
     "output_type": "stream",
     "text": [
      "100%|██████████| 13/13 [00:06<00:00,  1.95it/s]\n",
      "100%|██████████| 3/3 [00:00<00:00,  4.34it/s]\n",
      "  0%|          | 0/13 [00:00<?, ?it/s]"
     ]
    },
    {
     "name": "stdout",
     "output_type": "stream",
     "text": [
      "time : 7.37, train_loss : 0.00, train_acc : 99.80,val_acc : 60.98,val_loss : 2.55\n"
     ]
    },
    {
     "name": "stderr",
     "output_type": "stream",
     "text": [
      "100%|██████████| 13/13 [00:06<00:00,  1.95it/s]\n",
      "100%|██████████| 3/3 [00:00<00:00,  4.29it/s]\n",
      "  0%|          | 0/13 [00:00<?, ?it/s]"
     ]
    },
    {
     "name": "stdout",
     "output_type": "stream",
     "text": [
      "time : 7.37, train_loss : 0.00, train_acc : 99.80,val_acc : 61.92,val_loss : 2.50\n"
     ]
    },
    {
     "name": "stderr",
     "output_type": "stream",
     "text": [
      "100%|██████████| 13/13 [00:06<00:00,  1.96it/s]\n",
      "100%|██████████| 3/3 [00:00<00:00,  4.34it/s]\n",
      "  0%|          | 0/13 [00:00<?, ?it/s]"
     ]
    },
    {
     "name": "stdout",
     "output_type": "stream",
     "text": [
      "time : 7.35, train_loss : 0.00, train_acc : 99.82,val_acc : 61.64,val_loss : 2.46\n"
     ]
    },
    {
     "name": "stderr",
     "output_type": "stream",
     "text": [
      "100%|██████████| 13/13 [00:06<00:00,  1.95it/s]\n",
      "100%|██████████| 3/3 [00:00<00:00,  4.27it/s]\n",
      "  0%|          | 0/13 [00:00<?, ?it/s]"
     ]
    },
    {
     "name": "stdout",
     "output_type": "stream",
     "text": [
      "time : 7.38, train_loss : 0.00, train_acc : 99.81,val_acc : 61.66,val_loss : 2.54\n"
     ]
    },
    {
     "name": "stderr",
     "output_type": "stream",
     "text": [
      "100%|██████████| 13/13 [00:06<00:00,  1.96it/s]\n",
      "100%|██████████| 3/3 [00:00<00:00,  4.36it/s]\n",
      "  0%|          | 0/13 [00:00<?, ?it/s]"
     ]
    },
    {
     "name": "stdout",
     "output_type": "stream",
     "text": [
      "time : 7.34, train_loss : 0.00, train_acc : 99.80,val_acc : 61.96,val_loss : 2.51\n"
     ]
    },
    {
     "name": "stderr",
     "output_type": "stream",
     "text": [
      "100%|██████████| 13/13 [00:06<00:00,  1.95it/s]\n",
      "100%|██████████| 3/3 [00:00<00:00,  4.27it/s]\n",
      "  0%|          | 0/13 [00:00<?, ?it/s]"
     ]
    },
    {
     "name": "stdout",
     "output_type": "stream",
     "text": [
      "time : 7.37, train_loss : 0.00, train_acc : 99.83,val_acc : 61.72,val_loss : 2.51\n"
     ]
    },
    {
     "name": "stderr",
     "output_type": "stream",
     "text": [
      "100%|██████████| 13/13 [00:06<00:00,  1.95it/s]\n",
      "100%|██████████| 3/3 [00:00<00:00,  4.41it/s]\n",
      "  0%|          | 0/13 [00:00<?, ?it/s]"
     ]
    },
    {
     "name": "stdout",
     "output_type": "stream",
     "text": [
      "time : 7.36, train_loss : 0.00, train_acc : 99.81,val_acc : 60.90,val_loss : 2.61\n"
     ]
    },
    {
     "name": "stderr",
     "output_type": "stream",
     "text": [
      "100%|██████████| 13/13 [00:06<00:00,  1.95it/s]\n",
      "100%|██████████| 3/3 [00:00<00:00,  4.39it/s]\n",
      "  0%|          | 0/13 [00:00<?, ?it/s]"
     ]
    },
    {
     "name": "stdout",
     "output_type": "stream",
     "text": [
      "time : 7.35, train_loss : 0.00, train_acc : 99.81,val_acc : 61.22,val_loss : 2.57\n"
     ]
    },
    {
     "name": "stderr",
     "output_type": "stream",
     "text": [
      "100%|██████████| 13/13 [00:06<00:00,  1.95it/s]\n",
      "100%|██████████| 3/3 [00:00<00:00,  4.24it/s]\n",
      "  0%|          | 0/13 [00:00<?, ?it/s]"
     ]
    },
    {
     "name": "stdout",
     "output_type": "stream",
     "text": [
      "time : 7.39, train_loss : 0.00, train_acc : 99.84,val_acc : 61.66,val_loss : 2.46\n"
     ]
    },
    {
     "name": "stderr",
     "output_type": "stream",
     "text": [
      "100%|██████████| 13/13 [00:06<00:00,  1.95it/s]\n",
      "100%|██████████| 3/3 [00:00<00:00,  4.25it/s]\n",
      "  0%|          | 0/13 [00:00<?, ?it/s]"
     ]
    },
    {
     "name": "stdout",
     "output_type": "stream",
     "text": [
      "time : 7.38, train_loss : 0.00, train_acc : 99.82,val_acc : 60.48,val_loss : 2.68\n"
     ]
    },
    {
     "name": "stderr",
     "output_type": "stream",
     "text": [
      "100%|██████████| 13/13 [00:06<00:00,  1.94it/s]\n",
      "100%|██████████| 3/3 [00:00<00:00,  4.27it/s]\n",
      "  0%|          | 0/13 [00:00<?, ?it/s]"
     ]
    },
    {
     "name": "stdout",
     "output_type": "stream",
     "text": [
      "time : 7.39, train_loss : 0.00, train_acc : 99.83,val_acc : 61.88,val_loss : 2.50\n"
     ]
    },
    {
     "name": "stderr",
     "output_type": "stream",
     "text": [
      "100%|██████████| 13/13 [00:06<00:00,  1.96it/s]\n",
      "100%|██████████| 3/3 [00:00<00:00,  4.31it/s]\n",
      "  0%|          | 0/13 [00:00<?, ?it/s]"
     ]
    },
    {
     "name": "stdout",
     "output_type": "stream",
     "text": [
      "time : 7.34, train_loss : 0.00, train_acc : 99.83,val_acc : 61.12,val_loss : 2.60\n"
     ]
    },
    {
     "name": "stderr",
     "output_type": "stream",
     "text": [
      "100%|██████████| 13/13 [00:06<00:00,  1.95it/s]\n",
      "100%|██████████| 3/3 [00:00<00:00,  4.27it/s]"
     ]
    },
    {
     "name": "stdout",
     "output_type": "stream",
     "text": [
      "time : 7.37, train_loss : 0.00, train_acc : 99.84,val_acc : 61.70,val_loss : 2.60\n"
     ]
    },
    {
     "name": "stderr",
     "output_type": "stream",
     "text": [
      "\n"
     ]
    }
   ],
   "source": [
    "seed = 123\n",
    "np.random.seed(seed)\n",
    "torch.manual_seed(seed)\n",
    "net = VGG('VGG11')\n",
    "net.cuda()\n",
    "criterion=nn.CrossEntropyLoss()\n",
    "optimizer = optim.Adam(net.parameters(), lr=0.0015, weight_decay=0.00001)\n",
    "train_losses=[]\n",
    "val_losses=[]\n",
    "train_accs=[]\n",
    "val_accs=[]\n",
    "for epoch in range(100):\n",
    "    ts=time.time()\n",
    "    net, train_loss,train_acc=train(net, partition, optimizer, criterion)\n",
    "    val_loss, val_acc = validate(net, partition, criterion)\n",
    "    te=time.time()\n",
    "    print('time : {:2.2f}, train_loss : {:2.2f}, train_acc : {:2.2f},val_acc : {:2.2f},val_loss : {:2.2f}'.format(te-ts,train_loss,train_acc,val_acc,val_loss))\n",
    "    train_loss=round(train_loss,2)\n",
    "    val_loss=round(val_loss,2)\n",
    "    train_acc=round(train_acc,2)\n",
    "    val_acc=round(val_acc,2)\n",
    "    train_losses.append(train_loss)\n",
    "    val_losses.append(val_loss)\n",
    "    train_accs.append(train_acc)\n",
    "    val_accs.append(val_acc)"
   ]
  },
  {
   "cell_type": "code",
   "execution_count": 18,
   "id": "increased-software",
   "metadata": {},
   "outputs": [],
   "source": [
    "np.save(\"/home/lab/양창희/Emotion Project/test_list_file/VGG_train_loss.npy\",train_loss)\n",
    "np.save(\"/home/lab/양창희/Emotion Project/test_list_file/VGG_val_loss.npy\",val_loss)\n",
    "np.save(\"/home/lab/양창희/Emotion Project/test_list_file/VGG_train_acc.npy\",train_acc)\n",
    "np.save(\"/home/lab/양창희/Emotion Project/test_list_file/VGG_val_acc.npy\",val_acc)"
   ]
  },
  {
   "cell_type": "code",
   "execution_count": null,
   "id": "mechanical-minute",
   "metadata": {},
   "outputs": [],
   "source": []
  }
 ],
 "metadata": {
  "kernelspec": {
   "display_name": "Python 3",
   "language": "python",
   "name": "python3"
  },
  "language_info": {
   "codemirror_mode": {
    "name": "ipython",
    "version": 3
   },
   "file_extension": ".py",
   "mimetype": "text/x-python",
   "name": "python",
   "nbconvert_exporter": "python",
   "pygments_lexer": "ipython3",
   "version": "3.6.12"
  }
 },
 "nbformat": 4,
 "nbformat_minor": 5
}
