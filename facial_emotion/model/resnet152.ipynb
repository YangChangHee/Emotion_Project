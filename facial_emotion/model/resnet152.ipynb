{
 "cells": [
  {
   "cell_type": "code",
   "execution_count": 1,
   "id": "broke-purple",
   "metadata": {},
   "outputs": [],
   "source": [
    "import matplotlib.pyplot as plt\n",
    "import numpy as np\n",
    "import random\n",
    "import torch\n",
    "import torchvision\n",
    "import torchvision.transforms as transforms\n",
    "import torch.nn as nn\n",
    "import torch.nn.functional as F\n",
    "import torch.optim as optim\n",
    "import argparse\n",
    "import numpy as np\n",
    "import time\n",
    "from copy import deepcopy\n",
    "import seaborn as sns \n",
    "import matplotlib.pyplot as plt"
   ]
  },
  {
   "cell_type": "code",
   "execution_count": 2,
   "id": "pediatric-zambia",
   "metadata": {},
   "outputs": [],
   "source": [
    "input_data=np.load(\"input_data_emotion.npy\")\n",
    "label=np.load(\"label.np.npy\")"
   ]
  },
  {
   "cell_type": "code",
   "execution_count": 3,
   "id": "possible-uzbekistan",
   "metadata": {},
   "outputs": [],
   "source": [
    "label=np.array(label)\n",
    "input_data= (input_data*(1/256)-0.5)/0.5"
   ]
  },
  {
   "cell_type": "code",
   "execution_count": 4,
   "id": "collect-linux",
   "metadata": {},
   "outputs": [],
   "source": [
    "input_data=torch.FloatTensor(input_data)\n",
    "label=torch.LongTensor(label)"
   ]
  },
  {
   "cell_type": "code",
   "execution_count": 5,
   "id": "boolean-syntax",
   "metadata": {},
   "outputs": [],
   "source": [
    "input_data=input_data.transpose(1,3)"
   ]
  },
  {
   "cell_type": "code",
   "execution_count": 6,
   "id": "indian-pixel",
   "metadata": {},
   "outputs": [],
   "source": [
    "from torch.utils.data import TensorDataset\n",
    "from torch.utils.data import DataLoader\n",
    "dataset = TensorDataset(input_data,label)"
   ]
  },
  {
   "cell_type": "code",
   "execution_count": 7,
   "id": "intellectual-confidence",
   "metadata": {},
   "outputs": [],
   "source": [
    "trainset,valset=torch.utils.data.random_split(dataset,[30887,5000])\n",
    "trainset,testset=torch.utils.data.random_split(trainset,[25887,5000])\n",
    "\n",
    "partition={'train':trainset,'val':valset,'test':testset}"
   ]
  },
  {
   "cell_type": "code",
   "execution_count": 8,
   "id": "growing-spouse",
   "metadata": {},
   "outputs": [],
   "source": [
    "class BottleNeck(nn.Module):\n",
    "    expansion = 4\n",
    "    def __init__(self, in_channels, out_channels, stride=1):\n",
    "        super().__init__()\n",
    "        self.residual_function = nn.Sequential(\n",
    "        nn.Conv2d(in_channels, out_channels, kernel_size=1, bias=False),\n",
    "        nn.BatchNorm2d(out_channels),\n",
    "        nn.ReLU(inplace=True),\n",
    "        nn.Conv2d(out_channels, out_channels, stride=stride, kernel_size=3, padding=1, bias=False),\n",
    "        nn.BatchNorm2d(out_channels),\n",
    "        nn.ReLU(inplace=True),\n",
    "        nn.Conv2d(out_channels, out_channels * BottleNeck.expansion, kernel_size=1, bias=False),\n",
    "        nn.BatchNorm2d(out_channels * BottleNeck.expansion),\n",
    "        )\n",
    "        \n",
    "        self.shortcut = nn.Sequential()\n",
    "        \n",
    "        if stride != 1 or in_channels != out_channels * BottleNeck.expansion:\n",
    "            self.shortcut = nn.Sequential(\n",
    "                nn.Conv2d(in_channels, out_channels * BottleNeck.expansion, stride=stride, kernel_size=1, bias=False),\n",
    "                nn.BatchNorm2d(out_channels * BottleNeck.expansion))\n",
    "    def forward(self, x):\n",
    "        return nn.ReLU(inplace=True)(self.residual_function(x) + self.shortcut(x))\n",
    "            "
   ]
  },
  {
   "cell_type": "code",
   "execution_count": 9,
   "id": "legitimate-shoot",
   "metadata": {},
   "outputs": [],
   "source": [
    "class ResNet(nn.Module):\n",
    "    \n",
    "    def __init__(self, block, num_block, num_classes=7):\n",
    "        super().__init__()\n",
    "        self.in_channels = 64\n",
    "        self.conv1 = nn.Sequential(\n",
    "            nn.Conv2d(3, 64, kernel_size=3, padding=1, bias=False),\n",
    "            nn.BatchNorm2d(64),\n",
    "            nn.ReLU(inplace=True))\n",
    "        self.conv2_x = self._make_layer(block, 64, num_block[0], 1)\n",
    "        self.conv3_x = self._make_layer(block, 128, num_block[1], 2)\n",
    "        self.conv4_x = self._make_layer(block, 256, num_block[2], 2)\n",
    "        self.conv5_x = self._make_layer(block, 512, num_block[3], 2)\n",
    "        self.avg_pool = nn.AdaptiveAvgPool2d((1, 1))\n",
    "        self.fc = nn.Linear(512 * block.expansion, num_classes)\n",
    "\n",
    "    def _make_layer(self, block, out_channels, num_blocks, stride):\n",
    "        strides = [stride] + [1] * (num_blocks - 1)\n",
    "        layers = []\n",
    "        for stride in strides:\n",
    "            layers.append(block(self.in_channels, out_channels, stride))\n",
    "            self.in_channels = out_channels * block.expansion\n",
    "        return nn.Sequential(*layers)\n",
    "\n",
    "    def forward(self, x):\n",
    "        output = self.conv1(x)\n",
    "        output = self.conv2_x(output)\n",
    "        output = self.conv3_x(output)\n",
    "        output = self.conv4_x(output)\n",
    "        output = self.conv5_x(output)\n",
    "        output = self.avg_pool(output)\n",
    "        output = output.view(output.size(0), -1)\n",
    "        output = self.fc(output) # => 이미지 크기가 \n",
    "                                 #바뀌면 이 줄 코드를 # 하고 dimension 확인\n",
    "\n",
    "        return output"
   ]
  },
  {
   "cell_type": "code",
   "execution_count": 10,
   "id": "vietnamese-belly",
   "metadata": {},
   "outputs": [],
   "source": [
    "def resnet152():\n",
    "    return ResNet(BottleNeck, [3, 8, 36, 3])"
   ]
  },
  {
   "cell_type": "code",
   "execution_count": 11,
   "id": "exterior-minister",
   "metadata": {},
   "outputs": [],
   "source": [
    "def dimension_check():\n",
    "    net=resnet152()\n",
    "    x= torch.randn(1,3,48,48) # 28 이미지\n",
    "    y=net(x)\n",
    "    print(y.size())"
   ]
  },
  {
   "cell_type": "code",
   "execution_count": 12,
   "id": "compliant-canal",
   "metadata": {},
   "outputs": [
    {
     "name": "stdout",
     "output_type": "stream",
     "text": [
      "torch.Size([1, 7])\n"
     ]
    }
   ],
   "source": [
    "dimension_check()"
   ]
  },
  {
   "cell_type": "code",
   "execution_count": 13,
   "id": "maritime-minority",
   "metadata": {},
   "outputs": [],
   "source": [
    "def train(net,partition,optimizer,criterion):\n",
    "    trainloader = torch.utils.data.DataLoader(partition['train'],\n",
    "                                             batch_size=64,\n",
    "                                             shuffle=True)\n",
    "    net.train()\n",
    "    correct = 0\n",
    "    total =0\n",
    "    train_loss = 0.0\n",
    "    for i, data in enumerate(tqdm(trainloader, 0)):\n",
    "        time.sleep(0.0000001)\n",
    "        optimizer.zero_grad()\n",
    "        inputs, labels = data\n",
    "        inputs = inputs.cuda()\n",
    "        labels = labels.cuda()\n",
    "        outputs = net(inputs)\n",
    "        #break\n",
    "        loss = criterion(outputs, labels)\n",
    "        loss.backward()\n",
    "        optimizer.step()\n",
    "        \n",
    "        train_loss += loss.item()\n",
    "        _, predicted = torch.max(outputs.data, 1)\n",
    "        total += labels.size(0)\n",
    "        correct += (predicted == labels).sum().item()\n",
    "        #if i % 200 == 0:\n",
    "        #    print(correct,train_loss)\n",
    "    train_loss = train_loss / len(trainloader)\n",
    "    train_acc = 100 * correct / total\n",
    "    return net, train_loss, train_acc"
   ]
  },
  {
   "cell_type": "code",
   "execution_count": 14,
   "id": "pending-williams",
   "metadata": {},
   "outputs": [],
   "source": [
    "def test(net, partition):\n",
    "    testloader = torch.utils.data.DataLoader(partition['test'], \n",
    "                                             batch_size=64, \n",
    "                                             shuffle=False, num_workers=2)\n",
    "    net.eval()\n",
    "    \n",
    "    correct = 0\n",
    "    total = 0\n",
    "    with torch.no_grad():\n",
    "        for data in tqdm(testloader):\n",
    "            time.sleep(0.0000001)\n",
    "            images, labels = data\n",
    "            images = images.cuda()\n",
    "            labels = labels.cuda()\n",
    "\n",
    "            outputs = net(images)\n",
    "            _, predicted = torch.max(outputs.data, 1)\n",
    "            total += labels.size(0)\n",
    "            correct += (predicted == labels).sum().item()\n",
    "\n",
    "        test_acc = 100 * correct / total\n",
    "    return test_acc"
   ]
  },
  {
   "cell_type": "code",
   "execution_count": 15,
   "id": "advanced-sample",
   "metadata": {},
   "outputs": [],
   "source": [
    "def validate(net, partition, criterion):\n",
    "    valloader = torch.utils.data.DataLoader(partition['val'], \n",
    "                                            batch_size=64, \n",
    "                                            shuffle=False, num_workers=2)\n",
    "    net.eval()\n",
    "\n",
    "    correct = 0\n",
    "    total = 0\n",
    "    val_loss = 0 \n",
    "    with torch.no_grad():\n",
    "        for data in tqdm(valloader):\n",
    "            time.sleep(0.0000001)\n",
    "            images, labels = data\n",
    "            images = images.cuda()\n",
    "            labels = labels.cuda()\n",
    "            outputs = net(images)\n",
    "\n",
    "            loss = criterion(outputs, labels)\n",
    "            \n",
    "            val_loss += loss.item()\n",
    "            _, predicted = torch.max(outputs.data, 1)\n",
    "            total += labels.size(0)\n",
    "            correct += (predicted == labels).sum().item()\n",
    "\n",
    "        val_loss = val_loss / len(valloader)\n",
    "        val_acc = 100 * correct / total\n",
    "    return val_loss, val_acc"
   ]
  },
  {
   "cell_type": "code",
   "execution_count": 16,
   "id": "casual-granny",
   "metadata": {},
   "outputs": [],
   "source": [
    "from tqdm import tqdm, tqdm_notebook\n",
    "from tqdm import trange\n",
    "import time"
   ]
  },
  {
   "cell_type": "code",
   "execution_count": null,
   "id": "overall-assistant",
   "metadata": {},
   "outputs": [
    {
     "name": "stderr",
     "output_type": "stream",
     "text": [
      "100%|██████████| 405/405 [03:08<00:00,  2.15it/s]\n",
      "100%|██████████| 79/79 [00:09<00:00,  8.03it/s]\n",
      "  0%|          | 0/405 [00:00<?, ?it/s]"
     ]
    },
    {
     "name": "stdout",
     "output_type": "stream",
     "text": [
      "time : 198.17, train_loss : 1.85, train_acc : 25.46,val_acc : 27.64,val_loss : 1.80\n"
     ]
    },
    {
     "name": "stderr",
     "output_type": "stream",
     "text": [
      "100%|██████████| 405/405 [03:10<00:00,  2.12it/s]\n",
      "100%|██████████| 79/79 [00:09<00:00,  8.00it/s]\n",
      "  0%|          | 0/405 [00:00<?, ?it/s]"
     ]
    },
    {
     "name": "stdout",
     "output_type": "stream",
     "text": [
      "time : 200.52, train_loss : 1.62, train_acc : 35.57,val_acc : 42.64,val_loss : 1.48\n"
     ]
    },
    {
     "name": "stderr",
     "output_type": "stream",
     "text": [
      "100%|██████████| 405/405 [03:11<00:00,  2.12it/s]\n",
      "100%|██████████| 79/79 [00:09<00:00,  7.98it/s]\n",
      "  0%|          | 0/405 [00:00<?, ?it/s]"
     ]
    },
    {
     "name": "stdout",
     "output_type": "stream",
     "text": [
      "time : 201.17, train_loss : 1.41, train_acc : 45.26,val_acc : 22.76,val_loss : 3.49\n"
     ]
    },
    {
     "name": "stderr",
     "output_type": "stream",
     "text": [
      "100%|██████████| 405/405 [03:10<00:00,  2.12it/s]\n",
      "100%|██████████| 79/79 [00:09<00:00,  8.01it/s]\n",
      "  0%|          | 0/405 [00:00<?, ?it/s]"
     ]
    },
    {
     "name": "stdout",
     "output_type": "stream",
     "text": [
      "time : 200.82, train_loss : 1.30, train_acc : 49.29,val_acc : 50.96,val_loss : 1.26\n"
     ]
    },
    {
     "name": "stderr",
     "output_type": "stream",
     "text": [
      "100%|██████████| 405/405 [03:11<00:00,  2.12it/s]\n",
      "100%|██████████| 79/79 [00:09<00:00,  7.97it/s]\n",
      "  0%|          | 0/405 [00:00<?, ?it/s]"
     ]
    },
    {
     "name": "stdout",
     "output_type": "stream",
     "text": [
      "time : 201.00, train_loss : 1.23, train_acc : 52.66,val_acc : 52.84,val_loss : 1.22\n"
     ]
    },
    {
     "name": "stderr",
     "output_type": "stream",
     "text": [
      "100%|██████████| 405/405 [03:12<00:00,  2.11it/s]\n",
      "100%|██████████| 79/79 [00:09<00:00,  7.96it/s]\n",
      "  0%|          | 0/405 [00:00<?, ?it/s]"
     ]
    },
    {
     "name": "stdout",
     "output_type": "stream",
     "text": [
      "time : 202.04, train_loss : 1.17, train_acc : 55.26,val_acc : 48.98,val_loss : 1.33\n"
     ]
    },
    {
     "name": "stderr",
     "output_type": "stream",
     "text": [
      "100%|██████████| 405/405 [03:11<00:00,  2.11it/s]\n",
      "100%|██████████| 79/79 [00:09<00:00,  7.95it/s]\n",
      "  0%|          | 0/405 [00:00<?, ?it/s]"
     ]
    },
    {
     "name": "stdout",
     "output_type": "stream",
     "text": [
      "time : 201.83, train_loss : 1.12, train_acc : 57.36,val_acc : 52.70,val_loss : 1.25\n"
     ]
    },
    {
     "name": "stderr",
     "output_type": "stream",
     "text": [
      "100%|██████████| 405/405 [03:12<00:00,  2.10it/s]\n",
      "100%|██████████| 79/79 [00:09<00:00,  7.95it/s]\n",
      "  0%|          | 0/405 [00:00<?, ?it/s]"
     ]
    },
    {
     "name": "stdout",
     "output_type": "stream",
     "text": [
      "time : 202.45, train_loss : 1.08, train_acc : 59.09,val_acc : 51.32,val_loss : 1.26\n"
     ]
    },
    {
     "name": "stderr",
     "output_type": "stream",
     "text": [
      "100%|██████████| 405/405 [03:12<00:00,  2.11it/s]\n",
      "100%|██████████| 79/79 [00:09<00:00,  7.97it/s]\n",
      "  0%|          | 0/405 [00:00<?, ?it/s]"
     ]
    },
    {
     "name": "stdout",
     "output_type": "stream",
     "text": [
      "time : 201.93, train_loss : 1.04, train_acc : 60.46,val_acc : 56.02,val_loss : 1.17\n"
     ]
    },
    {
     "name": "stderr",
     "output_type": "stream",
     "text": [
      "100%|██████████| 405/405 [03:10<00:00,  2.12it/s]\n",
      "100%|██████████| 79/79 [00:09<00:00,  8.00it/s]\n",
      "  0%|          | 0/405 [00:00<?, ?it/s]"
     ]
    },
    {
     "name": "stdout",
     "output_type": "stream",
     "text": [
      "time : 200.76, train_loss : 1.01, train_acc : 61.97,val_acc : 55.84,val_loss : 1.18\n"
     ]
    },
    {
     "name": "stderr",
     "output_type": "stream",
     "text": [
      "100%|██████████| 405/405 [03:11<00:00,  2.12it/s]\n",
      "100%|██████████| 79/79 [00:09<00:00,  8.00it/s]\n",
      "  0%|          | 0/405 [00:00<?, ?it/s]"
     ]
    },
    {
     "name": "stdout",
     "output_type": "stream",
     "text": [
      "time : 201.32, train_loss : 0.97, train_acc : 63.54,val_acc : 56.22,val_loss : 1.17\n"
     ]
    },
    {
     "name": "stderr",
     "output_type": "stream",
     "text": [
      "100%|██████████| 405/405 [03:10<00:00,  2.12it/s]\n",
      "100%|██████████| 79/79 [00:09<00:00,  8.01it/s]\n",
      "  0%|          | 0/405 [00:00<?, ?it/s]"
     ]
    },
    {
     "name": "stdout",
     "output_type": "stream",
     "text": [
      "time : 200.48, train_loss : 0.94, train_acc : 64.40,val_acc : 56.86,val_loss : 1.18\n"
     ]
    },
    {
     "name": "stderr",
     "output_type": "stream",
     "text": [
      "100%|██████████| 405/405 [03:10<00:00,  2.12it/s]\n",
      "100%|██████████| 79/79 [00:09<00:00,  7.99it/s]\n",
      "  0%|          | 0/405 [00:00<?, ?it/s]"
     ]
    },
    {
     "name": "stdout",
     "output_type": "stream",
     "text": [
      "time : 200.61, train_loss : 0.90, train_acc : 65.89,val_acc : 55.54,val_loss : 1.29\n"
     ]
    },
    {
     "name": "stderr",
     "output_type": "stream",
     "text": [
      "100%|██████████| 405/405 [03:10<00:00,  2.13it/s]\n",
      "100%|██████████| 79/79 [00:09<00:00,  8.04it/s]\n",
      "  0%|          | 0/405 [00:00<?, ?it/s]"
     ]
    },
    {
     "name": "stdout",
     "output_type": "stream",
     "text": [
      "time : 200.09, train_loss : 0.87, train_acc : 67.28,val_acc : 56.56,val_loss : 1.25\n"
     ]
    },
    {
     "name": "stderr",
     "output_type": "stream",
     "text": [
      "100%|██████████| 405/405 [03:10<00:00,  2.13it/s]\n",
      "100%|██████████| 79/79 [00:09<00:00,  8.00it/s]\n",
      "  0%|          | 0/405 [00:00<?, ?it/s]"
     ]
    },
    {
     "name": "stdout",
     "output_type": "stream",
     "text": [
      "time : 200.01, train_loss : 0.80, train_acc : 70.04,val_acc : 57.94,val_loss : 1.19\n"
     ]
    },
    {
     "name": "stderr",
     "output_type": "stream",
     "text": [
      "100%|██████████| 405/405 [03:10<00:00,  2.12it/s]\n",
      "100%|██████████| 79/79 [00:09<00:00,  7.99it/s]\n",
      "  0%|          | 0/405 [00:00<?, ?it/s]"
     ]
    },
    {
     "name": "stdout",
     "output_type": "stream",
     "text": [
      "time : 200.67, train_loss : 0.75, train_acc : 72.29,val_acc : 58.16,val_loss : 1.14\n"
     ]
    },
    {
     "name": "stderr",
     "output_type": "stream",
     "text": [
      "100%|██████████| 405/405 [03:10<00:00,  2.13it/s]\n",
      "100%|██████████| 79/79 [00:09<00:00,  7.99it/s]\n",
      "  0%|          | 0/405 [00:00<?, ?it/s]"
     ]
    },
    {
     "name": "stdout",
     "output_type": "stream",
     "text": [
      "time : 200.09, train_loss : 0.68, train_acc : 74.73,val_acc : 58.36,val_loss : 1.20\n"
     ]
    },
    {
     "name": "stderr",
     "output_type": "stream",
     "text": [
      "100%|██████████| 405/405 [03:11<00:00,  2.12it/s]\n",
      "100%|██████████| 79/79 [00:09<00:00,  7.98it/s]\n",
      "  0%|          | 0/405 [00:00<?, ?it/s]"
     ]
    },
    {
     "name": "stdout",
     "output_type": "stream",
     "text": [
      "time : 201.12, train_loss : 0.61, train_acc : 77.37,val_acc : 56.88,val_loss : 1.35\n"
     ]
    },
    {
     "name": "stderr",
     "output_type": "stream",
     "text": [
      "100%|██████████| 405/405 [03:11<00:00,  2.12it/s]\n",
      "100%|██████████| 79/79 [00:09<00:00,  7.97it/s]\n",
      "  0%|          | 0/405 [00:00<?, ?it/s]"
     ]
    },
    {
     "name": "stdout",
     "output_type": "stream",
     "text": [
      "time : 201.19, train_loss : 0.53, train_acc : 80.27,val_acc : 55.50,val_loss : 1.44\n"
     ]
    },
    {
     "name": "stderr",
     "output_type": "stream",
     "text": [
      "100%|██████████| 405/405 [03:11<00:00,  2.12it/s]\n",
      "100%|██████████| 79/79 [00:09<00:00,  7.99it/s]\n",
      "  0%|          | 0/405 [00:00<?, ?it/s]"
     ]
    },
    {
     "name": "stdout",
     "output_type": "stream",
     "text": [
      "time : 201.07, train_loss : 0.44, train_acc : 83.81,val_acc : 56.40,val_loss : 1.43\n"
     ]
    },
    {
     "name": "stderr",
     "output_type": "stream",
     "text": [
      "100%|██████████| 405/405 [03:10<00:00,  2.13it/s]\n",
      "100%|██████████| 79/79 [00:09<00:00,  8.01it/s]\n",
      "  0%|          | 0/405 [00:00<?, ?it/s]"
     ]
    },
    {
     "name": "stdout",
     "output_type": "stream",
     "text": [
      "time : 200.36, train_loss : 0.38, train_acc : 86.22,val_acc : 58.36,val_loss : 1.52\n"
     ]
    },
    {
     "name": "stderr",
     "output_type": "stream",
     "text": [
      "100%|██████████| 405/405 [03:09<00:00,  2.14it/s]\n",
      "100%|██████████| 79/79 [00:09<00:00,  8.03it/s]\n",
      "  0%|          | 0/405 [00:00<?, ?it/s]"
     ]
    },
    {
     "name": "stdout",
     "output_type": "stream",
     "text": [
      "time : 199.40, train_loss : 0.30, train_acc : 89.16,val_acc : 58.70,val_loss : 1.68\n"
     ]
    },
    {
     "name": "stderr",
     "output_type": "stream",
     "text": [
      "100%|██████████| 405/405 [03:09<00:00,  2.14it/s]\n",
      "100%|██████████| 79/79 [00:09<00:00,  8.02it/s]\n",
      "  0%|          | 0/405 [00:00<?, ?it/s]"
     ]
    },
    {
     "name": "stdout",
     "output_type": "stream",
     "text": [
      "time : 199.19, train_loss : 0.25, train_acc : 91.12,val_acc : 56.66,val_loss : 1.91\n"
     ]
    },
    {
     "name": "stderr",
     "output_type": "stream",
     "text": [
      "100%|██████████| 405/405 [03:09<00:00,  2.14it/s]\n",
      "100%|██████████| 79/79 [00:09<00:00,  8.05it/s]\n",
      "  0%|          | 0/405 [00:00<?, ?it/s]"
     ]
    },
    {
     "name": "stdout",
     "output_type": "stream",
     "text": [
      "time : 199.25, train_loss : 0.23, train_acc : 91.91,val_acc : 56.98,val_loss : 1.82\n"
     ]
    },
    {
     "name": "stderr",
     "output_type": "stream",
     "text": [
      "100%|██████████| 405/405 [03:08<00:00,  2.15it/s]\n",
      "100%|██████████| 79/79 [00:09<00:00,  8.02it/s]\n",
      "  0%|          | 0/405 [00:00<?, ?it/s]"
     ]
    },
    {
     "name": "stdout",
     "output_type": "stream",
     "text": [
      "time : 198.53, train_loss : 0.18, train_acc : 93.87,val_acc : 57.26,val_loss : 2.15\n"
     ]
    },
    {
     "name": "stderr",
     "output_type": "stream",
     "text": [
      "100%|██████████| 405/405 [03:09<00:00,  2.14it/s]\n",
      "100%|██████████| 79/79 [00:09<00:00,  8.02it/s]\n",
      "  0%|          | 0/405 [00:00<?, ?it/s]"
     ]
    },
    {
     "name": "stdout",
     "output_type": "stream",
     "text": [
      "time : 199.17, train_loss : 0.19, train_acc : 93.42,val_acc : 56.64,val_loss : 2.13\n"
     ]
    },
    {
     "name": "stderr",
     "output_type": "stream",
     "text": [
      "100%|██████████| 405/405 [03:08<00:00,  2.15it/s]\n",
      "100%|██████████| 79/79 [00:09<00:00,  8.06it/s]\n",
      "  0%|          | 0/405 [00:00<?, ?it/s]"
     ]
    },
    {
     "name": "stdout",
     "output_type": "stream",
     "text": [
      "time : 198.54, train_loss : 0.16, train_acc : 95.01,val_acc : 57.46,val_loss : 2.19\n"
     ]
    },
    {
     "name": "stderr",
     "output_type": "stream",
     "text": [
      "100%|██████████| 405/405 [03:08<00:00,  2.15it/s]\n",
      "100%|██████████| 79/79 [00:09<00:00,  8.03it/s]\n",
      "  0%|          | 0/405 [00:00<?, ?it/s]"
     ]
    },
    {
     "name": "stdout",
     "output_type": "stream",
     "text": [
      "time : 198.64, train_loss : 0.16, train_acc : 94.52,val_acc : 57.16,val_loss : 2.06\n"
     ]
    },
    {
     "name": "stderr",
     "output_type": "stream",
     "text": [
      "100%|██████████| 405/405 [03:08<00:00,  2.14it/s]\n",
      "100%|██████████| 79/79 [00:09<00:00,  8.04it/s]\n",
      "  0%|          | 0/405 [00:00<?, ?it/s]"
     ]
    },
    {
     "name": "stdout",
     "output_type": "stream",
     "text": [
      "time : 198.68, train_loss : 0.16, train_acc : 94.54,val_acc : 57.32,val_loss : 2.12\n"
     ]
    },
    {
     "name": "stderr",
     "output_type": "stream",
     "text": [
      "100%|██████████| 405/405 [03:08<00:00,  2.15it/s]\n",
      "100%|██████████| 79/79 [00:09<00:00,  8.02it/s]\n",
      "  0%|          | 0/405 [00:00<?, ?it/s]"
     ]
    },
    {
     "name": "stdout",
     "output_type": "stream",
     "text": [
      "time : 198.46, train_loss : 0.12, train_acc : 96.10,val_acc : 57.84,val_loss : 2.08\n"
     ]
    },
    {
     "name": "stderr",
     "output_type": "stream",
     "text": [
      "100%|██████████| 405/405 [03:09<00:00,  2.13it/s]\n",
      "100%|██████████| 79/79 [00:09<00:00,  7.99it/s]\n",
      "  0%|          | 0/405 [00:00<?, ?it/s]"
     ]
    },
    {
     "name": "stdout",
     "output_type": "stream",
     "text": [
      "time : 199.74, train_loss : 0.13, train_acc : 95.96,val_acc : 56.00,val_loss : 2.32\n"
     ]
    },
    {
     "name": "stderr",
     "output_type": "stream",
     "text": [
      "100%|██████████| 405/405 [03:09<00:00,  2.13it/s]\n",
      "100%|██████████| 79/79 [00:09<00:00,  7.98it/s]\n",
      "  0%|          | 0/405 [00:00<?, ?it/s]"
     ]
    },
    {
     "name": "stdout",
     "output_type": "stream",
     "text": [
      "time : 199.79, train_loss : 0.14, train_acc : 95.27,val_acc : 56.06,val_loss : 2.19\n"
     ]
    },
    {
     "name": "stderr",
     "output_type": "stream",
     "text": [
      "100%|██████████| 405/405 [03:10<00:00,  2.13it/s]\n",
      "100%|██████████| 79/79 [00:09<00:00,  7.97it/s]\n",
      "  0%|          | 0/405 [00:00<?, ?it/s]"
     ]
    },
    {
     "name": "stdout",
     "output_type": "stream",
     "text": [
      "time : 200.01, train_loss : 0.12, train_acc : 96.20,val_acc : 56.82,val_loss : 2.27\n"
     ]
    },
    {
     "name": "stderr",
     "output_type": "stream",
     "text": [
      "100%|██████████| 405/405 [03:10<00:00,  2.13it/s]\n",
      "100%|██████████| 79/79 [00:09<00:00,  7.96it/s]\n",
      "  0%|          | 0/405 [00:00<?, ?it/s]"
     ]
    },
    {
     "name": "stdout",
     "output_type": "stream",
     "text": [
      "time : 200.06, train_loss : 0.11, train_acc : 96.20,val_acc : 57.68,val_loss : 2.24\n"
     ]
    },
    {
     "name": "stderr",
     "output_type": "stream",
     "text": [
      "100%|██████████| 405/405 [03:10<00:00,  2.13it/s]\n",
      "100%|██████████| 79/79 [00:09<00:00,  7.97it/s]\n",
      "  0%|          | 0/405 [00:00<?, ?it/s]"
     ]
    },
    {
     "name": "stdout",
     "output_type": "stream",
     "text": [
      "time : 200.05, train_loss : 0.11, train_acc : 96.59,val_acc : 56.74,val_loss : 2.39\n"
     ]
    },
    {
     "name": "stderr",
     "output_type": "stream",
     "text": [
      "100%|██████████| 405/405 [03:10<00:00,  2.13it/s]\n",
      "100%|██████████| 79/79 [00:09<00:00,  7.97it/s]\n",
      "  0%|          | 0/405 [00:00<?, ?it/s]"
     ]
    },
    {
     "name": "stdout",
     "output_type": "stream",
     "text": [
      "time : 200.13, train_loss : 0.13, train_acc : 95.62,val_acc : 57.80,val_loss : 2.34\n"
     ]
    },
    {
     "name": "stderr",
     "output_type": "stream",
     "text": [
      "100%|██████████| 405/405 [03:10<00:00,  2.13it/s]\n",
      "100%|██████████| 79/79 [00:09<00:00,  7.98it/s]\n",
      "  0%|          | 0/405 [00:00<?, ?it/s]"
     ]
    },
    {
     "name": "stdout",
     "output_type": "stream",
     "text": [
      "time : 200.27, train_loss : 0.09, train_acc : 97.07,val_acc : 55.62,val_loss : 2.48\n"
     ]
    },
    {
     "name": "stderr",
     "output_type": "stream",
     "text": [
      "100%|██████████| 405/405 [03:09<00:00,  2.13it/s]\n",
      "100%|██████████| 79/79 [00:09<00:00,  8.00it/s]\n",
      "  0%|          | 0/405 [00:00<?, ?it/s]"
     ]
    },
    {
     "name": "stdout",
     "output_type": "stream",
     "text": [
      "time : 199.81, train_loss : 0.10, train_acc : 96.87,val_acc : 57.46,val_loss : 2.40\n"
     ]
    },
    {
     "name": "stderr",
     "output_type": "stream",
     "text": [
      "100%|██████████| 405/405 [03:09<00:00,  2.14it/s]\n",
      "100%|██████████| 79/79 [00:09<00:00,  8.02it/s]\n",
      "  0%|          | 0/405 [00:00<?, ?it/s]"
     ]
    },
    {
     "name": "stdout",
     "output_type": "stream",
     "text": [
      "time : 199.39, train_loss : 0.11, train_acc : 96.40,val_acc : 56.54,val_loss : 2.35\n"
     ]
    },
    {
     "name": "stderr",
     "output_type": "stream",
     "text": [
      "100%|██████████| 405/405 [03:09<00:00,  2.14it/s]\n",
      "100%|██████████| 79/79 [00:09<00:00,  8.05it/s]\n",
      "  0%|          | 0/405 [00:00<?, ?it/s]"
     ]
    },
    {
     "name": "stdout",
     "output_type": "stream",
     "text": [
      "time : 198.90, train_loss : 0.10, train_acc : 96.60,val_acc : 55.70,val_loss : 2.39\n"
     ]
    },
    {
     "name": "stderr",
     "output_type": "stream",
     "text": [
      "100%|██████████| 405/405 [03:08<00:00,  2.15it/s]\n",
      "100%|██████████| 79/79 [00:09<00:00,  8.05it/s]\n",
      "  0%|          | 0/405 [00:00<?, ?it/s]"
     ]
    },
    {
     "name": "stdout",
     "output_type": "stream",
     "text": [
      "time : 198.42, train_loss : 0.10, train_acc : 96.86,val_acc : 56.48,val_loss : 2.41\n"
     ]
    },
    {
     "name": "stderr",
     "output_type": "stream",
     "text": [
      "100%|██████████| 405/405 [03:07<00:00,  2.15it/s]\n",
      "100%|██████████| 79/79 [00:09<00:00,  8.10it/s]\n",
      "  0%|          | 0/405 [00:00<?, ?it/s]"
     ]
    },
    {
     "name": "stdout",
     "output_type": "stream",
     "text": [
      "time : 197.74, train_loss : 0.09, train_acc : 97.12,val_acc : 55.88,val_loss : 2.44\n"
     ]
    },
    {
     "name": "stderr",
     "output_type": "stream",
     "text": [
      "100%|██████████| 405/405 [03:08<00:00,  2.15it/s]\n",
      "100%|██████████| 79/79 [00:09<00:00,  8.05it/s]\n",
      "  0%|          | 0/405 [00:00<?, ?it/s]"
     ]
    },
    {
     "name": "stdout",
     "output_type": "stream",
     "text": [
      "time : 197.84, train_loss : 0.11, train_acc : 96.44,val_acc : 58.60,val_loss : 2.19\n"
     ]
    },
    {
     "name": "stderr",
     "output_type": "stream",
     "text": [
      "100%|██████████| 405/405 [03:08<00:00,  2.14it/s]\n",
      "100%|██████████| 79/79 [00:09<00:00,  8.04it/s]\n",
      "  0%|          | 0/405 [00:00<?, ?it/s]"
     ]
    },
    {
     "name": "stdout",
     "output_type": "stream",
     "text": [
      "time : 198.65, train_loss : 0.08, train_acc : 97.43,val_acc : 56.60,val_loss : 2.69\n"
     ]
    },
    {
     "name": "stderr",
     "output_type": "stream",
     "text": [
      "100%|██████████| 405/405 [03:08<00:00,  2.14it/s]\n",
      "100%|██████████| 79/79 [00:09<00:00,  8.01it/s]\n",
      "  0%|          | 0/405 [00:00<?, ?it/s]"
     ]
    },
    {
     "name": "stdout",
     "output_type": "stream",
     "text": [
      "time : 198.83, train_loss : 0.09, train_acc : 97.21,val_acc : 56.04,val_loss : 2.34\n"
     ]
    },
    {
     "name": "stderr",
     "output_type": "stream",
     "text": [
      "100%|██████████| 405/405 [03:09<00:00,  2.14it/s]\n",
      "100%|██████████| 79/79 [00:09<00:00,  8.02it/s]\n",
      "  0%|          | 0/405 [00:00<?, ?it/s]"
     ]
    },
    {
     "name": "stdout",
     "output_type": "stream",
     "text": [
      "time : 198.87, train_loss : 0.09, train_acc : 96.87,val_acc : 55.38,val_loss : 2.54\n"
     ]
    },
    {
     "name": "stderr",
     "output_type": "stream",
     "text": [
      " 19%|█▉        | 76/405 [00:35<02:33,  2.14it/s]"
     ]
    }
   ],
   "source": [
    "seed = 123\n",
    "np.random.seed(seed)\n",
    "torch.manual_seed(seed)\n",
    "net=resnet152()\n",
    "net.cuda()\n",
    "criterion=nn.CrossEntropyLoss()\n",
    "optimizer = optim.Adam(net.parameters(), lr=0.0015, weight_decay=0.00001)\n",
    "train_losses=[]\n",
    "val_losses=[]\n",
    "train_accs=[]\n",
    "val_accs=[]\n",
    "for epoch in range(100):\n",
    "    ts=time.time()\n",
    "    net, train_loss,train_acc=train(net, partition, optimizer, criterion)\n",
    "    val_loss, val_acc = validate(net, partition, criterion)\n",
    "    te=time.time()\n",
    "    print('time : {:2.2f}, train_loss : {:2.2f}, train_acc : {:2.2f},val_acc : {:2.2f},val_loss : {:2.2f}'.format(te-ts,train_loss,train_acc,val_acc,val_loss))\n",
    "    train_loss=round(train_loss,2)\n",
    "    val_loss=round(val_loss,2)\n",
    "    train_acc=round(train_acc,2)\n",
    "    val_acc=round(val_acc,2)\n",
    "    train_losses.append(train_loss)\n",
    "    val_losses.append(val_loss)\n",
    "    train_accs.append(train_acc)\n",
    "    val_accs.append(val_acc)\n",
    "test_acc = test(net,partition)\n",
    "test_acc=round(test_acc,2)"
   ]
  },
  {
   "cell_type": "code",
   "execution_count": null,
   "id": "pacific-enzyme",
   "metadata": {},
   "outputs": [],
   "source": [
    "np.save(\"/home/lab/양창희/Emotion Project/test_list_file/resnet_train_loss.npy\",train_loss)\n",
    "np.save(\"/home/lab/양창희/Emotion Project/test_list_file/resnet_val_loss.npy\",val_loss)\n",
    "np.save(\"/home/lab/양창희/Emotion Project/test_list_file/resnet_train_acc.npy\",train_acc)\n",
    "np.save(\"/home/lab/양창희/Emotion Project/test_list_file/resnet_val_acc.npy\",val_acc)"
   ]
  },
  {
   "cell_type": "code",
   "execution_count": null,
   "id": "decreased-chart",
   "metadata": {},
   "outputs": [],
   "source": []
  }
 ],
 "metadata": {
  "kernelspec": {
   "display_name": "Python 3",
   "language": "python",
   "name": "python3"
  },
  "language_info": {
   "codemirror_mode": {
    "name": "ipython",
    "version": 3
   },
   "file_extension": ".py",
   "mimetype": "text/x-python",
   "name": "python",
   "nbconvert_exporter": "python",
   "pygments_lexer": "ipython3",
   "version": "3.6.12"
  }
 },
 "nbformat": 4,
 "nbformat_minor": 5
}
