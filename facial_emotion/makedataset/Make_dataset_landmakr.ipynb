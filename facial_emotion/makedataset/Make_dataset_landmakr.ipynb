{
 "cells": [
  {
   "cell_type": "code",
   "execution_count": 1,
   "id": "neural-rolling",
   "metadata": {},
   "outputs": [],
   "source": [
    "import matplotlib.pyplot as plt\n",
    "import numpy as np\n",
    "import random\n",
    "import torch\n",
    "import torchvision\n",
    "import torchvision.transforms as transforms\n",
    "import torch.nn as nn\n",
    "import torch.nn.functional as F\n",
    "import torch.optim as optim\n",
    "import argparse\n",
    "import numpy as np\n",
    "import time\n",
    "from copy import deepcopy\n",
    "import seaborn as sns \n",
    "import matplotlib.pyplot as plt"
   ]
  },
  {
   "cell_type": "code",
   "execution_count": 2,
   "id": "swedish-earthquake",
   "metadata": {},
   "outputs": [],
   "source": [
    "train_angry=np.load(\"/home/lab/양창희/Emotion Project/emotion_image_npy/train_img_angry.npy\")\n",
    "train_disgust=np.load(\"/home/lab/양창희/Emotion Project/emotion_image_npy/train_img_disgust.npy\")\n",
    "train_fear=np.load(\"/home/lab/양창희/Emotion Project/emotion_image_npy/train_img_fear.npy\")\n",
    "train_happy=np.load(\"/home/lab/양창희/Emotion Project/emotion_image_npy/train_img_happy.npy\")\n",
    "train_neutral=np.load(\"/home/lab/양창희/Emotion Project/emotion_image_npy/train_img_neutral.npy\")\n",
    "train_sad=np.load(\"/home/lab/양창희/Emotion Project/emotion_image_npy/train_img_sad.npy\")\n",
    "train_surprise=np.load(\"/home/lab/양창희/Emotion Project/emotion_image_npy/train_img_surprise.npy\")"
   ]
  },
  {
   "cell_type": "code",
   "execution_count": 3,
   "id": "designing-triple",
   "metadata": {},
   "outputs": [],
   "source": [
    "val_angry=np.load(\"/home/lab/양창희/Emotion Project/emotion_image_npy/validation_img_angry.npy\")\n",
    "val_disgust=np.load(\"/home/lab/양창희/Emotion Project/emotion_image_npy/validation_img_disgust.npy\")\n",
    "val_fear=np.load(\"/home/lab/양창희/Emotion Project/emotion_image_npy/validation_img_fear.npy\")\n",
    "val_happy=np.load(\"/home/lab/양창희/Emotion Project/emotion_image_npy/validation_img_happy.npy\")\n",
    "val_neutral=np.load(\"/home/lab/양창희/Emotion Project/emotion_image_npy/validation_img_neutral.npy\")\n",
    "val_sad=np.load(\"/home/lab/양창희/Emotion Project/emotion_image_npy/validation_img_sad.npy\")\n",
    "val_surprise=np.load(\"/home/lab/양창희/Emotion Project/emotion_image_npy/validation_img_surprise.npy\")"
   ]
  },
  {
   "cell_type": "code",
   "execution_count": 4,
   "id": "generic-threat",
   "metadata": {},
   "outputs": [],
   "source": [
    "angry=np.concatenate((train_angry,val_angry),axis=0)\n",
    "disgust=np.concatenate((train_disgust,val_disgust),axis=0)\n",
    "fear=np.concatenate((train_fear,val_fear),axis=0)\n",
    "happy=np.concatenate((train_happy,val_happy),axis=0)\n",
    "neutral=np.concatenate((train_neutral,val_neutral),axis=0)\n",
    "sad=np.concatenate((train_sad,val_sad),axis=0)\n",
    "surprise=np.concatenate((train_surprise,val_surprise),axis=0)"
   ]
  },
  {
   "cell_type": "code",
   "execution_count": 5,
   "id": "light-stupid",
   "metadata": {},
   "outputs": [],
   "source": [
    "label=[]\n",
    "for i in range(7):\n",
    "    if i==0:\n",
    "        for j in range(len(angry)):\n",
    "            label.append(0)\n",
    "    elif i==1:\n",
    "        for j in range(len(disgust)):\n",
    "            label.append(1)\n",
    "    elif i==2:\n",
    "        for j in range(len(fear)):\n",
    "            label.append(2)\n",
    "    elif i==3:\n",
    "        for j in range(len(happy)):\n",
    "            label.append(3)\n",
    "    elif i==4:\n",
    "        for j in range(len(neutral)):\n",
    "            label.append(4)\n",
    "    elif i==5:\n",
    "        for j in range(len(sad)):\n",
    "            label.append(5)\n",
    "    elif i==6:\n",
    "        for j in range(len(surprise)):\n",
    "            label.append(6)"
   ]
  },
  {
   "cell_type": "code",
   "execution_count": 6,
   "id": "acquired-paraguay",
   "metadata": {},
   "outputs": [],
   "source": [
    "input_data=np.concatenate((angry,disgust,fear,happy,neutral,sad,surprise),axis=0)"
   ]
  },
  {
   "cell_type": "code",
   "execution_count": 8,
   "id": "numeric-resource",
   "metadata": {},
   "outputs": [],
   "source": [
    "np.save(\"input_data_emotion.npy\",input_data)"
   ]
  },
  {
   "cell_type": "code",
   "execution_count": 9,
   "id": "nominated-knowing",
   "metadata": {},
   "outputs": [],
   "source": [
    "np.save(\"label.np\",label)"
   ]
  },
  {
   "cell_type": "code",
   "execution_count": null,
   "id": "flying-israel",
   "metadata": {},
   "outputs": [],
   "source": []
  }
 ],
 "metadata": {
  "kernelspec": {
   "display_name": "Python 3",
   "language": "python",
   "name": "python3"
  },
  "language_info": {
   "codemirror_mode": {
    "name": "ipython",
    "version": 3
   },
   "file_extension": ".py",
   "mimetype": "text/x-python",
   "name": "python",
   "nbconvert_exporter": "python",
   "pygments_lexer": "ipython3",
   "version": "3.7.10"
  }
 },
 "nbformat": 4,
 "nbformat_minor": 5
}
