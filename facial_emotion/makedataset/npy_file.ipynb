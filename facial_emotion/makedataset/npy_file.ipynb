{
 "cells": [
  {
   "cell_type": "code",
   "execution_count": 1,
   "id": "distinct-premises",
   "metadata": {},
   "outputs": [],
   "source": [
    "import numpy as np\n",
    "np_load_old = np.load\n",
    "np.load = lambda *a,**k: np_load_old(*a, allow_pickle=True, **k)"
   ]
  },
  {
   "cell_type": "code",
   "execution_count": 2,
   "id": "saved-perception",
   "metadata": {},
   "outputs": [],
   "source": [
    "train_angry=np.load(\"/home/lab/양창희/Emotion Project/face_landmark_npy/train_angry.npy\")\n",
    "train_disgust=np.load(\"/home/lab/양창희/Emotion Project/face_landmark_npy/train_disgust.npy\")\n",
    "train_fear=np.load(\"/home/lab/양창희/Emotion Project/face_landmark_npy/train_fear.npy\")\n",
    "train_happy=np.load(\"/home/lab/양창희/Emotion Project/face_landmark_npy/train_happy.npy\")\n",
    "train_neutral=np.load(\"/home/lab/양창희/Emotion Project/face_landmark_npy/train_neutral.npy\")\n",
    "train_sad=np.load(\"/home/lab/양창희/Emotion Project/face_landmark_npy/train_sad.npy\")\n",
    "train_surprise=np.load(\"/home/lab/양창희/Emotion Project/face_landmark_npy/train_surprise.npy\")\n",
    "val_angry=np.load(\"/home/lab/양창희/Emotion Project/face_landmark_npy/validation_angry.npy\")\n",
    "val_disgust=np.load(\"/home/lab/양창희/Emotion Project/face_landmark_npy/validation_disgust.npy\")\n",
    "val_fear=np.load(\"/home/lab/양창희/Emotion Project/face_landmark_npy/validation_fear.npy\")\n",
    "val_happy=np.load(\"/home/lab/양창희/Emotion Project/face_landmark_npy/validation_happy.npy\")\n",
    "val_neutral=np.load(\"/home/lab/양창희/Emotion Project/face_landmark_npy/validation_neutral.npy\")\n",
    "val_sad=np.load(\"/home/lab/양창희/Emotion Project/face_landmark_npy/validation_sad.npy\")\n",
    "val_surprise=np.load(\"/home/lab/양창희/Emotion Project/face_landmark_npy/validation_surprise.npy\")"
   ]
  },
  {
   "cell_type": "code",
   "execution_count": 3,
   "id": "familiar-growth",
   "metadata": {},
   "outputs": [],
   "source": [
    "list_emo=[]\n",
    "list_emo.append(train_angry)\n",
    "list_emo.append(val_angry)\n",
    "list_emo.append(train_disgust)\n",
    "list_emo.append(val_disgust)\n",
    "list_emo.append(train_fear)\n",
    "list_emo.append(val_fear)\n",
    "list_emo.append(train_happy)\n",
    "list_emo.append(val_happy)\n",
    "list_emo.append(train_neutral)\n",
    "list_emo.append(val_neutral)\n",
    "list_emo.append(train_sad)\n",
    "list_emo.append(val_sad)\n",
    "list_emo.append(train_surprise)\n",
    "list_emo.append(val_surprise)\n"
   ]
  },
  {
   "cell_type": "code",
   "execution_count": 4,
   "id": "constant-classic",
   "metadata": {},
   "outputs": [],
   "source": [
    "def reshape(x):\n",
    "    reshape_angry=[]\n",
    "    for i in range(len(x)):\n",
    "        new=x[i][0]\n",
    "        reshape_angry.append(new)\n",
    "    reshape_angry=np.array(reshape_angry)\n",
    "    return reshape_angry"
   ]
  },
  {
   "cell_type": "code",
   "execution_count": 5,
   "id": "accurate-invalid",
   "metadata": {},
   "outputs": [],
   "source": [
    "def new_list(x):\n",
    "    result_angry=[]\n",
    "    for i in range(len(x)):\n",
    "        result_angry1=[]\n",
    "        for j in range(len(x[0])-1):\n",
    "            if (j != 16) and (j != 21) and (j != 26) and (j != 30) and (j != 35) and (j != 41) and (j != 47) and (j != 59):\n",
    "                if x[i][j][0]==x[i][j+1][0]:\n",
    "                    var_x=150\n",
    "                    var_y=x[i][j][1]-x[i][j+1][1]\n",
    "                    gradient=var_y/var_x\n",
    "                    result_angry1.append(gradient)\n",
    "                else:\n",
    "                    var_x=x[i][j][0]-x[i][j+1][0]\n",
    "                    var_y=x[i][j][1]-x[i][j+1][1]\n",
    "                    gradient=var_y/var_x\n",
    "                    result_angry1.append(gradient)\n",
    "        result_angry.append(result_angry1)\n",
    "    result_angry=np.array(result_angry)\n",
    "    return result_angry\n"
   ]
  },
  {
   "cell_type": "code",
   "execution_count": 6,
   "id": "rising-shark",
   "metadata": {},
   "outputs": [],
   "source": [
    "def make_data(x):\n",
    "    list_1=[]\n",
    "    for i in range(len(x)):\n",
    "        new_data=reshape(x[i])\n",
    "        new_data=np.array(new_data)\n",
    "        list_1.append(new_data)\n",
    "    list_2=[]\n",
    "    for i in range(len(list_1)):\n",
    "        new_data1=new_list(list_1[i])\n",
    "        new_data1=np.array(new_data1)\n",
    "        list_2.append(new_data1)\n",
    "    \n",
    "    return list_2"
   ]
  },
  {
   "cell_type": "code",
   "execution_count": 7,
   "id": "measured-mistress",
   "metadata": {},
   "outputs": [],
   "source": [
    "remake_list_emo=make_data(list_emo)"
   ]
  },
  {
   "cell_type": "code",
   "execution_count": 8,
   "id": "liked-carolina",
   "metadata": {},
   "outputs": [],
   "source": [
    "angry=np.concatenate((remake_list_emo[0],remake_list_emo[1]),axis=0)\n",
    "disgust=np.concatenate((remake_list_emo[2],remake_list_emo[3]),axis=0)\n",
    "fear=np.concatenate((remake_list_emo[4],remake_list_emo[5]),axis=0)\n",
    "happy=np.concatenate((remake_list_emo[6],remake_list_emo[7]),axis=0)\n",
    "neutral=np.concatenate((remake_list_emo[8],remake_list_emo[9]),axis=0)\n",
    "sad=np.concatenate((remake_list_emo[10],remake_list_emo[11]),axis=0)\n",
    "surprise=np.concatenate((remake_list_emo[12],remake_list_emo[13]),axis=0)"
   ]
  },
  {
   "cell_type": "code",
   "execution_count": 9,
   "id": "stuck-monaco",
   "metadata": {},
   "outputs": [],
   "source": [
    "label=[]\n",
    "for i in range(7):\n",
    "    if i==0:\n",
    "        for j in range(len(angry)):\n",
    "            label.append(0)\n",
    "    elif i==1:\n",
    "        for j in range(len(disgust)):\n",
    "            label.append(1)\n",
    "    elif i==2:\n",
    "        for j in range(len(fear)):\n",
    "            label.append(2)\n",
    "    elif i==3:\n",
    "        for j in range(len(happy)):\n",
    "            label.append(3)\n",
    "    elif i==4:\n",
    "        for j in range(len(neutral)):\n",
    "            label.append(4)\n",
    "    elif i==5:\n",
    "        for j in range(len(sad)):\n",
    "            label.append(5)\n",
    "    elif i==6:\n",
    "        for j in range(len(surprise)):\n",
    "            label.append(6)"
   ]
  },
  {
   "cell_type": "code",
   "execution_count": 10,
   "id": "posted-separate",
   "metadata": {},
   "outputs": [],
   "source": [
    "np.save(\"label_landmark.npy\",label)"
   ]
  },
  {
   "cell_type": "code",
   "execution_count": null,
   "id": "numerous-brunei",
   "metadata": {},
   "outputs": [],
   "source": []
  }
 ],
 "metadata": {
  "kernelspec": {
   "display_name": "Python 3",
   "language": "python",
   "name": "python3"
  },
  "language_info": {
   "codemirror_mode": {
    "name": "ipython",
    "version": 3
   },
   "file_extension": ".py",
   "mimetype": "text/x-python",
   "name": "python",
   "nbconvert_exporter": "python",
   "pygments_lexer": "ipython3",
   "version": "3.6.12"
  }
 },
 "nbformat": 4,
 "nbformat_minor": 5
}
