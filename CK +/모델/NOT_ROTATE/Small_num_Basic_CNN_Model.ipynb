{
 "cells": [
  {
   "cell_type": "code",
   "execution_count": 1,
   "id": "integrated-adapter",
   "metadata": {},
   "outputs": [],
   "source": [
    "import numpy as np"
   ]
  },
  {
   "cell_type": "code",
   "execution_count": 2,
   "id": "aging-requirement",
   "metadata": {},
   "outputs": [],
   "source": [
    "input_data=np.load(\"CK+dataset.npy\")\n",
    "label=np.load(\"CK+label.npy\")"
   ]
  },
  {
   "cell_type": "code",
   "execution_count": 3,
   "id": "mobile-buyer",
   "metadata": {},
   "outputs": [
    {
     "data": {
      "text/plain": [
       "(327, 640, 480)"
      ]
     },
     "execution_count": 3,
     "metadata": {},
     "output_type": "execute_result"
    }
   ],
   "source": [
    "input_data.shape"
   ]
  },
  {
   "cell_type": "code",
   "execution_count": 4,
   "id": "worldwide-closure",
   "metadata": {},
   "outputs": [
    {
     "data": {
      "text/plain": [
       "(327,)"
      ]
     },
     "execution_count": 4,
     "metadata": {},
     "output_type": "execute_result"
    }
   ],
   "source": [
    "label.shape"
   ]
  },
  {
   "cell_type": "code",
   "execution_count": 5,
   "id": "differential-router",
   "metadata": {},
   "outputs": [],
   "source": [
    "label=label-1"
   ]
  },
  {
   "cell_type": "code",
   "execution_count": 8,
   "id": "starting-detection",
   "metadata": {},
   "outputs": [],
   "source": [
    "import matplotlib.pyplot as plt\n",
    "import numpy as np\n",
    "import random\n",
    "import torch\n",
    "import torchvision\n",
    "import torchvision.transforms as transforms\n",
    "import torch.nn as nn\n",
    "import torch.nn.functional as F\n",
    "import torch.optim as optim\n",
    "import argparse\n",
    "import numpy as np\n",
    "import time\n",
    "from copy import deepcopy\n",
    "import seaborn as sns \n",
    "import matplotlib.pyplot as plt"
   ]
  },
  {
   "cell_type": "code",
   "execution_count": 9,
   "id": "running-future",
   "metadata": {},
   "outputs": [],
   "source": [
    "input_data=torch.FloatTensor(input_data)\n",
    "label=torch.LongTensor(label)"
   ]
  },
  {
   "cell_type": "code",
   "execution_count": 10,
   "id": "caring-demand",
   "metadata": {},
   "outputs": [
    {
     "data": {
      "text/plain": [
       "torch.Size([327, 640, 480])"
      ]
     },
     "execution_count": 10,
     "metadata": {},
     "output_type": "execute_result"
    }
   ],
   "source": [
    "input_data.shape"
   ]
  },
  {
   "cell_type": "markdown",
   "id": "personal-education",
   "metadata": {},
   "source": [
    "CNN Architecture"
   ]
  },
  {
   "cell_type": "code",
   "execution_count": 11,
   "id": "southern-profit",
   "metadata": {},
   "outputs": [],
   "source": [
    "remake=input_data.unsqueeze(0)\n",
    "remake=remake.transpose(0,1)"
   ]
  },
  {
   "cell_type": "code",
   "execution_count": 12,
   "id": "changed-turkey",
   "metadata": {},
   "outputs": [
    {
     "data": {
      "text/plain": [
       "torch.Size([327, 1, 640, 480])"
      ]
     },
     "execution_count": 12,
     "metadata": {},
     "output_type": "execute_result"
    }
   ],
   "source": [
    "remake.shape"
   ]
  },
  {
   "cell_type": "code",
   "execution_count": 13,
   "id": "announced-intake",
   "metadata": {},
   "outputs": [],
   "source": [
    "from torch.utils.data import TensorDataset\n",
    "from torch.utils.data import DataLoader\n",
    "dataset = TensorDataset(remake,label)"
   ]
  },
  {
   "cell_type": "code",
   "execution_count": 14,
   "id": "hollywood-pavilion",
   "metadata": {},
   "outputs": [],
   "source": [
    "trainset,valset=torch.utils.data.random_split(dataset,[277,50])\n",
    "trainset,testset=torch.utils.data.random_split(trainset,[227,50])\n",
    "\n",
    "partition={'train':trainset,'val':valset,'test':testset}"
   ]
  },
  {
   "cell_type": "code",
   "execution_count": 15,
   "id": "appreciated-union",
   "metadata": {},
   "outputs": [],
   "source": [
    "class CNN(nn.Module):\n",
    "    \n",
    "    def __init__(self):\n",
    "        super(CNN, self).__init__()\n",
    "        \n",
    "        self.conv1=nn.Conv2d(in_channels=1,\n",
    "                            out_channels=32,\n",
    "                            kernel_size=6,\n",
    "                            stride=2,\n",
    "                            padding=2) # 32 24 24\n",
    "        self.conv2=nn.Conv2d(in_channels=32, \n",
    "                            out_channels=64,\n",
    "                            kernel_size=5,\n",
    "                            stride=2,\n",
    "                            padding=2) # 64 60 64\n",
    "        self.conv3=nn.Conv2d(in_channels=64,\n",
    "                            out_channels=128,\n",
    "                            kernel_size=3,\n",
    "                            stride=1,\n",
    "                            padding=1) # 25 30 128\n",
    "        self.act=nn.ReLU()\n",
    "        self.maxpool1=nn.MaxPool2d(kernel_size=2,\n",
    "                                  stride=2)\n",
    "        self.fc=nn.Linear(38400,7)\n",
    "    def forward(self,x):\n",
    "        x=self.conv1(x)\n",
    "        x=self.act(x)\n",
    "        x=self.maxpool1(x)\n",
    "        x=self.conv2(x)\n",
    "        x=self.act(x)\n",
    "        x=self.maxpool1(x)\n",
    "        x=self.conv3(x)\n",
    "        x=self.act(x)\n",
    "        x=self.maxpool1(x)\n",
    "        x=x.view(x.size(0),-1)\n",
    "        x=self.fc(x)\n",
    "        return x"
   ]
  },
  {
   "cell_type": "code",
   "execution_count": 16,
   "id": "handmade-humor",
   "metadata": {},
   "outputs": [],
   "source": [
    "def dimension_check():\n",
    "    net=CNN()\n",
    "    x=torch.randn(1,1,640,480)\n",
    "    y=net(x)\n",
    "    print(y.size())"
   ]
  },
  {
   "cell_type": "code",
   "execution_count": 17,
   "id": "democratic-telling",
   "metadata": {},
   "outputs": [
    {
     "name": "stdout",
     "output_type": "stream",
     "text": [
      "torch.Size([1, 7])\n"
     ]
    }
   ],
   "source": [
    "dimension_check()"
   ]
  },
  {
   "cell_type": "code",
   "execution_count": 18,
   "id": "general-bracket",
   "metadata": {},
   "outputs": [],
   "source": [
    "def train(net,partition,optimizer,criterion):\n",
    "    trainloader = torch.utils.data.DataLoader(partition['train'],\n",
    "                                             batch_size=32,\n",
    "                                             shuffle=True)\n",
    "    net.train()\n",
    "    correct = 0\n",
    "    total =0\n",
    "    train_loss = 0.0\n",
    "    for i, data in enumerate(tqdm(trainloader, 0)):\n",
    "        time.sleep(0.0000001)\n",
    "        optimizer.zero_grad()\n",
    "        inputs, labels = data\n",
    "        inputs = inputs.cuda()\n",
    "        labels = labels.cuda()\n",
    "        outputs = net(inputs)\n",
    "        #break\n",
    "        loss = criterion(outputs, labels)\n",
    "        loss.backward()\n",
    "        optimizer.step()\n",
    "        \n",
    "        train_loss += loss.item()\n",
    "        _, predicted = torch.max(outputs.data, 1)\n",
    "        total += labels.size(0)\n",
    "        correct += (predicted == labels).sum().item()\n",
    "        #if i % 200 == 0:\n",
    "        #    print(correct,train_loss)\n",
    "    train_loss = train_loss / len(trainloader)\n",
    "    train_acc = 100 * correct / total\n",
    "    return net, train_loss, train_acc"
   ]
  },
  {
   "cell_type": "code",
   "execution_count": 19,
   "id": "caroline-attraction",
   "metadata": {},
   "outputs": [],
   "source": [
    "def train(net,partition,optimizer,criterion):\n",
    "    trainloader = torch.utils.data.DataLoader(partition['train'],\n",
    "                                             batch_size=32,\n",
    "                                             shuffle=True)\n",
    "    net.train()\n",
    "    correct = 0\n",
    "    total =0\n",
    "    train_loss = 0.0\n",
    "    for i, data in enumerate(tqdm(trainloader, 0)):\n",
    "        time.sleep(0.0000001)\n",
    "        optimizer.zero_grad()\n",
    "        inputs, labels = data\n",
    "        inputs = inputs.cuda()\n",
    "        labels = labels.cuda()\n",
    "        outputs = net(inputs)\n",
    "        #break\n",
    "        loss = criterion(outputs, labels)\n",
    "        loss.backward()\n",
    "        optimizer.step()\n",
    "        \n",
    "        train_loss += loss.item()\n",
    "        _, predicted = torch.max(outputs.data, 1)\n",
    "        total += labels.size(0)\n",
    "        correct += (predicted == labels).sum().item()\n",
    "        #if i % 200 == 0:\n",
    "        #    print(correct,train_loss)\n",
    "    train_loss = train_loss / len(trainloader)\n",
    "    train_acc = 100 * correct / total\n",
    "    return net, train_loss, train_acc"
   ]
  },
  {
   "cell_type": "code",
   "execution_count": 20,
   "id": "laughing-startup",
   "metadata": {},
   "outputs": [],
   "source": [
    "def validate(net, partition, criterion):\n",
    "    valloader = torch.utils.data.DataLoader(partition['val'], \n",
    "                                            batch_size=32, \n",
    "                                            shuffle=False, num_workers=2)\n",
    "    net.eval()\n",
    "\n",
    "    correct = 0\n",
    "    total = 0\n",
    "    val_loss = 0 \n",
    "    with torch.no_grad():\n",
    "        for data in tqdm(valloader):\n",
    "            time.sleep(0.0000001)\n",
    "            images, labels = data\n",
    "            images = images.cuda()\n",
    "            labels = labels.cuda()\n",
    "            outputs = net(images)\n",
    "\n",
    "            loss = criterion(outputs, labels)\n",
    "            \n",
    "            val_loss += loss.item()\n",
    "            _, predicted = torch.max(outputs.data, 1)\n",
    "            total += labels.size(0)\n",
    "            correct += (predicted == labels).sum().item()\n",
    "\n",
    "        val_loss = val_loss / len(valloader)\n",
    "        val_acc = 100 * correct / total\n",
    "    return val_loss, val_acc"
   ]
  },
  {
   "cell_type": "code",
   "execution_count": 21,
   "id": "forward-reception",
   "metadata": {},
   "outputs": [],
   "source": [
    "from tqdm import tqdm, tqdm_notebook\n",
    "from tqdm import trange\n",
    "import time"
   ]
  },
  {
   "cell_type": "code",
   "execution_count": 23,
   "id": "ideal-entrepreneur",
   "metadata": {},
   "outputs": [
    {
     "name": "stderr",
     "output_type": "stream",
     "text": [
      "100%|██████████| 8/8 [00:00<00:00, 34.74it/s]\n",
      "100%|██████████| 2/2 [00:00<00:00, 20.84it/s]\n",
      " 50%|█████     | 4/8 [00:00<00:00, 35.18it/s]"
     ]
    },
    {
     "name": "stdout",
     "output_type": "stream",
     "text": [
      "time : 0.33, train_loss : 2.01, train_acc : 19.82,val_acc : 34.00,val_loss : 1.85\n"
     ]
    },
    {
     "name": "stderr",
     "output_type": "stream",
     "text": [
      "100%|██████████| 8/8 [00:00<00:00, 38.69it/s]\n",
      "100%|██████████| 2/2 [00:00<00:00, 21.07it/s]\n",
      " 50%|█████     | 4/8 [00:00<00:00, 35.27it/s]"
     ]
    },
    {
     "name": "stdout",
     "output_type": "stream",
     "text": [
      "time : 0.31, train_loss : 1.84, train_acc : 22.47,val_acc : 16.00,val_loss : 1.82\n"
     ]
    },
    {
     "name": "stderr",
     "output_type": "stream",
     "text": [
      "100%|██████████| 8/8 [00:00<00:00, 38.77it/s]\n",
      "100%|██████████| 2/2 [00:00<00:00, 22.27it/s]\n",
      " 50%|█████     | 4/8 [00:00<00:00, 35.38it/s]"
     ]
    },
    {
     "name": "stdout",
     "output_type": "stream",
     "text": [
      "time : 0.30, train_loss : 1.90, train_acc : 20.26,val_acc : 12.00,val_loss : 1.86\n"
     ]
    },
    {
     "name": "stderr",
     "output_type": "stream",
     "text": [
      "100%|██████████| 8/8 [00:00<00:00, 38.84it/s]\n",
      "100%|██████████| 2/2 [00:00<00:00, 16.05it/s]\n",
      " 50%|█████     | 4/8 [00:00<00:00, 34.68it/s]"
     ]
    },
    {
     "name": "stdout",
     "output_type": "stream",
     "text": [
      "time : 0.33, train_loss : 1.83, train_acc : 13.22,val_acc : 34.00,val_loss : 1.81\n"
     ]
    },
    {
     "name": "stderr",
     "output_type": "stream",
     "text": [
      "100%|██████████| 8/8 [00:00<00:00, 38.20it/s]\n",
      "100%|██████████| 2/2 [00:00<00:00, 20.30it/s]\n",
      " 50%|█████     | 4/8 [00:00<00:00, 34.85it/s]"
     ]
    },
    {
     "name": "stdout",
     "output_type": "stream",
     "text": [
      "time : 0.31, train_loss : 1.83, train_acc : 23.79,val_acc : 16.00,val_loss : 1.77\n"
     ]
    },
    {
     "name": "stderr",
     "output_type": "stream",
     "text": [
      "100%|██████████| 8/8 [00:00<00:00, 38.31it/s]\n",
      "100%|██████████| 2/2 [00:00<00:00, 16.74it/s]\n",
      " 50%|█████     | 4/8 [00:00<00:00, 34.91it/s]"
     ]
    },
    {
     "name": "stdout",
     "output_type": "stream",
     "text": [
      "time : 0.33, train_loss : 1.81, train_acc : 21.59,val_acc : 34.00,val_loss : 1.70\n"
     ]
    },
    {
     "name": "stderr",
     "output_type": "stream",
     "text": [
      "100%|██████████| 8/8 [00:00<00:00, 38.26it/s]\n",
      "100%|██████████| 2/2 [00:00<00:00, 18.56it/s]\n",
      " 50%|█████     | 4/8 [00:00<00:00, 35.32it/s]"
     ]
    },
    {
     "name": "stdout",
     "output_type": "stream",
     "text": [
      "time : 0.32, train_loss : 1.83, train_acc : 25.55,val_acc : 16.00,val_loss : 1.75\n"
     ]
    },
    {
     "name": "stderr",
     "output_type": "stream",
     "text": [
      "100%|██████████| 8/8 [00:00<00:00, 38.86it/s]\n",
      "100%|██████████| 2/2 [00:00<00:00, 20.56it/s]\n",
      " 50%|█████     | 4/8 [00:00<00:00, 34.92it/s]"
     ]
    },
    {
     "name": "stdout",
     "output_type": "stream",
     "text": [
      "time : 0.31, train_loss : 1.75, train_acc : 25.11,val_acc : 24.00,val_loss : 1.71\n"
     ]
    },
    {
     "name": "stderr",
     "output_type": "stream",
     "text": [
      "100%|██████████| 8/8 [00:00<00:00, 38.38it/s]\n",
      "100%|██████████| 2/2 [00:00<00:00, 20.09it/s]\n",
      " 50%|█████     | 4/8 [00:00<00:00, 34.57it/s]"
     ]
    },
    {
     "name": "stdout",
     "output_type": "stream",
     "text": [
      "time : 0.31, train_loss : 1.67, train_acc : 29.07,val_acc : 26.00,val_loss : 1.69\n"
     ]
    },
    {
     "name": "stderr",
     "output_type": "stream",
     "text": [
      "100%|██████████| 8/8 [00:00<00:00, 38.03it/s]\n",
      "100%|██████████| 2/2 [00:00<00:00, 20.84it/s]\n",
      " 50%|█████     | 4/8 [00:00<00:00, 35.44it/s]"
     ]
    },
    {
     "name": "stdout",
     "output_type": "stream",
     "text": [
      "time : 0.31, train_loss : 1.63, train_acc : 34.36,val_acc : 24.00,val_loss : 1.67\n"
     ]
    },
    {
     "name": "stderr",
     "output_type": "stream",
     "text": [
      "100%|██████████| 8/8 [00:00<00:00, 39.03it/s]\n",
      "100%|██████████| 2/2 [00:00<00:00, 19.19it/s]\n",
      " 50%|█████     | 4/8 [00:00<00:00, 34.79it/s]"
     ]
    },
    {
     "name": "stdout",
     "output_type": "stream",
     "text": [
      "time : 0.31, train_loss : 1.62, train_acc : 36.12,val_acc : 24.00,val_loss : 1.62\n"
     ]
    },
    {
     "name": "stderr",
     "output_type": "stream",
     "text": [
      "100%|██████████| 8/8 [00:00<00:00, 38.08it/s]\n",
      "100%|██████████| 2/2 [00:00<00:00, 16.76it/s]\n",
      " 50%|█████     | 4/8 [00:00<00:00, 34.59it/s]"
     ]
    },
    {
     "name": "stdout",
     "output_type": "stream",
     "text": [
      "time : 0.33, train_loss : 1.65, train_acc : 31.72,val_acc : 32.00,val_loss : 1.66\n"
     ]
    },
    {
     "name": "stderr",
     "output_type": "stream",
     "text": [
      "100%|██████████| 8/8 [00:00<00:00, 37.95it/s]\n",
      "100%|██████████| 2/2 [00:00<00:00, 18.33it/s]\n",
      " 50%|█████     | 4/8 [00:00<00:00, 35.36it/s]"
     ]
    },
    {
     "name": "stdout",
     "output_type": "stream",
     "text": [
      "time : 0.33, train_loss : 1.58, train_acc : 39.21,val_acc : 34.00,val_loss : 1.59\n"
     ]
    },
    {
     "name": "stderr",
     "output_type": "stream",
     "text": [
      "100%|██████████| 8/8 [00:00<00:00, 38.97it/s]\n",
      "100%|██████████| 2/2 [00:00<00:00, 16.42it/s]\n",
      " 50%|█████     | 4/8 [00:00<00:00, 34.94it/s]"
     ]
    },
    {
     "name": "stdout",
     "output_type": "stream",
     "text": [
      "time : 0.33, train_loss : 1.48, train_acc : 38.77,val_acc : 30.00,val_loss : 1.73\n"
     ]
    },
    {
     "name": "stderr",
     "output_type": "stream",
     "text": [
      "100%|██████████| 8/8 [00:00<00:00, 38.29it/s]\n",
      "100%|██████████| 2/2 [00:00<00:00, 19.03it/s]\n",
      " 50%|█████     | 4/8 [00:00<00:00, 35.11it/s]"
     ]
    },
    {
     "name": "stdout",
     "output_type": "stream",
     "text": [
      "time : 0.32, train_loss : 1.52, train_acc : 40.97,val_acc : 26.00,val_loss : 1.75\n"
     ]
    },
    {
     "name": "stderr",
     "output_type": "stream",
     "text": [
      "100%|██████████| 8/8 [00:00<00:00, 38.78it/s]\n",
      "100%|██████████| 2/2 [00:00<00:00, 16.35it/s]\n",
      " 50%|█████     | 4/8 [00:00<00:00, 34.78it/s]"
     ]
    },
    {
     "name": "stdout",
     "output_type": "stream",
     "text": [
      "time : 0.33, train_loss : 1.41, train_acc : 44.49,val_acc : 28.00,val_loss : 1.73\n"
     ]
    },
    {
     "name": "stderr",
     "output_type": "stream",
     "text": [
      "100%|██████████| 8/8 [00:00<00:00, 38.16it/s]\n",
      "100%|██████████| 2/2 [00:00<00:00, 20.86it/s]\n",
      " 50%|█████     | 4/8 [00:00<00:00, 35.40it/s]"
     ]
    },
    {
     "name": "stdout",
     "output_type": "stream",
     "text": [
      "time : 0.31, train_loss : 1.27, train_acc : 45.37,val_acc : 34.00,val_loss : 1.67\n"
     ]
    },
    {
     "name": "stderr",
     "output_type": "stream",
     "text": [
      "100%|██████████| 8/8 [00:00<00:00, 38.81it/s]\n",
      "100%|██████████| 2/2 [00:00<00:00, 20.71it/s]\n",
      " 50%|█████     | 4/8 [00:00<00:00, 35.12it/s]"
     ]
    },
    {
     "name": "stdout",
     "output_type": "stream",
     "text": [
      "time : 0.31, train_loss : 1.32, train_acc : 42.73,val_acc : 28.00,val_loss : 1.94\n"
     ]
    },
    {
     "name": "stderr",
     "output_type": "stream",
     "text": [
      "100%|██████████| 8/8 [00:00<00:00, 38.79it/s]\n",
      "100%|██████████| 2/2 [00:00<00:00, 20.03it/s]\n",
      " 50%|█████     | 4/8 [00:00<00:00, 34.47it/s]"
     ]
    },
    {
     "name": "stdout",
     "output_type": "stream",
     "text": [
      "time : 0.31, train_loss : 1.16, train_acc : 50.66,val_acc : 40.00,val_loss : 1.79\n"
     ]
    },
    {
     "name": "stderr",
     "output_type": "stream",
     "text": [
      "100%|██████████| 8/8 [00:00<00:00, 37.86it/s]\n",
      "100%|██████████| 2/2 [00:00<00:00, 17.72it/s]\n",
      " 50%|█████     | 4/8 [00:00<00:00, 35.52it/s]"
     ]
    },
    {
     "name": "stdout",
     "output_type": "stream",
     "text": [
      "time : 0.33, train_loss : 1.15, train_acc : 51.10,val_acc : 32.00,val_loss : 2.11\n"
     ]
    },
    {
     "name": "stderr",
     "output_type": "stream",
     "text": [
      "100%|██████████| 8/8 [00:00<00:00, 39.06it/s]\n",
      "100%|██████████| 2/2 [00:00<00:00, 20.47it/s]\n",
      " 50%|█████     | 4/8 [00:00<00:00, 35.54it/s]"
     ]
    },
    {
     "name": "stdout",
     "output_type": "stream",
     "text": [
      "time : 0.31, train_loss : 1.06, train_acc : 57.71,val_acc : 26.00,val_loss : 1.91\n"
     ]
    },
    {
     "name": "stderr",
     "output_type": "stream",
     "text": [
      "100%|██████████| 8/8 [00:00<00:00, 39.06it/s]\n",
      "100%|██████████| 2/2 [00:00<00:00, 20.45it/s]\n",
      " 50%|█████     | 4/8 [00:00<00:00, 35.41it/s]"
     ]
    },
    {
     "name": "stdout",
     "output_type": "stream",
     "text": [
      "time : 0.31, train_loss : 0.98, train_acc : 60.35,val_acc : 38.00,val_loss : 2.32\n"
     ]
    },
    {
     "name": "stderr",
     "output_type": "stream",
     "text": [
      "100%|██████████| 8/8 [00:00<00:00, 38.89it/s]\n",
      "100%|██████████| 2/2 [00:00<00:00, 18.65it/s]\n",
      " 50%|█████     | 4/8 [00:00<00:00, 35.19it/s]"
     ]
    },
    {
     "name": "stdout",
     "output_type": "stream",
     "text": [
      "time : 0.32, train_loss : 0.89, train_acc : 62.56,val_acc : 30.00,val_loss : 2.28\n"
     ]
    },
    {
     "name": "stderr",
     "output_type": "stream",
     "text": [
      "100%|██████████| 8/8 [00:00<00:00, 38.74it/s]\n",
      "100%|██████████| 2/2 [00:00<00:00, 18.77it/s]\n",
      " 50%|█████     | 4/8 [00:00<00:00, 35.12it/s]"
     ]
    },
    {
     "name": "stdout",
     "output_type": "stream",
     "text": [
      "time : 0.32, train_loss : 0.83, train_acc : 64.32,val_acc : 32.00,val_loss : 2.35\n"
     ]
    },
    {
     "name": "stderr",
     "output_type": "stream",
     "text": [
      "100%|██████████| 8/8 [00:00<00:00, 38.42it/s]\n",
      "100%|██████████| 2/2 [00:00<00:00, 18.15it/s]\n",
      " 50%|█████     | 4/8 [00:00<00:00, 34.58it/s]"
     ]
    },
    {
     "name": "stdout",
     "output_type": "stream",
     "text": [
      "time : 0.32, train_loss : 0.91, train_acc : 62.11,val_acc : 36.00,val_loss : 2.39\n"
     ]
    },
    {
     "name": "stderr",
     "output_type": "stream",
     "text": [
      "100%|██████████| 8/8 [00:00<00:00, 37.90it/s]\n",
      "100%|██████████| 2/2 [00:00<00:00, 18.87it/s]\n",
      " 50%|█████     | 4/8 [00:00<00:00, 35.10it/s]"
     ]
    },
    {
     "name": "stdout",
     "output_type": "stream",
     "text": [
      "time : 0.32, train_loss : 0.79, train_acc : 72.69,val_acc : 34.00,val_loss : 2.12\n"
     ]
    },
    {
     "name": "stderr",
     "output_type": "stream",
     "text": [
      "100%|██████████| 8/8 [00:00<00:00, 38.53it/s]\n",
      "100%|██████████| 2/2 [00:00<00:00, 14.07it/s]\n",
      " 50%|█████     | 4/8 [00:00<00:00, 34.75it/s]"
     ]
    },
    {
     "name": "stdout",
     "output_type": "stream",
     "text": [
      "time : 0.35, train_loss : 0.71, train_acc : 80.18,val_acc : 36.00,val_loss : 2.66\n"
     ]
    },
    {
     "name": "stderr",
     "output_type": "stream",
     "text": [
      "100%|██████████| 8/8 [00:00<00:00, 38.16it/s]\n",
      "100%|██████████| 2/2 [00:00<00:00, 18.72it/s]\n",
      " 50%|█████     | 4/8 [00:00<00:00, 35.25it/s]"
     ]
    },
    {
     "name": "stdout",
     "output_type": "stream",
     "text": [
      "time : 0.32, train_loss : 0.70, train_acc : 73.57,val_acc : 30.00,val_loss : 2.36\n"
     ]
    },
    {
     "name": "stderr",
     "output_type": "stream",
     "text": [
      "100%|██████████| 8/8 [00:00<00:00, 38.83it/s]\n",
      "100%|██████████| 2/2 [00:00<00:00, 16.87it/s]\n",
      " 50%|█████     | 4/8 [00:00<00:00, 35.29it/s]"
     ]
    },
    {
     "name": "stdout",
     "output_type": "stream",
     "text": [
      "time : 0.33, train_loss : 0.58, train_acc : 79.74,val_acc : 40.00,val_loss : 2.13\n"
     ]
    },
    {
     "name": "stderr",
     "output_type": "stream",
     "text": [
      "100%|██████████| 8/8 [00:00<00:00, 38.86it/s]\n",
      "100%|██████████| 2/2 [00:00<00:00, 20.23it/s]\n",
      " 50%|█████     | 4/8 [00:00<00:00, 34.50it/s]"
     ]
    },
    {
     "name": "stdout",
     "output_type": "stream",
     "text": [
      "time : 0.31, train_loss : 0.45, train_acc : 85.02,val_acc : 34.00,val_loss : 2.32\n"
     ]
    },
    {
     "name": "stderr",
     "output_type": "stream",
     "text": [
      "100%|██████████| 8/8 [00:00<00:00, 38.21it/s]\n",
      "100%|██████████| 2/2 [00:00<00:00, 18.28it/s]\n",
      " 50%|█████     | 4/8 [00:00<00:00, 34.84it/s]"
     ]
    },
    {
     "name": "stdout",
     "output_type": "stream",
     "text": [
      "time : 0.32, train_loss : 0.42, train_acc : 89.43,val_acc : 36.00,val_loss : 2.42\n"
     ]
    },
    {
     "name": "stderr",
     "output_type": "stream",
     "text": [
      "100%|██████████| 8/8 [00:00<00:00, 38.15it/s]\n",
      "100%|██████████| 2/2 [00:00<00:00, 19.79it/s]\n",
      " 50%|█████     | 4/8 [00:00<00:00, 35.32it/s]"
     ]
    },
    {
     "name": "stdout",
     "output_type": "stream",
     "text": [
      "time : 0.32, train_loss : 0.40, train_acc : 83.70,val_acc : 40.00,val_loss : 3.19\n"
     ]
    },
    {
     "name": "stderr",
     "output_type": "stream",
     "text": [
      "100%|██████████| 8/8 [00:00<00:00, 38.82it/s]\n",
      "100%|██████████| 2/2 [00:00<00:00, 20.52it/s]\n",
      " 50%|█████     | 4/8 [00:00<00:00, 35.44it/s]"
     ]
    },
    {
     "name": "stdout",
     "output_type": "stream",
     "text": [
      "time : 0.31, train_loss : 0.34, train_acc : 88.11,val_acc : 34.00,val_loss : 2.56\n"
     ]
    },
    {
     "name": "stderr",
     "output_type": "stream",
     "text": [
      "100%|██████████| 8/8 [00:00<00:00, 38.96it/s]\n",
      "100%|██████████| 2/2 [00:00<00:00, 20.29it/s]\n",
      " 50%|█████     | 4/8 [00:00<00:00, 34.75it/s]"
     ]
    },
    {
     "name": "stdout",
     "output_type": "stream",
     "text": [
      "time : 0.31, train_loss : 0.24, train_acc : 91.63,val_acc : 36.00,val_loss : 2.75\n"
     ]
    },
    {
     "name": "stderr",
     "output_type": "stream",
     "text": [
      "100%|██████████| 8/8 [00:00<00:00, 38.35it/s]\n",
      "100%|██████████| 2/2 [00:00<00:00, 18.70it/s]\n",
      " 50%|█████     | 4/8 [00:00<00:00, 35.09it/s]"
     ]
    },
    {
     "name": "stdout",
     "output_type": "stream",
     "text": [
      "time : 0.32, train_loss : 0.16, train_acc : 95.15,val_acc : 44.00,val_loss : 2.64\n"
     ]
    },
    {
     "name": "stderr",
     "output_type": "stream",
     "text": [
      "100%|██████████| 8/8 [00:00<00:00, 38.53it/s]\n",
      "100%|██████████| 2/2 [00:00<00:00, 20.74it/s]\n",
      " 50%|█████     | 4/8 [00:00<00:00, 34.98it/s]"
     ]
    },
    {
     "name": "stdout",
     "output_type": "stream",
     "text": [
      "time : 0.31, train_loss : 0.10, train_acc : 96.04,val_acc : 40.00,val_loss : 3.01\n"
     ]
    },
    {
     "name": "stderr",
     "output_type": "stream",
     "text": [
      "100%|██████████| 8/8 [00:00<00:00, 38.49it/s]\n",
      "100%|██████████| 2/2 [00:00<00:00, 20.17it/s]\n",
      " 50%|█████     | 4/8 [00:00<00:00, 34.48it/s]"
     ]
    },
    {
     "name": "stdout",
     "output_type": "stream",
     "text": [
      "time : 0.31, train_loss : 0.07, train_acc : 99.56,val_acc : 40.00,val_loss : 3.28\n"
     ]
    },
    {
     "name": "stderr",
     "output_type": "stream",
     "text": [
      "100%|██████████| 8/8 [00:00<00:00, 38.13it/s]\n",
      "100%|██████████| 2/2 [00:00<00:00, 18.58it/s]\n",
      " 50%|█████     | 4/8 [00:00<00:00, 34.99it/s]"
     ]
    },
    {
     "name": "stdout",
     "output_type": "stream",
     "text": [
      "time : 0.32, train_loss : 0.05, train_acc : 98.68,val_acc : 40.00,val_loss : 3.40\n"
     ]
    },
    {
     "name": "stderr",
     "output_type": "stream",
     "text": [
      "100%|██████████| 8/8 [00:00<00:00, 38.57it/s]\n",
      "100%|██████████| 2/2 [00:00<00:00, 18.40it/s]\n",
      " 50%|█████     | 4/8 [00:00<00:00, 35.20it/s]"
     ]
    },
    {
     "name": "stdout",
     "output_type": "stream",
     "text": [
      "time : 0.32, train_loss : 0.04, train_acc : 99.12,val_acc : 42.00,val_loss : 3.73\n"
     ]
    },
    {
     "name": "stderr",
     "output_type": "stream",
     "text": [
      "100%|██████████| 8/8 [00:00<00:00, 38.66it/s]\n",
      "100%|██████████| 2/2 [00:00<00:00, 18.63it/s]\n",
      " 50%|█████     | 4/8 [00:00<00:00, 34.62it/s]"
     ]
    },
    {
     "name": "stdout",
     "output_type": "stream",
     "text": [
      "time : 0.32, train_loss : 0.08, train_acc : 98.24,val_acc : 38.00,val_loss : 3.75\n"
     ]
    },
    {
     "name": "stderr",
     "output_type": "stream",
     "text": [
      "100%|██████████| 8/8 [00:00<00:00, 37.92it/s]\n",
      "100%|██████████| 2/2 [00:00<00:00, 19.83it/s]\n",
      " 50%|█████     | 4/8 [00:00<00:00, 34.72it/s]"
     ]
    },
    {
     "name": "stdout",
     "output_type": "stream",
     "text": [
      "time : 0.32, train_loss : 0.07, train_acc : 97.80,val_acc : 42.00,val_loss : 3.66\n"
     ]
    },
    {
     "name": "stderr",
     "output_type": "stream",
     "text": [
      "100%|██████████| 8/8 [00:00<00:00, 37.92it/s]\n",
      "100%|██████████| 2/2 [00:00<00:00, 17.89it/s]\n",
      " 50%|█████     | 4/8 [00:00<00:00, 34.72it/s]"
     ]
    },
    {
     "name": "stdout",
     "output_type": "stream",
     "text": [
      "time : 0.33, train_loss : 0.04, train_acc : 98.68,val_acc : 36.00,val_loss : 3.49\n"
     ]
    },
    {
     "name": "stderr",
     "output_type": "stream",
     "text": [
      "100%|██████████| 8/8 [00:00<00:00, 37.92it/s]\n",
      "100%|██████████| 2/2 [00:00<00:00, 17.68it/s]\n",
      " 50%|█████     | 4/8 [00:00<00:00, 34.32it/s]"
     ]
    },
    {
     "name": "stdout",
     "output_type": "stream",
     "text": [
      "time : 0.33, train_loss : 0.04, train_acc : 99.56,val_acc : 44.00,val_loss : 3.73\n"
     ]
    },
    {
     "name": "stderr",
     "output_type": "stream",
     "text": [
      "100%|██████████| 8/8 [00:00<00:00, 38.19it/s]\n",
      "100%|██████████| 2/2 [00:00<00:00, 19.74it/s]\n",
      " 50%|█████     | 4/8 [00:00<00:00, 35.19it/s]"
     ]
    },
    {
     "name": "stdout",
     "output_type": "stream",
     "text": [
      "time : 0.32, train_loss : 0.03, train_acc : 99.56,val_acc : 40.00,val_loss : 3.48\n"
     ]
    },
    {
     "name": "stderr",
     "output_type": "stream",
     "text": [
      "100%|██████████| 8/8 [00:00<00:00, 38.58it/s]\n",
      "100%|██████████| 2/2 [00:00<00:00, 21.07it/s]\n",
      " 50%|█████     | 4/8 [00:00<00:00, 35.23it/s]"
     ]
    },
    {
     "name": "stdout",
     "output_type": "stream",
     "text": [
      "time : 0.31, train_loss : 0.03, train_acc : 99.56,val_acc : 38.00,val_loss : 3.60\n"
     ]
    },
    {
     "name": "stderr",
     "output_type": "stream",
     "text": [
      "100%|██████████| 8/8 [00:00<00:00, 38.66it/s]\n",
      "100%|██████████| 2/2 [00:00<00:00, 20.68it/s]\n",
      " 50%|█████     | 4/8 [00:00<00:00, 35.10it/s]"
     ]
    },
    {
     "name": "stdout",
     "output_type": "stream",
     "text": [
      "time : 0.31, train_loss : 0.02, train_acc : 100.00,val_acc : 42.00,val_loss : 3.86\n"
     ]
    },
    {
     "name": "stderr",
     "output_type": "stream",
     "text": [
      "100%|██████████| 8/8 [00:00<00:00, 38.58it/s]\n",
      "100%|██████████| 2/2 [00:00<00:00, 20.13it/s]\n",
      " 50%|█████     | 4/8 [00:00<00:00, 34.58it/s]"
     ]
    },
    {
     "name": "stdout",
     "output_type": "stream",
     "text": [
      "time : 0.31, train_loss : 0.02, train_acc : 99.56,val_acc : 42.00,val_loss : 3.89\n"
     ]
    },
    {
     "name": "stderr",
     "output_type": "stream",
     "text": [
      "100%|██████████| 8/8 [00:00<00:00, 37.83it/s]\n",
      "100%|██████████| 2/2 [00:00<00:00, 19.39it/s]\n",
      " 50%|█████     | 4/8 [00:00<00:00, 35.01it/s]"
     ]
    },
    {
     "name": "stdout",
     "output_type": "stream",
     "text": [
      "time : 0.32, train_loss : 0.01, train_acc : 100.00,val_acc : 40.00,val_loss : 3.76\n"
     ]
    },
    {
     "name": "stderr",
     "output_type": "stream",
     "text": [
      "100%|██████████| 8/8 [00:00<00:00, 38.53it/s]\n",
      "100%|██████████| 2/2 [00:00<00:00, 18.54it/s]\n",
      " 50%|█████     | 4/8 [00:00<00:00, 34.59it/s]"
     ]
    },
    {
     "name": "stdout",
     "output_type": "stream",
     "text": [
      "time : 0.32, train_loss : 0.05, train_acc : 99.12,val_acc : 40.00,val_loss : 3.85\n"
     ]
    },
    {
     "name": "stderr",
     "output_type": "stream",
     "text": [
      "100%|██████████| 8/8 [00:00<00:00, 38.23it/s]\n",
      "100%|██████████| 2/2 [00:00<00:00, 19.76it/s]\n",
      "  0%|          | 0/2 [00:00<?, ?it/s]"
     ]
    },
    {
     "name": "stdout",
     "output_type": "stream",
     "text": [
      "time : 0.32, train_loss : 0.02, train_acc : 100.00,val_acc : 44.00,val_loss : 3.83\n"
     ]
    },
    {
     "name": "stderr",
     "output_type": "stream",
     "text": [
      "100%|██████████| 2/2 [00:00<00:00, 20.02it/s]\n"
     ]
    }
   ],
   "source": [
    "seed = 123\n",
    "np.random.seed(seed)\n",
    "torch.manual_seed(seed)\n",
    "net=CNN()\n",
    "net.cuda()\n",
    "criterion=nn.CrossEntropyLoss()\n",
    "optimizer = optim.Adam(net.parameters(), lr=0.0015, weight_decay=0.00001)\n",
    "train_losses=[]\n",
    "val_losses=[]\n",
    "train_accs=[]\n",
    "val_accs=[]\n",
    "for epoch in range(50):\n",
    "    ts=time.time()\n",
    "    net, train_loss,train_acc=train(net, partition, optimizer, criterion)\n",
    "    val_loss, val_acc = validate(net, partition, criterion)\n",
    "    te=time.time()\n",
    "    print('time : {:2.2f}, train_loss : {:2.2f}, train_acc : {:2.2f},val_acc : {:2.2f},val_loss : {:2.2f}'.format(te-ts,train_loss,train_acc,val_acc,val_loss))\n",
    "    train_loss=round(train_loss,2)\n",
    "    val_loss=round(val_loss,2)\n",
    "    train_acc=round(train_acc,2)\n",
    "    val_acc=round(val_acc,2)\n",
    "    train_losses.append(train_loss)\n",
    "    val_losses.append(val_loss)\n",
    "    train_accs.append(train_acc)\n",
    "    val_accs.append(val_acc)\n",
    "test_acc = test(net,partition)\n",
    "test_acc=round(test_acc,2)"
   ]
  },
  {
   "cell_type": "code",
   "execution_count": null,
   "id": "aerial-missouri",
   "metadata": {},
   "outputs": [],
   "source": [
    "np.save(\"/home/lab/양창희/Emotion Project/test_list_file/Basic_train_loss.npy\",train_loss)\n",
    "np.save(\"/home/lab/양창희/Emotion Project/test_list_file/Basic_val_loss.npy\",val_loss)\n",
    "np.save(\"/home/lab/양창희/Emotion Project/test_list_file/Basic_train_acc.npy\",train_acc)\n",
    "np.save(\"/home/lab/양창희/Emotion Project/test_list_file/Basic_val_acc.npy\",val_acc)"
   ]
  }
 ],
 "metadata": {
  "kernelspec": {
   "display_name": "Python 3",
   "language": "python",
   "name": "python3"
  },
  "language_info": {
   "codemirror_mode": {
    "name": "ipython",
    "version": 3
   },
   "file_extension": ".py",
   "mimetype": "text/x-python",
   "name": "python",
   "nbconvert_exporter": "python",
   "pygments_lexer": "ipython3",
   "version": "3.6.12"
  }
 },
 "nbformat": 4,
 "nbformat_minor": 5
}
