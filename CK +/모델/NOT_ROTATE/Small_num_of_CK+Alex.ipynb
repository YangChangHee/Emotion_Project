{
 "cells": [
  {
   "cell_type": "code",
   "execution_count": 1,
   "id": "plain-three",
   "metadata": {},
   "outputs": [],
   "source": [
    "import numpy as np"
   ]
  },
  {
   "cell_type": "code",
   "execution_count": 2,
   "id": "unavailable-judgment",
   "metadata": {},
   "outputs": [],
   "source": [
    "input_data=np.load(\"CK+dataset.npy\")\n",
    "label=np.load(\"CK+label.npy\")"
   ]
  },
  {
   "cell_type": "code",
   "execution_count": 3,
   "id": "transsexual-travel",
   "metadata": {},
   "outputs": [],
   "source": [
    "label=label-1"
   ]
  },
  {
   "cell_type": "code",
   "execution_count": 4,
   "id": "through-burlington",
   "metadata": {},
   "outputs": [],
   "source": [
    "import matplotlib.pyplot as plt\n",
    "import numpy as np\n",
    "import random\n",
    "import torch\n",
    "import torchvision\n",
    "import torchvision.transforms as transforms\n",
    "import torch.nn as nn\n",
    "import torch.nn.functional as F\n",
    "import torch.optim as optim\n",
    "import argparse\n",
    "import numpy as np\n",
    "import time\n",
    "from copy import deepcopy\n",
    "import seaborn as sns \n",
    "import matplotlib.pyplot as plt"
   ]
  },
  {
   "cell_type": "code",
   "execution_count": 5,
   "id": "proved-destiny",
   "metadata": {},
   "outputs": [],
   "source": [
    "input_data=torch.FloatTensor(input_data)\n",
    "label=torch.LongTensor(label)"
   ]
  },
  {
   "cell_type": "code",
   "execution_count": 6,
   "id": "continuous-intelligence",
   "metadata": {},
   "outputs": [
    {
     "data": {
      "text/plain": [
       "torch.Size([327, 640, 480])"
      ]
     },
     "execution_count": 6,
     "metadata": {},
     "output_type": "execute_result"
    }
   ],
   "source": [
    "input_data.shape"
   ]
  },
  {
   "cell_type": "code",
   "execution_count": 7,
   "id": "heavy-cassette",
   "metadata": {},
   "outputs": [],
   "source": [
    "remake=input_data.unsqueeze(0)\n",
    "remake=remake.transpose(0,1)"
   ]
  },
  {
   "cell_type": "code",
   "execution_count": 8,
   "id": "uniform-insertion",
   "metadata": {},
   "outputs": [],
   "source": [
    "from torch.utils.data import TensorDataset\n",
    "from torch.utils.data import DataLoader\n",
    "dataset = TensorDataset(remake,label)"
   ]
  },
  {
   "cell_type": "code",
   "execution_count": 9,
   "id": "ecological-antenna",
   "metadata": {},
   "outputs": [],
   "source": [
    "trainset,valset=torch.utils.data.random_split(dataset,[277,50])\n",
    "trainset,testset=torch.utils.data.random_split(trainset,[227,50])\n",
    "\n",
    "partition={'train':trainset,'val':valset,'test':testset}"
   ]
  },
  {
   "cell_type": "code",
   "execution_count": 26,
   "id": "rapid-advantage",
   "metadata": {},
   "outputs": [],
   "source": [
    "class AlexNet(nn.Module):\n",
    "    \n",
    "    def __init__(self):\n",
    "        super(AlexNet,self).__init__()\n",
    "        self.feature=nn.Sequential(\n",
    "        nn.Conv2d(1, 64, kernel_size=11, stride=4, padding=2),# 64 56 56\n",
    "        nn.ReLU(inplace=True),\n",
    "        nn.MaxPool2d(kernel_size=3,stride=2),#MAXPooling 할 때 마지막 1은 버림. 64 27 27\n",
    "        nn.Conv2d(64, 192, kernel_size=5, padding=2), # 192, 27, 27\n",
    "        nn.ReLU(inplace=True),\n",
    "        nn.MaxPool2d(kernel_size=3,stride=2), # 192 13 13\n",
    "        nn.Conv2d(192, 384, kernel_size=3, padding=1), # 384 13 13\n",
    "        nn.ReLU(inplace=True),\n",
    "        nn.Conv2d(384, 256, kernel_size=3, padding=1), # 256 13 13\n",
    "        nn.ReLU(inplace=True),\n",
    "        nn.Conv2d(256, 256, kernel_size=3, padding=1),\n",
    "        nn.ReLU(inplace=True),\n",
    "        nn.MaxPool2d(kernel_size=3, stride=2) # 256 6 6 \n",
    "        )\n",
    "        self.avgpool=nn.AdaptiveAvgPool2d((6,6)) # 256 6 6 (6,6)은 output size이다.\n",
    "        # 평균을 구하는 것으로 반올림 정수가 나옴.\n",
    "        self.classifier = nn.Sequential(\n",
    "        nn.Dropout(),\n",
    "        nn.Linear(256*6*6,4096),  # 9216=>4096, 256 36\n",
    "        nn.ReLU(inplace=True),\n",
    "        nn.Dropout(),\n",
    "        nn.Linear(4096,4096),\n",
    "        nn.ReLU(inplace=True),\n",
    "        nn.Linear(4096,7), # => 2 class\n",
    "        \n",
    "        )\n",
    "    def forward(self, x):\n",
    "        x=self.feature(x)\n",
    "        x=self.avgpool(x)\n",
    "        x=torch.flatten(x,1) # ex => 2,2,2 => 2,4\n",
    "        x=self.classifier(x)\n",
    "        return x"
   ]
  },
  {
   "cell_type": "code",
   "execution_count": 27,
   "id": "labeled-services",
   "metadata": {},
   "outputs": [],
   "source": [
    "def dimension_check():\n",
    "    net=AlexNet()\n",
    "    x= torch.randn(2,1,640,480)\n",
    "    y=net(x)\n",
    "    print(y.size())"
   ]
  },
  {
   "cell_type": "code",
   "execution_count": 28,
   "id": "original-edgar",
   "metadata": {},
   "outputs": [
    {
     "name": "stdout",
     "output_type": "stream",
     "text": [
      "torch.Size([2, 7])\n"
     ]
    }
   ],
   "source": [
    "dimension_check()"
   ]
  },
  {
   "cell_type": "code",
   "execution_count": 29,
   "id": "virtual-consumption",
   "metadata": {},
   "outputs": [],
   "source": [
    "def train(net,partition,optimizer,criterion):\n",
    "    trainloader = torch.utils.data.DataLoader(partition['train'],\n",
    "                                             batch_size=32,\n",
    "                                             shuffle=True)\n",
    "    net.train()\n",
    "    correct = 0\n",
    "    total =0\n",
    "    train_loss = 0.0\n",
    "    for i, data in enumerate(tqdm(trainloader, 0)):\n",
    "        time.sleep(0.0000001)\n",
    "        optimizer.zero_grad()\n",
    "        inputs, labels = data\n",
    "        inputs = inputs.cuda()\n",
    "        labels = labels.cuda()\n",
    "        outputs = net(inputs)\n",
    "        #break\n",
    "        loss = criterion(outputs, labels)\n",
    "        loss.backward()\n",
    "        optimizer.step()\n",
    "        \n",
    "        train_loss += loss.item()\n",
    "        _, predicted = torch.max(outputs.data, 1)\n",
    "        total += labels.size(0)\n",
    "        correct += (predicted == labels).sum().item()\n",
    "        #if i % 200 == 0:\n",
    "        #    print(correct,train_loss)\n",
    "    train_loss = train_loss / len(trainloader)\n",
    "    train_acc = 100 * correct / total\n",
    "    return net, train_loss, train_acc"
   ]
  },
  {
   "cell_type": "code",
   "execution_count": 30,
   "id": "virgin-ottawa",
   "metadata": {},
   "outputs": [],
   "source": [
    "def test(net, partition):\n",
    "    testloader = torch.utils.data.DataLoader(partition['test'], \n",
    "                                             batch_size=32, \n",
    "                                             shuffle=False, num_workers=2)\n",
    "    net.eval()\n",
    "    \n",
    "    correct = 0\n",
    "    total = 0\n",
    "    with torch.no_grad():\n",
    "        for data in tqdm(testloader):\n",
    "            time.sleep(0.0000001)\n",
    "            images, labels = data\n",
    "            images = images.cuda()\n",
    "            labels = labels.cuda()\n",
    "\n",
    "            outputs = net(images)\n",
    "            _, predicted = torch.max(outputs.data, 1)\n",
    "            total += labels.size(0)\n",
    "            correct += (predicted == labels).sum().item()\n",
    "\n",
    "        test_acc = 100 * correct / total\n",
    "    return test_acc"
   ]
  },
  {
   "cell_type": "code",
   "execution_count": 31,
   "id": "confirmed-tobago",
   "metadata": {},
   "outputs": [],
   "source": [
    "def validate(net, partition, criterion):\n",
    "    valloader = torch.utils.data.DataLoader(partition['val'], \n",
    "                                            batch_size=32, \n",
    "                                            shuffle=False, num_workers=2)\n",
    "    net.eval()\n",
    "\n",
    "    correct = 0\n",
    "    total = 0\n",
    "    val_loss = 0 \n",
    "    with torch.no_grad():\n",
    "        for data in tqdm(valloader):\n",
    "            time.sleep(0.0000001)\n",
    "            images, labels = data\n",
    "            images = images.cuda()\n",
    "            labels = labels.cuda()\n",
    "            outputs = net(images)\n",
    "\n",
    "            loss = criterion(outputs, labels)\n",
    "            \n",
    "            val_loss += loss.item()\n",
    "            _, predicted = torch.max(outputs.data, 1)\n",
    "            total += labels.size(0)\n",
    "            correct += (predicted == labels).sum().item()\n",
    "\n",
    "        val_loss = val_loss / len(valloader)\n",
    "        val_acc = 100 * correct / total\n",
    "    return val_loss, val_acc"
   ]
  },
  {
   "cell_type": "code",
   "execution_count": 32,
   "id": "lightweight-pioneer",
   "metadata": {},
   "outputs": [],
   "source": [
    "from tqdm import tqdm, tqdm_notebook\n",
    "from tqdm import trange\n",
    "import time"
   ]
  },
  {
   "cell_type": "code",
   "execution_count": 36,
   "id": "hazardous-smoke",
   "metadata": {},
   "outputs": [
    {
     "name": "stderr",
     "output_type": "stream",
     "text": [
      "100%|██████████| 8/8 [00:00<00:00, 12.90it/s]\n",
      "100%|██████████| 2/2 [00:00<00:00, 14.76it/s]\n",
      " 25%|██▌       | 2/8 [00:00<00:00, 12.19it/s]"
     ]
    },
    {
     "name": "stdout",
     "output_type": "stream",
     "text": [
      "time : 0.76, train_loss : 649742.90, train_acc : 12.78,val_acc : 24.00,val_loss : 194.56\n"
     ]
    },
    {
     "name": "stderr",
     "output_type": "stream",
     "text": [
      "100%|██████████| 8/8 [00:00<00:00, 13.36it/s]\n",
      "100%|██████████| 2/2 [00:00<00:00, 16.34it/s]\n",
      " 25%|██▌       | 2/8 [00:00<00:00, 12.26it/s]"
     ]
    },
    {
     "name": "stdout",
     "output_type": "stream",
     "text": [
      "time : 0.73, train_loss : 36.71, train_acc : 17.18,val_acc : 16.00,val_loss : 2.01\n"
     ]
    },
    {
     "name": "stderr",
     "output_type": "stream",
     "text": [
      "100%|██████████| 8/8 [00:00<00:00, 13.41it/s]\n",
      "100%|██████████| 2/2 [00:00<00:00, 16.55it/s]\n",
      " 25%|██▌       | 2/8 [00:00<00:00, 12.30it/s]"
     ]
    },
    {
     "name": "stdout",
     "output_type": "stream",
     "text": [
      "time : 0.72, train_loss : 2.02, train_acc : 20.26,val_acc : 28.00,val_loss : 1.88\n"
     ]
    },
    {
     "name": "stderr",
     "output_type": "stream",
     "text": [
      "100%|██████████| 8/8 [00:00<00:00, 13.47it/s]\n",
      "100%|██████████| 2/2 [00:00<00:00, 16.51it/s]\n",
      " 25%|██▌       | 2/8 [00:00<00:00, 12.27it/s]"
     ]
    },
    {
     "name": "stdout",
     "output_type": "stream",
     "text": [
      "time : 0.72, train_loss : 1.88, train_acc : 24.23,val_acc : 28.00,val_loss : 1.83\n"
     ]
    },
    {
     "name": "stderr",
     "output_type": "stream",
     "text": [
      "100%|██████████| 8/8 [00:00<00:00, 13.48it/s]\n",
      "100%|██████████| 2/2 [00:00<00:00, 15.47it/s]\n",
      " 25%|██▌       | 2/8 [00:00<00:00, 12.27it/s]"
     ]
    },
    {
     "name": "stdout",
     "output_type": "stream",
     "text": [
      "time : 0.73, train_loss : 1.89, train_acc : 24.67,val_acc : 28.00,val_loss : 1.80\n"
     ]
    },
    {
     "name": "stderr",
     "output_type": "stream",
     "text": [
      "100%|██████████| 8/8 [00:00<00:00, 13.44it/s]\n",
      "100%|██████████| 2/2 [00:00<00:00, 17.77it/s]\n",
      " 25%|██▌       | 2/8 [00:00<00:00, 12.31it/s]"
     ]
    },
    {
     "name": "stdout",
     "output_type": "stream",
     "text": [
      "time : 0.71, train_loss : 1.87, train_acc : 26.87,val_acc : 24.00,val_loss : 1.81\n"
     ]
    },
    {
     "name": "stderr",
     "output_type": "stream",
     "text": [
      "100%|██████████| 8/8 [00:00<00:00, 13.50it/s]\n",
      "100%|██████████| 2/2 [00:00<00:00, 17.69it/s]\n",
      " 25%|██▌       | 2/8 [00:00<00:00, 12.36it/s]"
     ]
    },
    {
     "name": "stdout",
     "output_type": "stream",
     "text": [
      "time : 0.71, train_loss : 1.82, train_acc : 20.70,val_acc : 28.00,val_loss : 1.78\n"
     ]
    },
    {
     "name": "stderr",
     "output_type": "stream",
     "text": [
      "100%|██████████| 8/8 [00:00<00:00, 13.54it/s]\n",
      "100%|██████████| 2/2 [00:00<00:00, 17.57it/s]\n",
      " 25%|██▌       | 2/8 [00:00<00:00, 12.40it/s]"
     ]
    },
    {
     "name": "stdout",
     "output_type": "stream",
     "text": [
      "time : 0.71, train_loss : 1.87, train_acc : 24.67,val_acc : 28.00,val_loss : 1.78\n"
     ]
    },
    {
     "name": "stderr",
     "output_type": "stream",
     "text": [
      "100%|██████████| 8/8 [00:00<00:00, 13.53it/s]\n",
      "100%|██████████| 2/2 [00:00<00:00, 14.00it/s]\n",
      " 25%|██▌       | 2/8 [00:00<00:00, 12.31it/s]"
     ]
    },
    {
     "name": "stdout",
     "output_type": "stream",
     "text": [
      "time : 0.74, train_loss : 1.82, train_acc : 24.67,val_acc : 28.00,val_loss : 1.79\n"
     ]
    },
    {
     "name": "stderr",
     "output_type": "stream",
     "text": [
      "100%|██████████| 8/8 [00:00<00:00, 13.42it/s]\n",
      "100%|██████████| 2/2 [00:00<00:00, 16.40it/s]\n",
      " 25%|██▌       | 2/8 [00:00<00:00, 12.39it/s]"
     ]
    },
    {
     "name": "stdout",
     "output_type": "stream",
     "text": [
      "time : 0.72, train_loss : 1.93, train_acc : 26.43,val_acc : 28.00,val_loss : 1.79\n"
     ]
    },
    {
     "name": "stderr",
     "output_type": "stream",
     "text": [
      "100%|██████████| 8/8 [00:00<00:00, 13.51it/s]\n",
      "100%|██████████| 2/2 [00:00<00:00, 17.77it/s]\n",
      " 25%|██▌       | 2/8 [00:00<00:00, 12.34it/s]"
     ]
    },
    {
     "name": "stdout",
     "output_type": "stream",
     "text": [
      "time : 0.71, train_loss : 1.84, train_acc : 24.67,val_acc : 28.00,val_loss : 1.78\n"
     ]
    },
    {
     "name": "stderr",
     "output_type": "stream",
     "text": [
      "100%|██████████| 8/8 [00:00<00:00, 13.43it/s]\n",
      "100%|██████████| 2/2 [00:00<00:00, 16.47it/s]\n",
      " 25%|██▌       | 2/8 [00:00<00:00, 12.27it/s]"
     ]
    },
    {
     "name": "stdout",
     "output_type": "stream",
     "text": [
      "time : 0.72, train_loss : 1.87, train_acc : 22.91,val_acc : 24.00,val_loss : 1.79\n"
     ]
    },
    {
     "name": "stderr",
     "output_type": "stream",
     "text": [
      "100%|██████████| 8/8 [00:00<00:00, 13.46it/s]\n",
      "100%|██████████| 2/2 [00:00<00:00, 16.78it/s]\n",
      " 25%|██▌       | 2/8 [00:00<00:00, 12.31it/s]"
     ]
    },
    {
     "name": "stdout",
     "output_type": "stream",
     "text": [
      "time : 0.72, train_loss : 1.82, train_acc : 22.47,val_acc : 28.00,val_loss : 1.79\n"
     ]
    },
    {
     "name": "stderr",
     "output_type": "stream",
     "text": [
      "100%|██████████| 8/8 [00:00<00:00, 13.46it/s]\n",
      "100%|██████████| 2/2 [00:00<00:00, 12.98it/s]\n",
      " 25%|██▌       | 2/8 [00:00<00:00, 12.28it/s]"
     ]
    },
    {
     "name": "stdout",
     "output_type": "stream",
     "text": [
      "time : 0.75, train_loss : 1.81, train_acc : 24.67,val_acc : 28.00,val_loss : 1.78\n"
     ]
    },
    {
     "name": "stderr",
     "output_type": "stream",
     "text": [
      "100%|██████████| 8/8 [00:00<00:00, 13.38it/s]\n",
      "100%|██████████| 2/2 [00:00<00:00, 17.06it/s]\n",
      " 25%|██▌       | 2/8 [00:00<00:00, 12.24it/s]"
     ]
    },
    {
     "name": "stdout",
     "output_type": "stream",
     "text": [
      "time : 0.72, train_loss : 1.89, train_acc : 23.79,val_acc : 28.00,val_loss : 1.78\n"
     ]
    },
    {
     "name": "stderr",
     "output_type": "stream",
     "text": [
      "100%|██████████| 8/8 [00:00<00:00, 13.43it/s]\n",
      "100%|██████████| 2/2 [00:00<00:00, 17.15it/s]\n",
      " 25%|██▌       | 2/8 [00:00<00:00, 12.31it/s]"
     ]
    },
    {
     "name": "stdout",
     "output_type": "stream",
     "text": [
      "time : 0.72, train_loss : 1.87, train_acc : 24.67,val_acc : 28.00,val_loss : 1.80\n"
     ]
    },
    {
     "name": "stderr",
     "output_type": "stream",
     "text": [
      "100%|██████████| 8/8 [00:00<00:00, 13.42it/s]\n",
      "100%|██████████| 2/2 [00:00<00:00, 18.99it/s]\n",
      " 25%|██▌       | 2/8 [00:00<00:00, 12.30it/s]"
     ]
    },
    {
     "name": "stdout",
     "output_type": "stream",
     "text": [
      "time : 0.71, train_loss : 1.87, train_acc : 23.79,val_acc : 28.00,val_loss : 1.80\n"
     ]
    },
    {
     "name": "stderr",
     "output_type": "stream",
     "text": [
      "100%|██████████| 8/8 [00:00<00:00, 13.44it/s]\n",
      "100%|██████████| 2/2 [00:00<00:00, 16.64it/s]\n",
      " 25%|██▌       | 2/8 [00:00<00:00, 12.27it/s]"
     ]
    },
    {
     "name": "stdout",
     "output_type": "stream",
     "text": [
      "time : 0.72, train_loss : 1.83, train_acc : 25.99,val_acc : 28.00,val_loss : 1.79\n"
     ]
    },
    {
     "name": "stderr",
     "output_type": "stream",
     "text": [
      "100%|██████████| 8/8 [00:00<00:00, 13.37it/s]\n",
      "100%|██████████| 2/2 [00:00<00:00, 16.51it/s]\n",
      " 25%|██▌       | 2/8 [00:00<00:00, 12.34it/s]"
     ]
    },
    {
     "name": "stdout",
     "output_type": "stream",
     "text": [
      "time : 0.72, train_loss : 1.93, train_acc : 18.94,val_acc : 24.00,val_loss : 1.81\n"
     ]
    },
    {
     "name": "stderr",
     "output_type": "stream",
     "text": [
      "100%|██████████| 8/8 [00:00<00:00, 13.42it/s]\n",
      "100%|██████████| 2/2 [00:00<00:00, 17.73it/s]\n",
      " 25%|██▌       | 2/8 [00:00<00:00, 12.29it/s]"
     ]
    },
    {
     "name": "stdout",
     "output_type": "stream",
     "text": [
      "time : 0.71, train_loss : 1.86, train_acc : 19.82,val_acc : 28.00,val_loss : 1.80\n"
     ]
    },
    {
     "name": "stderr",
     "output_type": "stream",
     "text": [
      "100%|██████████| 8/8 [00:00<00:00, 13.45it/s]\n",
      "100%|██████████| 2/2 [00:00<00:00, 17.15it/s]\n",
      " 25%|██▌       | 2/8 [00:00<00:00, 12.20it/s]"
     ]
    },
    {
     "name": "stdout",
     "output_type": "stream",
     "text": [
      "time : 0.72, train_loss : 1.82, train_acc : 24.67,val_acc : 28.00,val_loss : 1.78\n"
     ]
    },
    {
     "name": "stderr",
     "output_type": "stream",
     "text": [
      "100%|██████████| 8/8 [00:00<00:00, 13.36it/s]\n",
      "100%|██████████| 2/2 [00:00<00:00, 14.66it/s]\n",
      " 25%|██▌       | 2/8 [00:00<00:00, 12.25it/s]"
     ]
    },
    {
     "name": "stdout",
     "output_type": "stream",
     "text": [
      "time : 0.74, train_loss : 1.90, train_acc : 24.67,val_acc : 28.00,val_loss : 1.78\n"
     ]
    },
    {
     "name": "stderr",
     "output_type": "stream",
     "text": [
      "100%|██████████| 8/8 [00:00<00:00, 13.36it/s]\n",
      "100%|██████████| 2/2 [00:00<00:00, 17.13it/s]\n",
      " 25%|██▌       | 2/8 [00:00<00:00, 12.14it/s]"
     ]
    },
    {
     "name": "stdout",
     "output_type": "stream",
     "text": [
      "time : 0.72, train_loss : 1.84, train_acc : 23.79,val_acc : 24.00,val_loss : 1.79\n"
     ]
    },
    {
     "name": "stderr",
     "output_type": "stream",
     "text": [
      "100%|██████████| 8/8 [00:00<00:00, 13.35it/s]\n",
      "100%|██████████| 2/2 [00:00<00:00, 16.90it/s]\n",
      " 25%|██▌       | 2/8 [00:00<00:00, 12.26it/s]"
     ]
    },
    {
     "name": "stdout",
     "output_type": "stream",
     "text": [
      "time : 0.72, train_loss : 2.10, train_acc : 19.82,val_acc : 28.00,val_loss : 1.82\n"
     ]
    },
    {
     "name": "stderr",
     "output_type": "stream",
     "text": [
      "100%|██████████| 8/8 [00:00<00:00, 13.39it/s]\n",
      "100%|██████████| 2/2 [00:00<00:00, 17.07it/s]\n",
      " 25%|██▌       | 2/8 [00:00<00:00, 12.21it/s]"
     ]
    },
    {
     "name": "stdout",
     "output_type": "stream",
     "text": [
      "time : 0.72, train_loss : 1.86, train_acc : 22.03,val_acc : 24.00,val_loss : 1.79\n"
     ]
    },
    {
     "name": "stderr",
     "output_type": "stream",
     "text": [
      "100%|██████████| 8/8 [00:00<00:00, 13.43it/s]\n",
      "100%|██████████| 2/2 [00:00<00:00, 18.53it/s]\n",
      " 25%|██▌       | 2/8 [00:00<00:00, 12.20it/s]"
     ]
    },
    {
     "name": "stdout",
     "output_type": "stream",
     "text": [
      "time : 0.71, train_loss : 1.85, train_acc : 24.23,val_acc : 28.00,val_loss : 1.80\n"
     ]
    },
    {
     "name": "stderr",
     "output_type": "stream",
     "text": [
      "100%|██████████| 8/8 [00:00<00:00, 13.43it/s]\n",
      "100%|██████████| 2/2 [00:00<00:00, 17.61it/s]\n",
      " 25%|██▌       | 2/8 [00:00<00:00, 12.35it/s]"
     ]
    },
    {
     "name": "stdout",
     "output_type": "stream",
     "text": [
      "time : 0.71, train_loss : 1.86, train_acc : 24.67,val_acc : 24.00,val_loss : 1.80\n"
     ]
    },
    {
     "name": "stderr",
     "output_type": "stream",
     "text": [
      "100%|██████████| 8/8 [00:00<00:00, 13.47it/s]\n",
      "100%|██████████| 2/2 [00:00<00:00, 17.58it/s]\n",
      " 25%|██▌       | 2/8 [00:00<00:00, 12.27it/s]"
     ]
    },
    {
     "name": "stdout",
     "output_type": "stream",
     "text": [
      "time : 0.71, train_loss : 1.83, train_acc : 25.99,val_acc : 28.00,val_loss : 1.80\n"
     ]
    },
    {
     "name": "stderr",
     "output_type": "stream",
     "text": [
      "100%|██████████| 8/8 [00:00<00:00, 13.45it/s]\n",
      "100%|██████████| 2/2 [00:00<00:00, 12.05it/s]\n",
      " 25%|██▌       | 2/8 [00:00<00:00, 12.28it/s]"
     ]
    },
    {
     "name": "stdout",
     "output_type": "stream",
     "text": [
      "time : 0.77, train_loss : 1.84, train_acc : 22.91,val_acc : 24.00,val_loss : 1.79\n"
     ]
    },
    {
     "name": "stderr",
     "output_type": "stream",
     "text": [
      "100%|██████████| 8/8 [00:00<00:00, 13.43it/s]\n",
      "100%|██████████| 2/2 [00:00<00:00, 17.07it/s]\n",
      " 25%|██▌       | 2/8 [00:00<00:00, 12.25it/s]"
     ]
    },
    {
     "name": "stdout",
     "output_type": "stream",
     "text": [
      "time : 0.72, train_loss : 1.82, train_acc : 21.15,val_acc : 24.00,val_loss : 1.78\n"
     ]
    },
    {
     "name": "stderr",
     "output_type": "stream",
     "text": [
      "100%|██████████| 8/8 [00:00<00:00, 13.31it/s]\n",
      "100%|██████████| 2/2 [00:00<00:00, 17.68it/s]\n",
      " 25%|██▌       | 2/8 [00:00<00:00, 12.23it/s]"
     ]
    },
    {
     "name": "stdout",
     "output_type": "stream",
     "text": [
      "time : 0.72, train_loss : 1.89, train_acc : 19.82,val_acc : 18.00,val_loss : 2.03\n"
     ]
    },
    {
     "name": "stderr",
     "output_type": "stream",
     "text": [
      "100%|██████████| 8/8 [00:00<00:00, 13.44it/s]\n",
      "100%|██████████| 2/2 [00:00<00:00, 18.70it/s]\n",
      " 25%|██▌       | 2/8 [00:00<00:00, 12.16it/s]"
     ]
    },
    {
     "name": "stdout",
     "output_type": "stream",
     "text": [
      "time : 0.71, train_loss : 2.01, train_acc : 22.03,val_acc : 28.00,val_loss : 1.80\n"
     ]
    },
    {
     "name": "stderr",
     "output_type": "stream",
     "text": [
      "100%|██████████| 8/8 [00:00<00:00, 13.42it/s]\n",
      "100%|██████████| 2/2 [00:00<00:00, 12.94it/s]\n",
      " 25%|██▌       | 2/8 [00:00<00:00, 12.25it/s]"
     ]
    },
    {
     "name": "stdout",
     "output_type": "stream",
     "text": [
      "time : 0.76, train_loss : 1.84, train_acc : 24.67,val_acc : 28.00,val_loss : 1.80\n"
     ]
    },
    {
     "name": "stderr",
     "output_type": "stream",
     "text": [
      "100%|██████████| 8/8 [00:00<00:00, 13.34it/s]\n",
      "100%|██████████| 2/2 [00:00<00:00, 16.95it/s]\n",
      " 25%|██▌       | 2/8 [00:00<00:00, 12.26it/s]"
     ]
    },
    {
     "name": "stdout",
     "output_type": "stream",
     "text": [
      "time : 0.72, train_loss : 1.82, train_acc : 21.59,val_acc : 28.00,val_loss : 1.78\n"
     ]
    },
    {
     "name": "stderr",
     "output_type": "stream",
     "text": [
      "100%|██████████| 8/8 [00:00<00:00, 13.41it/s]\n",
      "100%|██████████| 2/2 [00:00<00:00, 17.31it/s]\n",
      " 25%|██▌       | 2/8 [00:00<00:00, 12.30it/s]"
     ]
    },
    {
     "name": "stdout",
     "output_type": "stream",
     "text": [
      "time : 0.72, train_loss : 1.89, train_acc : 22.47,val_acc : 28.00,val_loss : 1.78\n"
     ]
    },
    {
     "name": "stderr",
     "output_type": "stream",
     "text": [
      "100%|██████████| 8/8 [00:00<00:00, 13.39it/s]\n",
      "100%|██████████| 2/2 [00:00<00:00, 17.36it/s]\n",
      " 25%|██▌       | 2/8 [00:00<00:00, 12.22it/s]"
     ]
    },
    {
     "name": "stdout",
     "output_type": "stream",
     "text": [
      "time : 0.72, train_loss : 1.83, train_acc : 23.79,val_acc : 28.00,val_loss : 1.80\n"
     ]
    },
    {
     "name": "stderr",
     "output_type": "stream",
     "text": [
      "100%|██████████| 8/8 [00:00<00:00, 13.35it/s]\n",
      "100%|██████████| 2/2 [00:00<00:00, 17.44it/s]\n",
      " 25%|██▌       | 2/8 [00:00<00:00, 12.21it/s]"
     ]
    },
    {
     "name": "stdout",
     "output_type": "stream",
     "text": [
      "time : 0.72, train_loss : 1.86, train_acc : 21.59,val_acc : 28.00,val_loss : 1.79\n"
     ]
    },
    {
     "name": "stderr",
     "output_type": "stream",
     "text": [
      "100%|██████████| 8/8 [00:00<00:00, 13.38it/s]\n",
      "100%|██████████| 2/2 [00:00<00:00, 15.69it/s]\n",
      " 25%|██▌       | 2/8 [00:00<00:00, 12.27it/s]"
     ]
    },
    {
     "name": "stdout",
     "output_type": "stream",
     "text": [
      "time : 0.73, train_loss : 1.87, train_acc : 21.15,val_acc : 28.00,val_loss : 1.79\n"
     ]
    },
    {
     "name": "stderr",
     "output_type": "stream",
     "text": [
      "100%|██████████| 8/8 [00:00<00:00, 13.40it/s]\n",
      "100%|██████████| 2/2 [00:00<00:00, 17.78it/s]\n",
      " 25%|██▌       | 2/8 [00:00<00:00, 12.21it/s]"
     ]
    },
    {
     "name": "stdout",
     "output_type": "stream",
     "text": [
      "time : 0.71, train_loss : 1.88, train_acc : 24.67,val_acc : 28.00,val_loss : 1.80\n"
     ]
    },
    {
     "name": "stderr",
     "output_type": "stream",
     "text": [
      "100%|██████████| 8/8 [00:00<00:00, 13.37it/s]\n",
      "100%|██████████| 2/2 [00:00<00:00, 15.53it/s]\n",
      " 25%|██▌       | 2/8 [00:00<00:00, 12.23it/s]"
     ]
    },
    {
     "name": "stdout",
     "output_type": "stream",
     "text": [
      "time : 0.73, train_loss : 1.89, train_acc : 24.23,val_acc : 28.00,val_loss : 1.81\n"
     ]
    },
    {
     "name": "stderr",
     "output_type": "stream",
     "text": [
      "100%|██████████| 8/8 [00:00<00:00, 13.36it/s]\n",
      "100%|██████████| 2/2 [00:00<00:00, 16.01it/s]\n",
      " 25%|██▌       | 2/8 [00:00<00:00, 12.28it/s]"
     ]
    },
    {
     "name": "stdout",
     "output_type": "stream",
     "text": [
      "time : 0.73, train_loss : 1.82, train_acc : 24.67,val_acc : 28.00,val_loss : 1.82\n"
     ]
    },
    {
     "name": "stderr",
     "output_type": "stream",
     "text": [
      "100%|██████████| 8/8 [00:00<00:00, 13.36it/s]\n",
      "100%|██████████| 2/2 [00:00<00:00, 17.05it/s]\n",
      " 25%|██▌       | 2/8 [00:00<00:00, 12.13it/s]"
     ]
    },
    {
     "name": "stdout",
     "output_type": "stream",
     "text": [
      "time : 0.72, train_loss : 1.90, train_acc : 24.67,val_acc : 28.00,val_loss : 1.80\n"
     ]
    },
    {
     "name": "stderr",
     "output_type": "stream",
     "text": [
      "100%|██████████| 8/8 [00:00<00:00, 13.33it/s]\n",
      "100%|██████████| 2/2 [00:00<00:00, 17.47it/s]\n",
      " 25%|██▌       | 2/8 [00:00<00:00, 12.23it/s]"
     ]
    },
    {
     "name": "stdout",
     "output_type": "stream",
     "text": [
      "time : 0.72, train_loss : 1.87, train_acc : 17.18,val_acc : 24.00,val_loss : 1.80\n"
     ]
    },
    {
     "name": "stderr",
     "output_type": "stream",
     "text": [
      "100%|██████████| 8/8 [00:00<00:00, 13.34it/s]\n",
      "100%|██████████| 2/2 [00:00<00:00, 16.94it/s]\n",
      " 25%|██▌       | 2/8 [00:00<00:00, 12.21it/s]"
     ]
    },
    {
     "name": "stdout",
     "output_type": "stream",
     "text": [
      "time : 0.72, train_loss : 1.90, train_acc : 23.35,val_acc : 28.00,val_loss : 1.79\n"
     ]
    },
    {
     "name": "stderr",
     "output_type": "stream",
     "text": [
      "100%|██████████| 8/8 [00:00<00:00, 13.35it/s]\n",
      "100%|██████████| 2/2 [00:00<00:00, 17.60it/s]\n",
      " 25%|██▌       | 2/8 [00:00<00:00, 12.20it/s]"
     ]
    },
    {
     "name": "stdout",
     "output_type": "stream",
     "text": [
      "time : 0.72, train_loss : 1.83, train_acc : 24.67,val_acc : 28.00,val_loss : 1.81\n"
     ]
    },
    {
     "name": "stderr",
     "output_type": "stream",
     "text": [
      "100%|██████████| 8/8 [00:00<00:00, 13.33it/s]\n",
      "100%|██████████| 2/2 [00:00<00:00, 16.17it/s]\n",
      " 25%|██▌       | 2/8 [00:00<00:00, 12.18it/s]"
     ]
    },
    {
     "name": "stdout",
     "output_type": "stream",
     "text": [
      "time : 0.73, train_loss : 1.81, train_acc : 24.67,val_acc : 28.00,val_loss : 1.80\n"
     ]
    },
    {
     "name": "stderr",
     "output_type": "stream",
     "text": [
      "100%|██████████| 8/8 [00:00<00:00, 13.35it/s]\n",
      "100%|██████████| 2/2 [00:00<00:00, 17.77it/s]\n",
      " 25%|██▌       | 2/8 [00:00<00:00, 12.22it/s]"
     ]
    },
    {
     "name": "stdout",
     "output_type": "stream",
     "text": [
      "time : 0.72, train_loss : 1.85, train_acc : 24.67,val_acc : 28.00,val_loss : 1.79\n"
     ]
    },
    {
     "name": "stderr",
     "output_type": "stream",
     "text": [
      "100%|██████████| 8/8 [00:00<00:00, 13.34it/s]\n",
      "100%|██████████| 2/2 [00:00<00:00, 15.79it/s]\n",
      " 25%|██▌       | 2/8 [00:00<00:00, 12.17it/s]"
     ]
    },
    {
     "name": "stdout",
     "output_type": "stream",
     "text": [
      "time : 0.73, train_loss : 1.83, train_acc : 24.67,val_acc : 28.00,val_loss : 1.79\n"
     ]
    },
    {
     "name": "stderr",
     "output_type": "stream",
     "text": [
      "100%|██████████| 8/8 [00:00<00:00, 13.35it/s]\n",
      "100%|██████████| 2/2 [00:00<00:00, 13.37it/s]\n",
      " 25%|██▌       | 2/8 [00:00<00:00, 12.22it/s]"
     ]
    },
    {
     "name": "stdout",
     "output_type": "stream",
     "text": [
      "time : 0.75, train_loss : 1.87, train_acc : 24.23,val_acc : 24.00,val_loss : 1.78\n"
     ]
    },
    {
     "name": "stderr",
     "output_type": "stream",
     "text": [
      "100%|██████████| 8/8 [00:00<00:00, 13.37it/s]\n",
      "100%|██████████| 2/2 [00:00<00:00, 17.16it/s]\n",
      "  0%|          | 0/2 [00:00<?, ?it/s]"
     ]
    },
    {
     "name": "stdout",
     "output_type": "stream",
     "text": [
      "time : 0.72, train_loss : 1.81, train_acc : 22.91,val_acc : 28.00,val_loss : 1.79\n"
     ]
    },
    {
     "name": "stderr",
     "output_type": "stream",
     "text": [
      "100%|██████████| 2/2 [00:00<00:00, 14.59it/s]\n"
     ]
    }
   ],
   "source": [
    "seed = 123\n",
    "np.random.seed(seed)\n",
    "torch.manual_seed(seed)\n",
    "net=AlexNet()\n",
    "net.cuda()\n",
    "criterion=nn.CrossEntropyLoss()\n",
    "optimizer = optim.Adam(net.parameters(), lr=0.015, weight_decay=0.001)\n",
    "train_losses=[]\n",
    "val_losses=[]\n",
    "train_accs=[]\n",
    "val_accs=[]\n",
    "for epoch in range(50):\n",
    "    ts=time.time()\n",
    "    net, train_loss,train_acc=train(net, partition, optimizer, criterion)\n",
    "    val_loss, val_acc = validate(net, partition, criterion)\n",
    "    te=time.time()\n",
    "    print('time : {:2.2f}, train_loss : {:2.2f}, train_acc : {:2.2f},val_acc : {:2.2f},val_loss : {:2.2f}'.format(te-ts,train_loss,train_acc,val_acc,val_loss))\n",
    "    train_loss=round(train_loss,2)\n",
    "    val_loss=round(val_loss,2)\n",
    "    train_acc=round(train_acc,2)\n",
    "    val_acc=round(val_acc,2)\n",
    "    train_losses.append(train_loss)\n",
    "    val_losses.append(val_loss)\n",
    "    train_accs.append(train_acc)\n",
    "    val_accs.append(val_acc)\n",
    "test_acc = test(net,partition)\n",
    "test_acc=round(test_acc,2)"
   ]
  },
  {
   "cell_type": "code",
   "execution_count": 37,
   "id": "cross-public",
   "metadata": {},
   "outputs": [],
   "source": [
    "np.save(\"/home/lab/양창희/Emotion Project/test_list_file/Alex_train_loss.npy\",train_loss)\n",
    "np.save(\"/home/lab/양창희/Emotion Project/test_list_file/Alex_val_loss.npy\",val_loss)\n",
    "np.save(\"/home/lab/양창희/Emotion Project/test_list_file/Alex_train_acc.npy\",train_acc)\n",
    "np.save(\"/home/lab/양창희/Emotion Project/test_list_file/Alex_val_acc.npy\",val_acc)"
   ]
  },
  {
   "cell_type": "code",
   "execution_count": null,
   "id": "stopped-murder",
   "metadata": {},
   "outputs": [],
   "source": []
  }
 ],
 "metadata": {
  "kernelspec": {
   "display_name": "Python 3",
   "language": "python",
   "name": "python3"
  },
  "language_info": {
   "codemirror_mode": {
    "name": "ipython",
    "version": 3
   },
   "file_extension": ".py",
   "mimetype": "text/x-python",
   "name": "python",
   "nbconvert_exporter": "python",
   "pygments_lexer": "ipython3",
   "version": "3.6.12"
  }
 },
 "nbformat": 4,
 "nbformat_minor": 5
}
